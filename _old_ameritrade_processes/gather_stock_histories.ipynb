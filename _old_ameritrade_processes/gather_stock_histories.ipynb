{
 "cells": [
  {
   "cell_type": "markdown",
   "id": "5bc47e88-648a-4010-b260-daaef41babba",
   "metadata": {
    "pycharm": {
     "name": "#%% md\n"
    }
   },
   "source": [
    "# Portfolio Workflow"
   ]
  },
  {
   "cell_type": "code",
   "execution_count": 1,
   "id": "a7d6e012-c4ed-4e32-8593-955a76931749",
   "metadata": {
    "pycharm": {
     "name": "#%%\n"
    }
   },
   "outputs": [
    {
     "name": "stdout",
     "output_type": "stream",
     "text": [
      "Sci-Kit version: 0.24.1\n",
      "Sci-Kit version: 0.24.1\n",
      "Python version: 3.8.8\n",
      "Pandas version: 1.2.4\n"
     ]
    }
   ],
   "source": [
    "from platform import python_version\n",
    "import time\n",
    "from datetime import datetime\n",
    "import os\n",
    "import pandas as pd\n",
    "import numpy as np\n",
    "import math\n",
    "from tqdm.notebook import tqdm\n",
    "import matplotlib.pyplot as plt\n",
    "import pickle\n",
    "\n",
    "%matplotlib inline\n",
    "plt.style.use('ggplot')\n",
    "plt.rcParams['figure.figsize'] = (20, 8)\n",
    "\n",
    "# Set the import path for the tools directiory\n",
    "import sys\n",
    "# insert at position 1 in the path, as 0 is the path of this file.\n",
    "sys.path.insert(1, 'tools')\n",
    "import importlib\n",
    "import ameritrade_functions as amc\n",
    "importlib.reload(amc)\n",
    "import trading_factors as alpha_factors\n",
    "importlib.reload(alpha_factors)\n",
    "import utils\n",
    "importlib.reload(utils)\n",
    "import nonoverlapping_estimator as ai_estimator\n",
    "importlib.reload(ai_estimator)\n",
    "\n",
    "print(f'Python version: {python_version()}')\n",
    "print(f'Pandas version: {pd.__version__}')"
   ]
  },
  {
   "cell_type": "code",
   "execution_count": 2,
   "id": "f7cee06b-92af-4717-9e3b-da0701517f47",
   "metadata": {
    "pycharm": {
     "name": "#%%\n"
    }
   },
   "outputs": [],
   "source": [
    "# For Chromedriver\n",
    "from pathlib import Path\n",
    "chrome_executabel_path = str(Path.home()) + r'\\Anaconda Projects\\chromedriver\\chromedriver'\n",
    "\n",
    "# Make sure we have a data directory\n",
    "Path('./data').mkdir(parents=True, exist_ok=True) \n",
    "\n",
    "# Which account are we interested in\n",
    "masked_account_number = '#---9216'\n",
    "account_portfolios_file_name = 'data/portfolio_data.csv'\n",
    "portfolio_file_name = 'data/portfolio_' + masked_account_number[-4:] + '.csv'\n",
    "price_histories_file_name = 'data/price_histories.csv'"
   ]
  },
  {
   "cell_type": "markdown",
   "id": "566e045f-a433-4350-9080-854958589c55",
   "metadata": {
    "pycharm": {
     "name": "#%% md\n"
    }
   },
   "source": [
    "# Stage 1: Generate Stock Universe\n",
    "\n",
    "- Gather stocks from specific criteria (SP500 top 50...)\n",
    "- Use stock sentiment to select stocks\n",
    "- Gather price histories"
   ]
  },
  {
   "cell_type": "markdown",
   "id": "f8ede29b-daef-465d-9ee0-33deb1a2f14c",
   "metadata": {
    "pycharm": {
     "name": "#%% md\n"
    }
   },
   "source": [
    "## Stock Universe\n",
    "\n",
    "Here we setup the univers. This needs some work. The long term goal is to use a pipeline process to help select stock that are in the top 500 or something similare.\n",
    "\n",
    "For now we will use stocks from the portfolio, but stocks of interest (high news items), a list of well known stocks (this also has been augmented with some stocks that made Ameritrade's top 10 movers for a couple of days. This Ameritrade funciton has not been coded yet, but should be add down the line to automate pulling these tickers."
   ]
  },
  {
   "cell_type": "markdown",
   "id": "7f13f28f-424a-4b7f-8345-555dbe17fb9b",
   "metadata": {
    "pycharm": {
     "name": "#%% md\n"
    }
   },
   "source": [
    "# Price History data\n",
    "\n",
    "One you have a set of investments you want to work with, you will need to pull some historical data for them.\n",
    "\n",
    "We will obtain 5 years of price histories. In the end this will provide us with 2 years of factor data since some of the factors are based on 1 year returns."
   ]
  },
  {
   "cell_type": "code",
   "execution_count": 3,
   "id": "4bb26bc7-9fbd-448b-9587-21ebd2084f6c",
   "metadata": {
    "pycharm": {
     "name": "#%%\n"
    }
   },
   "outputs": [
    {
     "name": "stdout",
     "output_type": "stream",
     "text": [
      "Number of stocks in universe: 505\n"
     ]
    },
    {
     "data": {
      "application/vnd.jupyter.widget-view+json": {
       "model_id": "c51e227486674eaa9a9cd4aca940f65a",
       "version_major": 2,
       "version_minor": 0
      },
      "text/plain": [
       "Tickers:   0%|          | 0/505 [00:00<?, ?Finvis Postings/s]"
      ]
     },
     "metadata": {},
     "output_type": "display_data"
    },
    {
     "data": {
      "application/vnd.jupyter.widget-view+json": {
       "model_id": "8780ac9be7e3438d8afa862d5ce824b0",
       "version_major": 2,
       "version_minor": 0
      },
      "text/plain": [
       "News Tables:   0%|          | 0/503 [00:00<?, ?News Table Items/s]"
      ]
     },
     "metadata": {},
     "output_type": "display_data"
    },
    {
     "name": "stdout",
     "output_type": "stream",
     "text": [
      "Mean Sentiment: 2.7862068520463725 with a standared deviation of: 1.752790302942789 providing a cutoff of: 1.0334165491035836\n",
      "New number of stocks in universe: 439\n"
     ]
    }
   ],
   "source": [
    "snp_500_stocks = utils.get_snp500()\n",
    "stock_universe = utils.reduce_universe_by_sentiment(set(snp_500_stocks.index.to_list()))"
   ]
  },
  {
   "cell_type": "code",
   "execution_count": 4,
   "id": "b27ecb97-b6d2-40b6-8d55-c72c01782ce5",
   "metadata": {
    "pycharm": {
     "name": "#%%\n"
    }
   },
   "outputs": [
    {
     "data": {
      "application/vnd.jupyter.widget-view+json": {
       "model_id": "0667e648ce7742b68dd2c79c5fe32240",
       "version_major": 2,
       "version_minor": 0
      },
      "text/plain": [
       "Tickers:   0%|          | 0/439 [00:00<?, ?Price Histories/s]"
      ]
     },
     "metadata": {},
     "output_type": "display_data"
    }
   ],
   "source": [
    "number_of_years = 5\n",
    "price_histories = amc.AmeritradeRest('maiotradeuser', 'maiotradepw', 'maiotradeclientid').get_price_histories(\n",
    "    stock_universe, datetime.today().strftime('%Y-%m-%d'),\n",
    "    num_periods=number_of_years)\n",
    "utils.save_price_histories(price_histories, price_histories_file_name)"
   ]
  }
 ],
 "metadata": {
  "kernelspec": {
   "display_name": "Python [conda env:ml4t] *",
   "language": "python",
   "name": "conda-env-ml4t-py"
  },
  "language_info": {
   "codemirror_mode": {
    "name": "ipython",
    "version": 3
   },
   "file_extension": ".py",
   "mimetype": "text/x-python",
   "name": "python",
   "nbconvert_exporter": "python",
   "pygments_lexer": "ipython3",
   "version": "3.8.8"
  }
 },
 "nbformat": 4,
 "nbformat_minor": 5
}