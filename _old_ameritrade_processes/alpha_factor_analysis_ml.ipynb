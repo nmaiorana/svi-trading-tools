{
 "cells": [
  {
   "cell_type": "markdown",
   "metadata": {
    "pycharm": {
     "name": "#%% md\n"
    }
   },
   "source": [
    "# Experiment with different Alpha Factors to see what works"
   ]
  },
  {
   "cell_type": "code",
   "execution_count": 2,
   "metadata": {
    "pycharm": {
     "name": "#%%\n"
    }
   },
   "outputs": [
    {
     "name": "stdout",
     "output_type": "stream",
     "text": [
      "Sci-Kit version: 0.24.1\n",
      "Sci-Kit version: 0.24.1\n",
      "Python version: 3.8.10\n",
      "Pandas version: 0.25.3\n"
     ]
    }
   ],
   "source": [
    "from platform import python_version\n",
    "import time\n",
    "from datetime import datetime\n",
    "import os\n",
    "import pandas as pd\n",
    "import numpy as np\n",
    "import math\n",
    "from tqdm.notebook import tqdm\n",
    "import matplotlib.pyplot as plt\n",
    "import pickle\n",
    "\n",
    "%matplotlib inline\n",
    "plt.style.use('ggplot')\n",
    "plt.rcParams['figure.figsize'] = (20, 8)\n",
    "\n",
    "# Set the import path for the tools directiory\n",
    "import sys\n",
    "# insert at position 1 in the path, as 0 is the path of this file.\n",
    "sys.path.insert(1, '../tools')\n",
    "import importlib\n",
    "import ameritrade_functions as amc\n",
    "importlib.reload(amc)\n",
    "import trading_factors as alpha_factors\n",
    "importlib.reload(alpha_factors)\n",
    "import utils\n",
    "importlib.reload(utils)\n",
    "import nonoverlapping_estimator as ai_estimator\n",
    "importlib.reload(ai_estimator)\n",
    "\n",
    "print(f'Python version: {python_version()}')\n",
    "print(f'Pandas version: {pd.__version__}')"
   ]
  },
  {
   "cell_type": "code",
   "execution_count": 3,
   "metadata": {
    "pycharm": {
     "name": "#%%\n"
    }
   },
   "outputs": [],
   "source": [
    "# For Chromedriver\n",
    "from pathlib import Path\n",
    "chrome_executabel_path = str(Path.home()) + r'\\Anaconda Projects\\chromedriver\\chromedriver'\n",
    "\n",
    "# Make sure we have a data directory\n",
    "Path('./data').mkdir(parents=True, exist_ok=True) \n",
    "\n",
    "# Which account are we interested in\n",
    "masked_account_number = '#---5311'\n",
    "account_portfolios_file_name = 'data/portfolio_data.csv'\n",
    "portfolio_file_name = 'data/portfolio_' + masked_account_number[-4:] + '.csv'\n",
    "price_histories_file_name = 'data/price_histories.csv'\n",
    "\n",
    "username, password, client_id = amc.configure_ameritrade('maiotradeuser', 'maiotradepw', 'maiotradeclientid')"
   ]
  },
  {
   "cell_type": "markdown",
   "metadata": {
    "pycharm": {
     "name": "#%% md\n"
    }
   },
   "source": [
    "# Stage 1: Generate Stock Universe\n",
    "\n",
    "- Gather stocks from specific criteria (SP500 top 50...)\n",
    "- Use stock sentiment to select stocks\n",
    "- Gather price histories"
   ]
  },
  {
   "cell_type": "markdown",
   "metadata": {
    "pycharm": {
     "name": "#%% md\n"
    }
   },
   "source": [
    "## Stock Universe\n",
    "\n",
    "Here we setup the univers. This needs some work. The long term goal is to use a pipeline process to help select stock that are in the top 500 or something similare.\n",
    "\n",
    "For now we will use stocks from the portfolio, but stocks of interest (high news items), a list of well known stocks (this also has been augmented with some stocks that made Ameritrade's top 10 movers for a couple of days. This Ameritrade funciton has not been coded yet, but should be add down the line to automate pulling these tickers."
   ]
  },
  {
   "cell_type": "code",
   "execution_count": 4,
   "metadata": {
    "pycharm": {
     "name": "#%%\n"
    }
   },
   "outputs": [],
   "source": [
    "snp_500_stocks = utils.get_snp500()"
   ]
  },
  {
   "cell_type": "markdown",
   "metadata": {
    "pycharm": {
     "name": "#%% md\n"
    }
   },
   "source": [
    "# Price History data\n",
    "\n",
    "One you have a set of investments you want to work with, you will need to pull some historical data for them.\n",
    "\n",
    "We will obtain 5 years of price histories. In the end this will provide us with 2 years of factor data since some of the factors are based on 1 year returns."
   ]
  },
  {
   "cell_type": "code",
   "execution_count": 5,
   "metadata": {
    "pycharm": {
     "name": "#%%\n"
    }
   },
   "outputs": [
    {
     "name": "stderr",
     "output_type": "stream",
     "text": [
      "Tickers:   0%|                                                                    | 0/505 [00:00<?, ?Finvis Postings/s]"
     ]
    },
    {
     "name": "stdout",
     "output_type": "stream",
     "text": [
      "Number of stocks in universe: 505\n"
     ]
    },
    {
     "name": "stderr",
     "output_type": "stream",
     "text": [
      "Tickers: 100%|██████████████████████████████████████████████████████████| 505/505 [02:10<00:00,  3.86Finvis Postings/s]\n",
      "News Tables: 100%|████████████████████████████████████████████████████| 501/501 [00:02<00:00, 214.42News Table Items/s]\n"
     ]
    },
    {
     "name": "stdout",
     "output_type": "stream",
     "text": [
      "Mean Sentiment: 2.577649420161542 with a standared deviation of: 1.8102432817097147 providing a cutoff of: 0.7674061384518274\n",
      "New number of stocks in universe: 438\n"
     ]
    },
    {
     "data": {
      "application/vnd.jupyter.widget-view+json": {
       "model_id": "c9daa16a4ca54e7bbafd2e18eda03f26",
       "version_major": 2,
       "version_minor": 0
      },
      "text/plain": [
       "Tickers:   0%|          | 0/438 [00:00<?, ?Price Histories/s]"
      ]
     },
     "metadata": {},
     "output_type": "display_data"
    }
   ],
   "source": [
    "stock_universe = utils.reduce_universe_by_sentiment(set(snp_500_stocks.index.to_list()))\n",
    "number_of_years = 5\n",
    "price_histories = amc.AmeritradeRest(username, password, client_id).get_price_histories(stock_universe, datetime.today().strftime('%Y-%m-%d'), num_periods=number_of_years)\n",
    "utils.save_price_histories(price_histories, price_histories_file_name)\n",
    "close = utils.get_close_values(price_histories)"
   ]
  },
  {
   "cell_type": "code",
   "execution_count": 6,
   "metadata": {
    "pycharm": {
     "name": "#%%\n"
    }
   },
   "outputs": [],
   "source": [
    "sector_helper = utils.get_sector_helper(snp_500_stocks, 'GICS Sector', close.columns)"
   ]
  },
  {
   "cell_type": "code",
   "execution_count": 7,
   "metadata": {
    "pycharm": {
     "name": "#%%\n"
    }
   },
   "outputs": [
    {
     "data": {
      "text/html": [
       "<div>\n",
       "<style scoped>\n",
       "    .dataframe tbody tr th:only-of-type {\n",
       "        vertical-align: middle;\n",
       "    }\n",
       "\n",
       "    .dataframe tbody tr th {\n",
       "        vertical-align: top;\n",
       "    }\n",
       "\n",
       "    .dataframe thead th {\n",
       "        text-align: right;\n",
       "    }\n",
       "</style>\n",
       "<table border=\"1\" class=\"dataframe\">\n",
       "  <thead>\n",
       "    <tr style=\"text-align: right;\">\n",
       "      <th>ticker</th>\n",
       "      <th>A</th>\n",
       "      <th>AAP</th>\n",
       "      <th>ABBV</th>\n",
       "      <th>ABC</th>\n",
       "      <th>ABMD</th>\n",
       "      <th>ABT</th>\n",
       "      <th>ACN</th>\n",
       "      <th>ADBE</th>\n",
       "      <th>ADI</th>\n",
       "      <th>ADM</th>\n",
       "      <th>...</th>\n",
       "      <th>WY</th>\n",
       "      <th>WYNN</th>\n",
       "      <th>XEL</th>\n",
       "      <th>XLNX</th>\n",
       "      <th>XOM</th>\n",
       "      <th>XYL</th>\n",
       "      <th>YUM</th>\n",
       "      <th>ZBRA</th>\n",
       "      <th>ZION</th>\n",
       "      <th>ZTS</th>\n",
       "    </tr>\n",
       "    <tr>\n",
       "      <th>date</th>\n",
       "      <th></th>\n",
       "      <th></th>\n",
       "      <th></th>\n",
       "      <th></th>\n",
       "      <th></th>\n",
       "      <th></th>\n",
       "      <th></th>\n",
       "      <th></th>\n",
       "      <th></th>\n",
       "      <th></th>\n",
       "      <th></th>\n",
       "      <th></th>\n",
       "      <th></th>\n",
       "      <th></th>\n",
       "      <th></th>\n",
       "      <th></th>\n",
       "      <th></th>\n",
       "      <th></th>\n",
       "      <th></th>\n",
       "      <th></th>\n",
       "      <th></th>\n",
       "    </tr>\n",
       "  </thead>\n",
       "  <tbody>\n",
       "    <tr>\n",
       "      <th>2016-11-14 00:00:00+00:00</th>\n",
       "      <td>45.33</td>\n",
       "      <td>142.90</td>\n",
       "      <td>62.97</td>\n",
       "      <td>81.33</td>\n",
       "      <td>110.01</td>\n",
       "      <td>39.20</td>\n",
       "      <td>117.25</td>\n",
       "      <td>102.42</td>\n",
       "      <td>66.46</td>\n",
       "      <td>42.88</td>\n",
       "      <td>...</td>\n",
       "      <td>29.21</td>\n",
       "      <td>84.51</td>\n",
       "      <td>38.51</td>\n",
       "      <td>52.83</td>\n",
       "      <td>85.28</td>\n",
       "      <td>53.24</td>\n",
       "      <td>60.70</td>\n",
       "      <td>66.81</td>\n",
       "      <td>38.43</td>\n",
       "      <td>48.96</td>\n",
       "    </tr>\n",
       "    <tr>\n",
       "      <th>2016-11-15 00:00:00+00:00</th>\n",
       "      <td>45.40</td>\n",
       "      <td>164.33</td>\n",
       "      <td>62.87</td>\n",
       "      <td>79.53</td>\n",
       "      <td>111.59</td>\n",
       "      <td>39.81</td>\n",
       "      <td>115.99</td>\n",
       "      <td>103.66</td>\n",
       "      <td>68.21</td>\n",
       "      <td>43.49</td>\n",
       "      <td>...</td>\n",
       "      <td>29.80</td>\n",
       "      <td>86.87</td>\n",
       "      <td>39.25</td>\n",
       "      <td>53.93</td>\n",
       "      <td>86.82</td>\n",
       "      <td>54.75</td>\n",
       "      <td>60.70</td>\n",
       "      <td>75.46</td>\n",
       "      <td>38.76</td>\n",
       "      <td>49.15</td>\n",
       "    </tr>\n",
       "    <tr>\n",
       "      <th>2016-11-16 00:00:00+00:00</th>\n",
       "      <td>46.18</td>\n",
       "      <td>162.98</td>\n",
       "      <td>61.54</td>\n",
       "      <td>78.86</td>\n",
       "      <td>111.55</td>\n",
       "      <td>39.95</td>\n",
       "      <td>117.32</td>\n",
       "      <td>104.08</td>\n",
       "      <td>67.88</td>\n",
       "      <td>43.26</td>\n",
       "      <td>...</td>\n",
       "      <td>29.64</td>\n",
       "      <td>86.57</td>\n",
       "      <td>39.01</td>\n",
       "      <td>53.55</td>\n",
       "      <td>85.75</td>\n",
       "      <td>54.35</td>\n",
       "      <td>60.40</td>\n",
       "      <td>72.95</td>\n",
       "      <td>37.46</td>\n",
       "      <td>48.84</td>\n",
       "    </tr>\n",
       "    <tr>\n",
       "      <th>2016-11-17 00:00:00+00:00</th>\n",
       "      <td>45.94</td>\n",
       "      <td>166.32</td>\n",
       "      <td>61.70</td>\n",
       "      <td>80.16</td>\n",
       "      <td>113.60</td>\n",
       "      <td>40.39</td>\n",
       "      <td>118.37</td>\n",
       "      <td>105.81</td>\n",
       "      <td>68.21</td>\n",
       "      <td>43.00</td>\n",
       "      <td>...</td>\n",
       "      <td>29.55</td>\n",
       "      <td>90.44</td>\n",
       "      <td>39.00</td>\n",
       "      <td>53.24</td>\n",
       "      <td>85.23</td>\n",
       "      <td>54.01</td>\n",
       "      <td>60.76</td>\n",
       "      <td>73.94</td>\n",
       "      <td>37.91</td>\n",
       "      <td>49.21</td>\n",
       "    </tr>\n",
       "    <tr>\n",
       "      <th>2016-11-18 00:00:00+00:00</th>\n",
       "      <td>45.04</td>\n",
       "      <td>162.57</td>\n",
       "      <td>60.52</td>\n",
       "      <td>79.21</td>\n",
       "      <td>113.41</td>\n",
       "      <td>39.84</td>\n",
       "      <td>118.43</td>\n",
       "      <td>105.02</td>\n",
       "      <td>68.47</td>\n",
       "      <td>43.49</td>\n",
       "      <td>...</td>\n",
       "      <td>30.63</td>\n",
       "      <td>92.35</td>\n",
       "      <td>38.87</td>\n",
       "      <td>52.98</td>\n",
       "      <td>85.28</td>\n",
       "      <td>53.29</td>\n",
       "      <td>62.36</td>\n",
       "      <td>75.01</td>\n",
       "      <td>38.21</td>\n",
       "      <td>49.89</td>\n",
       "    </tr>\n",
       "  </tbody>\n",
       "</table>\n",
       "<p>5 rows × 438 columns</p>\n",
       "</div>"
      ],
      "text/plain": [
       "ticker                         A     AAP   ABBV    ABC    ABMD    ABT     ACN  \\\n",
       "date                                                                            \n",
       "2016-11-14 00:00:00+00:00  45.33  142.90  62.97  81.33  110.01  39.20  117.25   \n",
       "2016-11-15 00:00:00+00:00  45.40  164.33  62.87  79.53  111.59  39.81  115.99   \n",
       "2016-11-16 00:00:00+00:00  46.18  162.98  61.54  78.86  111.55  39.95  117.32   \n",
       "2016-11-17 00:00:00+00:00  45.94  166.32  61.70  80.16  113.60  40.39  118.37   \n",
       "2016-11-18 00:00:00+00:00  45.04  162.57  60.52  79.21  113.41  39.84  118.43   \n",
       "\n",
       "ticker                       ADBE    ADI    ADM  ...     WY   WYNN    XEL  \\\n",
       "date                                             ...                        \n",
       "2016-11-14 00:00:00+00:00  102.42  66.46  42.88  ...  29.21  84.51  38.51   \n",
       "2016-11-15 00:00:00+00:00  103.66  68.21  43.49  ...  29.80  86.87  39.25   \n",
       "2016-11-16 00:00:00+00:00  104.08  67.88  43.26  ...  29.64  86.57  39.01   \n",
       "2016-11-17 00:00:00+00:00  105.81  68.21  43.00  ...  29.55  90.44  39.00   \n",
       "2016-11-18 00:00:00+00:00  105.02  68.47  43.49  ...  30.63  92.35  38.87   \n",
       "\n",
       "ticker                      XLNX    XOM    XYL    YUM   ZBRA   ZION    ZTS  \n",
       "date                                                                        \n",
       "2016-11-14 00:00:00+00:00  52.83  85.28  53.24  60.70  66.81  38.43  48.96  \n",
       "2016-11-15 00:00:00+00:00  53.93  86.82  54.75  60.70  75.46  38.76  49.15  \n",
       "2016-11-16 00:00:00+00:00  53.55  85.75  54.35  60.40  72.95  37.46  48.84  \n",
       "2016-11-17 00:00:00+00:00  53.24  85.23  54.01  60.76  73.94  37.91  49.21  \n",
       "2016-11-18 00:00:00+00:00  52.98  85.28  53.29  62.36  75.01  38.21  49.89  \n",
       "\n",
       "[5 rows x 438 columns]"
      ]
     },
     "execution_count": 7,
     "metadata": {},
     "output_type": "execute_result"
    }
   ],
   "source": [
    "close.head()"
   ]
  },
  {
   "cell_type": "code",
   "execution_count": 9,
   "metadata": {
    "pycharm": {
     "name": "#%%\n"
    }
   },
   "outputs": [
    {
     "data": {
      "text/html": [
       "<div>\n",
       "<style scoped>\n",
       "    .dataframe tbody tr th:only-of-type {\n",
       "        vertical-align: middle;\n",
       "    }\n",
       "\n",
       "    .dataframe tbody tr th {\n",
       "        vertical-align: top;\n",
       "    }\n",
       "\n",
       "    .dataframe thead th {\n",
       "        text-align: right;\n",
       "    }\n",
       "</style>\n",
       "<table border=\"1\" class=\"dataframe\">\n",
       "  <thead>\n",
       "    <tr style=\"text-align: right;\">\n",
       "      <th>ticker</th>\n",
       "      <th>A</th>\n",
       "      <th>AAP</th>\n",
       "      <th>ABBV</th>\n",
       "      <th>ABC</th>\n",
       "      <th>ABMD</th>\n",
       "      <th>ABT</th>\n",
       "      <th>ACN</th>\n",
       "      <th>ADBE</th>\n",
       "      <th>ADI</th>\n",
       "      <th>ADM</th>\n",
       "      <th>...</th>\n",
       "      <th>WY</th>\n",
       "      <th>WYNN</th>\n",
       "      <th>XEL</th>\n",
       "      <th>XLNX</th>\n",
       "      <th>XOM</th>\n",
       "      <th>XYL</th>\n",
       "      <th>YUM</th>\n",
       "      <th>ZBRA</th>\n",
       "      <th>ZION</th>\n",
       "      <th>ZTS</th>\n",
       "    </tr>\n",
       "    <tr>\n",
       "      <th>date</th>\n",
       "      <th></th>\n",
       "      <th></th>\n",
       "      <th></th>\n",
       "      <th></th>\n",
       "      <th></th>\n",
       "      <th></th>\n",
       "      <th></th>\n",
       "      <th></th>\n",
       "      <th></th>\n",
       "      <th></th>\n",
       "      <th></th>\n",
       "      <th></th>\n",
       "      <th></th>\n",
       "      <th></th>\n",
       "      <th></th>\n",
       "      <th></th>\n",
       "      <th></th>\n",
       "      <th></th>\n",
       "      <th></th>\n",
       "      <th></th>\n",
       "      <th></th>\n",
       "    </tr>\n",
       "  </thead>\n",
       "  <tbody>\n",
       "    <tr>\n",
       "      <th>2016-11-15 00:00:00+00:00</th>\n",
       "      <td>0.001543</td>\n",
       "      <td>0.139732</td>\n",
       "      <td>-0.001589</td>\n",
       "      <td>-0.022381</td>\n",
       "      <td>0.014260</td>\n",
       "      <td>0.015441</td>\n",
       "      <td>-0.010804</td>\n",
       "      <td>0.012034</td>\n",
       "      <td>0.025991</td>\n",
       "      <td>0.014126</td>\n",
       "      <td>...</td>\n",
       "      <td>0.019997</td>\n",
       "      <td>0.027543</td>\n",
       "      <td>0.019033</td>\n",
       "      <td>0.020608</td>\n",
       "      <td>0.017897</td>\n",
       "      <td>0.027967</td>\n",
       "      <td>0.000000</td>\n",
       "      <td>0.121750</td>\n",
       "      <td>0.008550</td>\n",
       "      <td>0.003873</td>\n",
       "    </tr>\n",
       "    <tr>\n",
       "      <th>2016-11-16 00:00:00+00:00</th>\n",
       "      <td>0.017035</td>\n",
       "      <td>-0.008249</td>\n",
       "      <td>-0.021382</td>\n",
       "      <td>-0.008460</td>\n",
       "      <td>-0.000359</td>\n",
       "      <td>0.003511</td>\n",
       "      <td>0.011401</td>\n",
       "      <td>0.004044</td>\n",
       "      <td>-0.004850</td>\n",
       "      <td>-0.005303</td>\n",
       "      <td>...</td>\n",
       "      <td>-0.005384</td>\n",
       "      <td>-0.003459</td>\n",
       "      <td>-0.006133</td>\n",
       "      <td>-0.007071</td>\n",
       "      <td>-0.012401</td>\n",
       "      <td>-0.007333</td>\n",
       "      <td>-0.004955</td>\n",
       "      <td>-0.033828</td>\n",
       "      <td>-0.034115</td>\n",
       "      <td>-0.006327</td>\n",
       "    </tr>\n",
       "    <tr>\n",
       "      <th>2016-11-17 00:00:00+00:00</th>\n",
       "      <td>-0.005211</td>\n",
       "      <td>0.020286</td>\n",
       "      <td>0.002597</td>\n",
       "      <td>0.016351</td>\n",
       "      <td>0.018211</td>\n",
       "      <td>0.010954</td>\n",
       "      <td>0.008910</td>\n",
       "      <td>0.016485</td>\n",
       "      <td>0.004850</td>\n",
       "      <td>-0.006028</td>\n",
       "      <td>...</td>\n",
       "      <td>-0.003041</td>\n",
       "      <td>0.043733</td>\n",
       "      <td>-0.000256</td>\n",
       "      <td>-0.005806</td>\n",
       "      <td>-0.006083</td>\n",
       "      <td>-0.006275</td>\n",
       "      <td>0.005943</td>\n",
       "      <td>0.013480</td>\n",
       "      <td>0.011941</td>\n",
       "      <td>0.007547</td>\n",
       "    </tr>\n",
       "    <tr>\n",
       "      <th>2016-11-18 00:00:00+00:00</th>\n",
       "      <td>-0.019785</td>\n",
       "      <td>-0.022805</td>\n",
       "      <td>-0.019310</td>\n",
       "      <td>-0.011922</td>\n",
       "      <td>-0.001674</td>\n",
       "      <td>-0.013711</td>\n",
       "      <td>0.000507</td>\n",
       "      <td>-0.007494</td>\n",
       "      <td>0.003805</td>\n",
       "      <td>0.011331</td>\n",
       "      <td>...</td>\n",
       "      <td>0.035896</td>\n",
       "      <td>0.020899</td>\n",
       "      <td>-0.003339</td>\n",
       "      <td>-0.004896</td>\n",
       "      <td>0.000586</td>\n",
       "      <td>-0.013421</td>\n",
       "      <td>0.025992</td>\n",
       "      <td>0.014367</td>\n",
       "      <td>0.007882</td>\n",
       "      <td>0.013724</td>\n",
       "    </tr>\n",
       "    <tr>\n",
       "      <th>2016-11-21 00:00:00+00:00</th>\n",
       "      <td>-0.001555</td>\n",
       "      <td>0.026286</td>\n",
       "      <td>-0.001654</td>\n",
       "      <td>-0.009641</td>\n",
       "      <td>0.020941</td>\n",
       "      <td>-0.002010</td>\n",
       "      <td>0.010499</td>\n",
       "      <td>0.005981</td>\n",
       "      <td>0.019525</td>\n",
       "      <td>0.003672</td>\n",
       "      <td>...</td>\n",
       "      <td>0.016513</td>\n",
       "      <td>0.053035</td>\n",
       "      <td>0.012019</td>\n",
       "      <td>0.002827</td>\n",
       "      <td>0.014089</td>\n",
       "      <td>0.003185</td>\n",
       "      <td>-0.005790</td>\n",
       "      <td>0.005584</td>\n",
       "      <td>0.008599</td>\n",
       "      <td>0.002202</td>\n",
       "    </tr>\n",
       "    <tr>\n",
       "      <th>...</th>\n",
       "      <td>...</td>\n",
       "      <td>...</td>\n",
       "      <td>...</td>\n",
       "      <td>...</td>\n",
       "      <td>...</td>\n",
       "      <td>...</td>\n",
       "      <td>...</td>\n",
       "      <td>...</td>\n",
       "      <td>...</td>\n",
       "      <td>...</td>\n",
       "      <td>...</td>\n",
       "      <td>...</td>\n",
       "      <td>...</td>\n",
       "      <td>...</td>\n",
       "      <td>...</td>\n",
       "      <td>...</td>\n",
       "      <td>...</td>\n",
       "      <td>...</td>\n",
       "      <td>...</td>\n",
       "      <td>...</td>\n",
       "      <td>...</td>\n",
       "    </tr>\n",
       "    <tr>\n",
       "      <th>2021-11-08 00:00:00+00:00</th>\n",
       "      <td>0.028551</td>\n",
       "      <td>-0.007954</td>\n",
       "      <td>-0.009604</td>\n",
       "      <td>-0.012542</td>\n",
       "      <td>-0.005433</td>\n",
       "      <td>0.019350</td>\n",
       "      <td>-0.004161</td>\n",
       "      <td>0.004967</td>\n",
       "      <td>0.001519</td>\n",
       "      <td>-0.010757</td>\n",
       "      <td>...</td>\n",
       "      <td>-0.015777</td>\n",
       "      <td>-0.021589</td>\n",
       "      <td>-0.016754</td>\n",
       "      <td>0.046747</td>\n",
       "      <td>0.010708</td>\n",
       "      <td>0.015602</td>\n",
       "      <td>-0.003638</td>\n",
       "      <td>-0.017753</td>\n",
       "      <td>0.008451</td>\n",
       "      <td>0.004925</td>\n",
       "    </tr>\n",
       "    <tr>\n",
       "      <th>2021-11-09 00:00:00+00:00</th>\n",
       "      <td>-0.007046</td>\n",
       "      <td>0.019466</td>\n",
       "      <td>-0.003885</td>\n",
       "      <td>-0.010453</td>\n",
       "      <td>0.031736</td>\n",
       "      <td>-0.002922</td>\n",
       "      <td>0.001471</td>\n",
       "      <td>0.002849</td>\n",
       "      <td>0.002923</td>\n",
       "      <td>0.009826</td>\n",
       "      <td>...</td>\n",
       "      <td>-0.004782</td>\n",
       "      <td>-0.007726</td>\n",
       "      <td>0.013614</td>\n",
       "      <td>-0.014576</td>\n",
       "      <td>0.009691</td>\n",
       "      <td>0.003301</td>\n",
       "      <td>-0.000238</td>\n",
       "      <td>-0.001828</td>\n",
       "      <td>-0.003218</td>\n",
       "      <td>0.011050</td>\n",
       "    </tr>\n",
       "    <tr>\n",
       "      <th>2021-11-10 00:00:00+00:00</th>\n",
       "      <td>-0.003322</td>\n",
       "      <td>0.010189</td>\n",
       "      <td>0.009812</td>\n",
       "      <td>0.008069</td>\n",
       "      <td>-0.043423</td>\n",
       "      <td>0.010934</td>\n",
       "      <td>-0.007457</td>\n",
       "      <td>-0.031050</td>\n",
       "      <td>-0.022633</td>\n",
       "      <td>0.014790</td>\n",
       "      <td>...</td>\n",
       "      <td>-0.017733</td>\n",
       "      <td>-0.022565</td>\n",
       "      <td>0.012345</td>\n",
       "      <td>-0.035299</td>\n",
       "      <td>-0.033247</td>\n",
       "      <td>-0.009331</td>\n",
       "      <td>-0.003095</td>\n",
       "      <td>-0.023644</td>\n",
       "      <td>-0.001229</td>\n",
       "      <td>-0.016667</td>\n",
       "    </tr>\n",
       "    <tr>\n",
       "      <th>2021-11-11 00:00:00+00:00</th>\n",
       "      <td>-0.003081</td>\n",
       "      <td>0.015553</td>\n",
       "      <td>-0.001028</td>\n",
       "      <td>0.000080</td>\n",
       "      <td>0.002865</td>\n",
       "      <td>-0.004469</td>\n",
       "      <td>0.004022</td>\n",
       "      <td>-0.006710</td>\n",
       "      <td>0.012309</td>\n",
       "      <td>0.011404</td>\n",
       "      <td>...</td>\n",
       "      <td>-0.002171</td>\n",
       "      <td>0.025323</td>\n",
       "      <td>-0.013918</td>\n",
       "      <td>0.053570</td>\n",
       "      <td>0.001868</td>\n",
       "      <td>-0.014929</td>\n",
       "      <td>-0.011030</td>\n",
       "      <td>0.005588</td>\n",
       "      <td>0.012523</td>\n",
       "      <td>-0.004118</td>\n",
       "    </tr>\n",
       "    <tr>\n",
       "      <th>2021-11-12 00:00:00+00:00</th>\n",
       "      <td>0.013076</td>\n",
       "      <td>0.002471</td>\n",
       "      <td>0.002911</td>\n",
       "      <td>-0.002789</td>\n",
       "      <td>0.011987</td>\n",
       "      <td>0.009386</td>\n",
       "      <td>0.013615</td>\n",
       "      <td>0.022188</td>\n",
       "      <td>0.009188</td>\n",
       "      <td>-0.003180</td>\n",
       "      <td>...</td>\n",
       "      <td>0.003255</td>\n",
       "      <td>-0.004566</td>\n",
       "      <td>-0.005844</td>\n",
       "      <td>0.023760</td>\n",
       "      <td>-0.007649</td>\n",
       "      <td>0.001687</td>\n",
       "      <td>0.006409</td>\n",
       "      <td>0.011522</td>\n",
       "      <td>-0.006242</td>\n",
       "      <td>0.005364</td>\n",
       "    </tr>\n",
       "  </tbody>\n",
       "</table>\n",
       "<p>1258 rows × 438 columns</p>\n",
       "</div>"
      ],
      "text/plain": [
       "ticker                            A       AAP      ABBV       ABC      ABMD  \\\n",
       "date                                                                          \n",
       "2016-11-15 00:00:00+00:00  0.001543  0.139732 -0.001589 -0.022381  0.014260   \n",
       "2016-11-16 00:00:00+00:00  0.017035 -0.008249 -0.021382 -0.008460 -0.000359   \n",
       "2016-11-17 00:00:00+00:00 -0.005211  0.020286  0.002597  0.016351  0.018211   \n",
       "2016-11-18 00:00:00+00:00 -0.019785 -0.022805 -0.019310 -0.011922 -0.001674   \n",
       "2016-11-21 00:00:00+00:00 -0.001555  0.026286 -0.001654 -0.009641  0.020941   \n",
       "...                             ...       ...       ...       ...       ...   \n",
       "2021-11-08 00:00:00+00:00  0.028551 -0.007954 -0.009604 -0.012542 -0.005433   \n",
       "2021-11-09 00:00:00+00:00 -0.007046  0.019466 -0.003885 -0.010453  0.031736   \n",
       "2021-11-10 00:00:00+00:00 -0.003322  0.010189  0.009812  0.008069 -0.043423   \n",
       "2021-11-11 00:00:00+00:00 -0.003081  0.015553 -0.001028  0.000080  0.002865   \n",
       "2021-11-12 00:00:00+00:00  0.013076  0.002471  0.002911 -0.002789  0.011987   \n",
       "\n",
       "ticker                          ABT       ACN      ADBE       ADI       ADM  \\\n",
       "date                                                                          \n",
       "2016-11-15 00:00:00+00:00  0.015441 -0.010804  0.012034  0.025991  0.014126   \n",
       "2016-11-16 00:00:00+00:00  0.003511  0.011401  0.004044 -0.004850 -0.005303   \n",
       "2016-11-17 00:00:00+00:00  0.010954  0.008910  0.016485  0.004850 -0.006028   \n",
       "2016-11-18 00:00:00+00:00 -0.013711  0.000507 -0.007494  0.003805  0.011331   \n",
       "2016-11-21 00:00:00+00:00 -0.002010  0.010499  0.005981  0.019525  0.003672   \n",
       "...                             ...       ...       ...       ...       ...   \n",
       "2021-11-08 00:00:00+00:00  0.019350 -0.004161  0.004967  0.001519 -0.010757   \n",
       "2021-11-09 00:00:00+00:00 -0.002922  0.001471  0.002849  0.002923  0.009826   \n",
       "2021-11-10 00:00:00+00:00  0.010934 -0.007457 -0.031050 -0.022633  0.014790   \n",
       "2021-11-11 00:00:00+00:00 -0.004469  0.004022 -0.006710  0.012309  0.011404   \n",
       "2021-11-12 00:00:00+00:00  0.009386  0.013615  0.022188  0.009188 -0.003180   \n",
       "\n",
       "ticker                     ...        WY      WYNN       XEL      XLNX  \\\n",
       "date                       ...                                           \n",
       "2016-11-15 00:00:00+00:00  ...  0.019997  0.027543  0.019033  0.020608   \n",
       "2016-11-16 00:00:00+00:00  ... -0.005384 -0.003459 -0.006133 -0.007071   \n",
       "2016-11-17 00:00:00+00:00  ... -0.003041  0.043733 -0.000256 -0.005806   \n",
       "2016-11-18 00:00:00+00:00  ...  0.035896  0.020899 -0.003339 -0.004896   \n",
       "2016-11-21 00:00:00+00:00  ...  0.016513  0.053035  0.012019  0.002827   \n",
       "...                        ...       ...       ...       ...       ...   \n",
       "2021-11-08 00:00:00+00:00  ... -0.015777 -0.021589 -0.016754  0.046747   \n",
       "2021-11-09 00:00:00+00:00  ... -0.004782 -0.007726  0.013614 -0.014576   \n",
       "2021-11-10 00:00:00+00:00  ... -0.017733 -0.022565  0.012345 -0.035299   \n",
       "2021-11-11 00:00:00+00:00  ... -0.002171  0.025323 -0.013918  0.053570   \n",
       "2021-11-12 00:00:00+00:00  ...  0.003255 -0.004566 -0.005844  0.023760   \n",
       "\n",
       "ticker                          XOM       XYL       YUM      ZBRA      ZION  \\\n",
       "date                                                                          \n",
       "2016-11-15 00:00:00+00:00  0.017897  0.027967  0.000000  0.121750  0.008550   \n",
       "2016-11-16 00:00:00+00:00 -0.012401 -0.007333 -0.004955 -0.033828 -0.034115   \n",
       "2016-11-17 00:00:00+00:00 -0.006083 -0.006275  0.005943  0.013480  0.011941   \n",
       "2016-11-18 00:00:00+00:00  0.000586 -0.013421  0.025992  0.014367  0.007882   \n",
       "2016-11-21 00:00:00+00:00  0.014089  0.003185 -0.005790  0.005584  0.008599   \n",
       "...                             ...       ...       ...       ...       ...   \n",
       "2021-11-08 00:00:00+00:00  0.010708  0.015602 -0.003638 -0.017753  0.008451   \n",
       "2021-11-09 00:00:00+00:00  0.009691  0.003301 -0.000238 -0.001828 -0.003218   \n",
       "2021-11-10 00:00:00+00:00 -0.033247 -0.009331 -0.003095 -0.023644 -0.001229   \n",
       "2021-11-11 00:00:00+00:00  0.001868 -0.014929 -0.011030  0.005588  0.012523   \n",
       "2021-11-12 00:00:00+00:00 -0.007649  0.001687  0.006409  0.011522 -0.006242   \n",
       "\n",
       "ticker                          ZTS  \n",
       "date                                 \n",
       "2016-11-15 00:00:00+00:00  0.003873  \n",
       "2016-11-16 00:00:00+00:00 -0.006327  \n",
       "2016-11-17 00:00:00+00:00  0.007547  \n",
       "2016-11-18 00:00:00+00:00  0.013724  \n",
       "2016-11-21 00:00:00+00:00  0.002202  \n",
       "...                             ...  \n",
       "2021-11-08 00:00:00+00:00  0.004925  \n",
       "2021-11-09 00:00:00+00:00  0.011050  \n",
       "2021-11-10 00:00:00+00:00 -0.016667  \n",
       "2021-11-11 00:00:00+00:00 -0.004118  \n",
       "2021-11-12 00:00:00+00:00  0.005364  \n",
       "\n",
       "[1258 rows x 438 columns]"
      ]
     },
     "execution_count": 9,
     "metadata": {},
     "output_type": "execute_result"
    }
   ],
   "source": [
    "utils.compute_log_returns(close, 1)"
   ]
  },
  {
   "cell_type": "code",
   "execution_count": 14,
   "metadata": {
    "pycharm": {
     "name": "#%%\n"
    }
   },
   "outputs": [
    {
     "data": {
      "text/html": [
       "<div>\n",
       "<style scoped>\n",
       "    .dataframe tbody tr th:only-of-type {\n",
       "        vertical-align: middle;\n",
       "    }\n",
       "\n",
       "    .dataframe tbody tr th {\n",
       "        vertical-align: top;\n",
       "    }\n",
       "\n",
       "    .dataframe thead th {\n",
       "        text-align: right;\n",
       "    }\n",
       "</style>\n",
       "<table border=\"1\" class=\"dataframe\">\n",
       "  <thead>\n",
       "    <tr style=\"text-align: right;\">\n",
       "      <th>ticker</th>\n",
       "      <th>A</th>\n",
       "      <th>AAP</th>\n",
       "      <th>ABBV</th>\n",
       "      <th>ABC</th>\n",
       "      <th>ABMD</th>\n",
       "      <th>ABT</th>\n",
       "      <th>ACN</th>\n",
       "      <th>ADBE</th>\n",
       "      <th>ADI</th>\n",
       "      <th>ADM</th>\n",
       "      <th>...</th>\n",
       "      <th>WY</th>\n",
       "      <th>WYNN</th>\n",
       "      <th>XEL</th>\n",
       "      <th>XLNX</th>\n",
       "      <th>XOM</th>\n",
       "      <th>XYL</th>\n",
       "      <th>YUM</th>\n",
       "      <th>ZBRA</th>\n",
       "      <th>ZION</th>\n",
       "      <th>ZTS</th>\n",
       "    </tr>\n",
       "    <tr>\n",
       "      <th>date</th>\n",
       "      <th></th>\n",
       "      <th></th>\n",
       "      <th></th>\n",
       "      <th></th>\n",
       "      <th></th>\n",
       "      <th></th>\n",
       "      <th></th>\n",
       "      <th></th>\n",
       "      <th></th>\n",
       "      <th></th>\n",
       "      <th></th>\n",
       "      <th></th>\n",
       "      <th></th>\n",
       "      <th></th>\n",
       "      <th></th>\n",
       "      <th></th>\n",
       "      <th></th>\n",
       "      <th></th>\n",
       "      <th></th>\n",
       "      <th></th>\n",
       "      <th></th>\n",
       "    </tr>\n",
       "  </thead>\n",
       "  <tbody>\n",
       "    <tr>\n",
       "      <th>2016-11-14 00:00:00+00:00</th>\n",
       "      <td>NaN</td>\n",
       "      <td>NaN</td>\n",
       "      <td>NaN</td>\n",
       "      <td>NaN</td>\n",
       "      <td>NaN</td>\n",
       "      <td>NaN</td>\n",
       "      <td>NaN</td>\n",
       "      <td>NaN</td>\n",
       "      <td>NaN</td>\n",
       "      <td>NaN</td>\n",
       "      <td>...</td>\n",
       "      <td>NaN</td>\n",
       "      <td>NaN</td>\n",
       "      <td>NaN</td>\n",
       "      <td>NaN</td>\n",
       "      <td>NaN</td>\n",
       "      <td>NaN</td>\n",
       "      <td>NaN</td>\n",
       "      <td>NaN</td>\n",
       "      <td>NaN</td>\n",
       "      <td>NaN</td>\n",
       "    </tr>\n",
       "    <tr>\n",
       "      <th>2016-11-15 00:00:00+00:00</th>\n",
       "      <td>0.001544</td>\n",
       "      <td>0.149965</td>\n",
       "      <td>-0.001588</td>\n",
       "      <td>-0.022132</td>\n",
       "      <td>0.014362</td>\n",
       "      <td>0.015561</td>\n",
       "      <td>-0.010746</td>\n",
       "      <td>0.012107</td>\n",
       "      <td>0.026332</td>\n",
       "      <td>0.014226</td>\n",
       "      <td>...</td>\n",
       "      <td>0.020199</td>\n",
       "      <td>0.027926</td>\n",
       "      <td>0.019216</td>\n",
       "      <td>0.020822</td>\n",
       "      <td>0.018058</td>\n",
       "      <td>0.028362</td>\n",
       "      <td>0.000000</td>\n",
       "      <td>0.129472</td>\n",
       "      <td>0.008587</td>\n",
       "      <td>0.003881</td>\n",
       "    </tr>\n",
       "    <tr>\n",
       "      <th>2016-11-16 00:00:00+00:00</th>\n",
       "      <td>0.017181</td>\n",
       "      <td>-0.008215</td>\n",
       "      <td>-0.021155</td>\n",
       "      <td>-0.008424</td>\n",
       "      <td>-0.000358</td>\n",
       "      <td>0.003517</td>\n",
       "      <td>0.011467</td>\n",
       "      <td>0.004052</td>\n",
       "      <td>-0.004838</td>\n",
       "      <td>-0.005289</td>\n",
       "      <td>...</td>\n",
       "      <td>-0.005369</td>\n",
       "      <td>-0.003453</td>\n",
       "      <td>-0.006115</td>\n",
       "      <td>-0.007046</td>\n",
       "      <td>-0.012324</td>\n",
       "      <td>-0.007306</td>\n",
       "      <td>-0.004942</td>\n",
       "      <td>-0.033263</td>\n",
       "      <td>-0.033540</td>\n",
       "      <td>-0.006307</td>\n",
       "    </tr>\n",
       "    <tr>\n",
       "      <th>2016-11-17 00:00:00+00:00</th>\n",
       "      <td>-0.005197</td>\n",
       "      <td>0.020493</td>\n",
       "      <td>0.002600</td>\n",
       "      <td>0.016485</td>\n",
       "      <td>0.018377</td>\n",
       "      <td>0.011014</td>\n",
       "      <td>0.008950</td>\n",
       "      <td>0.016622</td>\n",
       "      <td>0.004862</td>\n",
       "      <td>-0.006010</td>\n",
       "      <td>...</td>\n",
       "      <td>-0.003036</td>\n",
       "      <td>0.044704</td>\n",
       "      <td>-0.000256</td>\n",
       "      <td>-0.005789</td>\n",
       "      <td>-0.006064</td>\n",
       "      <td>-0.006256</td>\n",
       "      <td>0.005960</td>\n",
       "      <td>0.013571</td>\n",
       "      <td>0.012013</td>\n",
       "      <td>0.007576</td>\n",
       "    </tr>\n",
       "    <tr>\n",
       "      <th>2016-11-18 00:00:00+00:00</th>\n",
       "      <td>-0.019591</td>\n",
       "      <td>-0.022547</td>\n",
       "      <td>-0.019125</td>\n",
       "      <td>-0.011851</td>\n",
       "      <td>-0.001673</td>\n",
       "      <td>-0.013617</td>\n",
       "      <td>0.000507</td>\n",
       "      <td>-0.007466</td>\n",
       "      <td>0.003812</td>\n",
       "      <td>0.011395</td>\n",
       "      <td>...</td>\n",
       "      <td>0.036548</td>\n",
       "      <td>0.021119</td>\n",
       "      <td>-0.003333</td>\n",
       "      <td>-0.004884</td>\n",
       "      <td>0.000587</td>\n",
       "      <td>-0.013331</td>\n",
       "      <td>0.026333</td>\n",
       "      <td>0.014471</td>\n",
       "      <td>0.007913</td>\n",
       "      <td>0.013818</td>\n",
       "    </tr>\n",
       "    <tr>\n",
       "      <th>...</th>\n",
       "      <td>...</td>\n",
       "      <td>...</td>\n",
       "      <td>...</td>\n",
       "      <td>...</td>\n",
       "      <td>...</td>\n",
       "      <td>...</td>\n",
       "      <td>...</td>\n",
       "      <td>...</td>\n",
       "      <td>...</td>\n",
       "      <td>...</td>\n",
       "      <td>...</td>\n",
       "      <td>...</td>\n",
       "      <td>...</td>\n",
       "      <td>...</td>\n",
       "      <td>...</td>\n",
       "      <td>...</td>\n",
       "      <td>...</td>\n",
       "      <td>...</td>\n",
       "      <td>...</td>\n",
       "      <td>...</td>\n",
       "      <td>...</td>\n",
       "    </tr>\n",
       "    <tr>\n",
       "      <th>2021-11-08 00:00:00+00:00</th>\n",
       "      <td>0.028962</td>\n",
       "      <td>-0.007922</td>\n",
       "      <td>-0.009558</td>\n",
       "      <td>-0.012464</td>\n",
       "      <td>-0.005419</td>\n",
       "      <td>0.019538</td>\n",
       "      <td>-0.004152</td>\n",
       "      <td>0.004979</td>\n",
       "      <td>0.001520</td>\n",
       "      <td>-0.010699</td>\n",
       "      <td>...</td>\n",
       "      <td>-0.015654</td>\n",
       "      <td>-0.021358</td>\n",
       "      <td>-0.016614</td>\n",
       "      <td>0.047857</td>\n",
       "      <td>0.010766</td>\n",
       "      <td>0.015724</td>\n",
       "      <td>-0.003631</td>\n",
       "      <td>-0.017597</td>\n",
       "      <td>0.008486</td>\n",
       "      <td>0.004937</td>\n",
       "    </tr>\n",
       "    <tr>\n",
       "      <th>2021-11-09 00:00:00+00:00</th>\n",
       "      <td>-0.007021</td>\n",
       "      <td>0.019657</td>\n",
       "      <td>-0.003877</td>\n",
       "      <td>-0.010398</td>\n",
       "      <td>0.032245</td>\n",
       "      <td>-0.002918</td>\n",
       "      <td>0.001472</td>\n",
       "      <td>0.002853</td>\n",
       "      <td>0.002927</td>\n",
       "      <td>0.009875</td>\n",
       "      <td>...</td>\n",
       "      <td>-0.004771</td>\n",
       "      <td>-0.007696</td>\n",
       "      <td>0.013707</td>\n",
       "      <td>-0.014470</td>\n",
       "      <td>0.009738</td>\n",
       "      <td>0.003307</td>\n",
       "      <td>-0.000238</td>\n",
       "      <td>-0.001826</td>\n",
       "      <td>-0.003213</td>\n",
       "      <td>0.011111</td>\n",
       "    </tr>\n",
       "    <tr>\n",
       "      <th>2021-11-10 00:00:00+00:00</th>\n",
       "      <td>-0.003316</td>\n",
       "      <td>0.010241</td>\n",
       "      <td>0.009861</td>\n",
       "      <td>0.008101</td>\n",
       "      <td>-0.042494</td>\n",
       "      <td>0.010994</td>\n",
       "      <td>-0.007429</td>\n",
       "      <td>-0.030573</td>\n",
       "      <td>-0.022378</td>\n",
       "      <td>0.014900</td>\n",
       "      <td>...</td>\n",
       "      <td>-0.017577</td>\n",
       "      <td>-0.022312</td>\n",
       "      <td>0.012421</td>\n",
       "      <td>-0.034683</td>\n",
       "      <td>-0.032700</td>\n",
       "      <td>-0.009288</td>\n",
       "      <td>-0.003091</td>\n",
       "      <td>-0.023367</td>\n",
       "      <td>-0.001228</td>\n",
       "      <td>-0.016529</td>\n",
       "    </tr>\n",
       "    <tr>\n",
       "      <th>2021-11-11 00:00:00+00:00</th>\n",
       "      <td>-0.003076</td>\n",
       "      <td>0.015675</td>\n",
       "      <td>-0.001028</td>\n",
       "      <td>0.000080</td>\n",
       "      <td>0.002869</td>\n",
       "      <td>-0.004459</td>\n",
       "      <td>0.004030</td>\n",
       "      <td>-0.006687</td>\n",
       "      <td>0.012385</td>\n",
       "      <td>0.011470</td>\n",
       "      <td>...</td>\n",
       "      <td>-0.002169</td>\n",
       "      <td>0.025647</td>\n",
       "      <td>-0.013822</td>\n",
       "      <td>0.055031</td>\n",
       "      <td>0.001869</td>\n",
       "      <td>-0.014818</td>\n",
       "      <td>-0.010970</td>\n",
       "      <td>0.005603</td>\n",
       "      <td>0.012602</td>\n",
       "      <td>-0.004109</td>\n",
       "    </tr>\n",
       "    <tr>\n",
       "      <th>2021-11-12 00:00:00+00:00</th>\n",
       "      <td>0.013162</td>\n",
       "      <td>0.002474</td>\n",
       "      <td>0.002915</td>\n",
       "      <td>-0.002785</td>\n",
       "      <td>0.012059</td>\n",
       "      <td>0.009430</td>\n",
       "      <td>0.013708</td>\n",
       "      <td>0.022436</td>\n",
       "      <td>0.009230</td>\n",
       "      <td>-0.003175</td>\n",
       "      <td>...</td>\n",
       "      <td>0.003260</td>\n",
       "      <td>-0.004556</td>\n",
       "      <td>-0.005827</td>\n",
       "      <td>0.024044</td>\n",
       "      <td>-0.007619</td>\n",
       "      <td>0.001688</td>\n",
       "      <td>0.006430</td>\n",
       "      <td>0.011589</td>\n",
       "      <td>-0.006222</td>\n",
       "      <td>0.005378</td>\n",
       "    </tr>\n",
       "  </tbody>\n",
       "</table>\n",
       "<p>1259 rows × 438 columns</p>\n",
       "</div>"
      ],
      "text/plain": [
       "ticker                            A       AAP      ABBV       ABC      ABMD  \\\n",
       "date                                                                          \n",
       "2016-11-14 00:00:00+00:00       NaN       NaN       NaN       NaN       NaN   \n",
       "2016-11-15 00:00:00+00:00  0.001544  0.149965 -0.001588 -0.022132  0.014362   \n",
       "2016-11-16 00:00:00+00:00  0.017181 -0.008215 -0.021155 -0.008424 -0.000358   \n",
       "2016-11-17 00:00:00+00:00 -0.005197  0.020493  0.002600  0.016485  0.018377   \n",
       "2016-11-18 00:00:00+00:00 -0.019591 -0.022547 -0.019125 -0.011851 -0.001673   \n",
       "...                             ...       ...       ...       ...       ...   \n",
       "2021-11-08 00:00:00+00:00  0.028962 -0.007922 -0.009558 -0.012464 -0.005419   \n",
       "2021-11-09 00:00:00+00:00 -0.007021  0.019657 -0.003877 -0.010398  0.032245   \n",
       "2021-11-10 00:00:00+00:00 -0.003316  0.010241  0.009861  0.008101 -0.042494   \n",
       "2021-11-11 00:00:00+00:00 -0.003076  0.015675 -0.001028  0.000080  0.002869   \n",
       "2021-11-12 00:00:00+00:00  0.013162  0.002474  0.002915 -0.002785  0.012059   \n",
       "\n",
       "ticker                          ABT       ACN      ADBE       ADI       ADM  \\\n",
       "date                                                                          \n",
       "2016-11-14 00:00:00+00:00       NaN       NaN       NaN       NaN       NaN   \n",
       "2016-11-15 00:00:00+00:00  0.015561 -0.010746  0.012107  0.026332  0.014226   \n",
       "2016-11-16 00:00:00+00:00  0.003517  0.011467  0.004052 -0.004838 -0.005289   \n",
       "2016-11-17 00:00:00+00:00  0.011014  0.008950  0.016622  0.004862 -0.006010   \n",
       "2016-11-18 00:00:00+00:00 -0.013617  0.000507 -0.007466  0.003812  0.011395   \n",
       "...                             ...       ...       ...       ...       ...   \n",
       "2021-11-08 00:00:00+00:00  0.019538 -0.004152  0.004979  0.001520 -0.010699   \n",
       "2021-11-09 00:00:00+00:00 -0.002918  0.001472  0.002853  0.002927  0.009875   \n",
       "2021-11-10 00:00:00+00:00  0.010994 -0.007429 -0.030573 -0.022378  0.014900   \n",
       "2021-11-11 00:00:00+00:00 -0.004459  0.004030 -0.006687  0.012385  0.011470   \n",
       "2021-11-12 00:00:00+00:00  0.009430  0.013708  0.022436  0.009230 -0.003175   \n",
       "\n",
       "ticker                     ...        WY      WYNN       XEL      XLNX  \\\n",
       "date                       ...                                           \n",
       "2016-11-14 00:00:00+00:00  ...       NaN       NaN       NaN       NaN   \n",
       "2016-11-15 00:00:00+00:00  ...  0.020199  0.027926  0.019216  0.020822   \n",
       "2016-11-16 00:00:00+00:00  ... -0.005369 -0.003453 -0.006115 -0.007046   \n",
       "2016-11-17 00:00:00+00:00  ... -0.003036  0.044704 -0.000256 -0.005789   \n",
       "2016-11-18 00:00:00+00:00  ...  0.036548  0.021119 -0.003333 -0.004884   \n",
       "...                        ...       ...       ...       ...       ...   \n",
       "2021-11-08 00:00:00+00:00  ... -0.015654 -0.021358 -0.016614  0.047857   \n",
       "2021-11-09 00:00:00+00:00  ... -0.004771 -0.007696  0.013707 -0.014470   \n",
       "2021-11-10 00:00:00+00:00  ... -0.017577 -0.022312  0.012421 -0.034683   \n",
       "2021-11-11 00:00:00+00:00  ... -0.002169  0.025647 -0.013822  0.055031   \n",
       "2021-11-12 00:00:00+00:00  ...  0.003260 -0.004556 -0.005827  0.024044   \n",
       "\n",
       "ticker                          XOM       XYL       YUM      ZBRA      ZION  \\\n",
       "date                                                                          \n",
       "2016-11-14 00:00:00+00:00       NaN       NaN       NaN       NaN       NaN   \n",
       "2016-11-15 00:00:00+00:00  0.018058  0.028362  0.000000  0.129472  0.008587   \n",
       "2016-11-16 00:00:00+00:00 -0.012324 -0.007306 -0.004942 -0.033263 -0.033540   \n",
       "2016-11-17 00:00:00+00:00 -0.006064 -0.006256  0.005960  0.013571  0.012013   \n",
       "2016-11-18 00:00:00+00:00  0.000587 -0.013331  0.026333  0.014471  0.007913   \n",
       "...                             ...       ...       ...       ...       ...   \n",
       "2021-11-08 00:00:00+00:00  0.010766  0.015724 -0.003631 -0.017597  0.008486   \n",
       "2021-11-09 00:00:00+00:00  0.009738  0.003307 -0.000238 -0.001826 -0.003213   \n",
       "2021-11-10 00:00:00+00:00 -0.032700 -0.009288 -0.003091 -0.023367 -0.001228   \n",
       "2021-11-11 00:00:00+00:00  0.001869 -0.014818 -0.010970  0.005603  0.012602   \n",
       "2021-11-12 00:00:00+00:00 -0.007619  0.001688  0.006430  0.011589 -0.006222   \n",
       "\n",
       "ticker                          ZTS  \n",
       "date                                 \n",
       "2016-11-14 00:00:00+00:00       NaN  \n",
       "2016-11-15 00:00:00+00:00  0.003881  \n",
       "2016-11-16 00:00:00+00:00 -0.006307  \n",
       "2016-11-17 00:00:00+00:00  0.007576  \n",
       "2016-11-18 00:00:00+00:00  0.013818  \n",
       "...                             ...  \n",
       "2021-11-08 00:00:00+00:00  0.004937  \n",
       "2021-11-09 00:00:00+00:00  0.011111  \n",
       "2021-11-10 00:00:00+00:00 -0.016529  \n",
       "2021-11-11 00:00:00+00:00 -0.004109  \n",
       "2021-11-12 00:00:00+00:00  0.005378  \n",
       "\n",
       "[1259 rows x 438 columns]"
      ]
     },
     "execution_count": 14,
     "metadata": {},
     "output_type": "execute_result"
    }
   ],
   "source": [
    "close.pct_change()"
   ]
  },
  {
   "cell_type": "markdown",
   "metadata": {
    "pycharm": {
     "name": "#%% md\n"
    }
   },
   "source": [
    "# Stage 2a: Generate Alpha Factors using Stock Universe\n",
    "\n",
    "- Compute custom apha factors\n",
    "- Compute univeral quant factors\n",
    "- Compute date information\n",
    "- Save Alpha Factors"
   ]
  },
  {
   "cell_type": "markdown",
   "metadata": {
    "pycharm": {
     "name": "#%% md\n"
    }
   },
   "source": [
    "## Factors"
   ]
  },
  {
   "cell_type": "code",
   "execution_count": 9,
   "metadata": {
    "pycharm": {
     "name": "#%%\n"
    }
   },
   "outputs": [],
   "source": [
    "import trading_factors as alpha_factors\n",
    "importlib.reload(alpha_factors)\n",
    "import alphalens as al"
   ]
  },
  {
   "cell_type": "code",
   "execution_count": 12,
   "metadata": {
    "pycharm": {
     "name": "#%%\n"
    }
   },
   "outputs": [],
   "source": [
    "all_factors = pd.concat(\n",
    "[\n",
    "    alpha_factors.FactorMomentum(price_histories, 252).demean(groupby=sector_helper.values()).rank().zscore().for_al(),\n",
    "    alpha_factors.FactorMeanReversion(price_histories, 5).demean(groupby=sector_helper.values()).rank().zscore().smoothed().rank().zscore().for_al(),\n",
    "    alpha_factors.OvernightSentiment(price_histories, 5).rank().zscore().smoothed(10).rank().zscore().for_al()\n",
    "], axis=1)\n",
    "all_factors.sort_index(inplace=True)"
   ]
  },
  {
   "cell_type": "markdown",
   "metadata": {
    "pycharm": {
     "name": "#%% md\n"
    }
   },
   "source": [
    "## Universal Quant Features\n",
    "\n",
    "- Volatility \n",
    "- Dollar Volume\n",
    "- Market Dispersion\n",
    "- Market Volatility\n",
    "\n",
    "#TODO: SMA for market disp/vol"
   ]
  },
  {
   "cell_type": "code",
   "execution_count": 13,
   "metadata": {
    "pycharm": {
     "name": "#%%\n"
    }
   },
   "outputs": [],
   "source": [
    "all_factors = pd.concat(\n",
    "[\n",
    "    all_factors,\n",
    "    alpha_factors.AnnualizedVolatility(price_histories, 20).rank().zscore().for_al(),\n",
    "    alpha_factors.AnnualizedVolatility(price_histories, 120).rank().zscore().for_al(),\n",
    "    alpha_factors.AverageDollarVolume(price_histories, 20).rank().zscore().for_al(),\n",
    "    alpha_factors.AverageDollarVolume(price_histories, 120).rank().zscore().for_al(),\n",
    "    alpha_factors.MarketDispersion(price_histories, 20).for_al(),\n",
    "    alpha_factors.MarketDispersion(price_histories, 120).for_al(),\n",
    "    alpha_factors.MarketVolatility(price_histories, 20).for_al(),\n",
    "    alpha_factors.MarketVolatility(price_histories, 120).for_al()\n",
    "], axis=1)\n",
    "all_factors.sort_index(inplace=True)"
   ]
  },
  {
   "cell_type": "code",
   "execution_count": 1,
   "metadata": {
    "pycharm": {
     "name": "#%%\n"
    }
   },
   "outputs": [
    {
     "ename": "NameError",
     "evalue": "name 'alpha_factors' is not defined",
     "output_type": "error",
     "traceback": [
      "\u001B[1;31m---------------------------------------------------------------------------\u001B[0m",
      "\u001B[1;31mNameError\u001B[0m                                 Traceback (most recent call last)",
      "\u001B[1;32m<ipython-input-1-b6755ee751bb>\u001B[0m in \u001B[0;36m<module>\u001B[1;34m\u001B[0m\n\u001B[1;32m----> 1\u001B[1;33m \u001B[0malpha_factors\u001B[0m\u001B[1;33m.\u001B[0m\u001B[0mFactorDateParts\u001B[0m\u001B[1;33m(\u001B[0m\u001B[0mall_factors\u001B[0m\u001B[1;33m)\u001B[0m\u001B[1;33m\u001B[0m\u001B[1;33m\u001B[0m\u001B[0m\n\u001B[0m\u001B[0;32m      2\u001B[0m \u001B[0mall_factors\u001B[0m\u001B[1;33m.\u001B[0m\u001B[0mdropna\u001B[0m\u001B[1;33m(\u001B[0m\u001B[0minplace\u001B[0m\u001B[1;33m=\u001B[0m\u001B[1;32mTrue\u001B[0m\u001B[1;33m)\u001B[0m\u001B[1;33m\u001B[0m\u001B[1;33m\u001B[0m\u001B[0m\n\u001B[0;32m      3\u001B[0m \u001B[0mall_factors\u001B[0m\u001B[1;33m.\u001B[0m\u001B[0mhead\u001B[0m\u001B[1;33m(\u001B[0m\u001B[1;33m)\u001B[0m\u001B[1;33m\u001B[0m\u001B[1;33m\u001B[0m\u001B[0m\n",
      "\u001B[1;31mNameError\u001B[0m: name 'alpha_factors' is not defined"
     ]
    }
   ],
   "source": [
    "alpha_factors.FactorDateParts(all_factors)\n",
    "all_factors.dropna(inplace=True)\n",
    "all_factors.head()"
   ]
  },
  {
   "cell_type": "markdown",
   "metadata": {
    "pycharm": {
     "name": "#%% md\n"
    }
   },
   "source": [
    "## Compute the target values (y) and Shift back to create a 5 day forward prediciton"
   ]
  },
  {
   "cell_type": "code",
   "execution_count": 14,
   "metadata": {
    "pycharm": {
     "name": "#%%\n"
    }
   },
   "outputs": [
    {
     "data": {
      "text/html": [
       "<div>\n",
       "<style scoped>\n",
       "    .dataframe tbody tr th:only-of-type {\n",
       "        vertical-align: middle;\n",
       "    }\n",
       "\n",
       "    .dataframe tbody tr th {\n",
       "        vertical-align: top;\n",
       "    }\n",
       "\n",
       "    .dataframe thead th {\n",
       "        text-align: right;\n",
       "    }\n",
       "</style>\n",
       "<table border=\"1\" class=\"dataframe\">\n",
       "  <thead>\n",
       "    <tr style=\"text-align: right;\">\n",
       "      <th></th>\n",
       "      <th></th>\n",
       "      <th>momentum_252_day_logret</th>\n",
       "      <th>mean_reversion_5_day_logret_smoothed</th>\n",
       "      <th>overnight_sentiment_5_day_smoothed</th>\n",
       "      <th>annualzed_volatility_20_day</th>\n",
       "      <th>annualzed_volatility_120_day</th>\n",
       "      <th>average_dollar_volume_20_day</th>\n",
       "      <th>average_dollar_volume_120_day</th>\n",
       "      <th>market_dispersion20_day</th>\n",
       "      <th>market_dispersion120_day</th>\n",
       "      <th>market_volatility20_day</th>\n",
       "      <th>market_volatility120_day</th>\n",
       "      <th>5Day2Quant</th>\n",
       "    </tr>\n",
       "    <tr>\n",
       "      <th>date</th>\n",
       "      <th>ticker</th>\n",
       "      <th></th>\n",
       "      <th></th>\n",
       "      <th></th>\n",
       "      <th></th>\n",
       "      <th></th>\n",
       "      <th></th>\n",
       "      <th></th>\n",
       "      <th></th>\n",
       "      <th></th>\n",
       "      <th></th>\n",
       "      <th></th>\n",
       "      <th></th>\n",
       "    </tr>\n",
       "  </thead>\n",
       "  <tbody>\n",
       "    <tr>\n",
       "      <th rowspan=\"5\" valign=\"top\">2017-11-09 00:00:00+00:00</th>\n",
       "      <th>A</th>\n",
       "      <td>1.084521</td>\n",
       "      <td>-0.290000</td>\n",
       "      <td>0.687261</td>\n",
       "      <td>-0.965345</td>\n",
       "      <td>-1.132194</td>\n",
       "      <td>-0.870002</td>\n",
       "      <td>-0.576029</td>\n",
       "      <td>0.015676</td>\n",
       "      <td>0.012825</td>\n",
       "      <td>0.037593</td>\n",
       "      <td>0.046904</td>\n",
       "      <td>0</td>\n",
       "    </tr>\n",
       "    <tr>\n",
       "      <th>AAP</th>\n",
       "      <td>-1.712193</td>\n",
       "      <td>1.616850</td>\n",
       "      <td>-0.488630</td>\n",
       "      <td>0.973290</td>\n",
       "      <td>1.163975</td>\n",
       "      <td>0.019863</td>\n",
       "      <td>0.623700</td>\n",
       "      <td>0.015676</td>\n",
       "      <td>0.012825</td>\n",
       "      <td>0.037593</td>\n",
       "      <td>0.046904</td>\n",
       "      <td>0</td>\n",
       "    </tr>\n",
       "    <tr>\n",
       "      <th>ABBV</th>\n",
       "      <td>1.227535</td>\n",
       "      <td>-0.981233</td>\n",
       "      <td>1.251370</td>\n",
       "      <td>0.576029</td>\n",
       "      <td>1.084523</td>\n",
       "      <td>1.434113</td>\n",
       "      <td>1.338770</td>\n",
       "      <td>0.015676</td>\n",
       "      <td>0.012825</td>\n",
       "      <td>0.037593</td>\n",
       "      <td>0.046904</td>\n",
       "      <td>1</td>\n",
       "    </tr>\n",
       "    <tr>\n",
       "      <th>ABC</th>\n",
       "      <td>-1.299042</td>\n",
       "      <td>1.052740</td>\n",
       "      <td>1.505617</td>\n",
       "      <td>1.211647</td>\n",
       "      <td>1.410277</td>\n",
       "      <td>0.266165</td>\n",
       "      <td>-0.210548</td>\n",
       "      <td>0.015676</td>\n",
       "      <td>0.012825</td>\n",
       "      <td>0.037593</td>\n",
       "      <td>0.046904</td>\n",
       "      <td>1</td>\n",
       "    </tr>\n",
       "    <tr>\n",
       "      <th>ABMD</th>\n",
       "      <td>1.600960</td>\n",
       "      <td>-1.457946</td>\n",
       "      <td>0.885891</td>\n",
       "      <td>-0.083425</td>\n",
       "      <td>-0.194658</td>\n",
       "      <td>-1.156030</td>\n",
       "      <td>-1.362606</td>\n",
       "      <td>0.015676</td>\n",
       "      <td>0.012825</td>\n",
       "      <td>0.037593</td>\n",
       "      <td>0.046904</td>\n",
       "      <td>1</td>\n",
       "    </tr>\n",
       "  </tbody>\n",
       "</table>\n",
       "</div>"
      ],
      "text/plain": [
       "                                  momentum_252_day_logret  \\\n",
       "date                      ticker                            \n",
       "2017-11-09 00:00:00+00:00 A                      1.084521   \n",
       "                          AAP                   -1.712193   \n",
       "                          ABBV                   1.227535   \n",
       "                          ABC                   -1.299042   \n",
       "                          ABMD                   1.600960   \n",
       "\n",
       "                                  mean_reversion_5_day_logret_smoothed  \\\n",
       "date                      ticker                                         \n",
       "2017-11-09 00:00:00+00:00 A                                  -0.290000   \n",
       "                          AAP                                 1.616850   \n",
       "                          ABBV                               -0.981233   \n",
       "                          ABC                                 1.052740   \n",
       "                          ABMD                               -1.457946   \n",
       "\n",
       "                                  overnight_sentiment_5_day_smoothed  \\\n",
       "date                      ticker                                       \n",
       "2017-11-09 00:00:00+00:00 A                                 0.687261   \n",
       "                          AAP                              -0.488630   \n",
       "                          ABBV                              1.251370   \n",
       "                          ABC                               1.505617   \n",
       "                          ABMD                              0.885891   \n",
       "\n",
       "                                  annualzed_volatility_20_day  \\\n",
       "date                      ticker                                \n",
       "2017-11-09 00:00:00+00:00 A                         -0.965345   \n",
       "                          AAP                        0.973290   \n",
       "                          ABBV                       0.576029   \n",
       "                          ABC                        1.211647   \n",
       "                          ABMD                      -0.083425   \n",
       "\n",
       "                                  annualzed_volatility_120_day  \\\n",
       "date                      ticker                                 \n",
       "2017-11-09 00:00:00+00:00 A                          -1.132194   \n",
       "                          AAP                         1.163975   \n",
       "                          ABBV                        1.084523   \n",
       "                          ABC                         1.410277   \n",
       "                          ABMD                       -0.194658   \n",
       "\n",
       "                                  average_dollar_volume_20_day  \\\n",
       "date                      ticker                                 \n",
       "2017-11-09 00:00:00+00:00 A                          -0.870002   \n",
       "                          AAP                         0.019863   \n",
       "                          ABBV                        1.434113   \n",
       "                          ABC                         0.266165   \n",
       "                          ABMD                       -1.156030   \n",
       "\n",
       "                                  average_dollar_volume_120_day  \\\n",
       "date                      ticker                                  \n",
       "2017-11-09 00:00:00+00:00 A                           -0.576029   \n",
       "                          AAP                          0.623700   \n",
       "                          ABBV                         1.338770   \n",
       "                          ABC                         -0.210548   \n",
       "                          ABMD                        -1.362606   \n",
       "\n",
       "                                  market_dispersion20_day  \\\n",
       "date                      ticker                            \n",
       "2017-11-09 00:00:00+00:00 A                      0.015676   \n",
       "                          AAP                    0.015676   \n",
       "                          ABBV                   0.015676   \n",
       "                          ABC                    0.015676   \n",
       "                          ABMD                   0.015676   \n",
       "\n",
       "                                  market_dispersion120_day  \\\n",
       "date                      ticker                             \n",
       "2017-11-09 00:00:00+00:00 A                       0.012825   \n",
       "                          AAP                     0.012825   \n",
       "                          ABBV                    0.012825   \n",
       "                          ABC                     0.012825   \n",
       "                          ABMD                    0.012825   \n",
       "\n",
       "                                  market_volatility20_day  \\\n",
       "date                      ticker                            \n",
       "2017-11-09 00:00:00+00:00 A                      0.037593   \n",
       "                          AAP                    0.037593   \n",
       "                          ABBV                   0.037593   \n",
       "                          ABC                    0.037593   \n",
       "                          ABMD                   0.037593   \n",
       "\n",
       "                                  market_volatility120_day  5Day2Quant  \n",
       "date                      ticker                                        \n",
       "2017-11-09 00:00:00+00:00 A                       0.046904           0  \n",
       "                          AAP                     0.046904           0  \n",
       "                          ABBV                    0.046904           1  \n",
       "                          ABC                     0.046904           1  \n",
       "                          ABMD                    0.046904           1  "
      ]
     },
     "metadata": {},
     "output_type": "display_data"
    },
    {
     "data": {
      "text/html": [
       "<div>\n",
       "<style scoped>\n",
       "    .dataframe tbody tr th:only-of-type {\n",
       "        vertical-align: middle;\n",
       "    }\n",
       "\n",
       "    .dataframe tbody tr th {\n",
       "        vertical-align: top;\n",
       "    }\n",
       "\n",
       "    .dataframe thead th {\n",
       "        text-align: right;\n",
       "    }\n",
       "</style>\n",
       "<table border=\"1\" class=\"dataframe\">\n",
       "  <thead>\n",
       "    <tr style=\"text-align: right;\">\n",
       "      <th></th>\n",
       "      <th>date</th>\n",
       "      <th>ticker</th>\n",
       "      <th>5Day2Quant</th>\n",
       "      <th>target</th>\n",
       "    </tr>\n",
       "  </thead>\n",
       "  <tbody>\n",
       "    <tr>\n",
       "      <th>0</th>\n",
       "      <td>2017-11-09 00:00:00+00:00</td>\n",
       "      <td>A</td>\n",
       "      <td>0</td>\n",
       "      <td>1.0</td>\n",
       "    </tr>\n",
       "    <tr>\n",
       "      <th>436</th>\n",
       "      <td>2017-11-10 00:00:00+00:00</td>\n",
       "      <td>A</td>\n",
       "      <td>0</td>\n",
       "      <td>1.0</td>\n",
       "    </tr>\n",
       "    <tr>\n",
       "      <th>872</th>\n",
       "      <td>2017-11-13 00:00:00+00:00</td>\n",
       "      <td>A</td>\n",
       "      <td>0</td>\n",
       "      <td>1.0</td>\n",
       "    </tr>\n",
       "    <tr>\n",
       "      <th>1308</th>\n",
       "      <td>2017-11-14 00:00:00+00:00</td>\n",
       "      <td>A</td>\n",
       "      <td>0</td>\n",
       "      <td>1.0</td>\n",
       "    </tr>\n",
       "    <tr>\n",
       "      <th>1744</th>\n",
       "      <td>2017-11-15 00:00:00+00:00</td>\n",
       "      <td>A</td>\n",
       "      <td>0</td>\n",
       "      <td>1.0</td>\n",
       "    </tr>\n",
       "    <tr>\n",
       "      <th>2180</th>\n",
       "      <td>2017-11-16 00:00:00+00:00</td>\n",
       "      <td>A</td>\n",
       "      <td>1</td>\n",
       "      <td>1.0</td>\n",
       "    </tr>\n",
       "    <tr>\n",
       "      <th>2616</th>\n",
       "      <td>2017-11-17 00:00:00+00:00</td>\n",
       "      <td>A</td>\n",
       "      <td>1</td>\n",
       "      <td>1.0</td>\n",
       "    </tr>\n",
       "    <tr>\n",
       "      <th>3052</th>\n",
       "      <td>2017-11-20 00:00:00+00:00</td>\n",
       "      <td>A</td>\n",
       "      <td>1</td>\n",
       "      <td>0.0</td>\n",
       "    </tr>\n",
       "    <tr>\n",
       "      <th>3488</th>\n",
       "      <td>2017-11-21 00:00:00+00:00</td>\n",
       "      <td>A</td>\n",
       "      <td>1</td>\n",
       "      <td>0.0</td>\n",
       "    </tr>\n",
       "    <tr>\n",
       "      <th>3924</th>\n",
       "      <td>2017-11-22 00:00:00+00:00</td>\n",
       "      <td>A</td>\n",
       "      <td>1</td>\n",
       "      <td>0.0</td>\n",
       "    </tr>\n",
       "  </tbody>\n",
       "</table>\n",
       "</div>"
      ],
      "text/plain": [
       "                          date ticker  5Day2Quant  target\n",
       "0    2017-11-09 00:00:00+00:00      A           0     1.0\n",
       "436  2017-11-10 00:00:00+00:00      A           0     1.0\n",
       "872  2017-11-13 00:00:00+00:00      A           0     1.0\n",
       "1308 2017-11-14 00:00:00+00:00      A           0     1.0\n",
       "1744 2017-11-15 00:00:00+00:00      A           0     1.0\n",
       "2180 2017-11-16 00:00:00+00:00      A           1     1.0\n",
       "2616 2017-11-17 00:00:00+00:00      A           1     1.0\n",
       "3052 2017-11-20 00:00:00+00:00      A           1     0.0\n",
       "3488 2017-11-21 00:00:00+00:00      A           1     0.0\n",
       "3924 2017-11-22 00:00:00+00:00      A           1     0.0"
      ]
     },
     "execution_count": 14,
     "metadata": {},
     "output_type": "execute_result"
    }
   ],
   "source": [
    "target_source = '5Day2Quant'\n",
    "\n",
    "all_factors = pd.concat(\n",
    "[\n",
    "    all_factors,\n",
    "    alpha_factors.FactorReturnQuantiles(price_histories, 2, 5).for_al(target_source),\n",
    "], axis=1).dropna()\n",
    "all_factors.sort_index(inplace=True)\n",
    "display(all_factors.head())\n",
    "\n",
    "all_factors['target'] = all_factors.groupby(level='ticker')[target_source].shift(-5)\n",
    "all_factors[[target_source,'target']].reset_index().sort_values(['ticker', 'date']).head(10)"
   ]
  },
  {
   "cell_type": "markdown",
   "metadata": {
    "pycharm": {
     "name": "#%% md\n"
    }
   },
   "source": [
    "### IID Check of Target\n",
    "Let's see if the returns are independent and identically distributed."
   ]
  },
  {
   "cell_type": "code",
   "execution_count": 15,
   "metadata": {
    "pycharm": {
     "name": "#%%\n"
    }
   },
   "outputs": [
    {
     "data": {
      "image/png": "[encoded data removed]",
      "text/plain": [
       "<Figure size 1440x576 with 1 Axes>"
      ]
     },
     "metadata": {},
     "output_type": "display_data"
    }
   ],
   "source": [
    "from scipy.stats import spearmanr\n",
    "\n",
    "def sp(group, col1_name, col2_name):\n",
    "    x = group[col1_name]\n",
    "    y = group[col2_name]\n",
    "    return spearmanr(x, y)[0]\n",
    "\n",
    "\n",
    "all_factors['target_1'] = all_factors.groupby(level='ticker')[target_source].shift(-4)\n",
    "all_factors['target_2'] = all_factors.groupby(level='ticker')[target_source].shift(-3)\n",
    "all_factors['target_3'] = all_factors.groupby(level='ticker')[target_source].shift(-2)\n",
    "all_factors['target_4'] = all_factors.groupby(level='ticker')[target_source].shift(-1)\n",
    "\n",
    "g = all_factors.dropna().groupby(level='date')\n",
    "for i in range(4):\n",
    "    label = 'target_'+str(i+1)\n",
    "    ic = g.apply(sp, 'target', label)\n",
    "    ic.plot(ylim=(-1, 1), label=label)\n",
    "plt.legend(bbox_to_anchor=(1.04, 1), borderaxespad=0)\n",
    "plt.title('Rolling Autocorrelation of Labels Shifted 1,2,3,4 Days')\n",
    "plt.show()"
   ]
  },
  {
   "cell_type": "code",
   "execution_count": 16,
   "metadata": {
    "pycharm": {
     "name": "#%%\n"
    }
   },
   "outputs": [],
   "source": [
    "all_factors.to_csv('data/factor_features_data.csv')"
   ]
  },
  {
   "cell_type": "code",
   "execution_count": 17,
   "metadata": {
    "pycharm": {
     "name": "#%%\n"
    }
   },
   "outputs": [
    {
     "data": {
      "text/html": [
       "<div>\n",
       "<style scoped>\n",
       "    .dataframe tbody tr th:only-of-type {\n",
       "        vertical-align: middle;\n",
       "    }\n",
       "\n",
       "    .dataframe tbody tr th {\n",
       "        vertical-align: top;\n",
       "    }\n",
       "\n",
       "    .dataframe thead th {\n",
       "        text-align: right;\n",
       "    }\n",
       "</style>\n",
       "<table border=\"1\" class=\"dataframe\">\n",
       "  <thead>\n",
       "    <tr style=\"text-align: right;\">\n",
       "      <th></th>\n",
       "      <th></th>\n",
       "      <th>momentum_252_day_logret</th>\n",
       "      <th>mean_reversion_5_day_logret_smoothed</th>\n",
       "      <th>overnight_sentiment_5_day_smoothed</th>\n",
       "      <th>annualzed_volatility_20_day</th>\n",
       "      <th>annualzed_volatility_120_day</th>\n",
       "      <th>average_dollar_volume_20_day</th>\n",
       "      <th>average_dollar_volume_120_day</th>\n",
       "      <th>market_dispersion20_day</th>\n",
       "      <th>market_dispersion120_day</th>\n",
       "      <th>market_volatility20_day</th>\n",
       "      <th>market_volatility120_day</th>\n",
       "      <th>5Day2Quant</th>\n",
       "      <th>target</th>\n",
       "      <th>target_1</th>\n",
       "      <th>target_2</th>\n",
       "      <th>target_3</th>\n",
       "      <th>target_4</th>\n",
       "    </tr>\n",
       "    <tr>\n",
       "      <th>date</th>\n",
       "      <th>ticker</th>\n",
       "      <th></th>\n",
       "      <th></th>\n",
       "      <th></th>\n",
       "      <th></th>\n",
       "      <th></th>\n",
       "      <th></th>\n",
       "      <th></th>\n",
       "      <th></th>\n",
       "      <th></th>\n",
       "      <th></th>\n",
       "      <th></th>\n",
       "      <th></th>\n",
       "      <th></th>\n",
       "      <th></th>\n",
       "      <th></th>\n",
       "      <th></th>\n",
       "      <th></th>\n",
       "    </tr>\n",
       "  </thead>\n",
       "  <tbody>\n",
       "    <tr>\n",
       "      <th rowspan=\"5\" valign=\"top\">2017-11-09 00:00:00+00:00</th>\n",
       "      <th>A</th>\n",
       "      <td>1.084521</td>\n",
       "      <td>-0.290000</td>\n",
       "      <td>0.687261</td>\n",
       "      <td>-0.965345</td>\n",
       "      <td>-1.132194</td>\n",
       "      <td>-0.870002</td>\n",
       "      <td>-0.576029</td>\n",
       "      <td>0.015676</td>\n",
       "      <td>0.012825</td>\n",
       "      <td>0.037593</td>\n",
       "      <td>0.046904</td>\n",
       "      <td>0</td>\n",
       "      <td>1.0</td>\n",
       "      <td>0.0</td>\n",
       "      <td>0.0</td>\n",
       "      <td>0.0</td>\n",
       "      <td>0.0</td>\n",
       "    </tr>\n",
       "    <tr>\n",
       "      <th>AAP</th>\n",
       "      <td>-1.712193</td>\n",
       "      <td>1.616850</td>\n",
       "      <td>-0.488630</td>\n",
       "      <td>0.973290</td>\n",
       "      <td>1.163975</td>\n",
       "      <td>0.019863</td>\n",
       "      <td>0.623700</td>\n",
       "      <td>0.015676</td>\n",
       "      <td>0.012825</td>\n",
       "      <td>0.037593</td>\n",
       "      <td>0.046904</td>\n",
       "      <td>0</td>\n",
       "      <td>1.0</td>\n",
       "      <td>1.0</td>\n",
       "      <td>1.0</td>\n",
       "      <td>1.0</td>\n",
       "      <td>0.0</td>\n",
       "    </tr>\n",
       "    <tr>\n",
       "      <th>ABBV</th>\n",
       "      <td>1.227535</td>\n",
       "      <td>-0.981233</td>\n",
       "      <td>1.251370</td>\n",
       "      <td>0.576029</td>\n",
       "      <td>1.084523</td>\n",
       "      <td>1.434113</td>\n",
       "      <td>1.338770</td>\n",
       "      <td>0.015676</td>\n",
       "      <td>0.012825</td>\n",
       "      <td>0.037593</td>\n",
       "      <td>0.046904</td>\n",
       "      <td>1</td>\n",
       "      <td>0.0</td>\n",
       "      <td>0.0</td>\n",
       "      <td>1.0</td>\n",
       "      <td>1.0</td>\n",
       "      <td>1.0</td>\n",
       "    </tr>\n",
       "    <tr>\n",
       "      <th>ABC</th>\n",
       "      <td>-1.299042</td>\n",
       "      <td>1.052740</td>\n",
       "      <td>1.505617</td>\n",
       "      <td>1.211647</td>\n",
       "      <td>1.410277</td>\n",
       "      <td>0.266165</td>\n",
       "      <td>-0.210548</td>\n",
       "      <td>0.015676</td>\n",
       "      <td>0.012825</td>\n",
       "      <td>0.037593</td>\n",
       "      <td>0.046904</td>\n",
       "      <td>1</td>\n",
       "      <td>1.0</td>\n",
       "      <td>1.0</td>\n",
       "      <td>1.0</td>\n",
       "      <td>1.0</td>\n",
       "      <td>1.0</td>\n",
       "    </tr>\n",
       "    <tr>\n",
       "      <th>ABMD</th>\n",
       "      <td>1.600960</td>\n",
       "      <td>-1.457946</td>\n",
       "      <td>0.885891</td>\n",
       "      <td>-0.083425</td>\n",
       "      <td>-0.194658</td>\n",
       "      <td>-1.156030</td>\n",
       "      <td>-1.362606</td>\n",
       "      <td>0.015676</td>\n",
       "      <td>0.012825</td>\n",
       "      <td>0.037593</td>\n",
       "      <td>0.046904</td>\n",
       "      <td>1</td>\n",
       "      <td>0.0</td>\n",
       "      <td>0.0</td>\n",
       "      <td>0.0</td>\n",
       "      <td>0.0</td>\n",
       "      <td>1.0</td>\n",
       "    </tr>\n",
       "  </tbody>\n",
       "</table>\n",
       "</div>"
      ],
      "text/plain": [
       "                                  momentum_252_day_logret  \\\n",
       "date                      ticker                            \n",
       "2017-11-09 00:00:00+00:00 A                      1.084521   \n",
       "                          AAP                   -1.712193   \n",
       "                          ABBV                   1.227535   \n",
       "                          ABC                   -1.299042   \n",
       "                          ABMD                   1.600960   \n",
       "\n",
       "                                  mean_reversion_5_day_logret_smoothed  \\\n",
       "date                      ticker                                         \n",
       "2017-11-09 00:00:00+00:00 A                                  -0.290000   \n",
       "                          AAP                                 1.616850   \n",
       "                          ABBV                               -0.981233   \n",
       "                          ABC                                 1.052740   \n",
       "                          ABMD                               -1.457946   \n",
       "\n",
       "                                  overnight_sentiment_5_day_smoothed  \\\n",
       "date                      ticker                                       \n",
       "2017-11-09 00:00:00+00:00 A                                 0.687261   \n",
       "                          AAP                              -0.488630   \n",
       "                          ABBV                              1.251370   \n",
       "                          ABC                               1.505617   \n",
       "                          ABMD                              0.885891   \n",
       "\n",
       "                                  annualzed_volatility_20_day  \\\n",
       "date                      ticker                                \n",
       "2017-11-09 00:00:00+00:00 A                         -0.965345   \n",
       "                          AAP                        0.973290   \n",
       "                          ABBV                       0.576029   \n",
       "                          ABC                        1.211647   \n",
       "                          ABMD                      -0.083425   \n",
       "\n",
       "                                  annualzed_volatility_120_day  \\\n",
       "date                      ticker                                 \n",
       "2017-11-09 00:00:00+00:00 A                          -1.132194   \n",
       "                          AAP                         1.163975   \n",
       "                          ABBV                        1.084523   \n",
       "                          ABC                         1.410277   \n",
       "                          ABMD                       -0.194658   \n",
       "\n",
       "                                  average_dollar_volume_20_day  \\\n",
       "date                      ticker                                 \n",
       "2017-11-09 00:00:00+00:00 A                          -0.870002   \n",
       "                          AAP                         0.019863   \n",
       "                          ABBV                        1.434113   \n",
       "                          ABC                         0.266165   \n",
       "                          ABMD                       -1.156030   \n",
       "\n",
       "                                  average_dollar_volume_120_day  \\\n",
       "date                      ticker                                  \n",
       "2017-11-09 00:00:00+00:00 A                           -0.576029   \n",
       "                          AAP                          0.623700   \n",
       "                          ABBV                         1.338770   \n",
       "                          ABC                         -0.210548   \n",
       "                          ABMD                        -1.362606   \n",
       "\n",
       "                                  market_dispersion20_day  \\\n",
       "date                      ticker                            \n",
       "2017-11-09 00:00:00+00:00 A                      0.015676   \n",
       "                          AAP                    0.015676   \n",
       "                          ABBV                   0.015676   \n",
       "                          ABC                    0.015676   \n",
       "                          ABMD                   0.015676   \n",
       "\n",
       "                                  market_dispersion120_day  \\\n",
       "date                      ticker                             \n",
       "2017-11-09 00:00:00+00:00 A                       0.012825   \n",
       "                          AAP                     0.012825   \n",
       "                          ABBV                    0.012825   \n",
       "                          ABC                     0.012825   \n",
       "                          ABMD                    0.012825   \n",
       "\n",
       "                                  market_volatility20_day  \\\n",
       "date                      ticker                            \n",
       "2017-11-09 00:00:00+00:00 A                      0.037593   \n",
       "                          AAP                    0.037593   \n",
       "                          ABBV                   0.037593   \n",
       "                          ABC                    0.037593   \n",
       "                          ABMD                   0.037593   \n",
       "\n",
       "                                  market_volatility120_day  5Day2Quant  \\\n",
       "date                      ticker                                         \n",
       "2017-11-09 00:00:00+00:00 A                       0.046904           0   \n",
       "                          AAP                     0.046904           0   \n",
       "                          ABBV                    0.046904           1   \n",
       "                          ABC                     0.046904           1   \n",
       "                          ABMD                    0.046904           1   \n",
       "\n",
       "                                  target  target_1  target_2  target_3  \\\n",
       "date                      ticker                                         \n",
       "2017-11-09 00:00:00+00:00 A          1.0       0.0       0.0       0.0   \n",
       "                          AAP        1.0       1.0       1.0       1.0   \n",
       "                          ABBV       0.0       0.0       1.0       1.0   \n",
       "                          ABC        1.0       1.0       1.0       1.0   \n",
       "                          ABMD       0.0       0.0       0.0       0.0   \n",
       "\n",
       "                                  target_4  \n",
       "date                      ticker            \n",
       "2017-11-09 00:00:00+00:00 A            0.0  \n",
       "                          AAP          0.0  \n",
       "                          ABBV         1.0  \n",
       "                          ABC          1.0  \n",
       "                          ABMD         1.0  "
      ]
     },
     "execution_count": 17,
     "metadata": {},
     "output_type": "execute_result"
    }
   ],
   "source": [
    "all_factors = pd.read_csv('data/factor_features_data.csv', parse_dates=['date'])\n",
    "all_factors.set_index(['date', 'ticker'], inplace=True)\n",
    "all_factors.sort_index(inplace=True)\n",
    "all_factors.head()"
   ]
  },
  {
   "cell_type": "code",
   "execution_count": 18,
   "metadata": {
    "pycharm": {
     "name": "#%%\n"
    }
   },
   "outputs": [
    {
     "data": {
      "text/plain": [
       "array(['momentum_252_day_logret', 'mean_reversion_5_day_logret_smoothed',\n",
       "       'overnight_sentiment_5_day_smoothed',\n",
       "       'annualzed_volatility_20_day', 'annualzed_volatility_120_day',\n",
       "       'average_dollar_volume_20_day', 'average_dollar_volume_120_day',\n",
       "       'market_dispersion20_day', 'market_dispersion120_day',\n",
       "       'market_volatility20_day', 'market_volatility120_day',\n",
       "       '5Day2Quant', 'target', 'target_1', 'target_2', 'target_3',\n",
       "       'target_4'], dtype=object)"
      ]
     },
     "execution_count": 18,
     "metadata": {},
     "output_type": "execute_result"
    }
   ],
   "source": [
    "all_factors.columns.values"
   ]
  },
  {
   "cell_type": "code",
   "execution_count": 19,
   "metadata": {
    "pycharm": {
     "name": "#%%\n"
    }
   },
   "outputs": [
    {
     "ename": "KeyError",
     "evalue": "\"['month_start', 'quarter_start', 'quarter_end', 'month_end', 'weekday', 'year', 'is_December', 'quarter', 'is_January'] not in index\"",
     "output_type": "error",
     "traceback": [
      "\u001B[1;31m---------------------------------------------------------------------------\u001B[0m",
      "\u001B[1;31mKeyError\u001B[0m                                  Traceback (most recent call last)",
      "\u001B[1;32m<ipython-input-19-10906099b305>\u001B[0m in \u001B[0;36m<module>\u001B[1;34m\u001B[0m\n\u001B[0;32m     14\u001B[0m \u001B[1;33m\u001B[0m\u001B[0m\n\u001B[0;32m     15\u001B[0m \u001B[0mtemp\u001B[0m \u001B[1;33m=\u001B[0m \u001B[0mall_factors\u001B[0m\u001B[1;33m.\u001B[0m\u001B[0mdropna\u001B[0m\u001B[1;33m(\u001B[0m\u001B[1;33m)\u001B[0m\u001B[1;33m.\u001B[0m\u001B[0mcopy\u001B[0m\u001B[1;33m(\u001B[0m\u001B[1;33m)\u001B[0m\u001B[1;33m\u001B[0m\u001B[1;33m\u001B[0m\u001B[0m\n\u001B[1;32m---> 16\u001B[1;33m \u001B[0mX\u001B[0m \u001B[1;33m=\u001B[0m \u001B[0mtemp\u001B[0m\u001B[1;33m[\u001B[0m\u001B[0mfeatures\u001B[0m\u001B[1;33m]\u001B[0m\u001B[1;33m\u001B[0m\u001B[1;33m\u001B[0m\u001B[0m\n\u001B[0m\u001B[0;32m     17\u001B[0m \u001B[0my\u001B[0m \u001B[1;33m=\u001B[0m \u001B[0mtemp\u001B[0m\u001B[1;33m[\u001B[0m\u001B[0mtarget_label\u001B[0m\u001B[1;33m]\u001B[0m\u001B[1;33m\u001B[0m\u001B[1;33m\u001B[0m\u001B[0m\n\u001B[0;32m     18\u001B[0m \u001B[1;33m\u001B[0m\u001B[0m\n",
      "\u001B[1;32m~\\anaconda3\\envs\\ai_for_trading\\lib\\site-packages\\pandas\\core\\frame.py\u001B[0m in \u001B[0;36m__getitem__\u001B[1;34m(self, key)\u001B[0m\n\u001B[0;32m   2999\u001B[0m             \u001B[1;32mif\u001B[0m \u001B[0mis_iterator\u001B[0m\u001B[1;33m(\u001B[0m\u001B[0mkey\u001B[0m\u001B[1;33m)\u001B[0m\u001B[1;33m:\u001B[0m\u001B[1;33m\u001B[0m\u001B[1;33m\u001B[0m\u001B[0m\n\u001B[0;32m   3000\u001B[0m                 \u001B[0mkey\u001B[0m \u001B[1;33m=\u001B[0m \u001B[0mlist\u001B[0m\u001B[1;33m(\u001B[0m\u001B[0mkey\u001B[0m\u001B[1;33m)\u001B[0m\u001B[1;33m\u001B[0m\u001B[1;33m\u001B[0m\u001B[0m\n\u001B[1;32m-> 3001\u001B[1;33m             \u001B[0mindexer\u001B[0m \u001B[1;33m=\u001B[0m \u001B[0mself\u001B[0m\u001B[1;33m.\u001B[0m\u001B[0mloc\u001B[0m\u001B[1;33m.\u001B[0m\u001B[0m_convert_to_indexer\u001B[0m\u001B[1;33m(\u001B[0m\u001B[0mkey\u001B[0m\u001B[1;33m,\u001B[0m \u001B[0maxis\u001B[0m\u001B[1;33m=\u001B[0m\u001B[1;36m1\u001B[0m\u001B[1;33m,\u001B[0m \u001B[0mraise_missing\u001B[0m\u001B[1;33m=\u001B[0m\u001B[1;32mTrue\u001B[0m\u001B[1;33m)\u001B[0m\u001B[1;33m\u001B[0m\u001B[1;33m\u001B[0m\u001B[0m\n\u001B[0m\u001B[0;32m   3002\u001B[0m \u001B[1;33m\u001B[0m\u001B[0m\n\u001B[0;32m   3003\u001B[0m         \u001B[1;31m# take() does not accept boolean indexers\u001B[0m\u001B[1;33m\u001B[0m\u001B[1;33m\u001B[0m\u001B[1;33m\u001B[0m\u001B[0m\n",
      "\u001B[1;32m~\\anaconda3\\envs\\ai_for_trading\\lib\\site-packages\\pandas\\core\\indexing.py\u001B[0m in \u001B[0;36m_convert_to_indexer\u001B[1;34m(self, obj, axis, is_setter, raise_missing)\u001B[0m\n\u001B[0;32m   1283\u001B[0m                 \u001B[1;31m# When setting, missing keys are not allowed, even with .loc:\u001B[0m\u001B[1;33m\u001B[0m\u001B[1;33m\u001B[0m\u001B[1;33m\u001B[0m\u001B[0m\n\u001B[0;32m   1284\u001B[0m                 \u001B[0mkwargs\u001B[0m \u001B[1;33m=\u001B[0m \u001B[1;33m{\u001B[0m\u001B[1;34m\"raise_missing\"\u001B[0m\u001B[1;33m:\u001B[0m \u001B[1;32mTrue\u001B[0m \u001B[1;32mif\u001B[0m \u001B[0mis_setter\u001B[0m \u001B[1;32melse\u001B[0m \u001B[0mraise_missing\u001B[0m\u001B[1;33m}\u001B[0m\u001B[1;33m\u001B[0m\u001B[1;33m\u001B[0m\u001B[0m\n\u001B[1;32m-> 1285\u001B[1;33m                 \u001B[1;32mreturn\u001B[0m \u001B[0mself\u001B[0m\u001B[1;33m.\u001B[0m\u001B[0m_get_listlike_indexer\u001B[0m\u001B[1;33m(\u001B[0m\u001B[0mobj\u001B[0m\u001B[1;33m,\u001B[0m \u001B[0maxis\u001B[0m\u001B[1;33m,\u001B[0m \u001B[1;33m**\u001B[0m\u001B[0mkwargs\u001B[0m\u001B[1;33m)\u001B[0m\u001B[1;33m[\u001B[0m\u001B[1;36m1\u001B[0m\u001B[1;33m]\u001B[0m\u001B[1;33m\u001B[0m\u001B[1;33m\u001B[0m\u001B[0m\n\u001B[0m\u001B[0;32m   1286\u001B[0m         \u001B[1;32melse\u001B[0m\u001B[1;33m:\u001B[0m\u001B[1;33m\u001B[0m\u001B[1;33m\u001B[0m\u001B[0m\n\u001B[0;32m   1287\u001B[0m             \u001B[1;32mtry\u001B[0m\u001B[1;33m:\u001B[0m\u001B[1;33m\u001B[0m\u001B[1;33m\u001B[0m\u001B[0m\n",
      "\u001B[1;32m~\\anaconda3\\envs\\ai_for_trading\\lib\\site-packages\\pandas\\core\\indexing.py\u001B[0m in \u001B[0;36m_get_listlike_indexer\u001B[1;34m(self, key, axis, raise_missing)\u001B[0m\n\u001B[0;32m   1089\u001B[0m             \u001B[0mkeyarr\u001B[0m\u001B[1;33m,\u001B[0m \u001B[0mindexer\u001B[0m\u001B[1;33m,\u001B[0m \u001B[0mnew_indexer\u001B[0m \u001B[1;33m=\u001B[0m \u001B[0max\u001B[0m\u001B[1;33m.\u001B[0m\u001B[0m_reindex_non_unique\u001B[0m\u001B[1;33m(\u001B[0m\u001B[0mkeyarr\u001B[0m\u001B[1;33m)\u001B[0m\u001B[1;33m\u001B[0m\u001B[1;33m\u001B[0m\u001B[0m\n\u001B[0;32m   1090\u001B[0m \u001B[1;33m\u001B[0m\u001B[0m\n\u001B[1;32m-> 1091\u001B[1;33m         self._validate_read_indexer(\n\u001B[0m\u001B[0;32m   1092\u001B[0m             \u001B[0mkeyarr\u001B[0m\u001B[1;33m,\u001B[0m \u001B[0mindexer\u001B[0m\u001B[1;33m,\u001B[0m \u001B[0mo\u001B[0m\u001B[1;33m.\u001B[0m\u001B[0m_get_axis_number\u001B[0m\u001B[1;33m(\u001B[0m\u001B[0maxis\u001B[0m\u001B[1;33m)\u001B[0m\u001B[1;33m,\u001B[0m \u001B[0mraise_missing\u001B[0m\u001B[1;33m=\u001B[0m\u001B[0mraise_missing\u001B[0m\u001B[1;33m\u001B[0m\u001B[1;33m\u001B[0m\u001B[0m\n\u001B[0;32m   1093\u001B[0m         )\n",
      "\u001B[1;32m~\\anaconda3\\envs\\ai_for_trading\\lib\\site-packages\\pandas\\core\\indexing.py\u001B[0m in \u001B[0;36m_validate_read_indexer\u001B[1;34m(self, key, indexer, axis, raise_missing)\u001B[0m\n\u001B[0;32m   1183\u001B[0m             \u001B[1;32mif\u001B[0m \u001B[1;32mnot\u001B[0m \u001B[1;33m(\u001B[0m\u001B[0mself\u001B[0m\u001B[1;33m.\u001B[0m\u001B[0mname\u001B[0m \u001B[1;33m==\u001B[0m \u001B[1;34m\"loc\"\u001B[0m \u001B[1;32mand\u001B[0m \u001B[1;32mnot\u001B[0m \u001B[0mraise_missing\u001B[0m\u001B[1;33m)\u001B[0m\u001B[1;33m:\u001B[0m\u001B[1;33m\u001B[0m\u001B[1;33m\u001B[0m\u001B[0m\n\u001B[0;32m   1184\u001B[0m                 \u001B[0mnot_found\u001B[0m \u001B[1;33m=\u001B[0m \u001B[0mlist\u001B[0m\u001B[1;33m(\u001B[0m\u001B[0mset\u001B[0m\u001B[1;33m(\u001B[0m\u001B[0mkey\u001B[0m\u001B[1;33m)\u001B[0m \u001B[1;33m-\u001B[0m \u001B[0mset\u001B[0m\u001B[1;33m(\u001B[0m\u001B[0max\u001B[0m\u001B[1;33m)\u001B[0m\u001B[1;33m)\u001B[0m\u001B[1;33m\u001B[0m\u001B[1;33m\u001B[0m\u001B[0m\n\u001B[1;32m-> 1185\u001B[1;33m                 \u001B[1;32mraise\u001B[0m \u001B[0mKeyError\u001B[0m\u001B[1;33m(\u001B[0m\u001B[1;34m\"{} not in index\"\u001B[0m\u001B[1;33m.\u001B[0m\u001B[0mformat\u001B[0m\u001B[1;33m(\u001B[0m\u001B[0mnot_found\u001B[0m\u001B[1;33m)\u001B[0m\u001B[1;33m)\u001B[0m\u001B[1;33m\u001B[0m\u001B[1;33m\u001B[0m\u001B[0m\n\u001B[0m\u001B[0;32m   1186\u001B[0m \u001B[1;33m\u001B[0m\u001B[0m\n\u001B[0;32m   1187\u001B[0m             \u001B[1;31m# we skip the warning on Categorical/Interval\u001B[0m\u001B[1;33m\u001B[0m\u001B[1;33m\u001B[0m\u001B[1;33m\u001B[0m\u001B[0m\n",
      "\u001B[1;31mKeyError\u001B[0m: \"['month_start', 'quarter_start', 'quarter_end', 'month_end', 'weekday', 'year', 'is_December', 'quarter', 'is_January'] not in index\""
     ]
    }
   ],
   "source": [
    "import utils\n",
    "importlib.reload(utils)\n",
    "\n",
    "features = ['momentum_252_day_logret', 'mean_reversion_5_day_logret_smoothed',\n",
    "       'overnight_sentiment_5_day_smoothed',\n",
    "       'annualzed_volatility_20_day', 'annualzed_volatility_120_day',\n",
    "       'average_dollar_volume_20_day', 'average_dollar_volume_120_day',\n",
    "       'market_dispersion20_day', 'market_dispersion120_day',\n",
    "       'market_volatility20_day', 'market_volatility120_day',\n",
    "       'is_January', 'is_December', 'weekday', 'quarter', 'year',\n",
    "       'month_start', 'month_end', 'quarter_start', 'quarter_end']\n",
    "\n",
    "target_label = 'target'\n",
    "\n",
    "temp = all_factors.dropna().copy()\n",
    "X = temp[features]\n",
    "y = temp[target_label]\n",
    "\n",
    "X_train, X_valid, X_test, y_train, y_valid, y_test = utils.train_valid_test_split(X, y, 0.6, 0.2, 0.2)\n",
    "\n",
    "X_train.head()"
   ]
  },
  {
   "cell_type": "code",
   "execution_count": null,
   "metadata": {
    "pycharm": {
     "name": "#%%\n"
    }
   },
   "outputs": [],
   "source": [
    "from IPython.display import display\n",
    "from sklearn.tree import DecisionTreeClassifier\n",
    "import utils\n",
    "importlib.reload(utils)\n",
    "\n",
    "\n",
    "# This is to get consistent results between each run.\n",
    "clf_random_state = 0\n",
    "\n",
    "simple_clf = DecisionTreeClassifier(\n",
    "    max_depth=3,\n",
    "    criterion='entropy',\n",
    "    random_state=clf_random_state)\n",
    "simple_clf.fit(X_train, y_train)\n",
    "\n",
    "display(utils.plot_tree_classifier(simple_clf, feature_names=features))\n",
    "utils.rank_features_by_importance(simple_clf.feature_importances_, features)"
   ]
  },
  {
   "cell_type": "markdown",
   "metadata": {
    "pycharm": {
     "name": "#%% md\n"
    }
   },
   "source": [
    "### Train Random Forests with Different Tree Sizes\n",
    "Let's build models using different tree sizes to find the model that best generalizes.\n",
    "#### Parameters\n",
    "When building the models, we'll use the following parameters."
   ]
  },
  {
   "cell_type": "code",
   "execution_count": null,
   "metadata": {
    "pycharm": {
     "name": "#%%\n"
    }
   },
   "outputs": [],
   "source": [
    "n_days = 10\n",
    "n_stocks = len(set(all_factors.index.get_level_values(level='ticker').values))\n",
    "\n",
    "clf_parameters = {\n",
    "    'criterion': 'entropy',\n",
    "    'min_samples_leaf': n_stocks * n_days,\n",
    "    'oob_score': True,\n",
    "    'n_jobs': -1,\n",
    "    'random_state': clf_random_state}\n",
    "n_trees_l = [50, 100, 250, 500, 1000]"
   ]
  },
  {
   "cell_type": "code",
   "execution_count": null,
   "metadata": {
    "pycharm": {
     "name": "#%%\n"
    }
   },
   "outputs": [],
   "source": [
    "from sklearn.ensemble import RandomForestClassifier\n",
    "\n",
    "train_score = []\n",
    "valid_score = []\n",
    "oob_score = []\n",
    "feature_importances = []\n",
    "\n",
    "for n_trees in tqdm(n_trees_l, desc='Training Models', unit='Model'):\n",
    "    clf = RandomForestClassifier(n_trees, **clf_parameters)\n",
    "    clf.fit(X_train, y_train)\n",
    "    \n",
    "    train_score.append(clf.score(X_train, y_train.values))\n",
    "    valid_score.append(clf.score(X_valid, y_valid.values))\n",
    "    oob_score.append(clf.oob_score_)\n",
    "    feature_importances.append(clf.feature_importances_)"
   ]
  },
  {
   "cell_type": "code",
   "execution_count": null,
   "metadata": {
    "pycharm": {
     "name": "#%%\n"
    }
   },
   "outputs": [],
   "source": [
    "utils.plot_results(n_trees_l, train_score, oob_score, valid_score, ['train', 'oob', 'validation'], 'Random Forest Accuracy', 'Number of Trees')"
   ]
  },
  {
   "cell_type": "code",
   "execution_count": null,
   "metadata": {
    "pycharm": {
     "name": "#%%\n"
    }
   },
   "outputs": [],
   "source": [
    "print('Features Ranked by Average Importance:\\n')\n",
    "ranked_features = utils.rank_features_by_importance(np.average(feature_importances, axis=0), features)"
   ]
  },
  {
   "cell_type": "code",
   "execution_count": null,
   "metadata": {
    "pycharm": {
     "name": "#%%\n"
    }
   },
   "outputs": [],
   "source": [
    "ranked_features"
   ]
  },
  {
   "cell_type": "code",
   "execution_count": null,
   "metadata": {
    "pycharm": {
     "name": "#%%\n"
    }
   },
   "outputs": [],
   "source": [
    "import abc\n",
    "\n",
    "from sklearn.ensemble import VotingClassifier\n",
    "from sklearn.base import clone\n",
    "from sklearn.preprocessing import LabelEncoder\n",
    "from sklearn.utils import Bunch\n",
    "\n",
    "\n",
    "class NoOverlapVoterAbstract(VotingClassifier):\n",
    "    @abc.abstractmethod\n",
    "    def _calculate_oob_score(self, classifiers):\n",
    "        raise NotImplementedError\n",
    "        \n",
    "    @abc.abstractmethod\n",
    "    def _non_overlapping_estimators(self, x, y, classifiers, n_skip_samples):\n",
    "        raise NotImplementedError\n",
    "    \n",
    "    def __init__(self, estimator, voting='soft', n_skip_samples=4):\n",
    "        # List of estimators for all the subsets of data\n",
    "        self.estimator = estimator\n",
    "        estimators = [('clf'+str(i), estimator) for i in range(n_skip_samples + 1)]\n",
    "        \n",
    "        self.n_skip_samples = n_skip_samples\n",
    "        super().__init__(estimators, voting)\n",
    "    \n",
    "    def fit(self, X, y, sample_weight=None):\n",
    "        estimator_names, clfs = zip(*self.estimators)\n",
    "        self.le_ = LabelEncoder().fit(y)\n",
    "        self.classes_ = self.le_.classes_\n",
    "        \n",
    "        clone_clfs = [clone(clf) for clf in clfs]\n",
    "        self.estimators_ = self._non_overlapping_estimators(X, y, clone_clfs, self.n_skip_samples)\n",
    "        self.named_estimators_ = Bunch(**dict(zip(estimator_names, self.estimators_)))\n",
    "        self.oob_score_ = self._calculate_oob_score(self.estimators_)\n",
    "        \n",
    "        return self"
   ]
  },
  {
   "cell_type": "markdown",
   "metadata": {
    "pycharm": {
     "name": "#%% md\n"
    }
   },
   "source": [
    "#### Non Overlapping Estimators\n",
    "With `calculate_oob_score` implemented, let's create non overlapping estimators. Implement `non_overlapping_estimators` to build non overlapping subsets of the data, then run a estimator on each subset of data."
   ]
  },
  {
   "cell_type": "code",
   "execution_count": null,
   "metadata": {
    "pycharm": {
     "name": "#%%\n"
    }
   },
   "outputs": [],
   "source": [
    "class NoOverlapVoter(NoOverlapVoterAbstract):\n",
    "    def _calculate_oob_score(self, classifiers):\n",
    "        oob_scores = []\n",
    "        for classifier in classifiers:\n",
    "            oob_scores.append(classifier.oob_score_)\n",
    "\n",
    "        return np.mean(oob_scores)\n",
    "        \n",
    "    def _non_overlapping_estimators(self, x, y, classifiers, n_skip_samples):\n",
    "        fit_classifiers = []\n",
    "        for clf_idx in range(len(classifiers)):\n",
    "            x_samp, y_samp = utils.non_overlapping_samples(x, y, n_skip_samples, clf_idx)\n",
    "            fit_classifiers.append(classifiers[clf_idx].fit(x_samp, y_samp))\n",
    "\n",
    "        return fit_classifiers"
   ]
  },
  {
   "cell_type": "markdown",
   "metadata": {
    "pycharm": {
     "name": "#%% md\n"
    }
   },
   "source": [
    "Now that we have our `NoOverlapVoter` class, let's train it."
   ]
  },
  {
   "cell_type": "markdown",
   "metadata": {
    "pycharm": {
     "name": "#%% md\n"
    }
   },
   "source": [
    "#### Train Model"
   ]
  },
  {
   "cell_type": "code",
   "execution_count": null,
   "metadata": {
    "pycharm": {
     "name": "#%%\n"
    }
   },
   "outputs": [],
   "source": [
    "train_score = []\n",
    "valid_score = []\n",
    "oob_score = []\n",
    "\n",
    "for n_trees in tqdm(n_trees_l, desc='Training Models', unit='Model'):\n",
    "    clf = RandomForestClassifier(n_trees, **clf_parameters)\n",
    "    \n",
    "    clf_nov = NoOverlapVoter(clf)\n",
    "    clf_nov.fit(X_train, y_train)\n",
    "    \n",
    "    train_score.append(clf_nov.score(X_train, y_train.values))\n",
    "    valid_score.append(clf_nov.score(X_valid, y_valid.values))\n",
    "    oob_score.append(clf_nov.oob_score_)\n",
    "    \n",
    "utils.plot_results(n_trees_l, train_score, oob_score, valid_score, ['train', 'oob', 'validation'], 'No Overlapping Voter', 'Number of Trees')"
   ]
  },
  {
   "cell_type": "code",
   "execution_count": null,
   "metadata": {
    "pycharm": {
     "name": "#%%\n"
    }
   },
   "outputs": [],
   "source": [
    "import alphalens as al\n",
    "importlib.reload(al)\n",
    "import utils\n",
    "importlib.reload(utils)\n",
    "import trading_factors as alpha_factors\n",
    "importlib.reload(alpha_factors)\n",
    "print(al.__version__)\n",
    "\n",
    "all_assets = all_factors.index.levels[1].values.tolist()\n",
    "all_pricing = price_histories\n",
    "\n",
    "def show_sample_results(data, samples, classifier, factors, pricing=all_pricing):\n",
    "    # Calculate the Alpha Score\n",
    "    prob_array=[-1,1]\n",
    "    alpha_score = classifier.predict_proba(samples).dot(np.array(prob_array))\n",
    "    \n",
    "    # Add Alpha Score to rest of the factors\n",
    "    alpha_score_label = 'AI_ALPHA'\n",
    "    factors_with_alpha = data.loc[samples.index].copy().reset_index()\n",
    "    factors_with_alpha['date'] = pd.to_datetime(factors_with_alpha['date'])\n",
    "    factors_with_alpha.set_index(['date', 'ticker'], inplace=True)\n",
    "    factors_with_alpha[alpha_score_label] = alpha_score\n",
    "    \n",
    "    # Setup data for AlphaLens\n",
    "    print('Cleaning Data...\\n')\n",
    "    factor_data = alpha_factors.build_factor_data(factors_with_alpha[factors + [alpha_score_label]], pricing)\n",
    "    print('\\n-----------------------\\n')\n",
    "    \n",
    "    # Calculate Factor Returns and Sharpe Ratio\n",
    "    factor_returns = alpha_factors.get_factor_returns(factor_data)\n",
    "    sharpe_ratio = alpha_factors.sharpe_ratio(factor_returns)\n",
    "    \n",
    "    # Show Results\n",
    "    print('             Sharpe Ratios')\n",
    "    print(sharpe_ratio.round(2))\n",
    "    alpha_factors.plot_factor_returns(factor_returns)\n",
    "    alpha_factors.plot_factor_rank_autocorrelation(factor_data)"
   ]
  },
  {
   "cell_type": "code",
   "execution_count": null,
   "metadata": {
    "pycharm": {
     "name": "#%%\n"
    }
   },
   "outputs": [],
   "source": [
    "factor_names = [\n",
    "     'mean_reversion_5_day_logret_smoothed',\n",
    "     'momentum_252_day_logret',\n",
    "     'overnight_sentiment_5_day_smoothed',\n",
    "     'average_dollar_volume_120_day',\n",
    "     'annualzed_volatility_20_day'\n",
    "]\n"
   ]
  },
  {
   "cell_type": "code",
   "execution_count": null,
   "metadata": {
    "pycharm": {
     "name": "#%%\n"
    }
   },
   "outputs": [],
   "source": [
    "factor_names = [\n",
    "     'mean_reversion_5_day_logret_smoothed',\n",
    "     'momentum_252_day_logret',\n",
    "     'overnight_sentiment_5_day_smoothed',\n",
    "]"
   ]
  },
  {
   "cell_type": "code",
   "execution_count": null,
   "metadata": {
    "pycharm": {
     "name": "#%%\n"
    }
   },
   "outputs": [],
   "source": [
    "show_sample_results(all_factors.dropna(), X_train.dropna(), clf_nov, factor_names, pricing)"
   ]
  },
  {
   "cell_type": "code",
   "execution_count": null,
   "metadata": {
    "pycharm": {
     "name": "#%%\n"
    }
   },
   "outputs": [],
   "source": [
    "show_sample_results(all_factors, X_valid, clf_nov, factor_names, pricing)"
   ]
  },
  {
   "cell_type": "markdown",
   "metadata": {
    "pycharm": {
     "name": "#%% md\n"
    }
   },
   "source": [
    "## Final Model\n",
    "### Re-Training Model\n",
    "In production, we would roll forward the training. Typically you would re-train up to the \"current day\" and then test. Here, we will train on the train & validation dataset."
   ]
  },
  {
   "cell_type": "code",
   "execution_count": null,
   "metadata": {
    "pycharm": {
     "name": "#%%\n"
    }
   },
   "outputs": [],
   "source": [
    "for n_trees in tqdm([500], desc='Training Models', unit='Model'):\n",
    "    clf = RandomForestClassifier(n_trees, **clf_parameters)\n",
    "    \n",
    "    clf_nov = NoOverlapVoter(clf)\n",
    "    clf_nov.fit(\n",
    "        pd.concat([X_train, X_valid]),\n",
    "        pd.concat([y_train, y_valid]))"
   ]
  },
  {
   "cell_type": "code",
   "execution_count": null,
   "metadata": {
    "pycharm": {
     "name": "#%%\n"
    }
   },
   "outputs": [],
   "source": [
    "clf = RandomForestClassifier(500, **clf_parameters)\n",
    "\n",
    "clf_nov = NoOverlapVoter(clf)\n",
    "clf_nov.fit(\n",
    "    pd.concat([X_train, X_valid]),\n",
    "    pd.concat([y_train, y_valid]))"
   ]
  },
  {
   "cell_type": "markdown",
   "metadata": {
    "pycharm": {
     "name": "#%% md\n"
    }
   },
   "source": [
    "### Results\n",
    "#### Accuracy"
   ]
  },
  {
   "cell_type": "code",
   "execution_count": null,
   "metadata": {
    "pycharm": {
     "name": "#%%\n"
    }
   },
   "outputs": [],
   "source": [
    "print('train: {}, oob: {}, valid: {}'.format(\n",
    "    clf_nov.score(X_train, y_train.values),\n",
    "    clf_nov.score(X_valid, y_valid.values),\n",
    "    clf_nov.oob_score_))"
   ]
  },
  {
   "cell_type": "markdown",
   "metadata": {
    "pycharm": {
     "name": "#%% md\n"
    }
   },
   "source": [
    "#### Train"
   ]
  },
  {
   "cell_type": "code",
   "execution_count": null,
   "metadata": {
    "pycharm": {
     "name": "#%%\n"
    }
   },
   "outputs": [],
   "source": [
    "show_sample_results(all_factors, X_train, clf_nov, factor_names, pricing)"
   ]
  },
  {
   "cell_type": "markdown",
   "metadata": {
    "pycharm": {
     "name": "#%% md\n"
    }
   },
   "source": [
    "#### Validation"
   ]
  },
  {
   "cell_type": "code",
   "execution_count": null,
   "metadata": {
    "pycharm": {
     "name": "#%%\n"
    }
   },
   "outputs": [],
   "source": [
    "show_sample_results(all_factors, X_valid, clf_nov, factor_names, pricing)"
   ]
  },
  {
   "cell_type": "markdown",
   "metadata": {
    "pycharm": {
     "name": "#%% md\n"
    }
   },
   "source": [
    "#### Test"
   ]
  },
  {
   "cell_type": "code",
   "execution_count": null,
   "metadata": {
    "pycharm": {
     "name": "#%%\n"
    }
   },
   "outputs": [],
   "source": [
    "show_sample_results(all_factors, X_test, clf_nov, factor_names, pricing)"
   ]
  },
  {
   "cell_type": "markdown",
   "metadata": {
    "pycharm": {
     "name": "#%% md\n"
    }
   },
   "source": [
    "# Stopped here"
   ]
  },
  {
   "cell_type": "markdown",
   "metadata": {
    "pycharm": {
     "name": "#%% md\n"
    }
   },
   "source": [
    "# TODO\n",
    "\n",
    "- Use AI Alpha from top factors\n",
    "- Get daily Alpha/Beta/Idiosyncratic...\n",
    "- Compute optimization parameters\n",
    "- Init holdings\n",
    "- Run Backtests\n",
    "- Generate Portfolio"
   ]
  },
  {
   "cell_type": "markdown",
   "metadata": {
    "pycharm": {
     "name": "#%% md\n"
    }
   },
   "source": [
    "### View Data\n",
    "With the `OptimalHoldings` class implemented, let's see the weights it generates."
   ]
  },
  {
   "cell_type": "code",
   "execution_count": null,
   "metadata": {
    "pycharm": {
     "name": "#%%\n"
    }
   },
   "outputs": [],
   "source": [
    "optimal_weights = OptimalHoldings(risk_cap=0.05,weights_max=0.12, weights_min=-0.12).find(alpha_vector, risk_model.factor_betas_, risk_model.factor_cov_matrix_, risk_model.idiosyncratic_var_vector_)\n",
    "print(f'Old portfolio variance is:  {risk_model.compute_portfolio_variance(sotck_universe_weights):.8f}')\n",
    "print(f'New portfolio variance is:  {risk_model.compute_portfolio_variance(optimal_weights):.8f}')\n",
    "display((optimal_weights*100).round(2))\n",
    "optimal_weights.plot.bar(legend=None, title='Portfolio % Holdings by Stock')\n",
    "\n",
    "#x_axis = plt.axes().get_xaxis()\n",
    "#x_axis.set_visible(False)"
   ]
  },
  {
   "cell_type": "code",
   "execution_count": null,
   "metadata": {
    "pycharm": {
     "name": "#%%\n"
    }
   },
   "outputs": [],
   "source": [
    "investment_amount = portfun.get_account_value(stock_universe_values).round(2)\n",
    "print(f'Current investment amount: {investment_amount}')\n",
    "optimal_weights['amount'] = (optimal_weights['optimalWeights'] * investment_amount).round(0)\n",
    "optimal_weights['marketValue'] = stock_universe_values['marketValue']\n",
    "optimal_weights['buy/sell'] = (optimal_weights['marketValue'] - optimal_weights['amount']) * -1\n",
    "optimal_weights['close'] = pricing.iloc[-1]\n",
    "optimal_weights['existingShares'] = stock_universe_values['longQuantity']\n",
    "optimal_weights['deltaShares'] = (optimal_weights['buy/sell'] / optimal_weights['close']).round(0)\n",
    "optimal_weights['deltaMarketValue'] = (optimal_weights['deltaShares'] * optimal_weights['close'])\n",
    "optimal_weights['totalShares'] = (optimal_weights['existingShares'] + optimal_weights['deltaShares'])\n",
    "optimal_weights['totalMarketValue'] = (optimal_weights['totalShares'] * optimal_weights['close'])\n",
    "optimal_weights"
   ]
  },
  {
   "cell_type": "markdown",
   "metadata": {
    "pycharm": {
     "name": "#%% md\n"
    }
   },
   "source": [
    "## Think or Swim Simulator"
   ]
  },
  {
   "cell_type": "code",
   "execution_count": null,
   "metadata": {
    "pycharm": {
     "name": "#%%\n"
    }
   },
   "outputs": [],
   "source": [
    "optimal_weights[(optimal_weights['totalShares'] > 0) | (optimal_weights['deltaShares'] != 0)].round(2)"
   ]
  },
  {
   "cell_type": "code",
   "execution_count": null,
   "metadata": {
    "pycharm": {
     "name": "#%%\n"
    }
   },
   "outputs": [],
   "source": [
    "optimal_weights[(optimal_weights['totalShares'] <= 0) & (optimal_weights['deltaShares'] == 0)].round(2)"
   ]
  },
  {
   "cell_type": "code",
   "execution_count": null,
   "metadata": {
    "pycharm": {
     "name": "#%%\n"
    }
   },
   "outputs": [],
   "source": [
    "optimal_weights[(optimal_weights['totalShares'] > 0) | (optimal_weights['deltaShares'] != 0)][['deltaMarketValue', 'totalMarketValue']].sum().round(2)"
   ]
  }
 ],
 "metadata": {
  "kernelspec": {
   "display_name": "Python 3",
   "language": "python",
   "name": "python3"
  },
  "language_info": {
   "codemirror_mode": {
    "name": "ipython",
    "version": 3
   },
   "file_extension": ".py",
   "mimetype": "text/x-python",
   "name": "python",
   "nbconvert_exporter": "python",
   "pygments_lexer": "ipython3",
   "version": "3.8.8"
  }
 },
 "nbformat": 4,
 "nbformat_minor": 4
}