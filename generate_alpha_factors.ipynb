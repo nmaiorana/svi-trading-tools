{
 "cells": [
  {
   "cell_type": "markdown",
   "metadata": {},
   "source": [
    "# Portfolio Workflow"
   ]
  },
  {
   "cell_type": "code",
   "execution_count": 1,
   "metadata": {},
   "outputs": [
    {
     "name": "stdout",
     "output_type": "stream",
     "text": [
      "2022-04-23 17:37:56,866|numexpr.utils|INFO|NumExpr defaulting to 4 threads.\n",
      "2022-04-23 17:38:00,429|GenerateAlphaFactors|INFO|Python version: 3.8.8\n",
      "2022-04-23 17:38:00,430|GenerateAlphaFactors|INFO|Pandas version: 1.3.5\n"
     ]
    }
   ],
   "source": [
    "import logging\n",
    "import logging.config\n",
    "\n",
    "logging.config.fileConfig('./config/logging.ini')\n",
    "logger = logging.getLogger('GenerateAlphaFactors')\n",
    "\n",
    "import configparser\n",
    "from platform import python_version\n",
    "from pathlib import Path\n",
    "\n",
    "# Set the import path for the project tools directiory\n",
    "import sys\n",
    "# insert at position 1 in the path, as 0 is the path of this file.\n",
    "sys.path.insert(1, 'tools')\n",
    "\n",
    "# Project imports\n",
    "import importlib\n",
    "import trading_factors_yahoo as alpha_factors\n",
    "importlib.reload(alpha_factors)\n",
    "import utils\n",
    "importlib.reload(utils)\n",
    "\n",
    "import time\n",
    "from datetime import datetime\n",
    "import os\n",
    "import pandas as pd\n",
    "import numpy as np\n",
    "import math\n",
    "from tqdm.notebook import tqdm\n",
    "import matplotlib.pyplot as plt\n",
    "import pickle\n",
    "\n",
    "%matplotlib inline\n",
    "plt.style.use('ggplot')\n",
    "plt.rcParams['figure.figsize'] = (20, 8)\n",
    "\n",
    "logger.info(f'Python version: {python_version()}')\n",
    "logger.info(f'Pandas version: {pd.__version__}')"
   ]
  },
  {
   "cell_type": "code",
   "execution_count": 2,
   "metadata": {},
   "outputs": [],
   "source": [
    "config = configparser.ConfigParser()\n",
    "config.read('./config/config.ini')\n",
    "default_config = config[\"DEFAULT\"]"
   ]
  },
  {
   "cell_type": "markdown",
   "metadata": {},
   "source": [
    "# Price History data"
   ]
  },
  {
   "cell_type": "code",
   "execution_count": 3,
   "metadata": {},
   "outputs": [
    {
     "name": "stdout",
     "output_type": "stream",
     "text": [
      "2022-04-23 17:38:00,473|GenerateAlphaFactors|INFO|PRICE_HISTORIES_FILE|./data/price_histories_yahoo.csv...\n",
      "2022-04-23 17:38:01,366|GenerateAlphaFactors|INFO|PRICE_HISTORIES|2017-04-24 00:00:00|2022-04-22 00:00:00\n",
      "2022-04-23 17:38:01,367|GenerateAlphaFactors|INFO|Using 5 years of price history data to generate alpha factors.\n",
      "2022-04-23 17:38:01,382|GenerateAlphaFactors|INFO|PRICE_HISTORIES_ALPHA|2017-04-24 00:00:00|2022-04-22 00:00:00\n",
      "2022-04-23 17:38:01,384|GenerateAlphaFactors|INFO|STOCK_TICKERS|431\n",
      "2022-04-23 17:38:01,385|GenerateAlphaFactors|INFO|ALPHA_FACTORS_FILE|./data/all_factors.csv\n"
     ]
    }
   ],
   "source": [
    "price_histories_file_name = default_config[\"DataDirectory\"] + '/' + default_config[\"PriceHistoriesFileName\"]\n",
    "logger.info(f'PRICE_HISTORIES_FILE|{price_histories_file_name}...')\n",
    "price_histories = pd.read_csv(price_histories_file_name, header=[0, 1], index_col=[0], parse_dates=True, low_memory=False)\n",
    "logger.info(f'PRICE_HISTORIES|{price_histories.index.min()}|{price_histories.index.max()}')\n",
    "logger.info(f'Using {default_config[\"NumberOfYearsForAlpha\"]} years of price history data to generate alpha factors.')\n",
    "latest_date = price_histories.index.max() \n",
    "earliest_date = latest_date - pd.DateOffset(years=int(default_config[\"NumberOfYearsForAlpha\"]))\n",
    "price_histories = price_histories[(price_histories.index >= earliest_date) & (price_histories.index <= latest_date)]\n",
    "logger.info(f'PRICE_HISTORIES_ALPHA|{price_histories.index.min()}|{price_histories.index.max()}')\n",
    "close = price_histories.Close\n",
    "logger.info(f'STOCK_TICKERS|{len(close.columns)}')\n",
    "alpha_factors_file_name = default_config[\"DataDirectory\"] + '/' + default_config[\"AlphaFactorsFileName\"]"
   ]
  },
  {
   "cell_type": "markdown",
   "metadata": {},
   "source": [
    "# Stage 2a: Generate Alpha Factors using Stock Price History data\n",
    "\n",
    "- Compute custom apha factors\n",
    "- Save Alpha Factors"
   ]
  },
  {
   "cell_type": "code",
   "execution_count": 5,
   "metadata": {},
   "outputs": [
    {
     "name": "stdout",
     "output_type": "stream",
     "text": [
      "2022-04-23 17:40:05,727|GenerateAlphaFactors|INFO|Gathering snp500 stock ticker sector data...\n",
      "2022-04-23 17:40:06,482|GenerateAlphaFactors|INFO|Stock sector information gatherd.\n",
      "2022-04-23 17:40:06,638|GenerateAlphaFactors|INFO|Generate Momentum alpha factors...\n",
      "2022-04-23 17:40:06,761|GenerateAlphaFactors|INFO|Generate Trailing Overnight Returns alpha factors...\n",
      "2022-04-23 17:40:07,046|GenerateAlphaFactors|INFO|Mean Reversion alpha factors...\n",
      "2022-04-23 17:40:07,165|GenerateAlphaFactors|INFO|Annulized Volatility alpha factors...\n",
      "2022-04-23 17:40:07,333|GenerateAlphaFactors|INFO|Combining 4 alphas into one dataframe...\n",
      "2022-04-23 17:40:45,643|GenerateAlphaFactors|INFO|ALPHA_FACTORS_FILE|./data/all_factors.csv\n",
      "2022-04-23 17:40:49,464|GenerateAlphaFactors|INFO|Alpha factors saved.\n",
      "2022-04-23 17:40:49,464|GenerateAlphaFactors|INFO|ALPHA_FACTOR|momentum_252_day\n",
      "2022-04-23 17:40:49,464|GenerateAlphaFactors|INFO|ALPHA_FACTOR|trailing_overnight_returns_10_day_smoothed\n",
      "2022-04-23 17:40:49,464|GenerateAlphaFactors|INFO|ALPHA_FACTOR|mean_reversion_120_day_logret\n",
      "2022-04-23 17:40:49,464|GenerateAlphaFactors|INFO|ALPHA_FACTOR|annualzed_volatility_20_day\n"
     ]
    }
   ],
   "source": [
    "logger.info('Gathering snp500 stock ticker sector data...')\n",
    "snp_500_stocks = utils.get_snp500()\n",
    "sector_helper = alpha_factors.get_sector_helper(snp_500_stocks, 'GICS Sector', close.columns)\n",
    "logger.info(f'Stock sector information gatherd.')\n",
    "alpha_factors_list = []\n",
    "\n",
    "logger.info(f'Generate Momentum alpha factors...')\n",
    "alpha_factors_list.append(alpha_factors.FactorMomentum(price_histories, 252).demean(groupby=sector_helper.values()).rank().zscore().for_al())\n",
    "\n",
    "logger.info(f'Generate Trailing Overnight Returns alpha factors...')\n",
    "alpha_factors_list.append(alpha_factors.TrailingOvernightReturns(price_histories, 10).rank().zscore().smoothed(10).rank().zscore().for_al())\n",
    "\n",
    "logger.info(f'Mean Reversion alpha factors...')\n",
    "alpha_factors_list.append(alpha_factors.FactorMeanReversion(price_histories, 120).demean(groupby=sector_helper.values()).rank().zscore().for_al())\n",
    "\n",
    "logger.info(f'Annulized Volatility alpha factors...')\n",
    "alpha_factors_list.append(alpha_factors.AnnualizedVolatility(price_histories, 20).rank().zscore().for_al())\n",
    "\n",
    "logger.info(f'Combining {len(alpha_factors_list)} alphas into one dataframe...')\n",
    "all_factors = pd.concat(alpha_factors_list, axis=1)\n",
    "all_factors.sort_index(inplace=True)\n",
    "all_factors = all_factors.dropna()\n",
    "\n",
    "logger.info(f'ALPHA_FACTORS_FILE|{alpha_factors_file_name}')\n",
    "all_factors.to_csv(alpha_factors_file_name)\n",
    "logger.info('Alpha factors saved.')\n",
    "\n",
    "for alpha_factor in all_factors.columns:\n",
    "    logger.info(f'ALPHA_FACTOR|{alpha_factor}')"
   ]
  }
 ],
 "metadata": {
  "kernelspec": {
   "display_name": "Python [conda env:ml4t] *",
   "language": "python",
   "name": "conda-env-ml4t-py"
  },
  "language_info": {
   "codemirror_mode": {
    "name": "ipython",
    "version": 3
   },
   "file_extension": ".py",
   "mimetype": "text/x-python",
   "name": "python",
   "nbconvert_exporter": "python",
   "pygments_lexer": "ipython3",
   "version": "3.8.8"
  }
 },
 "nbformat": 4,
 "nbformat_minor": 4
}
