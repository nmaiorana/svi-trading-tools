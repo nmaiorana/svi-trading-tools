{
 "cells": [
  {
   "cell_type": "markdown",
   "metadata": {},
   "source": [
    "# Portfolio Workflow"
   ]
  },
  {
   "cell_type": "markdown",
   "metadata": {},
   "source": [
    "## Use the last week to determine current portfolio mix"
   ]
  },
  {
   "cell_type": "code",
   "execution_count": 1,
   "metadata": {},
   "outputs": [
    {
     "name": "stdout",
     "output_type": "stream",
     "text": [
      "2022-12-04 23:46:44,083|IndHoldingsAdjustement|INFO|Python version: 3.8.15\n",
      "2022-12-04 23:46:44,084|IndHoldingsAdjustement|INFO|Pandas version: 1.5.2\n"
     ]
    }
   ],
   "source": [
    "from platform import python_version\n",
    "import configparser\n",
    "import logging.config\n",
    "import pandas as pd\n",
    "import pickle\n",
    "import matplotlib.pyplot as plt\n",
    "from datetime import datetime\n",
    "import time\n",
    "import math\n",
    "\n",
    "import portfolio_optimizer\n",
    "from portfolio_optimizer import OptimalHoldings\n",
    "import trading_factors_yahoo as alpha_factors\n",
    "import ameritrade_functions as amc\n",
    "import utils as utils\n",
    "\n",
    "logging.config.fileConfig('./config/logging.ini')\n",
    "logger = logging.getLogger('IndHoldingsAdjustement')\n",
    "logger.info(f'Python version: {python_version()}')\n",
    "logger.info(f'Pandas version: {pd.__version__}')\n",
    "\n",
    "config = configparser.ConfigParser()\n",
    "config.read('./config/config.ini')\n",
    "default_config = config['IND']\n",
    "\n",
    "# Which account are we interested in\n",
    "masked_account_number = default_config['masked_account_number']\n",
    "account_portfolios_file_name = 'data/portfolio_data.csv'\n",
    "portfolio_file_name = 'data/portfolio_' + masked_account_number[-4:] + '.csv'\n",
    "price_histories_file_name = '../data/price_histories_yahoo.csv'"
   ]
  },
  {
   "cell_type": "code",
   "execution_count": 2,
   "metadata": {},
   "outputs": [
    {
     "name": "stdout",
     "output_type": "stream",
     "text": [
      "2022-12-04 23:46:44,105|IndHoldingsAdjustement|INFO|PRICE_HISTORIES_FILE|./data/price_histories_yahoo.csv...\n",
      "2022-12-04 23:46:45,246|IndHoldingsAdjustement|INFO|PRICE_HISTORIES|2017-12-04 00:00:00|2022-12-02 00:00:00\n",
      "2022-12-04 23:46:45,281|IndHoldingsAdjustement|INFO|AI_ALPHA_FACTORS_FILE|./data/alpha_vectors.csv\n",
      "2022-12-04 23:46:45,282|IndHoldingsAdjustement|INFO|BETA_FACTORS_FILE|./data/daily_beta.pickle\n",
      "2022-12-04 23:46:45,482|IndHoldingsAdjustement|INFO|ALPHA_STOCKS|501\n"
     ]
    }
   ],
   "source": [
    "price_histories_file_name = default_config[\"DataDirectory\"] + '/' + default_config[\"PriceHistoriesFileName\"]\n",
    "logger.info(f'PRICE_HISTORIES_FILE|{price_histories_file_name}...')\n",
    "price_histories = pd.read_csv(price_histories_file_name, header=[0, 1], index_col=[0], parse_dates=True, low_memory=False)\n",
    "logger.info(f'PRICE_HISTORIES|{price_histories.index.min()}|{price_histories.index.max()}')\n",
    "returns = alpha_factors.FactorReturns(price_histories).factor_data\n",
    "\n",
    "ai_alpha_factors_file_name = default_config['DataDirectory'] + '/' + default_config['AIAlphaFileName']\n",
    "logger.info(f'AI_ALPHA_FACTORS_FILE|{ai_alpha_factors_file_name}')\n",
    "\n",
    "beta_factors_file_name = default_config[\"DataDirectory\"] + '/' + default_config[\"BetaFactorsFileName\"]\n",
    "logger.info(f'BETA_FACTORS_FILE|{beta_factors_file_name}')\n",
    "\n",
    "alpha_vectors = pd.read_csv(ai_alpha_factors_file_name, parse_dates=['Date']).set_index(['Date']).sort_index()\n",
    "logger.info(f'ALPHA_STOCKS|{len(alpha_vectors.columns)}')"
   ]
  },
  {
   "cell_type": "code",
   "execution_count": 3,
   "metadata": {},
   "outputs": [
    {
     "name": "stdout",
     "output_type": "stream",
     "text": [
      "2022-12-04 23:46:45,503|IndHoldingsAdjustement|INFO|OPTIMIZATION|risk_cap|0.018\n",
      "2022-12-04 23:46:45,503|IndHoldingsAdjustement|INFO|OPTIMIZATION|weights_max|0.3\n",
      "2022-12-04 23:46:45,504|IndHoldingsAdjustement|INFO|OPTIMIZATION|weights_min|0.0\n"
     ]
    }
   ],
   "source": [
    "risk_cap = float(default_config['risk_cap'])\n",
    "weights_max = float(default_config['weights_max'])\n",
    "weights_min = float(default_config['weights_min'])\n",
    "logger.info(f'OPTIMIZATION|risk_cap|{risk_cap}')\n",
    "logger.info(f'OPTIMIZATION|weights_max|{weights_max}')\n",
    "logger.info(f'OPTIMIZATION|weights_min|{weights_min}')"
   ]
  },
  {
   "cell_type": "code",
   "execution_count": 4,
   "metadata": {},
   "outputs": [
    {
     "data": {
      "application/vnd.jupyter.widget-view+json": {
       "model_id": "e8a5da15919d4b7c99fdfa46de17936f",
       "version_major": 2,
       "version_minor": 0
      },
      "text/plain": [
       "Tickers:   0%|          | 0/501 [00:00<?, ?Finvis Postings/s]"
      ]
     },
     "metadata": {},
     "output_type": "display_data"
    },
    {
     "data": {
      "application/vnd.jupyter.widget-view+json": {
       "model_id": "995dd4c038b74bae91b7000c3829fdae",
       "version_major": 2,
       "version_minor": 0
      },
      "text/plain": [
       "News Tables:   0%|          | 0/501 [00:00<?, ?News Table Items/s]"
      ]
     },
     "metadata": {},
     "output_type": "display_data"
    },
    {
     "name": "stderr",
     "output_type": "stream",
     "text": [
      "c:\\users\\hp-z440\\anaconda projects\\svi-trading-tools\\tools\\utils.py:338: FutureWarning: The default value of numeric_only in DataFrameGroupBy.mean is deprecated. In a future version, numeric_only will default to False. Either specify numeric_only or select only columns which should be valid for the function.\n",
      "  mean_scores = parsed_and_scored_news.groupby(['ticker', 'date']).mean().fillna(0)\n"
     ]
    }
   ],
   "source": [
    "reduced_stocks = utils.reduce_universe_by_sentiment(alpha_vectors.columns)"
   ]
  },
  {
   "cell_type": "code",
   "execution_count": 5,
   "metadata": {},
   "outputs": [
    {
     "name": "stdout",
     "output_type": "stream",
     "text": [
      "2022-12-04 23:50:18,034|IndHoldingsAdjustement|INFO|SENTIMENT_REDUCTION|0.85|501->428\n"
     ]
    }
   ],
   "source": [
    "# Error check to make sure we didn't reduce by too much\n",
    "\n",
    "pct_red = len(reduced_stocks) / len(alpha_vectors.columns)\n",
    "logger.info(f'SENTIMENT_REDUCTION|{pct_red:0.2f}|{len(alpha_vectors.columns)}->{len(reduced_stocks)}')\n",
    "if pct_red < 0.50:\n",
    "    logger.error(f'SENTIMENT_REDUCTION|OVER_REDUCED|{len(alpha_vectors.columns)}->{len(reduced_stocks)}')\n",
    "    raise SystemExit"
   ]
  },
  {
   "cell_type": "code",
   "execution_count": 6,
   "metadata": {},
   "outputs": [
    {
     "name": "stdout",
     "output_type": "stream",
     "text": [
      "2022-12-04 23:50:18,060|IndHoldingsAdjustement|INFO|FINAL_ALPHA_STOCKS|428\n",
      "2022-12-04 23:50:18,133|IndHoldingsAdjustement|INFO|OPT_DATE|2022-12-02 00:00:00\n"
     ]
    },
    {
     "name": "stderr",
     "output_type": "stream",
     "text": [
      "C:\\Users\\HP-Z440\\anaconda3\\envs\\svi_tt_p308\\lib\\site-packages\\cvxpy\\problems\\problem.py:1337: UserWarning: Solution may be inaccurate. Try another solver, adjusting the solver settings, or solve with verbose=True for more information.\n",
      "  warnings.warn(\n"
     ]
    }
   ],
   "source": [
    "final_alhpa_vectors = alpha_vectors[reduced_stocks]\n",
    "logger.info(f'FINAL_ALPHA_STOCKS|{len(final_alhpa_vectors.columns)}')\n",
    "opt_date = final_alhpa_vectors.index[-1]\n",
    "start_of_returns = opt_date - pd.offsets.DateOffset(years=1)\n",
    "final_beta_returns = returns[reduced_stocks].loc[start_of_returns:opt_date]\n",
    "risk_model = alpha_factors.RiskModelPCA(final_beta_returns, 1, 20)\n",
    "logger.info(f'OPT_DATE|{opt_date}')\n",
    "alpha_vector = pd.DataFrame(final_alhpa_vectors.loc[opt_date])\n",
    "optimal_weights = OptimalHoldings(risk_cap=risk_cap,weights_max=weights_max, weights_min=weights_min).find(alpha_vector, risk_model.factor_betas_, risk_model.factor_cov_matrix_, risk_model.idiosyncratic_var_vector_)"
   ]
  },
  {
   "cell_type": "code",
   "execution_count": 7,
   "metadata": {},
   "outputs": [
    {
     "name": "stdout",
     "output_type": "stream",
     "text": [
      "2022-12-04 23:50:34,324|IndHoldingsAdjustement|INFO|AJD_PORT_VARIANCE|0.01800000\n"
     ]
    },
    {
     "data": {
      "image/png": "[encoded data removed]",
      "text/plain": [
       "<Figure size 2000x800 with 1 Axes>"
      ]
     },
     "metadata": {},
     "output_type": "display_data"
    }
   ],
   "source": [
    "long_weights = optimal_weights[(100 * optimal_weights['optimalWeights']).round() > 5.0]\n",
    "returns[-252:][long_weights.index.to_list()].cumsum().plot(figsize=(20,8))\n",
    "logger.info(f'AJD_PORT_VARIANCE|{risk_model.compute_portfolio_variance(optimal_weights):.8f}')"
   ]
  },
  {
   "cell_type": "code",
   "execution_count": 8,
   "metadata": {},
   "outputs": [
    {
     "name": "stdout",
     "output_type": "stream",
     "text": [
      "2022-12-04 23:50:34,653|IndHoldingsAdjustement|INFO|STOCK|CMI                 |HOLDING|0.300000\n",
      "2022-12-04 23:50:34,653|IndHoldingsAdjustement|INFO|STOCK|CTVA                |HOLDING|0.089973\n",
      "2022-12-04 23:50:34,653|IndHoldingsAdjustement|INFO|STOCK|SWKS                |HOLDING|0.300000\n",
      "2022-12-04 23:50:34,653|IndHoldingsAdjustement|INFO|STOCK|TXT                 |HOLDING|0.274489\n"
     ]
    }
   ],
   "source": [
    "for index, row in long_weights.iterrows():\n",
    "    logger.info(f'STOCK|{index:20}|HOLDING|{row.optimalWeights:2f}')"
   ]
  },
  {
   "cell_type": "code",
   "execution_count": 9,
   "metadata": {},
   "outputs": [
    {
     "data": {
      "text/html": [
       "<div>\n",
       "<style scoped>\n",
       "    .dataframe tbody tr th:only-of-type {\n",
       "        vertical-align: middle;\n",
       "    }\n",
       "\n",
       "    .dataframe tbody tr th {\n",
       "        vertical-align: top;\n",
       "    }\n",
       "\n",
       "    .dataframe thead th {\n",
       "        text-align: right;\n",
       "    }\n",
       "</style>\n",
       "<table border=\"1\" class=\"dataframe\">\n",
       "  <thead>\n",
       "    <tr style=\"text-align: right;\">\n",
       "      <th></th>\n",
       "      <th>cusip</th>\n",
       "      <th>symbol</th>\n",
       "      <th>description</th>\n",
       "      <th>exchange</th>\n",
       "      <th>assetType</th>\n",
       "      <th>high52</th>\n",
       "      <th>low52</th>\n",
       "      <th>dividendAmount</th>\n",
       "      <th>dividendYield</th>\n",
       "      <th>dividendDate</th>\n",
       "      <th>...</th>\n",
       "      <th>bookValuePerShare</th>\n",
       "      <th>shortIntToFloat</th>\n",
       "      <th>shortIntDayToCover</th>\n",
       "      <th>divGrowthRate3Year</th>\n",
       "      <th>dividendPayAmount</th>\n",
       "      <th>dividendPayDate</th>\n",
       "      <th>beta</th>\n",
       "      <th>vol1DayAvg</th>\n",
       "      <th>vol10DayAvg</th>\n",
       "      <th>vol3MonthAvg</th>\n",
       "    </tr>\n",
       "  </thead>\n",
       "  <tbody>\n",
       "    <tr>\n",
       "      <th>0</th>\n",
       "      <td>883203101</td>\n",
       "      <td>TXT</td>\n",
       "      <td>Textron Inc. Common Stock</td>\n",
       "      <td>NYSE</td>\n",
       "      <td>EQUITY</td>\n",
       "      <td>79.450</td>\n",
       "      <td>57.110</td>\n",
       "      <td>0.08</td>\n",
       "      <td>0.11</td>\n",
       "      <td>2022-12-08 00:00:00.000</td>\n",
       "      <td>...</td>\n",
       "      <td>8.78702</td>\n",
       "      <td>0.0</td>\n",
       "      <td>0.0</td>\n",
       "      <td>0.0</td>\n",
       "      <td>0.02</td>\n",
       "      <td>2023-01-01 00:00:00.000</td>\n",
       "      <td>1.51071</td>\n",
       "      <td>1041570.0</td>\n",
       "      <td>1041571.0</td>\n",
       "      <td>27385190.0</td>\n",
       "    </tr>\n",
       "    <tr>\n",
       "      <th>1</th>\n",
       "      <td>22052L104</td>\n",
       "      <td>CTVA</td>\n",
       "      <td>Corteva, Inc. Common Stock</td>\n",
       "      <td>NYSE</td>\n",
       "      <td>EQUITY</td>\n",
       "      <td>68.430</td>\n",
       "      <td>43.740</td>\n",
       "      <td>0.60</td>\n",
       "      <td>0.89</td>\n",
       "      <td>2022-11-10 00:00:00.000</td>\n",
       "      <td>...</td>\n",
       "      <td>0.00000</td>\n",
       "      <td>0.0</td>\n",
       "      <td>0.0</td>\n",
       "      <td>0.0</td>\n",
       "      <td>0.15</td>\n",
       "      <td>2022-12-15 00:00:00.000</td>\n",
       "      <td>0.74259</td>\n",
       "      <td>2348250.0</td>\n",
       "      <td>2348246.0</td>\n",
       "      <td>69944340.0</td>\n",
       "    </tr>\n",
       "    <tr>\n",
       "      <th>2</th>\n",
       "      <td>83088M102</td>\n",
       "      <td>SWKS</td>\n",
       "      <td>Skyworks Solutions, Inc. - Common Stock</td>\n",
       "      <td>NASDAQ</td>\n",
       "      <td>EQUITY</td>\n",
       "      <td>164.470</td>\n",
       "      <td>76.160</td>\n",
       "      <td>2.48</td>\n",
       "      <td>2.64</td>\n",
       "      <td>2022-11-21 00:00:00.000</td>\n",
       "      <td>...</td>\n",
       "      <td>8.98323</td>\n",
       "      <td>0.0</td>\n",
       "      <td>0.0</td>\n",
       "      <td>0.0</td>\n",
       "      <td>0.62</td>\n",
       "      <td>2022-12-13 00:00:00.000</td>\n",
       "      <td>1.21128</td>\n",
       "      <td>1770670.0</td>\n",
       "      <td>1770666.0</td>\n",
       "      <td>43414900.0</td>\n",
       "    </tr>\n",
       "    <tr>\n",
       "      <th>3</th>\n",
       "      <td>231021106</td>\n",
       "      <td>CMI</td>\n",
       "      <td>Cummins Inc. Common Stock</td>\n",
       "      <td>NYSE</td>\n",
       "      <td>EQUITY</td>\n",
       "      <td>254.085</td>\n",
       "      <td>184.275</td>\n",
       "      <td>6.28</td>\n",
       "      <td>2.51</td>\n",
       "      <td>2022-11-17 00:00:00.000</td>\n",
       "      <td>...</td>\n",
       "      <td>7.78675</td>\n",
       "      <td>0.0</td>\n",
       "      <td>0.0</td>\n",
       "      <td>0.0</td>\n",
       "      <td>1.57</td>\n",
       "      <td>2022-12-01 00:00:00.000</td>\n",
       "      <td>1.05245</td>\n",
       "      <td>919450.0</td>\n",
       "      <td>919449.0</td>\n",
       "      <td>19710120.0</td>\n",
       "    </tr>\n",
       "  </tbody>\n",
       "</table>\n",
       "<p>4 rows × 50 columns</p>\n",
       "</div>"
      ],
      "text/plain": [
       "       cusip symbol                              description exchange  \\\n",
       "0  883203101    TXT                Textron Inc. Common Stock     NYSE   \n",
       "1  22052L104   CTVA               Corteva, Inc. Common Stock     NYSE   \n",
       "2  83088M102   SWKS  Skyworks Solutions, Inc. - Common Stock   NASDAQ   \n",
       "3  231021106    CMI                Cummins Inc. Common Stock     NYSE   \n",
       "\n",
       "  assetType   high52    low52  dividendAmount  dividendYield  \\\n",
       "0    EQUITY   79.450   57.110            0.08           0.11   \n",
       "1    EQUITY   68.430   43.740            0.60           0.89   \n",
       "2    EQUITY  164.470   76.160            2.48           2.64   \n",
       "3    EQUITY  254.085  184.275            6.28           2.51   \n",
       "\n",
       "              dividendDate  ...  bookValuePerShare  shortIntToFloat  \\\n",
       "0  2022-12-08 00:00:00.000  ...            8.78702              0.0   \n",
       "1  2022-11-10 00:00:00.000  ...            0.00000              0.0   \n",
       "2  2022-11-21 00:00:00.000  ...            8.98323              0.0   \n",
       "3  2022-11-17 00:00:00.000  ...            7.78675              0.0   \n",
       "\n",
       "   shortIntDayToCover  divGrowthRate3Year  dividendPayAmount  \\\n",
       "0                 0.0                 0.0               0.02   \n",
       "1                 0.0                 0.0               0.15   \n",
       "2                 0.0                 0.0               0.62   \n",
       "3                 0.0                 0.0               1.57   \n",
       "\n",
       "           dividendPayDate     beta  vol1DayAvg  vol10DayAvg  vol3MonthAvg  \n",
       "0  2023-01-01 00:00:00.000  1.51071   1041570.0    1041571.0    27385190.0  \n",
       "1  2022-12-15 00:00:00.000  0.74259   2348250.0    2348246.0    69944340.0  \n",
       "2  2022-12-13 00:00:00.000  1.21128   1770670.0    1770666.0    43414900.0  \n",
       "3  2022-12-01 00:00:00.000  1.05245    919450.0     919449.0    19710120.0  \n",
       "\n",
       "[4 rows x 50 columns]"
      ]
     },
     "metadata": {},
     "output_type": "display_data"
    }
   ],
   "source": [
    "td_ameritrade = amc.AmeritradeRest()\n",
    "display(td_ameritrade.get_fundamental(list(long_weights.index.to_list())))"
   ]
  },
  {
   "cell_type": "code",
   "execution_count": 10,
   "metadata": {},
   "outputs": [
    {
     "data": {
      "application/vnd.jupyter.widget-view+json": {
       "model_id": "195db8fc07f54fa1866d477f3ffc232e",
       "version_major": 2,
       "version_minor": 0
      },
      "text/plain": [
       "Tickers:   0%|          | 0/4 [00:00<?, ?Finvis Postings/s]"
      ]
     },
     "metadata": {},
     "output_type": "display_data"
    },
    {
     "data": {
      "application/vnd.jupyter.widget-view+json": {
       "model_id": "9069bab189454f099276e4c4caad1b8c",
       "version_major": 2,
       "version_minor": 0
      },
      "text/plain": [
       "News Tables:   0%|          | 0/4 [00:00<?, ?News Table Items/s]"
      ]
     },
     "metadata": {},
     "output_type": "display_data"
    },
    {
     "name": "stderr",
     "output_type": "stream",
     "text": [
      "C:\\Users\\HP-Z440\\AppData\\Local\\Temp\\ipykernel_6360\\1254735451.py:3: FutureWarning: The default value of numeric_only in DataFrameGroupBy.mean is deprecated. In a future version, numeric_only will default to False. Either specify numeric_only or select only columns which should be valid for the function.\n",
      "  mean_scores = parsed_and_scored_news.groupby(['ticker','date']).mean()\n"
     ]
    },
    {
     "data": {
      "image/png": "[encoded data removed]",
      "text/plain": [
       "<Figure size 2000x800 with 1 Axes>"
      ]
     },
     "metadata": {},
     "output_type": "display_data"
    }
   ],
   "source": [
    "parsed_and_scored_news = utils.get_finvis_stock_sentiment(long_weights.index.to_list()).sort_values(by='date')\n",
    "# Group by date and ticker columns from scored_news and calculate the mean\n",
    "mean_scores = parsed_and_scored_news.groupby(['ticker','date']).mean()\n",
    "# Unstack the column ticker\n",
    "mean_scores = mean_scores.unstack()\n",
    "# Get the cross-section of compound in the 'columns' axis\n",
    "mean_scores = mean_scores.xs('compound', axis=\"columns\").transpose()\n",
    "# Plot a bar chart with pandas\n",
    "mean_scores[-20:].plot(kind = 'bar')\n",
    "plt.grid()"
   ]
  },
  {
   "cell_type": "markdown",
   "metadata": {
    "tags": []
   },
   "source": [
    "## First lets see which stocks we already own for a specific account\n",
    "\n",
    "I only want to work with Equity investments. This is kind of confusing, but at the account level assets that can be traded are call \"EQUITY\". When you get quotes for each asset, the same asset can be something like \"ETF\".\n",
    "\n",
    "I also use Ameritrade's portfolio planner tool to create an asset mix based off of their reccomendations. I don't want these stocks (or in my case mutual funds and ETFs) to be part of this analysis. So I'll remove them here."
   ]
  },
  {
   "cell_type": "markdown",
   "metadata": {},
   "source": [
    "## Configure Ameritrade Information\n",
    "\n",
    "Ameritrade credentials are stored in environment variables to keep from having unencrypted passwords stored on disk.\n",
    "\n",
    "The module automatically masks the account numbers to protect the actual accounts. An Ameritrade user can have many investment accounts. We will be working with only one for this demonstration."
   ]
  },
  {
   "cell_type": "markdown",
   "metadata": {},
   "source": [
    "## Authentication Tokens\n",
    "\n",
    "To get data from Ameritrade you will need to obtains a short time use token (there is a re-use token, but I have not coded it yet.) You only need to do this if you\n",
    "are going to use an existing Ameritrade account to define an initial set of stocks to analyze.\n",
    "\n",
    "To obtain a token, you will need to have a Chrome driver located somewhere on your system. This will allow the module to use your credentials to obtain an authentication token.\n",
    "\n",
    "For security reasons, I sugges using environment variables to store your credential information. If you store them in property files, or just code them into your notebook, you risk sharing the information with others if you use GitHub or some other SCCS. This also makes it easier to have them availabe from project to project in your development environment\n",
    "\n",
    "<span style=\"color:blue\">Note: *Account numbers are masked for security purposes.*</span>"
   ]
  },
  {
   "cell_type": "code",
   "execution_count": 11,
   "metadata": {},
   "outputs": [
    {
     "name": "stdout",
     "output_type": "stream",
     "text": [
      "2022-12-04 23:51:19,612|IndHoldingsAdjustement|INFO|TRADE_DATE|2022-12-04 23:51:19.612900\n",
      "2022-12-04 23:51:19,871|IndHoldingsAdjustement|INFO|Full Equity Portfolio:\n"
     ]
    },
    {
     "data": {
      "text/html": [
       "<div>\n",
       "<style scoped>\n",
       "    .dataframe tbody tr th:only-of-type {\n",
       "        vertical-align: middle;\n",
       "    }\n",
       "\n",
       "    .dataframe tbody tr th {\n",
       "        vertical-align: top;\n",
       "    }\n",
       "\n",
       "    .dataframe thead th {\n",
       "        text-align: right;\n",
       "    }\n",
       "</style>\n",
       "<table border=\"1\" class=\"dataframe\">\n",
       "  <thead>\n",
       "    <tr style=\"text-align: right;\">\n",
       "      <th></th>\n",
       "      <th></th>\n",
       "      <th>shortQuantity</th>\n",
       "      <th>averagePrice</th>\n",
       "      <th>currentDayCost</th>\n",
       "      <th>currentDayProfitLoss</th>\n",
       "      <th>currentDayProfitLossPercentage</th>\n",
       "      <th>longQuantity</th>\n",
       "      <th>settledLongQuantity</th>\n",
       "      <th>settledShortQuantity</th>\n",
       "      <th>marketValue</th>\n",
       "      <th>maintenanceRequirement</th>\n",
       "      <th>previousSessionLongQuantity</th>\n",
       "      <th>assetType</th>\n",
       "      <th>cusip</th>\n",
       "      <th>description</th>\n",
       "      <th>type</th>\n",
       "    </tr>\n",
       "    <tr>\n",
       "      <th>account</th>\n",
       "      <th>symbol</th>\n",
       "      <th></th>\n",
       "      <th></th>\n",
       "      <th></th>\n",
       "      <th></th>\n",
       "      <th></th>\n",
       "      <th></th>\n",
       "      <th></th>\n",
       "      <th></th>\n",
       "      <th></th>\n",
       "      <th></th>\n",
       "      <th></th>\n",
       "      <th></th>\n",
       "      <th></th>\n",
       "      <th></th>\n",
       "      <th></th>\n",
       "    </tr>\n",
       "  </thead>\n",
       "  <tbody>\n",
       "    <tr>\n",
       "      <th rowspan=\"4\" valign=\"top\">#---9216</th>\n",
       "      <th>OKE</th>\n",
       "      <td>0.0</td>\n",
       "      <td>64.17515</td>\n",
       "      <td>0.0</td>\n",
       "      <td>0.0</td>\n",
       "      <td>0.0</td>\n",
       "      <td>33.0</td>\n",
       "      <td>33.0</td>\n",
       "      <td>0.0</td>\n",
       "      <td>2217.60</td>\n",
       "      <td>887.04</td>\n",
       "      <td>33.0</td>\n",
       "      <td>EQUITY</td>\n",
       "      <td>682680103</td>\n",
       "      <td>0</td>\n",
       "      <td>0</td>\n",
       "    </tr>\n",
       "    <tr>\n",
       "      <th>UAL</th>\n",
       "      <td>0.0</td>\n",
       "      <td>43.83000</td>\n",
       "      <td>0.0</td>\n",
       "      <td>0.0</td>\n",
       "      <td>0.0</td>\n",
       "      <td>35.0</td>\n",
       "      <td>35.0</td>\n",
       "      <td>0.0</td>\n",
       "      <td>1536.15</td>\n",
       "      <td>460.85</td>\n",
       "      <td>35.0</td>\n",
       "      <td>EQUITY</td>\n",
       "      <td>910047109</td>\n",
       "      <td>0</td>\n",
       "      <td>0</td>\n",
       "    </tr>\n",
       "    <tr>\n",
       "      <th>FGPHF</th>\n",
       "      <td>0.0</td>\n",
       "      <td>0.21397</td>\n",
       "      <td>0.0</td>\n",
       "      <td>0.0</td>\n",
       "      <td>0.0</td>\n",
       "      <td>5000.0</td>\n",
       "      <td>5000.0</td>\n",
       "      <td>0.0</td>\n",
       "      <td>390.00</td>\n",
       "      <td>0.00</td>\n",
       "      <td>5000.0</td>\n",
       "      <td>EQUITY</td>\n",
       "      <td>Q3860H107</td>\n",
       "      <td>0</td>\n",
       "      <td>0</td>\n",
       "    </tr>\n",
       "    <tr>\n",
       "      <th>GRMN</th>\n",
       "      <td>0.0</td>\n",
       "      <td>90.57500</td>\n",
       "      <td>0.0</td>\n",
       "      <td>0.0</td>\n",
       "      <td>0.0</td>\n",
       "      <td>24.0</td>\n",
       "      <td>24.0</td>\n",
       "      <td>0.0</td>\n",
       "      <td>2263.68</td>\n",
       "      <td>679.10</td>\n",
       "      <td>24.0</td>\n",
       "      <td>EQUITY</td>\n",
       "      <td>H2906T109</td>\n",
       "      <td>0</td>\n",
       "      <td>0</td>\n",
       "    </tr>\n",
       "  </tbody>\n",
       "</table>\n",
       "</div>"
      ],
      "text/plain": [
       "                 shortQuantity  averagePrice  currentDayCost  \\\n",
       "account  symbol                                                \n",
       "#---9216 OKE               0.0      64.17515             0.0   \n",
       "         UAL               0.0      43.83000             0.0   \n",
       "         FGPHF             0.0       0.21397             0.0   \n",
       "         GRMN              0.0      90.57500             0.0   \n",
       "\n",
       "                 currentDayProfitLoss  currentDayProfitLossPercentage  \\\n",
       "account  symbol                                                         \n",
       "#---9216 OKE                      0.0                             0.0   \n",
       "         UAL                      0.0                             0.0   \n",
       "         FGPHF                    0.0                             0.0   \n",
       "         GRMN                     0.0                             0.0   \n",
       "\n",
       "                 longQuantity  settledLongQuantity  settledShortQuantity  \\\n",
       "account  symbol                                                            \n",
       "#---9216 OKE             33.0                 33.0                   0.0   \n",
       "         UAL             35.0                 35.0                   0.0   \n",
       "         FGPHF         5000.0               5000.0                   0.0   \n",
       "         GRMN            24.0                 24.0                   0.0   \n",
       "\n",
       "                 marketValue  maintenanceRequirement  \\\n",
       "account  symbol                                        \n",
       "#---9216 OKE         2217.60                  887.04   \n",
       "         UAL         1536.15                  460.85   \n",
       "         FGPHF        390.00                    0.00   \n",
       "         GRMN        2263.68                  679.10   \n",
       "\n",
       "                 previousSessionLongQuantity assetType      cusip description  \\\n",
       "account  symbol                                                                 \n",
       "#---9216 OKE                            33.0    EQUITY  682680103           0   \n",
       "         UAL                            35.0    EQUITY  910047109           0   \n",
       "         FGPHF                        5000.0    EQUITY  Q3860H107           0   \n",
       "         GRMN                           24.0    EQUITY  H2906T109           0   \n",
       "\n",
       "                type  \n",
       "account  symbol       \n",
       "#---9216 OKE       0  \n",
       "         UAL       0  \n",
       "         FGPHF     0  \n",
       "         GRMN      0  "
      ]
     },
     "metadata": {},
     "output_type": "display_data"
    }
   ],
   "source": [
    "logger.info(f'TRADE_DATE|{datetime.today()}')\n",
    "\n",
    "# Specific Portfolio Account\n",
    "equity_investments_df = td_ameritrade.get_account_portfolio_data(masked_account_number, investment_type='EQUITY')\n",
    "logger.info('Full Equity Portfolio:')\n",
    "display(equity_investments_df)"
   ]
  },
  {
   "cell_type": "code",
   "execution_count": 12,
   "metadata": {},
   "outputs": [
    {
     "data": {
      "text/plain": [
       "'Account #---9216 total value:  7130.25'"
      ]
     },
     "metadata": {},
     "output_type": "display_data"
    },
    {
     "data": {
      "text/plain": [
       "account   symbol\n",
       "#---9216  OKE       2217.60\n",
       "          UAL       1536.15\n",
       "          FGPHF      390.00\n",
       "          GRMN      2263.68\n",
       "Name: marketValue, dtype: float64"
      ]
     },
     "metadata": {},
     "output_type": "display_data"
    },
    {
     "data": {
      "text/plain": [
       "'Account #---9216 equity value: 6407.43'"
      ]
     },
     "metadata": {},
     "output_type": "display_data"
    },
    {
     "data": {
      "text/plain": [
       "account   symbol\n",
       "#---9216  FGPHF      6.086684\n",
       "          GRMN      35.328985\n",
       "          OKE       34.609820\n",
       "          UAL       23.974511\n",
       "Name: marketValue, dtype: float64"
      ]
     },
     "metadata": {},
     "output_type": "display_data"
    }
   ],
   "source": [
    "total_portfolio_value = td_ameritrade.get_account_value(masked_account_number).round(2)\n",
    "display(f'Account {masked_account_number} total value:  {total_portfolio_value}')\n",
    "\n",
    "equity_investments_df = td_ameritrade.get_account_portfolio_data(masked_account_number, 'EQUITY')\n",
    "port_equi_values = td_ameritrade.get_market_values(masked_account_number, 'EQUITY')\n",
    "display(port_equi_values)\n",
    "total_equity_value = td_ameritrade.get_account_value(masked_account_number, 'EQUITY').round(2)\n",
    "display(f'Account {masked_account_number} equity value: {total_equity_value}')\n",
    "\n",
    "port_weights_equity = td_ameritrade.get_portfolio_weights(masked_account_number, 'EQUITY')\n",
    "display(port_weights_equity*100)"
   ]
  },
  {
   "cell_type": "code",
   "execution_count": 13,
   "metadata": {},
   "outputs": [
    {
     "name": "stdout",
     "output_type": "stream",
     "text": [
      "2022-12-04 23:51:20,207|IndHoldingsAdjustement|INFO|Stocks to sell:\n"
     ]
    },
    {
     "data": {
      "text/html": [
       "<div>\n",
       "<style scoped>\n",
       "    .dataframe tbody tr th:only-of-type {\n",
       "        vertical-align: middle;\n",
       "    }\n",
       "\n",
       "    .dataframe tbody tr th {\n",
       "        vertical-align: top;\n",
       "    }\n",
       "\n",
       "    .dataframe thead th {\n",
       "        text-align: right;\n",
       "    }\n",
       "</style>\n",
       "<table border=\"1\" class=\"dataframe\">\n",
       "  <thead>\n",
       "    <tr style=\"text-align: right;\">\n",
       "      <th></th>\n",
       "      <th></th>\n",
       "      <th>shortQuantity</th>\n",
       "      <th>averagePrice</th>\n",
       "      <th>currentDayCost</th>\n",
       "      <th>currentDayProfitLoss</th>\n",
       "      <th>currentDayProfitLossPercentage</th>\n",
       "      <th>longQuantity</th>\n",
       "      <th>settledLongQuantity</th>\n",
       "      <th>settledShortQuantity</th>\n",
       "      <th>marketValue</th>\n",
       "      <th>maintenanceRequirement</th>\n",
       "      <th>previousSessionLongQuantity</th>\n",
       "      <th>assetType</th>\n",
       "      <th>cusip</th>\n",
       "      <th>description</th>\n",
       "      <th>type</th>\n",
       "    </tr>\n",
       "    <tr>\n",
       "      <th>account</th>\n",
       "      <th>symbol</th>\n",
       "      <th></th>\n",
       "      <th></th>\n",
       "      <th></th>\n",
       "      <th></th>\n",
       "      <th></th>\n",
       "      <th></th>\n",
       "      <th></th>\n",
       "      <th></th>\n",
       "      <th></th>\n",
       "      <th></th>\n",
       "      <th></th>\n",
       "      <th></th>\n",
       "      <th></th>\n",
       "      <th></th>\n",
       "      <th></th>\n",
       "    </tr>\n",
       "  </thead>\n",
       "  <tbody>\n",
       "    <tr>\n",
       "      <th rowspan=\"3\" valign=\"top\">#---9216</th>\n",
       "      <th>OKE</th>\n",
       "      <td>0.0</td>\n",
       "      <td>64.17515</td>\n",
       "      <td>0.0</td>\n",
       "      <td>0.0</td>\n",
       "      <td>0.0</td>\n",
       "      <td>33.0</td>\n",
       "      <td>33.0</td>\n",
       "      <td>0.0</td>\n",
       "      <td>2217.60</td>\n",
       "      <td>887.04</td>\n",
       "      <td>33.0</td>\n",
       "      <td>EQUITY</td>\n",
       "      <td>682680103</td>\n",
       "      <td>0</td>\n",
       "      <td>0</td>\n",
       "    </tr>\n",
       "    <tr>\n",
       "      <th>UAL</th>\n",
       "      <td>0.0</td>\n",
       "      <td>43.83000</td>\n",
       "      <td>0.0</td>\n",
       "      <td>0.0</td>\n",
       "      <td>0.0</td>\n",
       "      <td>35.0</td>\n",
       "      <td>35.0</td>\n",
       "      <td>0.0</td>\n",
       "      <td>1536.15</td>\n",
       "      <td>460.85</td>\n",
       "      <td>35.0</td>\n",
       "      <td>EQUITY</td>\n",
       "      <td>910047109</td>\n",
       "      <td>0</td>\n",
       "      <td>0</td>\n",
       "    </tr>\n",
       "    <tr>\n",
       "      <th>GRMN</th>\n",
       "      <td>0.0</td>\n",
       "      <td>90.57500</td>\n",
       "      <td>0.0</td>\n",
       "      <td>0.0</td>\n",
       "      <td>0.0</td>\n",
       "      <td>24.0</td>\n",
       "      <td>24.0</td>\n",
       "      <td>0.0</td>\n",
       "      <td>2263.68</td>\n",
       "      <td>679.10</td>\n",
       "      <td>24.0</td>\n",
       "      <td>EQUITY</td>\n",
       "      <td>H2906T109</td>\n",
       "      <td>0</td>\n",
       "      <td>0</td>\n",
       "    </tr>\n",
       "  </tbody>\n",
       "</table>\n",
       "</div>"
      ],
      "text/plain": [
       "                 shortQuantity  averagePrice  currentDayCost  \\\n",
       "account  symbol                                                \n",
       "#---9216 OKE               0.0      64.17515             0.0   \n",
       "         UAL               0.0      43.83000             0.0   \n",
       "         GRMN              0.0      90.57500             0.0   \n",
       "\n",
       "                 currentDayProfitLoss  currentDayProfitLossPercentage  \\\n",
       "account  symbol                                                         \n",
       "#---9216 OKE                      0.0                             0.0   \n",
       "         UAL                      0.0                             0.0   \n",
       "         GRMN                     0.0                             0.0   \n",
       "\n",
       "                 longQuantity  settledLongQuantity  settledShortQuantity  \\\n",
       "account  symbol                                                            \n",
       "#---9216 OKE             33.0                 33.0                   0.0   \n",
       "         UAL             35.0                 35.0                   0.0   \n",
       "         GRMN            24.0                 24.0                   0.0   \n",
       "\n",
       "                 marketValue  maintenanceRequirement  \\\n",
       "account  symbol                                        \n",
       "#---9216 OKE         2217.60                  887.04   \n",
       "         UAL         1536.15                  460.85   \n",
       "         GRMN        2263.68                  679.10   \n",
       "\n",
       "                 previousSessionLongQuantity assetType      cusip description  \\\n",
       "account  symbol                                                                 \n",
       "#---9216 OKE                            33.0    EQUITY  682680103           0   \n",
       "         UAL                            35.0    EQUITY  910047109           0   \n",
       "         GRMN                           24.0    EQUITY  H2906T109           0   \n",
       "\n",
       "                type  \n",
       "account  symbol       \n",
       "#---9216 OKE       0  \n",
       "         UAL       0  \n",
       "         GRMN      0  "
      ]
     },
     "metadata": {},
     "output_type": "display_data"
    }
   ],
   "source": [
    "long_term_stocks = default_config['long_term_stocks'].split()\n",
    "equity_stock_symbols = td_ameritrade.get_investment_symbols(masked_account_number, 'EQUITY')\n",
    "\n",
    "# Filter out non Equity investments\n",
    "current_stocks = td_ameritrade.get_quotes(equity_stock_symbols).query('assetType == \"EQUITY\"').index.tolist()\n",
    "stocks_to_sell = equity_investments_df[equity_investments_df.index.get_level_values('symbol').isin(current_stocks)]\n",
    "stocks_to_sell = stocks_to_sell[~stocks_to_sell.index.get_level_values('symbol').isin(long_term_stocks)]\n",
    "logger.info(f'Stocks to sell:')\n",
    "display(stocks_to_sell)"
   ]
  },
  {
   "cell_type": "markdown",
   "metadata": {},
   "source": [
    "### Submit and montior sell orders"
   ]
  },
  {
   "cell_type": "code",
   "execution_count": 14,
   "metadata": {},
   "outputs": [
    {
     "name": "stdout",
     "output_type": "stream",
     "text": [
      "Placing SELL order on #---9216 for 33.0 shares of OKE...\n",
      "Placed SELL order on #---9216 for 33.0 shares of OKE\n",
      "Placing SELL order on #---9216 for 35.0 shares of UAL...\n",
      "Placed SELL order on #---9216 for 35.0 shares of UAL\n",
      "Placing SELL order on #---9216 for 24.0 shares of GRMN...\n",
      "Placed SELL order on #---9216 for 24.0 shares of GRMN\n"
     ]
    }
   ],
   "source": [
    "td_ameritrade.parse_portfolios_list()\n",
    "account_number = td_ameritrade.unmask_account(masked_account_number)\n",
    "sell_result = td_ameritrade.place_bulk_sell_orders(account_number, stocks_to_sell)"
   ]
  },
  {
   "cell_type": "code",
   "execution_count": null,
   "metadata": {},
   "outputs": [],
   "source": [
    "while True:\n",
    "    td_ameritrade = amc.AmeritradeRest('maiotradeuser', 'maiotradepw', 'maiotradeclientid')\n",
    "    td_ameritrade.authenticate()\n",
    "    account_portfolio_df = utils.get_account_portfolio_data(td_ameritrade.parse_portfolios_list(), masked_account_number)\n",
    "    equity_investments_df = utils.get_investments_by_type(account_portfolio_df, investment_type='EQUITY')\n",
    "    stocks_with_sell_orders = equity_investments_df[equity_investments_df['symbol'].isin(stocks_to_sell.symbol.values)]\n",
    "    if len(stocks_with_sell_orders[stocks_with_sell_orders.longQuantity >= 1]) == 0:\n",
    "        break\n",
    "    logger.info(f'\\rStocks to sell|{stocks_with_sell_orders.symbol.values}')\n",
    "    time.sleep(60)\n",
    "    \n",
    "logger.info(f'\\rAll stocks sold|{stocks_to_sell.symbol.values}')\n"
   ]
  },
  {
   "cell_type": "code",
   "execution_count": 23,
   "metadata": {},
   "outputs": [
    {
     "data": {
      "text/plain": [
       "initialBalances_cashBalance           0.000000\n",
       "initialBalances_totalCash             0.000000\n",
       "initialBalances_equity             6567.090000\n",
       "initialBalances_moneyMarketFund     726.580000\n",
       "currentBalances_cashBalance        5821.850000\n",
       "currentBalances_equity             6548.430000\n",
       "currentBalances_moneyMarketFund     726.580000\n",
       "current_return                       -0.002845\n",
       "Name: #---9216, dtype: float64"
      ]
     },
     "metadata": {},
     "output_type": "display_data"
    },
    {
     "name": "stdout",
     "output_type": "stream",
     "text": [
      "5821.85\n",
      "726.58\n",
      "2022-11-28 09:48:19,372|IndHoldingsAdjustement|INFO|INVESTMENT_AMT|6548.43\n"
     ]
    }
   ],
   "source": [
    "account_balances = td_ameritrade.parse_accounts().loc[masked_account_number]\n",
    "display(account_balances)\n",
    "print(account_balances.currentBalances_cashBalance)\n",
    "print(account_balances.currentBalances_moneyMarketFund)\n",
    "available_cash = account_balances.currentBalances_cashBalance + account_balances.currentBalances_moneyMarketFund\n",
    "logger.info(f'INVESTMENT_AMT|{available_cash}')"
   ]
  },
  {
   "cell_type": "code",
   "execution_count": 24,
   "metadata": {},
   "outputs": [
    {
     "name": "stdout",
     "output_type": "stream",
     "text": [
      "Available cash  : 6548.43\n",
      "Amount to invest: 6000\n"
     ]
    }
   ],
   "source": [
    "print(f'Available cash  : {available_cash}')\n",
    "investment_base = 1000\n",
    "investment_amount = math.floor(available_cash / investment_base) * investment_base\n",
    "print(f'Amount to invest: {investment_amount}')"
   ]
  },
  {
   "cell_type": "code",
   "execution_count": 25,
   "metadata": {},
   "outputs": [
    {
     "data": {
      "text/html": [
       "<div>\n",
       "<style scoped>\n",
       "    .dataframe tbody tr th:only-of-type {\n",
       "        vertical-align: middle;\n",
       "    }\n",
       "\n",
       "    .dataframe tbody tr th {\n",
       "        vertical-align: top;\n",
       "    }\n",
       "\n",
       "    .dataframe thead th {\n",
       "        text-align: right;\n",
       "    }\n",
       "</style>\n",
       "<table border=\"1\" class=\"dataframe\">\n",
       "  <thead>\n",
       "    <tr style=\"text-align: right;\">\n",
       "      <th></th>\n",
       "      <th>optimalWeights</th>\n",
       "    </tr>\n",
       "  </thead>\n",
       "  <tbody>\n",
       "    <tr>\n",
       "      <th>GRMN</th>\n",
       "      <td>0.300000</td>\n",
       "    </tr>\n",
       "    <tr>\n",
       "      <th>OKE</th>\n",
       "      <td>0.300000</td>\n",
       "    </tr>\n",
       "    <tr>\n",
       "      <th>UAL</th>\n",
       "      <td>0.215266</td>\n",
       "    </tr>\n",
       "    <tr>\n",
       "      <th>WTW</th>\n",
       "      <td>0.184734</td>\n",
       "    </tr>\n",
       "  </tbody>\n",
       "</table>\n",
       "</div>"
      ],
      "text/plain": [
       "      optimalWeights\n",
       "GRMN        0.300000\n",
       "OKE         0.300000\n",
       "UAL         0.215266\n",
       "WTW         0.184734"
      ]
     },
     "execution_count": 25,
     "metadata": {},
     "output_type": "execute_result"
    }
   ],
   "source": [
    "long_weights"
   ]
  },
  {
   "cell_type": "code",
   "execution_count": 26,
   "metadata": {},
   "outputs": [
    {
     "name": "stdout",
     "output_type": "stream",
     "text": [
      "2022-11-28 09:48:32.605227\n",
      "Initial investment amount: 6000\n"
     ]
    },
    {
     "data": {
      "text/html": [
       "<div>\n",
       "<style scoped>\n",
       "    .dataframe tbody tr th:only-of-type {\n",
       "        vertical-align: middle;\n",
       "    }\n",
       "\n",
       "    .dataframe tbody tr th {\n",
       "        vertical-align: top;\n",
       "    }\n",
       "\n",
       "    .dataframe thead th {\n",
       "        text-align: right;\n",
       "    }\n",
       "</style>\n",
       "<table border=\"1\" class=\"dataframe\">\n",
       "  <thead>\n",
       "    <tr style=\"text-align: right;\">\n",
       "      <th></th>\n",
       "      <th>regularMarketLastPrice</th>\n",
       "      <th>optimalWeights</th>\n",
       "      <th>invest_amount</th>\n",
       "      <th>shares</th>\n",
       "    </tr>\n",
       "  </thead>\n",
       "  <tbody>\n",
       "    <tr>\n",
       "      <th>GRMN</th>\n",
       "      <td>91.08</td>\n",
       "      <td>0.300000</td>\n",
       "      <td>1800.0</td>\n",
       "      <td>19</td>\n",
       "    </tr>\n",
       "    <tr>\n",
       "      <th>OKE</th>\n",
       "      <td>65.42</td>\n",
       "      <td>0.300000</td>\n",
       "      <td>1800.0</td>\n",
       "      <td>27</td>\n",
       "    </tr>\n",
       "    <tr>\n",
       "      <th>UAL</th>\n",
       "      <td>44.42</td>\n",
       "      <td>0.215266</td>\n",
       "      <td>1292.0</td>\n",
       "      <td>29</td>\n",
       "    </tr>\n",
       "    <tr>\n",
       "      <th>WTW</th>\n",
       "      <td>244.02</td>\n",
       "      <td>0.184734</td>\n",
       "      <td>1108.0</td>\n",
       "      <td>4</td>\n",
       "    </tr>\n",
       "  </tbody>\n",
       "</table>\n",
       "</div>"
      ],
      "text/plain": [
       "      regularMarketLastPrice  optimalWeights  invest_amount  shares\n",
       "GRMN                   91.08        0.300000         1800.0      19\n",
       "OKE                    65.42        0.300000         1800.0      27\n",
       "UAL                    44.42        0.215266         1292.0      29\n",
       "WTW                   244.02        0.184734         1108.0       4"
      ]
     },
     "metadata": {},
     "output_type": "display_data"
    },
    {
     "data": {
      "text/html": [
       "<div>\n",
       "<style scoped>\n",
       "    .dataframe tbody tr th:only-of-type {\n",
       "        vertical-align: middle;\n",
       "    }\n",
       "\n",
       "    .dataframe tbody tr th {\n",
       "        vertical-align: top;\n",
       "    }\n",
       "\n",
       "    .dataframe thead th {\n",
       "        text-align: right;\n",
       "    }\n",
       "</style>\n",
       "<table border=\"1\" class=\"dataframe\">\n",
       "  <thead>\n",
       "    <tr style=\"text-align: right;\">\n",
       "      <th></th>\n",
       "      <th>regularMarketLastPrice</th>\n",
       "      <th>optimalWeights</th>\n",
       "      <th>invest_amount</th>\n",
       "      <th>shares</th>\n",
       "      <th>cost</th>\n",
       "    </tr>\n",
       "  </thead>\n",
       "  <tbody>\n",
       "    <tr>\n",
       "      <th>GRMN</th>\n",
       "      <td>91.08</td>\n",
       "      <td>0.367978</td>\n",
       "      <td>2208.0</td>\n",
       "      <td>24</td>\n",
       "      <td>2185.92</td>\n",
       "    </tr>\n",
       "    <tr>\n",
       "      <th>OKE</th>\n",
       "      <td>65.42</td>\n",
       "      <td>0.367978</td>\n",
       "      <td>2208.0</td>\n",
       "      <td>33</td>\n",
       "      <td>2158.86</td>\n",
       "    </tr>\n",
       "    <tr>\n",
       "      <th>UAL</th>\n",
       "      <td>44.42</td>\n",
       "      <td>0.264044</td>\n",
       "      <td>1584.0</td>\n",
       "      <td>35</td>\n",
       "      <td>1554.70</td>\n",
       "    </tr>\n",
       "  </tbody>\n",
       "</table>\n",
       "</div>"
      ],
      "text/plain": [
       "      regularMarketLastPrice  optimalWeights  invest_amount  shares     cost\n",
       "GRMN                   91.08        0.367978         2208.0      24  2185.92\n",
       "OKE                    65.42        0.367978         2208.0      33  2158.86\n",
       "UAL                    44.42        0.264044         1584.0      35  1554.70"
      ]
     },
     "metadata": {},
     "output_type": "display_data"
    },
    {
     "name": "stdout",
     "output_type": "stream",
     "text": [
      "Total cost: 5899.4800000000005\n"
     ]
    }
   ],
   "source": [
    "print(datetime.today())\n",
    "print(f'Initial investment amount: {investment_amount}')\n",
    "nearest_base = 5\n",
    "min_shares = 5\n",
    "long_quotes = td_ameritrade.get_quotes(long_weights.index.to_list())\n",
    "long_shares = long_quotes['regularMarketLastPrice'].to_frame()\n",
    "long_shares['optimalWeights'] = long_weights['optimalWeights']\n",
    "long_shares['invest_amount'] = (long_shares['optimalWeights'] * investment_amount).round(0)\n",
    "long_shares['shares'] = (long_shares['invest_amount'] / long_shares['regularMarketLastPrice']).astype(int)\n",
    "display(long_shares)\n",
    "\n",
    "# Remove symbols that are less than min and re-compute\n",
    "\n",
    "final_long_shares = long_shares.query('shares >= @min_shares').copy()\n",
    "final_long_shares['optimalWeights'] = final_long_shares['optimalWeights'] / final_long_shares['optimalWeights'].sum(axis=0)\n",
    "final_long_shares['invest_amount'] = (final_long_shares['optimalWeights'] * investment_amount).round(0)\n",
    "final_long_shares['shares'] = (final_long_shares['invest_amount'] / final_long_shares['regularMarketLastPrice']).astype(int)\n",
    "final_long_shares['cost'] = final_long_shares['shares'] * final_long_shares['regularMarketLastPrice']\n",
    "display(final_long_shares)\n",
    "print(f'Total cost: {final_long_shares.cost.sum()}')\n"
   ]
  },
  {
   "cell_type": "markdown",
   "metadata": {},
   "source": [
    "### Place buy orders"
   ]
  },
  {
   "cell_type": "code",
   "execution_count": 27,
   "metadata": {},
   "outputs": [
    {
     "data": {
      "text/html": [
       "<div>\n",
       "<style scoped>\n",
       "    .dataframe tbody tr th:only-of-type {\n",
       "        vertical-align: middle;\n",
       "    }\n",
       "\n",
       "    .dataframe tbody tr th {\n",
       "        vertical-align: top;\n",
       "    }\n",
       "\n",
       "    .dataframe thead th {\n",
       "        text-align: right;\n",
       "    }\n",
       "</style>\n",
       "<table border=\"1\" class=\"dataframe\">\n",
       "  <thead>\n",
       "    <tr style=\"text-align: right;\">\n",
       "      <th></th>\n",
       "      <th>assetType</th>\n",
       "      <th>assetMainType</th>\n",
       "      <th>cusip</th>\n",
       "      <th>assetSubType</th>\n",
       "      <th>symbol</th>\n",
       "      <th>description</th>\n",
       "      <th>bidPrice</th>\n",
       "      <th>bidSize</th>\n",
       "      <th>bidId</th>\n",
       "      <th>askPrice</th>\n",
       "      <th>...</th>\n",
       "      <th>regularMarketLastPrice</th>\n",
       "      <th>regularMarketLastSize</th>\n",
       "      <th>regularMarketNetChange</th>\n",
       "      <th>regularMarketTradeTimeInLong</th>\n",
       "      <th>netPercentChangeInDouble</th>\n",
       "      <th>markChangeInDouble</th>\n",
       "      <th>markPercentChangeInDouble</th>\n",
       "      <th>regularMarketPercentChangeInDouble</th>\n",
       "      <th>delayed</th>\n",
       "      <th>realtimeEntitled</th>\n",
       "    </tr>\n",
       "  </thead>\n",
       "  <tbody>\n",
       "    <tr>\n",
       "      <th>GRMN</th>\n",
       "      <td>EQUITY</td>\n",
       "      <td>EQUITY</td>\n",
       "      <td>H2906T109</td>\n",
       "      <td></td>\n",
       "      <td>GRMN</td>\n",
       "      <td>Garmin Ltd. Common Stock (Switzerland)</td>\n",
       "      <td>89.82</td>\n",
       "      <td>100</td>\n",
       "      <td>T</td>\n",
       "      <td>91.13</td>\n",
       "      <td>...</td>\n",
       "      <td>91.08</td>\n",
       "      <td>372</td>\n",
       "      <td>0.0</td>\n",
       "      <td>1669413600004</td>\n",
       "      <td>-0.0878</td>\n",
       "      <td>0.00</td>\n",
       "      <td>0.0000</td>\n",
       "      <td>0.0</td>\n",
       "      <td>True</td>\n",
       "      <td>False</td>\n",
       "    </tr>\n",
       "    <tr>\n",
       "      <th>OKE</th>\n",
       "      <td>EQUITY</td>\n",
       "      <td>EQUITY</td>\n",
       "      <td>682680103</td>\n",
       "      <td></td>\n",
       "      <td>OKE</td>\n",
       "      <td>ONEOK, Inc. Common Stock</td>\n",
       "      <td>63.75</td>\n",
       "      <td>100</td>\n",
       "      <td>P</td>\n",
       "      <td>64.48</td>\n",
       "      <td>...</td>\n",
       "      <td>65.42</td>\n",
       "      <td>1024</td>\n",
       "      <td>0.0</td>\n",
       "      <td>1669413600001</td>\n",
       "      <td>-2.1706</td>\n",
       "      <td>-0.94</td>\n",
       "      <td>-1.4369</td>\n",
       "      <td>0.0</td>\n",
       "      <td>True</td>\n",
       "      <td>False</td>\n",
       "    </tr>\n",
       "    <tr>\n",
       "      <th>UAL</th>\n",
       "      <td>EQUITY</td>\n",
       "      <td>EQUITY</td>\n",
       "      <td>910047109</td>\n",
       "      <td></td>\n",
       "      <td>UAL</td>\n",
       "      <td>United Airlines Holdings, Inc. - Common Stock</td>\n",
       "      <td>43.89</td>\n",
       "      <td>2000</td>\n",
       "      <td>P</td>\n",
       "      <td>44.00</td>\n",
       "      <td>...</td>\n",
       "      <td>44.42</td>\n",
       "      <td>1014</td>\n",
       "      <td>0.0</td>\n",
       "      <td>1669399200670</td>\n",
       "      <td>-1.1932</td>\n",
       "      <td>-0.42</td>\n",
       "      <td>-0.9455</td>\n",
       "      <td>0.0</td>\n",
       "      <td>True</td>\n",
       "      <td>False</td>\n",
       "    </tr>\n",
       "    <tr>\n",
       "      <th>WTW</th>\n",
       "      <td>EQUITY</td>\n",
       "      <td>EQUITY</td>\n",
       "      <td>G96629103</td>\n",
       "      <td></td>\n",
       "      <td>WTW</td>\n",
       "      <td>Willis Towers Watson Public Limited Company - ...</td>\n",
       "      <td>233.72</td>\n",
       "      <td>100</td>\n",
       "      <td>Q</td>\n",
       "      <td>252.77</td>\n",
       "      <td>...</td>\n",
       "      <td>244.02</td>\n",
       "      <td>225</td>\n",
       "      <td>0.0</td>\n",
       "      <td>1669399200985</td>\n",
       "      <td>-0.2541</td>\n",
       "      <td>0.00</td>\n",
       "      <td>0.0000</td>\n",
       "      <td>0.0</td>\n",
       "      <td>True</td>\n",
       "      <td>False</td>\n",
       "    </tr>\n",
       "  </tbody>\n",
       "</table>\n",
       "<p>4 rows × 49 columns</p>\n",
       "</div>"
      ],
      "text/plain": [
       "     assetType assetMainType      cusip assetSubType symbol  \\\n",
       "GRMN    EQUITY        EQUITY  H2906T109                GRMN   \n",
       "OKE     EQUITY        EQUITY  682680103                 OKE   \n",
       "UAL     EQUITY        EQUITY  910047109                 UAL   \n",
       "WTW     EQUITY        EQUITY  G96629103                 WTW   \n",
       "\n",
       "                                            description  bidPrice  bidSize  \\\n",
       "GRMN             Garmin Ltd. Common Stock (Switzerland)     89.82      100   \n",
       "OKE                            ONEOK, Inc. Common Stock     63.75      100   \n",
       "UAL       United Airlines Holdings, Inc. - Common Stock     43.89     2000   \n",
       "WTW   Willis Towers Watson Public Limited Company - ...    233.72      100   \n",
       "\n",
       "     bidId  askPrice  ...  regularMarketLastPrice regularMarketLastSize  \\\n",
       "GRMN     T     91.13  ...                   91.08                   372   \n",
       "OKE      P     64.48  ...                   65.42                  1024   \n",
       "UAL      P     44.00  ...                   44.42                  1014   \n",
       "WTW      Q    252.77  ...                  244.02                   225   \n",
       "\n",
       "      regularMarketNetChange  regularMarketTradeTimeInLong  \\\n",
       "GRMN                     0.0                 1669413600004   \n",
       "OKE                      0.0                 1669413600001   \n",
       "UAL                      0.0                 1669399200670   \n",
       "WTW                      0.0                 1669399200985   \n",
       "\n",
       "     netPercentChangeInDouble  markChangeInDouble  markPercentChangeInDouble  \\\n",
       "GRMN                  -0.0878                0.00                     0.0000   \n",
       "OKE                   -2.1706               -0.94                    -1.4369   \n",
       "UAL                   -1.1932               -0.42                    -0.9455   \n",
       "WTW                   -0.2541                0.00                     0.0000   \n",
       "\n",
       "      regularMarketPercentChangeInDouble delayed  realtimeEntitled  \n",
       "GRMN                                 0.0    True             False  \n",
       "OKE                                  0.0    True             False  \n",
       "UAL                                  0.0    True             False  \n",
       "WTW                                  0.0    True             False  \n",
       "\n",
       "[4 rows x 49 columns]"
      ]
     },
     "metadata": {},
     "output_type": "display_data"
    },
    {
     "data": {
      "text/html": [
       "<div>\n",
       "<style scoped>\n",
       "    .dataframe tbody tr th:only-of-type {\n",
       "        vertical-align: middle;\n",
       "    }\n",
       "\n",
       "    .dataframe tbody tr th {\n",
       "        vertical-align: top;\n",
       "    }\n",
       "\n",
       "    .dataframe thead th {\n",
       "        text-align: right;\n",
       "    }\n",
       "</style>\n",
       "<table border=\"1\" class=\"dataframe\">\n",
       "  <thead>\n",
       "    <tr style=\"text-align: right;\">\n",
       "      <th></th>\n",
       "      <th>cusip</th>\n",
       "      <th>symbol</th>\n",
       "      <th>description</th>\n",
       "      <th>exchange</th>\n",
       "      <th>assetType</th>\n",
       "      <th>high52</th>\n",
       "      <th>low52</th>\n",
       "      <th>dividendAmount</th>\n",
       "      <th>dividendYield</th>\n",
       "      <th>dividendDate</th>\n",
       "      <th>...</th>\n",
       "      <th>bookValuePerShare</th>\n",
       "      <th>shortIntToFloat</th>\n",
       "      <th>shortIntDayToCover</th>\n",
       "      <th>divGrowthRate3Year</th>\n",
       "      <th>dividendPayAmount</th>\n",
       "      <th>dividendPayDate</th>\n",
       "      <th>beta</th>\n",
       "      <th>vol1DayAvg</th>\n",
       "      <th>vol10DayAvg</th>\n",
       "      <th>vol3MonthAvg</th>\n",
       "    </tr>\n",
       "  </thead>\n",
       "  <tbody>\n",
       "    <tr>\n",
       "      <th>0</th>\n",
       "      <td>910047109</td>\n",
       "      <td>UAL</td>\n",
       "      <td>United Airlines Holdings, Inc. - Common Stock</td>\n",
       "      <td>NASDAQ</td>\n",
       "      <td>EQUITY</td>\n",
       "      <td>53.115</td>\n",
       "      <td>30.54</td>\n",
       "      <td>0.00</td>\n",
       "      <td>0.00</td>\n",
       "      <td></td>\n",
       "      <td>...</td>\n",
       "      <td>0.00000</td>\n",
       "      <td>0.0</td>\n",
       "      <td>0.0</td>\n",
       "      <td>0.0</td>\n",
       "      <td>0.000</td>\n",
       "      <td></td>\n",
       "      <td>1.33715</td>\n",
       "      <td>4824850.0</td>\n",
       "      <td>4824845.0</td>\n",
       "      <td>194452980.0</td>\n",
       "    </tr>\n",
       "    <tr>\n",
       "      <th>1</th>\n",
       "      <td>682680103</td>\n",
       "      <td>OKE</td>\n",
       "      <td>ONEOK, Inc. Common Stock</td>\n",
       "      <td>NYSE</td>\n",
       "      <td>EQUITY</td>\n",
       "      <td>75.070</td>\n",
       "      <td>50.50</td>\n",
       "      <td>3.74</td>\n",
       "      <td>5.72</td>\n",
       "      <td>2022-10-31 00:00:00.000</td>\n",
       "      <td>...</td>\n",
       "      <td>71.99105</td>\n",
       "      <td>0.0</td>\n",
       "      <td>0.0</td>\n",
       "      <td>0.0</td>\n",
       "      <td>0.935</td>\n",
       "      <td>2022-11-14 00:00:00.000</td>\n",
       "      <td>1.67064</td>\n",
       "      <td>2288660.0</td>\n",
       "      <td>2288660.0</td>\n",
       "      <td>54093180.0</td>\n",
       "    </tr>\n",
       "    <tr>\n",
       "      <th>2</th>\n",
       "      <td>H2906T109</td>\n",
       "      <td>GRMN</td>\n",
       "      <td>Garmin Ltd. Common Stock (Switzerland)</td>\n",
       "      <td>NYSE</td>\n",
       "      <td>EQUITY</td>\n",
       "      <td>140.930</td>\n",
       "      <td>76.37</td>\n",
       "      <td>2.92</td>\n",
       "      <td>3.21</td>\n",
       "      <td>2022-12-14 00:00:00.000</td>\n",
       "      <td>...</td>\n",
       "      <td>11.85881</td>\n",
       "      <td>0.0</td>\n",
       "      <td>0.0</td>\n",
       "      <td>0.0</td>\n",
       "      <td>0.730</td>\n",
       "      <td>2022-12-30 00:00:00.000</td>\n",
       "      <td>0.97519</td>\n",
       "      <td>756220.0</td>\n",
       "      <td>756221.0</td>\n",
       "      <td>21442890.0</td>\n",
       "    </tr>\n",
       "  </tbody>\n",
       "</table>\n",
       "<p>3 rows × 50 columns</p>\n",
       "</div>"
      ],
      "text/plain": [
       "       cusip symbol                                    description exchange  \\\n",
       "0  910047109    UAL  United Airlines Holdings, Inc. - Common Stock   NASDAQ   \n",
       "1  682680103    OKE                       ONEOK, Inc. Common Stock     NYSE   \n",
       "2  H2906T109   GRMN         Garmin Ltd. Common Stock (Switzerland)     NYSE   \n",
       "\n",
       "  assetType   high52  low52  dividendAmount  dividendYield  \\\n",
       "0    EQUITY   53.115  30.54            0.00           0.00   \n",
       "1    EQUITY   75.070  50.50            3.74           5.72   \n",
       "2    EQUITY  140.930  76.37            2.92           3.21   \n",
       "\n",
       "              dividendDate  ...  bookValuePerShare  shortIntToFloat  \\\n",
       "0                           ...            0.00000              0.0   \n",
       "1  2022-10-31 00:00:00.000  ...           71.99105              0.0   \n",
       "2  2022-12-14 00:00:00.000  ...           11.85881              0.0   \n",
       "\n",
       "   shortIntDayToCover  divGrowthRate3Year  dividendPayAmount  \\\n",
       "0                 0.0                 0.0              0.000   \n",
       "1                 0.0                 0.0              0.935   \n",
       "2                 0.0                 0.0              0.730   \n",
       "\n",
       "           dividendPayDate     beta  vol1DayAvg  vol10DayAvg  vol3MonthAvg  \n",
       "0                           1.33715   4824850.0    4824845.0   194452980.0  \n",
       "1  2022-11-14 00:00:00.000  1.67064   2288660.0    2288660.0    54093180.0  \n",
       "2  2022-12-30 00:00:00.000  0.97519    756220.0     756221.0    21442890.0  \n",
       "\n",
       "[3 rows x 50 columns]"
      ]
     },
     "execution_count": 27,
     "metadata": {},
     "output_type": "execute_result"
    }
   ],
   "source": [
    "display(td_ameritrade.get_quotes(long_weights.index.to_list()))\n",
    "td_ameritrade.get_fundamental(list(final_long_shares.index))"
   ]
  },
  {
   "cell_type": "code",
   "execution_count": 28,
   "metadata": {},
   "outputs": [
    {
     "name": "stdout",
     "output_type": "stream",
     "text": [
      "2022-11-28 09:48:43.955372\n",
      "Placing BUY order on 755579216 for 24.0 shares of GRMN:EQUITY...\n",
      "Placed BUY order on #---9216 for 24.0 shares of GRMN\n",
      "Placing BUY order on 755579216 for 33.0 shares of OKE:EQUITY...\n",
      "Placed BUY order on #---9216 for 33.0 shares of OKE\n",
      "Placing BUY order on 755579216 for 35.0 shares of UAL:EQUITY...\n",
      "Placed BUY order on #---9216 for 35.0 shares of UAL\n"
     ]
    }
   ],
   "source": [
    "print(datetime.today())\n",
    "#td_ameritrade = amc.AmeritradeRest('maiotradeuser', 'maiotradepw', 'maiotradeclientid')\n",
    "#td_ameritrade.authenticate()\n",
    "td_ameritrade.parse_portfolios_list()\n",
    "account_number = td_ameritrade.unmask_account(masked_account_number)\n",
    "\n",
    "for index, row in final_long_shares.iterrows():\n",
    "    fundamental = td_ameritrade.get_fundamental([index])\n",
    "    print(f'Placing BUY order on {account_number} for {row.shares} shares of {index}:{fundamental.loc[0].assetType}...')\n",
    "    result = td_ameritrade.place_order(account_number, index, fundamental.loc[0].assetType, row.shares, 'BUY')"
   ]
  },
  {
   "cell_type": "code",
   "execution_count": null,
   "metadata": {},
   "outputs": [],
   "source": [
    "number_of_years = 5\n",
    "portfolio_price_histories = amc.AmeritradeRest('maiotradeuser', 'maiotradepw', 'maiotradeclientid').get_price_histories(list(long_shares.index), datetime.today().strftime('%Y-%m-%d'), num_periods=number_of_years)\n",
    "portfolio_close = utils.get_close_values(portfolio_price_histories)\n",
    "utils.compute_log_returns(portfolio_close)[-5:].cumsum().plot()"
   ]
  },
  {
   "cell_type": "markdown",
   "metadata": {},
   "source": [
    "## import ameritrade_functions as amc\n",
    "\n",
    "td_ameritrade = amc.AmeritradeRest('maiotradeuser', 'maiotradepw', 'maiotradeclientid')\n",
    "td_ameritrade.authenticate()\n",
    "td_ameritrade.parse_accounts().loc[masked_account_number]"
   ]
  }
 ],
 "metadata": {
  "kernelspec": {
   "display_name": "Python 3 (ipykernel)",
   "language": "python",
   "name": "python3"
  },
  "language_info": {
   "codemirror_mode": {
    "name": "ipython",
    "version": 3
   },
   "file_extension": ".py",
   "mimetype": "text/x-python",
   "name": "python",
   "nbconvert_exporter": "python",
   "pygments_lexer": "ipython3",
   "version": "3.8.15"
  }
 },
 "nbformat": 4,
 "nbformat_minor": 4
}
