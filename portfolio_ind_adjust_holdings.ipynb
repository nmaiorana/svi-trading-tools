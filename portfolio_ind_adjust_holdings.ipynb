{
 "cells": [
  {
   "cell_type": "markdown",
   "metadata": {},
   "source": [
    "# Portfolio Workflow"
   ]
  },
  {
   "cell_type": "markdown",
   "metadata": {},
   "source": [
    "## Use the last week to determine current portfolio mix"
   ]
  },
  {
   "cell_type": "code",
   "execution_count": 2,
   "metadata": {},
   "outputs": [
    {
     "name": "stdout",
     "output_type": "stream",
     "text": [
      "2022-11-22 11:44:11,749|IndHoldingsAdjustement|INFO|Python version: 3.8.15\n",
      "2022-11-22 11:44:11,751|IndHoldingsAdjustement|INFO|Pandas version: 1.5.1\n"
     ]
    }
   ],
   "source": [
    "from platform import python_version\n",
    "import configparser\n",
    "import logging.config\n",
    "import pandas as pd\n",
    "import pickle\n",
    "import matplotlib.pyplot as plt\n",
    "from datetime import datetime\n",
    "import time\n",
    "import math\n",
    "\n",
    "import portfolio_optimizer\n",
    "from portfolio_optimizer import OptimalHoldings\n",
    "import trading_factors_yahoo as alpha_factors\n",
    "import ameritrade_functions as amc\n",
    "import utils as utils\n",
    "\n",
    "logging.config.fileConfig('./config/logging.ini')\n",
    "logger = logging.getLogger('IndHoldingsAdjustement')\n",
    "logger.info(f'Python version: {python_version()}')\n",
    "logger.info(f'Pandas version: {pd.__version__}')\n",
    "\n",
    "config = configparser.ConfigParser()\n",
    "config.read('./config/config.ini')\n",
    "default_config = config['IND']\n",
    "\n",
    "# Which account are we interested in\n",
    "masked_account_number = default_config['masked_account_number']\n",
    "account_portfolios_file_name = 'data/portfolio_data.csv'\n",
    "portfolio_file_name = 'data/portfolio_' + masked_account_number[-4:] + '.csv'\n",
    "price_histories_file_name = '../data/price_histories_yahoo.csv'"
   ]
  },
  {
   "cell_type": "code",
   "execution_count": 2,
   "metadata": {},
   "outputs": [
    {
     "name": "stdout",
     "output_type": "stream",
     "text": [
      "2022-11-20 21:33:42,492|IndHoldingsAdjustement|INFO|PRICE_HISTORIES_FILE|./data/price_histories_yahoo.csv...\n",
      "2022-11-20 21:33:43,702|IndHoldingsAdjustement|INFO|PRICE_HISTORIES|2017-11-20 00:00:00|2022-11-18 00:00:00\n",
      "2022-11-20 21:33:43,739|numexpr.utils|INFO|NumExpr defaulting to 4 threads.\n",
      "2022-11-20 21:33:43,779|IndHoldingsAdjustement|INFO|AI_ALPHA_FACTORS_FILE|./data/alpha_vectors.csv\n",
      "2022-11-20 21:33:43,779|IndHoldingsAdjustement|INFO|BETA_FACTORS_FILE|./data/daily_beta.pickle\n",
      "2022-11-20 21:33:43,987|IndHoldingsAdjustement|INFO|ALPHA_STOCKS|501\n"
     ]
    }
   ],
   "source": [
    "price_histories_file_name = default_config[\"DataDirectory\"] + '/' + default_config[\"PriceHistoriesFileName\"]\n",
    "logger.info(f'PRICE_HISTORIES_FILE|{price_histories_file_name}...')\n",
    "price_histories = pd.read_csv(price_histories_file_name, header=[0, 1], index_col=[0], parse_dates=True, low_memory=False)\n",
    "logger.info(f'PRICE_HISTORIES|{price_histories.index.min()}|{price_histories.index.max()}')\n",
    "returns = alpha_factors.FactorReturns(price_histories).factor_data\n",
    "\n",
    "ai_alpha_factors_file_name = default_config['DataDirectory'] + '/' + default_config['AIAlphaFileName']\n",
    "logger.info(f'AI_ALPHA_FACTORS_FILE|{ai_alpha_factors_file_name}')\n",
    "\n",
    "beta_factors_file_name = default_config[\"DataDirectory\"] + '/' + default_config[\"BetaFactorsFileName\"]\n",
    "logger.info(f'BETA_FACTORS_FILE|{beta_factors_file_name}')\n",
    "\n",
    "alpha_vectors = pd.read_csv(ai_alpha_factors_file_name, parse_dates=['Date']).set_index(['Date']).sort_index()\n",
    "logger.info(f'ALPHA_STOCKS|{len(alpha_vectors.columns)}')"
   ]
  },
  {
   "cell_type": "code",
   "execution_count": 3,
   "metadata": {},
   "outputs": [
    {
     "name": "stdout",
     "output_type": "stream",
     "text": [
      "2022-11-20 21:33:44,006|IndHoldingsAdjustement|INFO|OPTIMIZATION|risk_cap|0.018\n",
      "2022-11-20 21:33:44,007|IndHoldingsAdjustement|INFO|OPTIMIZATION|weights_max|0.3\n",
      "2022-11-20 21:33:44,008|IndHoldingsAdjustement|INFO|OPTIMIZATION|weights_min|0.0\n"
     ]
    }
   ],
   "source": [
    "risk_cap = float(default_config['risk_cap'])\n",
    "weights_max = float(default_config['weights_max'])\n",
    "weights_min = float(default_config['weights_min'])\n",
    "logger.info(f'OPTIMIZATION|risk_cap|{risk_cap}')\n",
    "logger.info(f'OPTIMIZATION|weights_max|{weights_max}')\n",
    "logger.info(f'OPTIMIZATION|weights_min|{weights_min}')"
   ]
  },
  {
   "cell_type": "code",
   "execution_count": 4,
   "metadata": {},
   "outputs": [
    {
     "data": {
      "application/vnd.jupyter.widget-view+json": {
       "model_id": "5bb4b43d083c44dcbb1418d61573a7fe",
       "version_major": 2,
       "version_minor": 0
      },
      "text/plain": [
       "Tickers:   0%|          | 0/501 [00:00<?, ?Finvis Postings/s]"
      ]
     },
     "metadata": {},
     "output_type": "display_data"
    },
    {
     "data": {
      "application/vnd.jupyter.widget-view+json": {
       "model_id": "3780512d151e456d8478a239f3bf00bb",
       "version_major": 2,
       "version_minor": 0
      },
      "text/plain": [
       "News Tables:   0%|          | 0/501 [00:00<?, ?News Table Items/s]"
      ]
     },
     "metadata": {},
     "output_type": "display_data"
    }
   ],
   "source": [
    "reduced_stocks = utils.reduce_universe_by_sentiment(alpha_vectors.columns)"
   ]
  },
  {
   "cell_type": "code",
   "execution_count": 5,
   "metadata": {},
   "outputs": [
    {
     "name": "stdout",
     "output_type": "stream",
     "text": [
      "2022-11-20 21:37:29,618|IndHoldingsAdjustement|INFO|SENTIMENT_REDUCTION|0.85|501->427\n"
     ]
    }
   ],
   "source": [
    "# Error check to make sure we didn't reduce by too much\n",
    "\n",
    "pct_red = len(reduced_stocks) / len(alpha_vectors.columns)\n",
    "logger.info(f'SENTIMENT_REDUCTION|{pct_red:0.2f}|{len(alpha_vectors.columns)}->{len(reduced_stocks)}')\n",
    "if pct_red < 0.50:\n",
    "    logger.error(f'SENTIMENT_REDUCTION|OVER_REDUCED|{len(alpha_vectors.columns)}->{len(reduced_stocks)}')\n",
    "    raise SystemExit"
   ]
  },
  {
   "cell_type": "code",
   "execution_count": 6,
   "metadata": {},
   "outputs": [
    {
     "name": "stdout",
     "output_type": "stream",
     "text": [
      "2022-11-20 21:37:29,661|IndHoldingsAdjustement|INFO|FINAL_ALPHA_STOCKS|427\n",
      "2022-11-20 21:37:29,714|IndHoldingsAdjustement|INFO|OPT_DATE|2022-11-18 00:00:00\n"
     ]
    }
   ],
   "source": [
    "final_alhpa_vectors = alpha_vectors[reduced_stocks]\n",
    "logger.info(f'FINAL_ALPHA_STOCKS|{len(final_alhpa_vectors.columns)}')\n",
    "opt_date = final_alhpa_vectors.index[-1]\n",
    "start_of_returns = opt_date - pd.offsets.DateOffset(years=1)\n",
    "final_beta_returns = returns[reduced_stocks].loc[start_of_returns:opt_date]\n",
    "risk_model = alpha_factors.RiskModelPCA(final_beta_returns, 1, 20)\n",
    "logger.info(f'OPT_DATE|{opt_date}')\n",
    "alpha_vector = pd.DataFrame(final_alhpa_vectors.loc[opt_date])\n",
    "optimal_weights = OptimalHoldings(risk_cap=risk_cap,weights_max=weights_max, weights_min=weights_min).find(alpha_vector, risk_model.factor_betas_, risk_model.factor_cov_matrix_, risk_model.idiosyncratic_var_vector_)"
   ]
  },
  {
   "cell_type": "code",
   "execution_count": 7,
   "metadata": {},
   "outputs": [
    {
     "name": "stdout",
     "output_type": "stream",
     "text": [
      "2022-11-20 21:37:42,780|IndHoldingsAdjustement|INFO|AJD_PORT_VARIANCE|0.01323679\n"
     ]
    },
    {
     "data": {
      "image/png": "[encoded data removed]",
      "text/plain": [
       "<Figure size 1440x576 with 1 Axes>"
      ]
     },
     "metadata": {
      "needs_background": "light"
     },
     "output_type": "display_data"
    }
   ],
   "source": [
    "long_weights = optimal_weights[(100 * optimal_weights['optimalWeights']).round() > 5.0]\n",
    "returns[-252:][long_weights.index.to_list()].cumsum().plot(figsize=(20,8))\n",
    "logger.info(f'AJD_PORT_VARIANCE|{risk_model.compute_portfolio_variance(optimal_weights):.8f}')"
   ]
  },
  {
   "cell_type": "code",
   "execution_count": 8,
   "metadata": {},
   "outputs": [
    {
     "name": "stdout",
     "output_type": "stream",
     "text": [
      "2022-11-20 21:37:43,048|IndHoldingsAdjustement|INFO|STOCK|ETR                 |HOLDING|0.100000\n",
      "2022-11-20 21:37:43,049|IndHoldingsAdjustement|INFO|STOCK|HSY                 |HOLDING|0.300000\n",
      "2022-11-20 21:37:43,051|IndHoldingsAdjustement|INFO|STOCK|VTR                 |HOLDING|0.300000\n",
      "2022-11-20 21:37:43,054|IndHoldingsAdjustement|INFO|STOCK|WAB                 |HOLDING|0.300000\n"
     ]
    }
   ],
   "source": [
    "for index, row in long_weights.iterrows():\n",
    "    logger.info(f'STOCK|{index:20}|HOLDING|{row.optimalWeights:2f}')"
   ]
  },
  {
   "cell_type": "code",
   "execution_count": 10,
   "metadata": {},
   "outputs": [
    {
     "data": {
      "text/plain": [
       "<module 'ameritrade_functions' from 'c:\\\\users\\\\hp-z440\\\\anaconda projects\\\\svi-trading-tools\\\\tools\\\\ameritrade_functions.py'>"
      ]
     },
     "execution_count": 10,
     "metadata": {},
     "output_type": "execute_result"
    }
   ],
   "source": [
    "import importlib\n",
    "importlib.reload(amc)"
   ]
  },
  {
   "cell_type": "code",
   "execution_count": 11,
   "metadata": {},
   "outputs": [
    {
     "data": {
      "text/html": [
       "<div>\n",
       "<style scoped>\n",
       "    .dataframe tbody tr th:only-of-type {\n",
       "        vertical-align: middle;\n",
       "    }\n",
       "\n",
       "    .dataframe tbody tr th {\n",
       "        vertical-align: top;\n",
       "    }\n",
       "\n",
       "    .dataframe thead th {\n",
       "        text-align: right;\n",
       "    }\n",
       "</style>\n",
       "<table border=\"1\" class=\"dataframe\">\n",
       "  <thead>\n",
       "    <tr style=\"text-align: right;\">\n",
       "      <th></th>\n",
       "      <th>cusip</th>\n",
       "      <th>symbol</th>\n",
       "      <th>description</th>\n",
       "      <th>exchange</th>\n",
       "      <th>assetType</th>\n",
       "      <th>high52</th>\n",
       "      <th>low52</th>\n",
       "      <th>dividendAmount</th>\n",
       "      <th>dividendYield</th>\n",
       "      <th>dividendDate</th>\n",
       "      <th>...</th>\n",
       "      <th>bookValuePerShare</th>\n",
       "      <th>shortIntToFloat</th>\n",
       "      <th>shortIntDayToCover</th>\n",
       "      <th>divGrowthRate3Year</th>\n",
       "      <th>dividendPayAmount</th>\n",
       "      <th>dividendPayDate</th>\n",
       "      <th>beta</th>\n",
       "      <th>vol1DayAvg</th>\n",
       "      <th>vol10DayAvg</th>\n",
       "      <th>vol3MonthAvg</th>\n",
       "    </tr>\n",
       "  </thead>\n",
       "  <tbody>\n",
       "    <tr>\n",
       "      <th>0</th>\n",
       "      <td>29364G103</td>\n",
       "      <td>ETR</td>\n",
       "      <td>Entergy Corporation Common Stock</td>\n",
       "      <td>NYSE</td>\n",
       "      <td>EQUITY</td>\n",
       "      <td>126.815</td>\n",
       "      <td>94.94</td>\n",
       "      <td>4.280</td>\n",
       "      <td>3.82</td>\n",
       "      <td>2022-11-10 00:00:00.000</td>\n",
       "      <td>...</td>\n",
       "      <td>4.93359</td>\n",
       "      <td>0.0</td>\n",
       "      <td>0.0</td>\n",
       "      <td>0.0</td>\n",
       "      <td>1.070</td>\n",
       "      <td>2022-12-01 00:00:00.000</td>\n",
       "      <td>0.62159</td>\n",
       "      <td>1121350.0</td>\n",
       "      <td>1121349.0</td>\n",
       "      <td>24871780.0</td>\n",
       "    </tr>\n",
       "    <tr>\n",
       "      <th>1</th>\n",
       "      <td>92276F100</td>\n",
       "      <td>VTR</td>\n",
       "      <td>Ventas, Inc. Common Stock</td>\n",
       "      <td>NYSE</td>\n",
       "      <td>EQUITY</td>\n",
       "      <td>64.020</td>\n",
       "      <td>35.33</td>\n",
       "      <td>1.800</td>\n",
       "      <td>4.08</td>\n",
       "      <td>2022-09-30 00:00:00.000</td>\n",
       "      <td>...</td>\n",
       "      <td>0.00000</td>\n",
       "      <td>0.0</td>\n",
       "      <td>0.0</td>\n",
       "      <td>0.0</td>\n",
       "      <td>0.450</td>\n",
       "      <td>2022-10-14 00:00:00.000</td>\n",
       "      <td>1.16199</td>\n",
       "      <td>2548040.0</td>\n",
       "      <td>2548037.0</td>\n",
       "      <td>46970510.0</td>\n",
       "    </tr>\n",
       "    <tr>\n",
       "      <th>2</th>\n",
       "      <td>929740108</td>\n",
       "      <td>WAB</td>\n",
       "      <td>Westinghouse Air Brake Technologies Corporatio...</td>\n",
       "      <td>NYSE</td>\n",
       "      <td>EQUITY</td>\n",
       "      <td>102.110</td>\n",
       "      <td>78.26</td>\n",
       "      <td>0.600</td>\n",
       "      <td>0.61</td>\n",
       "      <td>2022-11-10 00:00:00.000</td>\n",
       "      <td>...</td>\n",
       "      <td>18.88636</td>\n",
       "      <td>0.0</td>\n",
       "      <td>0.0</td>\n",
       "      <td>0.0</td>\n",
       "      <td>0.150</td>\n",
       "      <td>2022-11-28 00:00:00.000</td>\n",
       "      <td>1.49413</td>\n",
       "      <td>1043350.0</td>\n",
       "      <td>1043345.0</td>\n",
       "      <td>18500300.0</td>\n",
       "    </tr>\n",
       "    <tr>\n",
       "      <th>3</th>\n",
       "      <td>427866108</td>\n",
       "      <td>HSY</td>\n",
       "      <td>The Hershey Company Common Stock</td>\n",
       "      <td>NYSE</td>\n",
       "      <td>EQUITY</td>\n",
       "      <td>241.450</td>\n",
       "      <td>175.08</td>\n",
       "      <td>4.144</td>\n",
       "      <td>1.84</td>\n",
       "      <td>2022-11-17 00:00:00.000</td>\n",
       "      <td>...</td>\n",
       "      <td>29.29452</td>\n",
       "      <td>0.0</td>\n",
       "      <td>0.0</td>\n",
       "      <td>0.0</td>\n",
       "      <td>1.036</td>\n",
       "      <td>2022-12-15 00:00:00.000</td>\n",
       "      <td>0.35304</td>\n",
       "      <td>1312470.0</td>\n",
       "      <td>1312471.0</td>\n",
       "      <td>20067850.0</td>\n",
       "    </tr>\n",
       "  </tbody>\n",
       "</table>\n",
       "<p>4 rows × 50 columns</p>\n",
       "</div>"
      ],
      "text/plain": [
       "       cusip symbol                                        description  \\\n",
       "0  29364G103    ETR                   Entergy Corporation Common Stock   \n",
       "1  92276F100    VTR                          Ventas, Inc. Common Stock   \n",
       "2  929740108    WAB  Westinghouse Air Brake Technologies Corporatio...   \n",
       "3  427866108    HSY                   The Hershey Company Common Stock   \n",
       "\n",
       "  exchange assetType   high52   low52  dividendAmount  dividendYield  \\\n",
       "0     NYSE    EQUITY  126.815   94.94           4.280           3.82   \n",
       "1     NYSE    EQUITY   64.020   35.33           1.800           4.08   \n",
       "2     NYSE    EQUITY  102.110   78.26           0.600           0.61   \n",
       "3     NYSE    EQUITY  241.450  175.08           4.144           1.84   \n",
       "\n",
       "              dividendDate  ...  bookValuePerShare  shortIntToFloat  \\\n",
       "0  2022-11-10 00:00:00.000  ...            4.93359              0.0   \n",
       "1  2022-09-30 00:00:00.000  ...            0.00000              0.0   \n",
       "2  2022-11-10 00:00:00.000  ...           18.88636              0.0   \n",
       "3  2022-11-17 00:00:00.000  ...           29.29452              0.0   \n",
       "\n",
       "   shortIntDayToCover  divGrowthRate3Year  dividendPayAmount  \\\n",
       "0                 0.0                 0.0              1.070   \n",
       "1                 0.0                 0.0              0.450   \n",
       "2                 0.0                 0.0              0.150   \n",
       "3                 0.0                 0.0              1.036   \n",
       "\n",
       "           dividendPayDate     beta  vol1DayAvg  vol10DayAvg  vol3MonthAvg  \n",
       "0  2022-12-01 00:00:00.000  0.62159   1121350.0    1121349.0    24871780.0  \n",
       "1  2022-10-14 00:00:00.000  1.16199   2548040.0    2548037.0    46970510.0  \n",
       "2  2022-11-28 00:00:00.000  1.49413   1043350.0    1043345.0    18500300.0  \n",
       "3  2022-12-15 00:00:00.000  0.35304   1312470.0    1312471.0    20067850.0  \n",
       "\n",
       "[4 rows x 50 columns]"
      ]
     },
     "metadata": {},
     "output_type": "display_data"
    }
   ],
   "source": [
    "td_ameritrade = amc.AmeritradeRest('maiotradeuser', 'maiotradepw', 'maiotradeclientid')\n",
    "display(td_ameritrade.get_fundamental(list(long_weights.index.to_list())))"
   ]
  },
  {
   "cell_type": "code",
   "execution_count": 12,
   "metadata": {},
   "outputs": [
    {
     "data": {
      "application/vnd.jupyter.widget-view+json": {
       "model_id": "3c29d7b3554b46e6b55978ea688b88c2",
       "version_major": 2,
       "version_minor": 0
      },
      "text/plain": [
       "Tickers:   0%|          | 0/4 [00:00<?, ?Finvis Postings/s]"
      ]
     },
     "metadata": {},
     "output_type": "display_data"
    },
    {
     "data": {
      "application/vnd.jupyter.widget-view+json": {
       "model_id": "645fee1e28bc4542b2c17f600588e75b",
       "version_major": 2,
       "version_minor": 0
      },
      "text/plain": [
       "News Tables:   0%|          | 0/4 [00:00<?, ?News Table Items/s]"
      ]
     },
     "metadata": {},
     "output_type": "display_data"
    },
    {
     "data": {
      "image/png": "[encoded data removed]",
      "text/plain": [
       "<Figure size 1440x576 with 1 Axes>"
      ]
     },
     "metadata": {
      "needs_background": "light"
     },
     "output_type": "display_data"
    }
   ],
   "source": [
    "parsed_and_scored_news = utils.get_finvis_stock_sentiment(long_weights.index.to_list()).sort_values(by='date')\n",
    "# Group by date and ticker columns from scored_news and calculate the mean\n",
    "mean_scores = parsed_and_scored_news.groupby(['ticker','date']).mean()\n",
    "# Unstack the column ticker\n",
    "mean_scores = mean_scores.unstack()\n",
    "# Get the cross-section of compound in the 'columns' axis\n",
    "mean_scores = mean_scores.xs('compound', axis=\"columns\").transpose()\n",
    "# Plot a bar chart with pandas\n",
    "mean_scores[-20:].plot(kind = 'bar')\n",
    "plt.grid()"
   ]
  },
  {
   "cell_type": "markdown",
   "metadata": {
    "tags": []
   },
   "source": [
    "## First lets see which stocks we already own for a specific account\n",
    "\n",
    "I only want to work with Equity investments. This is kind of confusing, but at the account level assets that can be traded are call \"EQUITY\". When you get quotes for each asset, the same asset can be something like \"ETF\".\n",
    "\n",
    "I also use Ameritrade's portfolio planner tool to create an asset mix based off of their reccomendations. I don't want these stocks (or in my case mutual funds and ETFs) to be part of this analysis. So I'll remove them here."
   ]
  },
  {
   "cell_type": "markdown",
   "metadata": {},
   "source": [
    "## Configure Ameritrade Information\n",
    "\n",
    "Ameritrade credentials are stored in environment variables to keep from having unencrypted passwords stored on disk.\n",
    "\n",
    "The module automatically masks the account numbers to protect the actual accounts. An Ameritrade user can have many investment accounts. We will be working with only one for this demonstration."
   ]
  },
  {
   "cell_type": "markdown",
   "metadata": {},
   "source": [
    "## Authentication Tokens\n",
    "\n",
    "To get data from Ameritrade you will need to obtains a short time use token (there is a re-use token, but I have not coded it yet.) You only need to do this if you\n",
    "are going to use an existing Ameritrade account to define an initial set of stocks to analyze.\n",
    "\n",
    "To obtain a token, you will need to have a Chrome driver located somewhere on your system. This will allow the module to use your credentials to obtain an authentication token.\n",
    "\n",
    "For security reasons, I sugges using environment variables to store your credential information. If you store them in property files, or just code them into your notebook, you risk sharing the information with others if you use GitHub or some other SCCS. This also makes it easier to have them availabe from project to project in your development environment\n",
    "\n",
    "<span style=\"color:blue\">Note: *Account numbers are masked for security purposes.*</span>"
   ]
  },
  {
   "cell_type": "code",
   "execution_count": 13,
   "metadata": {},
   "outputs": [
    {
     "name": "stderr",
     "output_type": "stream",
     "text": [
      "\n",
      "\n"
     ]
    },
    {
     "name": "stdout",
     "output_type": "stream",
     "text": [
      "2022-11-20 22:07:40,555|WDM|INFO|\n",
      "\n"
     ]
    },
    {
     "name": "stderr",
     "output_type": "stream",
     "text": [
      "====== WebDriver manager ======\n"
     ]
    },
    {
     "name": "stdout",
     "output_type": "stream",
     "text": [
      "2022-11-20 22:07:40,558|WDM|INFO|====== WebDriver manager ======\n"
     ]
    },
    {
     "name": "stderr",
     "output_type": "stream",
     "text": [
      "Current google-chrome version is 107.0.5304\n"
     ]
    },
    {
     "name": "stdout",
     "output_type": "stream",
     "text": [
      "2022-11-20 22:07:40,597|WDM|INFO|Current google-chrome version is 107.0.5304\n"
     ]
    },
    {
     "name": "stderr",
     "output_type": "stream",
     "text": [
      "Get LATEST chromedriver version for 107.0.5304 google-chrome\n"
     ]
    },
    {
     "name": "stdout",
     "output_type": "stream",
     "text": [
      "2022-11-20 22:07:40,598|WDM|INFO|Get LATEST chromedriver version for 107.0.5304 google-chrome\n"
     ]
    },
    {
     "name": "stderr",
     "output_type": "stream",
     "text": [
      "Driver [C:\\Users\\HP-Z440\\.wdm\\drivers\\chromedriver\\win32\\107.0.5304.62\\chromedriver.exe] found in cache\n"
     ]
    },
    {
     "name": "stdout",
     "output_type": "stream",
     "text": [
      "2022-11-20 22:07:40,663|WDM|INFO|Driver [C:\\Users\\HP-Z440\\.wdm\\drivers\\chromedriver\\win32\\107.0.5304.62\\chromedriver.exe] found in cache\n",
      "2022-11-20 22:08:19,895|IndHoldingsAdjustement|INFO|You have authorization\n"
     ]
    }
   ],
   "source": [
    "td_ameritrade = amc.AmeritradeRest('maiotradeuser', 'maiotradepw', 'maiotradeclientid')\n",
    "td_ameritrade.authenticate()\n",
    "\n",
    "if len(td_ameritrade.authorization) == 0:\n",
    "    logger.error(f'Error: No authorization data: {td_ameritrade.authorization}')\n",
    "    raise Exeption\n",
    "else:\n",
    "    logger.info('You have authorization')"
   ]
  },
  {
   "cell_type": "code",
   "execution_count": 14,
   "metadata": {},
   "outputs": [
    {
     "name": "stdout",
     "output_type": "stream",
     "text": [
      "2022-11-20 22:08:24,417|IndHoldingsAdjustement|INFO|TRADE_DATE|2022-11-20 22:08:24.417022\n",
      "2022-11-20 22:08:26,701|IndHoldingsAdjustement|INFO|Full Equity Portfolio:\n"
     ]
    },
    {
     "data": {
      "text/html": [
       "<div>\n",
       "<style scoped>\n",
       "    .dataframe tbody tr th:only-of-type {\n",
       "        vertical-align: middle;\n",
       "    }\n",
       "\n",
       "    .dataframe tbody tr th {\n",
       "        vertical-align: top;\n",
       "    }\n",
       "\n",
       "    .dataframe thead th {\n",
       "        text-align: right;\n",
       "    }\n",
       "</style>\n",
       "<table border=\"1\" class=\"dataframe\">\n",
       "  <thead>\n",
       "    <tr style=\"text-align: right;\">\n",
       "      <th></th>\n",
       "      <th></th>\n",
       "      <th>shortQuantity</th>\n",
       "      <th>averagePrice</th>\n",
       "      <th>currentDayCost</th>\n",
       "      <th>currentDayProfitLoss</th>\n",
       "      <th>currentDayProfitLossPercentage</th>\n",
       "      <th>longQuantity</th>\n",
       "      <th>settledLongQuantity</th>\n",
       "      <th>settledShortQuantity</th>\n",
       "      <th>marketValue</th>\n",
       "      <th>maintenanceRequirement</th>\n",
       "      <th>previousSessionLongQuantity</th>\n",
       "      <th>assetType</th>\n",
       "      <th>cusip</th>\n",
       "      <th>description</th>\n",
       "      <th>type</th>\n",
       "    </tr>\n",
       "    <tr>\n",
       "      <th>account</th>\n",
       "      <th>symbol</th>\n",
       "      <th></th>\n",
       "      <th></th>\n",
       "      <th></th>\n",
       "      <th></th>\n",
       "      <th></th>\n",
       "      <th></th>\n",
       "      <th></th>\n",
       "      <th></th>\n",
       "      <th></th>\n",
       "      <th></th>\n",
       "      <th></th>\n",
       "      <th></th>\n",
       "      <th></th>\n",
       "      <th></th>\n",
       "      <th></th>\n",
       "    </tr>\n",
       "  </thead>\n",
       "  <tbody>\n",
       "    <tr>\n",
       "      <th rowspan=\"5\" valign=\"top\">#---9216</th>\n",
       "      <th>JNJ</th>\n",
       "      <td>0.0</td>\n",
       "      <td>171.62000</td>\n",
       "      <td>0.0</td>\n",
       "      <td>0.0</td>\n",
       "      <td>0.0</td>\n",
       "      <td>10.0</td>\n",
       "      <td>10.0</td>\n",
       "      <td>0.0</td>\n",
       "      <td>1762.00</td>\n",
       "      <td>528.60</td>\n",
       "      <td>10.0</td>\n",
       "      <td>EQUITY</td>\n",
       "      <td>478160104</td>\n",
       "      <td>0</td>\n",
       "      <td>0</td>\n",
       "    </tr>\n",
       "    <tr>\n",
       "      <th>RSG</th>\n",
       "      <td>0.0</td>\n",
       "      <td>132.26538</td>\n",
       "      <td>0.0</td>\n",
       "      <td>0.0</td>\n",
       "      <td>0.0</td>\n",
       "      <td>13.0</td>\n",
       "      <td>13.0</td>\n",
       "      <td>0.0</td>\n",
       "      <td>1740.57</td>\n",
       "      <td>522.17</td>\n",
       "      <td>13.0</td>\n",
       "      <td>EQUITY</td>\n",
       "      <td>760759100</td>\n",
       "      <td>0</td>\n",
       "      <td>0</td>\n",
       "    </tr>\n",
       "    <tr>\n",
       "      <th>FISV</th>\n",
       "      <td>0.0</td>\n",
       "      <td>100.40059</td>\n",
       "      <td>0.0</td>\n",
       "      <td>0.0</td>\n",
       "      <td>0.0</td>\n",
       "      <td>17.0</td>\n",
       "      <td>17.0</td>\n",
       "      <td>0.0</td>\n",
       "      <td>1697.62</td>\n",
       "      <td>509.29</td>\n",
       "      <td>17.0</td>\n",
       "      <td>EQUITY</td>\n",
       "      <td>337738108</td>\n",
       "      <td>0</td>\n",
       "      <td>0</td>\n",
       "    </tr>\n",
       "    <tr>\n",
       "      <th>IRM</th>\n",
       "      <td>0.0</td>\n",
       "      <td>52.11000</td>\n",
       "      <td>0.0</td>\n",
       "      <td>0.0</td>\n",
       "      <td>0.0</td>\n",
       "      <td>11.0</td>\n",
       "      <td>11.0</td>\n",
       "      <td>0.0</td>\n",
       "      <td>575.30</td>\n",
       "      <td>172.59</td>\n",
       "      <td>11.0</td>\n",
       "      <td>EQUITY</td>\n",
       "      <td>46284V101</td>\n",
       "      <td>0</td>\n",
       "      <td>0</td>\n",
       "    </tr>\n",
       "    <tr>\n",
       "      <th>FGPHF</th>\n",
       "      <td>0.0</td>\n",
       "      <td>0.21397</td>\n",
       "      <td>0.0</td>\n",
       "      <td>0.0</td>\n",
       "      <td>0.0</td>\n",
       "      <td>5000.0</td>\n",
       "      <td>5000.0</td>\n",
       "      <td>0.0</td>\n",
       "      <td>425.00</td>\n",
       "      <td>0.00</td>\n",
       "      <td>5000.0</td>\n",
       "      <td>EQUITY</td>\n",
       "      <td>Q3860H107</td>\n",
       "      <td>0</td>\n",
       "      <td>0</td>\n",
       "    </tr>\n",
       "  </tbody>\n",
       "</table>\n",
       "</div>"
      ],
      "text/plain": [
       "                 shortQuantity  averagePrice  currentDayCost  \\\n",
       "account  symbol                                                \n",
       "#---9216 JNJ               0.0     171.62000             0.0   \n",
       "         RSG               0.0     132.26538             0.0   \n",
       "         FISV              0.0     100.40059             0.0   \n",
       "         IRM               0.0      52.11000             0.0   \n",
       "         FGPHF             0.0       0.21397             0.0   \n",
       "\n",
       "                 currentDayProfitLoss  currentDayProfitLossPercentage  \\\n",
       "account  symbol                                                         \n",
       "#---9216 JNJ                      0.0                             0.0   \n",
       "         RSG                      0.0                             0.0   \n",
       "         FISV                     0.0                             0.0   \n",
       "         IRM                      0.0                             0.0   \n",
       "         FGPHF                    0.0                             0.0   \n",
       "\n",
       "                 longQuantity  settledLongQuantity  settledShortQuantity  \\\n",
       "account  symbol                                                            \n",
       "#---9216 JNJ             10.0                 10.0                   0.0   \n",
       "         RSG             13.0                 13.0                   0.0   \n",
       "         FISV            17.0                 17.0                   0.0   \n",
       "         IRM             11.0                 11.0                   0.0   \n",
       "         FGPHF         5000.0               5000.0                   0.0   \n",
       "\n",
       "                 marketValue  maintenanceRequirement  \\\n",
       "account  symbol                                        \n",
       "#---9216 JNJ         1762.00                  528.60   \n",
       "         RSG         1740.57                  522.17   \n",
       "         FISV        1697.62                  509.29   \n",
       "         IRM          575.30                  172.59   \n",
       "         FGPHF        425.00                    0.00   \n",
       "\n",
       "                 previousSessionLongQuantity assetType      cusip description  \\\n",
       "account  symbol                                                                 \n",
       "#---9216 JNJ                            10.0    EQUITY  478160104           0   \n",
       "         RSG                            13.0    EQUITY  760759100           0   \n",
       "         FISV                           17.0    EQUITY  337738108           0   \n",
       "         IRM                            11.0    EQUITY  46284V101           0   \n",
       "         FGPHF                        5000.0    EQUITY  Q3860H107           0   \n",
       "\n",
       "                type  \n",
       "account  symbol       \n",
       "#---9216 JNJ       0  \n",
       "         RSG       0  \n",
       "         FISV      0  \n",
       "         IRM       0  \n",
       "         FGPHF     0  "
      ]
     },
     "metadata": {},
     "output_type": "display_data"
    }
   ],
   "source": [
    "logger.info(f'TRADE_DATE|{datetime.today()}')\n",
    "\n",
    "# Specific Portfolio Account\n",
    "equity_investments_df = td_ameritrade.get_account_portfolio_data(masked_account_number, investment_type='EQUITY')\n",
    "logger.info('Full Equity Portfolio:')\n",
    "display(equity_investments_df)"
   ]
  },
  {
   "cell_type": "code",
   "execution_count": 15,
   "metadata": {},
   "outputs": [
    {
     "data": {
      "text/plain": [
       "'Account #---9216 total value:  6809.84'"
      ]
     },
     "metadata": {},
     "output_type": "display_data"
    },
    {
     "data": {
      "text/plain": [
       "account   symbol\n",
       "#---9216  JNJ       1762.00\n",
       "          RSG       1740.57\n",
       "          FISV      1697.62\n",
       "          IRM        575.30\n",
       "          FGPHF      425.00\n",
       "Name: marketValue, dtype: float64"
      ]
     },
     "metadata": {},
     "output_type": "display_data"
    },
    {
     "data": {
      "text/plain": [
       "'Account #---9216 equity value: 6200.49'"
      ]
     },
     "metadata": {},
     "output_type": "display_data"
    },
    {
     "data": {
      "text/plain": [
       "account   symbol\n",
       "#---9216  FGPHF      6.854297\n",
       "          FISV      27.378804\n",
       "          IRM        9.278299\n",
       "          JNJ       28.417109\n",
       "          RSG       28.071491\n",
       "Name: marketValue, dtype: float64"
      ]
     },
     "metadata": {},
     "output_type": "display_data"
    }
   ],
   "source": [
    "total_portfolio_value = td_ameritrade.get_account_value(masked_account_number).round(2)\n",
    "display(f'Account {masked_account_number} total value:  {total_portfolio_value}')\n",
    "\n",
    "equity_investments_df = td_ameritrade.get_account_portfolio_data(masked_account_number, 'EQUITY')\n",
    "port_equi_values = td_ameritrade.get_market_values(masked_account_number, 'EQUITY')\n",
    "display(port_equi_values)\n",
    "total_equity_value = td_ameritrade.get_account_value(masked_account_number, 'EQUITY').round(2)\n",
    "display(f'Account {masked_account_number} equity value: {total_equity_value}')\n",
    "\n",
    "port_weights_equity = td_ameritrade.get_portfolio_weights(masked_account_number, 'EQUITY')\n",
    "display(port_weights_equity*100)"
   ]
  },
  {
   "cell_type": "code",
   "execution_count": 16,
   "metadata": {},
   "outputs": [
    {
     "name": "stdout",
     "output_type": "stream",
     "text": [
      "2022-11-20 22:08:38,336|IndHoldingsAdjustement|INFO|Stocks to sell:\n"
     ]
    },
    {
     "data": {
      "text/html": [
       "<div>\n",
       "<style scoped>\n",
       "    .dataframe tbody tr th:only-of-type {\n",
       "        vertical-align: middle;\n",
       "    }\n",
       "\n",
       "    .dataframe tbody tr th {\n",
       "        vertical-align: top;\n",
       "    }\n",
       "\n",
       "    .dataframe thead th {\n",
       "        text-align: right;\n",
       "    }\n",
       "</style>\n",
       "<table border=\"1\" class=\"dataframe\">\n",
       "  <thead>\n",
       "    <tr style=\"text-align: right;\">\n",
       "      <th></th>\n",
       "      <th></th>\n",
       "      <th>shortQuantity</th>\n",
       "      <th>averagePrice</th>\n",
       "      <th>currentDayCost</th>\n",
       "      <th>currentDayProfitLoss</th>\n",
       "      <th>currentDayProfitLossPercentage</th>\n",
       "      <th>longQuantity</th>\n",
       "      <th>settledLongQuantity</th>\n",
       "      <th>settledShortQuantity</th>\n",
       "      <th>marketValue</th>\n",
       "      <th>maintenanceRequirement</th>\n",
       "      <th>previousSessionLongQuantity</th>\n",
       "      <th>assetType</th>\n",
       "      <th>cusip</th>\n",
       "      <th>description</th>\n",
       "      <th>type</th>\n",
       "    </tr>\n",
       "    <tr>\n",
       "      <th>account</th>\n",
       "      <th>symbol</th>\n",
       "      <th></th>\n",
       "      <th></th>\n",
       "      <th></th>\n",
       "      <th></th>\n",
       "      <th></th>\n",
       "      <th></th>\n",
       "      <th></th>\n",
       "      <th></th>\n",
       "      <th></th>\n",
       "      <th></th>\n",
       "      <th></th>\n",
       "      <th></th>\n",
       "      <th></th>\n",
       "      <th></th>\n",
       "      <th></th>\n",
       "    </tr>\n",
       "  </thead>\n",
       "  <tbody>\n",
       "    <tr>\n",
       "      <th rowspan=\"4\" valign=\"top\">#---9216</th>\n",
       "      <th>JNJ</th>\n",
       "      <td>0.0</td>\n",
       "      <td>171.62000</td>\n",
       "      <td>0.0</td>\n",
       "      <td>0.0</td>\n",
       "      <td>0.0</td>\n",
       "      <td>10.0</td>\n",
       "      <td>10.0</td>\n",
       "      <td>0.0</td>\n",
       "      <td>1762.00</td>\n",
       "      <td>528.60</td>\n",
       "      <td>10.0</td>\n",
       "      <td>EQUITY</td>\n",
       "      <td>478160104</td>\n",
       "      <td>0</td>\n",
       "      <td>0</td>\n",
       "    </tr>\n",
       "    <tr>\n",
       "      <th>RSG</th>\n",
       "      <td>0.0</td>\n",
       "      <td>132.26538</td>\n",
       "      <td>0.0</td>\n",
       "      <td>0.0</td>\n",
       "      <td>0.0</td>\n",
       "      <td>13.0</td>\n",
       "      <td>13.0</td>\n",
       "      <td>0.0</td>\n",
       "      <td>1740.57</td>\n",
       "      <td>522.17</td>\n",
       "      <td>13.0</td>\n",
       "      <td>EQUITY</td>\n",
       "      <td>760759100</td>\n",
       "      <td>0</td>\n",
       "      <td>0</td>\n",
       "    </tr>\n",
       "    <tr>\n",
       "      <th>FISV</th>\n",
       "      <td>0.0</td>\n",
       "      <td>100.40059</td>\n",
       "      <td>0.0</td>\n",
       "      <td>0.0</td>\n",
       "      <td>0.0</td>\n",
       "      <td>17.0</td>\n",
       "      <td>17.0</td>\n",
       "      <td>0.0</td>\n",
       "      <td>1697.62</td>\n",
       "      <td>509.29</td>\n",
       "      <td>17.0</td>\n",
       "      <td>EQUITY</td>\n",
       "      <td>337738108</td>\n",
       "      <td>0</td>\n",
       "      <td>0</td>\n",
       "    </tr>\n",
       "    <tr>\n",
       "      <th>IRM</th>\n",
       "      <td>0.0</td>\n",
       "      <td>52.11000</td>\n",
       "      <td>0.0</td>\n",
       "      <td>0.0</td>\n",
       "      <td>0.0</td>\n",
       "      <td>11.0</td>\n",
       "      <td>11.0</td>\n",
       "      <td>0.0</td>\n",
       "      <td>575.30</td>\n",
       "      <td>172.59</td>\n",
       "      <td>11.0</td>\n",
       "      <td>EQUITY</td>\n",
       "      <td>46284V101</td>\n",
       "      <td>0</td>\n",
       "      <td>0</td>\n",
       "    </tr>\n",
       "  </tbody>\n",
       "</table>\n",
       "</div>"
      ],
      "text/plain": [
       "                 shortQuantity  averagePrice  currentDayCost  \\\n",
       "account  symbol                                                \n",
       "#---9216 JNJ               0.0     171.62000             0.0   \n",
       "         RSG               0.0     132.26538             0.0   \n",
       "         FISV              0.0     100.40059             0.0   \n",
       "         IRM               0.0      52.11000             0.0   \n",
       "\n",
       "                 currentDayProfitLoss  currentDayProfitLossPercentage  \\\n",
       "account  symbol                                                         \n",
       "#---9216 JNJ                      0.0                             0.0   \n",
       "         RSG                      0.0                             0.0   \n",
       "         FISV                     0.0                             0.0   \n",
       "         IRM                      0.0                             0.0   \n",
       "\n",
       "                 longQuantity  settledLongQuantity  settledShortQuantity  \\\n",
       "account  symbol                                                            \n",
       "#---9216 JNJ             10.0                 10.0                   0.0   \n",
       "         RSG             13.0                 13.0                   0.0   \n",
       "         FISV            17.0                 17.0                   0.0   \n",
       "         IRM             11.0                 11.0                   0.0   \n",
       "\n",
       "                 marketValue  maintenanceRequirement  \\\n",
       "account  symbol                                        \n",
       "#---9216 JNJ         1762.00                  528.60   \n",
       "         RSG         1740.57                  522.17   \n",
       "         FISV        1697.62                  509.29   \n",
       "         IRM          575.30                  172.59   \n",
       "\n",
       "                 previousSessionLongQuantity assetType      cusip description  \\\n",
       "account  symbol                                                                 \n",
       "#---9216 JNJ                            10.0    EQUITY  478160104           0   \n",
       "         RSG                            13.0    EQUITY  760759100           0   \n",
       "         FISV                           17.0    EQUITY  337738108           0   \n",
       "         IRM                            11.0    EQUITY  46284V101           0   \n",
       "\n",
       "                type  \n",
       "account  symbol       \n",
       "#---9216 JNJ       0  \n",
       "         RSG       0  \n",
       "         FISV      0  \n",
       "         IRM       0  "
      ]
     },
     "metadata": {},
     "output_type": "display_data"
    }
   ],
   "source": [
    "long_term_stocks = default_config['long_term_stocks'].split()\n",
    "equity_stock_symbols = td_ameritrade.get_investment_symbols(masked_account_number, 'EQUITY')\n",
    "\n",
    "# Filter out non Equity investments\n",
    "current_stocks = td_ameritrade.get_quotes(equity_stock_symbols).query('assetType == \"EQUITY\"').index.tolist()\n",
    "stocks_to_sell = equity_investments_df[equity_investments_df.index.get_level_values('symbol').isin(current_stocks)]\n",
    "stocks_to_sell = stocks_to_sell[~stocks_to_sell.index.get_level_values('symbol').isin(long_term_stocks)]\n",
    "logger.info(f'Stocks to sell:')\n",
    "display(stocks_to_sell)"
   ]
  },
  {
   "cell_type": "markdown",
   "metadata": {},
   "source": [
    "### Submit and montior sell orders"
   ]
  },
  {
   "cell_type": "code",
   "execution_count": 17,
   "metadata": {},
   "outputs": [
    {
     "name": "stderr",
     "output_type": "stream",
     "text": [
      "\n",
      "\n"
     ]
    },
    {
     "name": "stdout",
     "output_type": "stream",
     "text": [
      "2022-11-20 22:09:11,176|WDM|INFO|\n",
      "\n"
     ]
    },
    {
     "name": "stderr",
     "output_type": "stream",
     "text": [
      "====== WebDriver manager ======\n"
     ]
    },
    {
     "name": "stdout",
     "output_type": "stream",
     "text": [
      "2022-11-20 22:09:11,178|WDM|INFO|====== WebDriver manager ======\n"
     ]
    },
    {
     "name": "stderr",
     "output_type": "stream",
     "text": [
      "Current google-chrome version is 107.0.5304\n"
     ]
    },
    {
     "name": "stdout",
     "output_type": "stream",
     "text": [
      "2022-11-20 22:09:11,218|WDM|INFO|Current google-chrome version is 107.0.5304\n"
     ]
    },
    {
     "name": "stderr",
     "output_type": "stream",
     "text": [
      "Get LATEST chromedriver version for 107.0.5304 google-chrome\n"
     ]
    },
    {
     "name": "stdout",
     "output_type": "stream",
     "text": [
      "2022-11-20 22:09:11,220|WDM|INFO|Get LATEST chromedriver version for 107.0.5304 google-chrome\n"
     ]
    },
    {
     "name": "stderr",
     "output_type": "stream",
     "text": [
      "Driver [C:\\Users\\HP-Z440\\.wdm\\drivers\\chromedriver\\win32\\107.0.5304.62\\chromedriver.exe] found in cache\n"
     ]
    },
    {
     "name": "stdout",
     "output_type": "stream",
     "text": [
      "2022-11-20 22:09:11,294|WDM|INFO|Driver [C:\\Users\\HP-Z440\\.wdm\\drivers\\chromedriver\\win32\\107.0.5304.62\\chromedriver.exe] found in cache\n",
      "2022-11-20 22:09:50,693|IndHoldingsAdjustement|INFO|You have authorization\n"
     ]
    }
   ],
   "source": [
    "td_ameritrade = amc.AmeritradeRest('maiotradeuser', 'maiotradepw', 'maiotradeclientid')\n",
    "td_ameritrade.authenticate()\n",
    "\n",
    "if len(td_ameritrade.authorization) == 0:\n",
    "    logger.error(f'Error: No authorization data: {td_ameritrade.authorization}')\n",
    "    raise Exeption\n",
    "else:\n",
    "    logger.info('You have authorization')"
   ]
  },
  {
   "cell_type": "code",
   "execution_count": 18,
   "metadata": {},
   "outputs": [
    {
     "name": "stdout",
     "output_type": "stream",
     "text": [
      "Placing SELL order on #---9216 for 10.0 shares of JNJ...\n",
      "Placed SELL order on #---9216 for 10.0 shares of JNJ\n",
      "Placing SELL order on #---9216 for 13.0 shares of RSG...\n",
      "Placed SELL order on #---9216 for 13.0 shares of RSG\n",
      "Placing SELL order on #---9216 for 17.0 shares of FISV...\n",
      "Placed SELL order on #---9216 for 17.0 shares of FISV\n",
      "Placing SELL order on #---9216 for 11.0 shares of IRM...\n",
      "Placed SELL order on #---9216 for 11.0 shares of IRM\n"
     ]
    }
   ],
   "source": [
    "td_ameritrade.parse_portfolios_list()\n",
    "account_number = td_ameritrade.unmask_account(masked_account_number)\n",
    "sell_result = td_ameritrade.place_bulk_sell_orders(account_number, stocks_to_sell)"
   ]
  },
  {
   "cell_type": "code",
   "execution_count": null,
   "metadata": {},
   "outputs": [],
   "source": [
    "while True:\n",
    "    td_ameritrade = amc.AmeritradeRest('maiotradeuser', 'maiotradepw', 'maiotradeclientid')\n",
    "    td_ameritrade.authenticate()\n",
    "    account_portfolio_df = utils.get_account_portfolio_data(td_ameritrade.parse_portfolios_list(), masked_account_number)\n",
    "    equity_investments_df = utils.get_investments_by_type(account_portfolio_df, investment_type='EQUITY')\n",
    "    stocks_with_sell_orders = equity_investments_df[equity_investments_df['symbol'].isin(stocks_to_sell.symbol.values)]\n",
    "    if len(stocks_with_sell_orders[stocks_with_sell_orders.longQuantity >= 1]) == 0:\n",
    "        break\n",
    "    logger.info(f'\\rStocks to sell|{stocks_with_sell_orders.symbol.values}')\n",
    "    time.sleep(60)\n",
    "    \n",
    "logger.info(f'\\rAll stocks sold|{stocks_to_sell.symbol.values}')\n"
   ]
  },
  {
   "cell_type": "code",
   "execution_count": 19,
   "metadata": {},
   "outputs": [
    {
     "name": "stderr",
     "output_type": "stream",
     "text": [
      "\n",
      "\n"
     ]
    },
    {
     "name": "stdout",
     "output_type": "stream",
     "text": [
      "2022-11-21 09:47:11,090|WDM|INFO|\n",
      "\n"
     ]
    },
    {
     "name": "stderr",
     "output_type": "stream",
     "text": [
      "====== WebDriver manager ======\n"
     ]
    },
    {
     "name": "stdout",
     "output_type": "stream",
     "text": [
      "2022-11-21 09:47:11,097|WDM|INFO|====== WebDriver manager ======\n"
     ]
    },
    {
     "name": "stderr",
     "output_type": "stream",
     "text": [
      "Current google-chrome version is 107.0.5304\n"
     ]
    },
    {
     "name": "stdout",
     "output_type": "stream",
     "text": [
      "2022-11-21 09:47:11,134|WDM|INFO|Current google-chrome version is 107.0.5304\n"
     ]
    },
    {
     "name": "stderr",
     "output_type": "stream",
     "text": [
      "Get LATEST chromedriver version for 107.0.5304 google-chrome\n"
     ]
    },
    {
     "name": "stdout",
     "output_type": "stream",
     "text": [
      "2022-11-21 09:47:11,135|WDM|INFO|Get LATEST chromedriver version for 107.0.5304 google-chrome\n"
     ]
    },
    {
     "name": "stderr",
     "output_type": "stream",
     "text": [
      "Driver [C:\\Users\\HP-Z440\\.wdm\\drivers\\chromedriver\\win32\\107.0.5304.62\\chromedriver.exe] found in cache\n"
     ]
    },
    {
     "name": "stdout",
     "output_type": "stream",
     "text": [
      "2022-11-21 09:47:11,241|WDM|INFO|Driver [C:\\Users\\HP-Z440\\.wdm\\drivers\\chromedriver\\win32\\107.0.5304.62\\chromedriver.exe] found in cache\n"
     ]
    },
    {
     "data": {
      "text/plain": [
       "initialBalances_cashBalance           0.000000\n",
       "initialBalances_totalCash             0.000000\n",
       "initialBalances_equity             6384.930000\n",
       "initialBalances_moneyMarketFund     609.440000\n",
       "currentBalances_cashBalance        5779.020000\n",
       "currentBalances_equity             6388.460000\n",
       "currentBalances_moneyMarketFund     609.440000\n",
       "current_return                        0.000553\n",
       "Name: #---9216, dtype: float64"
      ]
     },
     "metadata": {},
     "output_type": "display_data"
    },
    {
     "name": "stdout",
     "output_type": "stream",
     "text": [
      "5779.02\n",
      "609.44\n",
      "2022-11-21 09:47:50,814|IndHoldingsAdjustement|INFO|INVESTMENT_AMT|6388.460000000001\n"
     ]
    }
   ],
   "source": [
    "td_ameritrade = amc.AmeritradeRest('maiotradeuser', 'maiotradepw', 'maiotradeclientid')\n",
    "td_ameritrade.authenticate()\n",
    "account_balances = td_ameritrade.parse_accounts().loc[masked_account_number]\n",
    "display(account_balances)\n",
    "print(account_balances.currentBalances_cashBalance)\n",
    "print(account_balances.currentBalances_moneyMarketFund)\n",
    "available_cash = account_balances.currentBalances_cashBalance + account_balances.currentBalances_moneyMarketFund\n",
    "logger.info(f'INVESTMENT_AMT|{available_cash}')"
   ]
  },
  {
   "cell_type": "code",
   "execution_count": 20,
   "metadata": {},
   "outputs": [
    {
     "name": "stdout",
     "output_type": "stream",
     "text": [
      "Available cash  : 6388.460000000001\n",
      "Amount to invest: 6000\n"
     ]
    }
   ],
   "source": [
    "print(f'Available cash  : {available_cash}')\n",
    "investment_base = 1000\n",
    "investment_amount = math.floor(available_cash / investment_base) * investment_base\n",
    "print(f'Amount to invest: {investment_amount}')"
   ]
  },
  {
   "cell_type": "code",
   "execution_count": 21,
   "metadata": {},
   "outputs": [
    {
     "data": {
      "text/html": [
       "<div>\n",
       "<style scoped>\n",
       "    .dataframe tbody tr th:only-of-type {\n",
       "        vertical-align: middle;\n",
       "    }\n",
       "\n",
       "    .dataframe tbody tr th {\n",
       "        vertical-align: top;\n",
       "    }\n",
       "\n",
       "    .dataframe thead th {\n",
       "        text-align: right;\n",
       "    }\n",
       "</style>\n",
       "<table border=\"1\" class=\"dataframe\">\n",
       "  <thead>\n",
       "    <tr style=\"text-align: right;\">\n",
       "      <th></th>\n",
       "      <th>optimalWeights</th>\n",
       "    </tr>\n",
       "  </thead>\n",
       "  <tbody>\n",
       "    <tr>\n",
       "      <th>ETR</th>\n",
       "      <td>0.1</td>\n",
       "    </tr>\n",
       "    <tr>\n",
       "      <th>HSY</th>\n",
       "      <td>0.3</td>\n",
       "    </tr>\n",
       "    <tr>\n",
       "      <th>VTR</th>\n",
       "      <td>0.3</td>\n",
       "    </tr>\n",
       "    <tr>\n",
       "      <th>WAB</th>\n",
       "      <td>0.3</td>\n",
       "    </tr>\n",
       "  </tbody>\n",
       "</table>\n",
       "</div>"
      ],
      "text/plain": [
       "     optimalWeights\n",
       "ETR             0.1\n",
       "HSY             0.3\n",
       "VTR             0.3\n",
       "WAB             0.3"
      ]
     },
     "execution_count": 21,
     "metadata": {},
     "output_type": "execute_result"
    }
   ],
   "source": [
    "long_weights"
   ]
  },
  {
   "cell_type": "code",
   "execution_count": 22,
   "metadata": {},
   "outputs": [
    {
     "name": "stdout",
     "output_type": "stream",
     "text": [
      "2022-11-21 09:48:02.373127\n",
      "Initial investment amount: 6000\n"
     ]
    },
    {
     "data": {
      "text/html": [
       "<div>\n",
       "<style scoped>\n",
       "    .dataframe tbody tr th:only-of-type {\n",
       "        vertical-align: middle;\n",
       "    }\n",
       "\n",
       "    .dataframe tbody tr th {\n",
       "        vertical-align: top;\n",
       "    }\n",
       "\n",
       "    .dataframe thead th {\n",
       "        text-align: right;\n",
       "    }\n",
       "</style>\n",
       "<table border=\"1\" class=\"dataframe\">\n",
       "  <thead>\n",
       "    <tr style=\"text-align: right;\">\n",
       "      <th></th>\n",
       "      <th>regularMarketLastPrice</th>\n",
       "      <th>optimalWeights</th>\n",
       "      <th>invest_amount</th>\n",
       "      <th>shares</th>\n",
       "    </tr>\n",
       "  </thead>\n",
       "  <tbody>\n",
       "    <tr>\n",
       "      <th>ETR</th>\n",
       "      <td>111.92</td>\n",
       "      <td>0.1</td>\n",
       "      <td>600.0</td>\n",
       "      <td>5</td>\n",
       "    </tr>\n",
       "    <tr>\n",
       "      <th>HSY</th>\n",
       "      <td>225.21</td>\n",
       "      <td>0.3</td>\n",
       "      <td>1800.0</td>\n",
       "      <td>7</td>\n",
       "    </tr>\n",
       "    <tr>\n",
       "      <th>VTR</th>\n",
       "      <td>44.07</td>\n",
       "      <td>0.3</td>\n",
       "      <td>1800.0</td>\n",
       "      <td>40</td>\n",
       "    </tr>\n",
       "    <tr>\n",
       "      <th>WAB</th>\n",
       "      <td>99.16</td>\n",
       "      <td>0.3</td>\n",
       "      <td>1800.0</td>\n",
       "      <td>18</td>\n",
       "    </tr>\n",
       "  </tbody>\n",
       "</table>\n",
       "</div>"
      ],
      "text/plain": [
       "     regularMarketLastPrice  optimalWeights  invest_amount  shares\n",
       "ETR                  111.92             0.1          600.0       5\n",
       "HSY                  225.21             0.3         1800.0       7\n",
       "VTR                   44.07             0.3         1800.0      40\n",
       "WAB                   99.16             0.3         1800.0      18"
      ]
     },
     "metadata": {},
     "output_type": "display_data"
    },
    {
     "data": {
      "text/html": [
       "<div>\n",
       "<style scoped>\n",
       "    .dataframe tbody tr th:only-of-type {\n",
       "        vertical-align: middle;\n",
       "    }\n",
       "\n",
       "    .dataframe tbody tr th {\n",
       "        vertical-align: top;\n",
       "    }\n",
       "\n",
       "    .dataframe thead th {\n",
       "        text-align: right;\n",
       "    }\n",
       "</style>\n",
       "<table border=\"1\" class=\"dataframe\">\n",
       "  <thead>\n",
       "    <tr style=\"text-align: right;\">\n",
       "      <th></th>\n",
       "      <th>regularMarketLastPrice</th>\n",
       "      <th>optimalWeights</th>\n",
       "      <th>invest_amount</th>\n",
       "      <th>shares</th>\n",
       "      <th>cost</th>\n",
       "    </tr>\n",
       "  </thead>\n",
       "  <tbody>\n",
       "    <tr>\n",
       "      <th>ETR</th>\n",
       "      <td>111.92</td>\n",
       "      <td>0.1</td>\n",
       "      <td>600.0</td>\n",
       "      <td>5</td>\n",
       "      <td>559.60</td>\n",
       "    </tr>\n",
       "    <tr>\n",
       "      <th>HSY</th>\n",
       "      <td>225.21</td>\n",
       "      <td>0.3</td>\n",
       "      <td>1800.0</td>\n",
       "      <td>7</td>\n",
       "      <td>1576.47</td>\n",
       "    </tr>\n",
       "    <tr>\n",
       "      <th>VTR</th>\n",
       "      <td>44.07</td>\n",
       "      <td>0.3</td>\n",
       "      <td>1800.0</td>\n",
       "      <td>40</td>\n",
       "      <td>1762.80</td>\n",
       "    </tr>\n",
       "    <tr>\n",
       "      <th>WAB</th>\n",
       "      <td>99.16</td>\n",
       "      <td>0.3</td>\n",
       "      <td>1800.0</td>\n",
       "      <td>18</td>\n",
       "      <td>1784.88</td>\n",
       "    </tr>\n",
       "  </tbody>\n",
       "</table>\n",
       "</div>"
      ],
      "text/plain": [
       "     regularMarketLastPrice  optimalWeights  invest_amount  shares     cost\n",
       "ETR                  111.92             0.1          600.0       5   559.60\n",
       "HSY                  225.21             0.3         1800.0       7  1576.47\n",
       "VTR                   44.07             0.3         1800.0      40  1762.80\n",
       "WAB                   99.16             0.3         1800.0      18  1784.88"
      ]
     },
     "metadata": {},
     "output_type": "display_data"
    },
    {
     "name": "stdout",
     "output_type": "stream",
     "text": [
      "Total cost: 5683.75\n"
     ]
    }
   ],
   "source": [
    "print(datetime.today())\n",
    "print(f'Initial investment amount: {investment_amount}')\n",
    "nearest_base = 5\n",
    "min_shares = 5\n",
    "long_quotes = amc.AmeritradeRest('maiotradeuser', 'maiotradepw', 'maiotradeclientid').get_quotes(long_weights.index.to_list())\n",
    "long_shares = long_quotes['regularMarketLastPrice'].to_frame()\n",
    "long_shares['optimalWeights'] = long_weights['optimalWeights']\n",
    "long_shares['invest_amount'] = (long_shares['optimalWeights'] * investment_amount).round(0)\n",
    "long_shares['shares'] = (long_shares['invest_amount'] / long_shares['regularMarketLastPrice']).astype(int)\n",
    "display(long_shares)\n",
    "\n",
    "# Remove symbols that are less than min and re-compute\n",
    "\n",
    "final_long_shares = long_shares.query('shares >= @min_shares').copy()\n",
    "final_long_shares['optimalWeights'] = final_long_shares['optimalWeights'] / final_long_shares['optimalWeights'].sum(axis=0)\n",
    "final_long_shares['invest_amount'] = (final_long_shares['optimalWeights'] * investment_amount).round(0)\n",
    "final_long_shares['shares'] = (final_long_shares['invest_amount'] / final_long_shares['regularMarketLastPrice']).astype(int)\n",
    "final_long_shares['cost'] = final_long_shares['shares'] * final_long_shares['regularMarketLastPrice']\n",
    "display(final_long_shares)\n",
    "print(f'Total cost: {final_long_shares.cost.sum()}')\n"
   ]
  },
  {
   "cell_type": "markdown",
   "metadata": {},
   "source": [
    "### Place buy orders"
   ]
  },
  {
   "cell_type": "code",
   "execution_count": 23,
   "metadata": {},
   "outputs": [
    {
     "data": {
      "text/html": [
       "<div>\n",
       "<style scoped>\n",
       "    .dataframe tbody tr th:only-of-type {\n",
       "        vertical-align: middle;\n",
       "    }\n",
       "\n",
       "    .dataframe tbody tr th {\n",
       "        vertical-align: top;\n",
       "    }\n",
       "\n",
       "    .dataframe thead th {\n",
       "        text-align: right;\n",
       "    }\n",
       "</style>\n",
       "<table border=\"1\" class=\"dataframe\">\n",
       "  <thead>\n",
       "    <tr style=\"text-align: right;\">\n",
       "      <th></th>\n",
       "      <th>cusip</th>\n",
       "      <th>symbol</th>\n",
       "      <th>description</th>\n",
       "      <th>exchange</th>\n",
       "      <th>assetType</th>\n",
       "      <th>high52</th>\n",
       "      <th>low52</th>\n",
       "      <th>dividendAmount</th>\n",
       "      <th>dividendYield</th>\n",
       "      <th>dividendDate</th>\n",
       "      <th>...</th>\n",
       "      <th>bookValuePerShare</th>\n",
       "      <th>shortIntToFloat</th>\n",
       "      <th>shortIntDayToCover</th>\n",
       "      <th>divGrowthRate3Year</th>\n",
       "      <th>dividendPayAmount</th>\n",
       "      <th>dividendPayDate</th>\n",
       "      <th>beta</th>\n",
       "      <th>vol1DayAvg</th>\n",
       "      <th>vol10DayAvg</th>\n",
       "      <th>vol3MonthAvg</th>\n",
       "    </tr>\n",
       "  </thead>\n",
       "  <tbody>\n",
       "    <tr>\n",
       "      <th>0</th>\n",
       "      <td>29364G103</td>\n",
       "      <td>ETR</td>\n",
       "      <td>Entergy Corporation Common Stock</td>\n",
       "      <td>NYSE</td>\n",
       "      <td>EQUITY</td>\n",
       "      <td>126.815</td>\n",
       "      <td>94.94</td>\n",
       "      <td>4.280</td>\n",
       "      <td>3.82</td>\n",
       "      <td>2022-11-10 00:00:00.000</td>\n",
       "      <td>...</td>\n",
       "      <td>4.93359</td>\n",
       "      <td>0.0</td>\n",
       "      <td>0.0</td>\n",
       "      <td>0.0</td>\n",
       "      <td>1.070</td>\n",
       "      <td>2022-12-01 00:00:00.000</td>\n",
       "      <td>0.62159</td>\n",
       "      <td>1121350.0</td>\n",
       "      <td>1121349.0</td>\n",
       "      <td>24871780.0</td>\n",
       "    </tr>\n",
       "    <tr>\n",
       "      <th>1</th>\n",
       "      <td>92276F100</td>\n",
       "      <td>VTR</td>\n",
       "      <td>Ventas, Inc. Common Stock</td>\n",
       "      <td>NYSE</td>\n",
       "      <td>EQUITY</td>\n",
       "      <td>64.020</td>\n",
       "      <td>35.33</td>\n",
       "      <td>1.800</td>\n",
       "      <td>4.08</td>\n",
       "      <td>2022-09-30 00:00:00.000</td>\n",
       "      <td>...</td>\n",
       "      <td>0.00000</td>\n",
       "      <td>0.0</td>\n",
       "      <td>0.0</td>\n",
       "      <td>0.0</td>\n",
       "      <td>0.450</td>\n",
       "      <td>2022-10-14 00:00:00.000</td>\n",
       "      <td>1.16199</td>\n",
       "      <td>2548040.0</td>\n",
       "      <td>2548037.0</td>\n",
       "      <td>46970510.0</td>\n",
       "    </tr>\n",
       "    <tr>\n",
       "      <th>2</th>\n",
       "      <td>929740108</td>\n",
       "      <td>WAB</td>\n",
       "      <td>Westinghouse Air Brake Technologies Corporatio...</td>\n",
       "      <td>NYSE</td>\n",
       "      <td>EQUITY</td>\n",
       "      <td>102.110</td>\n",
       "      <td>78.26</td>\n",
       "      <td>0.600</td>\n",
       "      <td>0.61</td>\n",
       "      <td>2022-11-10 00:00:00.000</td>\n",
       "      <td>...</td>\n",
       "      <td>18.88636</td>\n",
       "      <td>0.0</td>\n",
       "      <td>0.0</td>\n",
       "      <td>0.0</td>\n",
       "      <td>0.150</td>\n",
       "      <td>2022-11-28 00:00:00.000</td>\n",
       "      <td>1.49413</td>\n",
       "      <td>1043350.0</td>\n",
       "      <td>1043345.0</td>\n",
       "      <td>18500300.0</td>\n",
       "    </tr>\n",
       "    <tr>\n",
       "      <th>3</th>\n",
       "      <td>427866108</td>\n",
       "      <td>HSY</td>\n",
       "      <td>The Hershey Company Common Stock</td>\n",
       "      <td>NYSE</td>\n",
       "      <td>EQUITY</td>\n",
       "      <td>241.450</td>\n",
       "      <td>175.08</td>\n",
       "      <td>4.144</td>\n",
       "      <td>1.84</td>\n",
       "      <td>2022-11-17 00:00:00.000</td>\n",
       "      <td>...</td>\n",
       "      <td>29.29452</td>\n",
       "      <td>0.0</td>\n",
       "      <td>0.0</td>\n",
       "      <td>0.0</td>\n",
       "      <td>1.036</td>\n",
       "      <td>2022-12-15 00:00:00.000</td>\n",
       "      <td>0.35304</td>\n",
       "      <td>1312470.0</td>\n",
       "      <td>1312471.0</td>\n",
       "      <td>20067850.0</td>\n",
       "    </tr>\n",
       "  </tbody>\n",
       "</table>\n",
       "<p>4 rows × 50 columns</p>\n",
       "</div>"
      ],
      "text/plain": [
       "       cusip symbol                                        description  \\\n",
       "0  29364G103    ETR                   Entergy Corporation Common Stock   \n",
       "1  92276F100    VTR                          Ventas, Inc. Common Stock   \n",
       "2  929740108    WAB  Westinghouse Air Brake Technologies Corporatio...   \n",
       "3  427866108    HSY                   The Hershey Company Common Stock   \n",
       "\n",
       "  exchange assetType   high52   low52  dividendAmount  dividendYield  \\\n",
       "0     NYSE    EQUITY  126.815   94.94           4.280           3.82   \n",
       "1     NYSE    EQUITY   64.020   35.33           1.800           4.08   \n",
       "2     NYSE    EQUITY  102.110   78.26           0.600           0.61   \n",
       "3     NYSE    EQUITY  241.450  175.08           4.144           1.84   \n",
       "\n",
       "              dividendDate  ...  bookValuePerShare  shortIntToFloat  \\\n",
       "0  2022-11-10 00:00:00.000  ...            4.93359              0.0   \n",
       "1  2022-09-30 00:00:00.000  ...            0.00000              0.0   \n",
       "2  2022-11-10 00:00:00.000  ...           18.88636              0.0   \n",
       "3  2022-11-17 00:00:00.000  ...           29.29452              0.0   \n",
       "\n",
       "   shortIntDayToCover  divGrowthRate3Year  dividendPayAmount  \\\n",
       "0                 0.0                 0.0              1.070   \n",
       "1                 0.0                 0.0              0.450   \n",
       "2                 0.0                 0.0              0.150   \n",
       "3                 0.0                 0.0              1.036   \n",
       "\n",
       "           dividendPayDate     beta  vol1DayAvg  vol10DayAvg  vol3MonthAvg  \n",
       "0  2022-12-01 00:00:00.000  0.62159   1121350.0    1121349.0    24871780.0  \n",
       "1  2022-10-14 00:00:00.000  1.16199   2548040.0    2548037.0    46970510.0  \n",
       "2  2022-11-28 00:00:00.000  1.49413   1043350.0    1043345.0    18500300.0  \n",
       "3  2022-12-15 00:00:00.000  0.35304   1312470.0    1312471.0    20067850.0  \n",
       "\n",
       "[4 rows x 50 columns]"
      ]
     },
     "execution_count": 23,
     "metadata": {},
     "output_type": "execute_result"
    }
   ],
   "source": [
    "amc.AmeritradeRest('maiotradeuser', 'maiotradepw', 'maiotradeclientid').get_quotes(long_weights.index.to_list())\n",
    "td_ameritrade.get_fundamental(list(final_long_shares.index))"
   ]
  },
  {
   "cell_type": "code",
   "execution_count": 24,
   "metadata": {},
   "outputs": [
    {
     "name": "stdout",
     "output_type": "stream",
     "text": [
      "2022-11-21 09:48:37.270289\n",
      "Placing BUY order on 755579216 for 5.0 shares of ETR:EQUITY...\n",
      "Placed BUY order on #---9216 for 5.0 shares of ETR\n",
      "Placing BUY order on 755579216 for 7.0 shares of HSY:EQUITY...\n",
      "Placed BUY order on #---9216 for 7.0 shares of HSY\n",
      "Placing BUY order on 755579216 for 40.0 shares of VTR:EQUITY...\n",
      "Placed BUY order on #---9216 for 40.0 shares of VTR\n",
      "Placing BUY order on 755579216 for 18.0 shares of WAB:EQUITY...\n",
      "Placed BUY order on #---9216 for 18.0 shares of WAB\n"
     ]
    }
   ],
   "source": [
    "print(datetime.today())\n",
    "#td_ameritrade = amc.AmeritradeRest('maiotradeuser', 'maiotradepw', 'maiotradeclientid')\n",
    "#td_ameritrade.authenticate()\n",
    "td_ameritrade.parse_portfolios_list()\n",
    "account_number = td_ameritrade.unmask_account(masked_account_number)\n",
    "\n",
    "for index, row in final_long_shares.iterrows():\n",
    "    fundamental = td_ameritrade.get_fundamental([index])\n",
    "    print(f'Placing BUY order on {account_number} for {row.shares} shares of {index}:{fundamental.loc[0].assetType}...')\n",
    "    result = td_ameritrade.place_order(account_number, index, fundamental.loc[0].assetType, row.shares, 'BUY')"
   ]
  },
  {
   "cell_type": "code",
   "execution_count": null,
   "metadata": {},
   "outputs": [],
   "source": [
    "number_of_years = 5\n",
    "portfolio_price_histories = amc.AmeritradeRest('maiotradeuser', 'maiotradepw', 'maiotradeclientid').get_price_histories(list(long_shares.index), datetime.today().strftime('%Y-%m-%d'), num_periods=number_of_years)\n",
    "portfolio_close = utils.get_close_values(portfolio_price_histories)\n",
    "utils.compute_log_returns(portfolio_close)[-5:].cumsum().plot()"
   ]
  },
  {
   "cell_type": "markdown",
   "metadata": {},
   "source": [
    "## import ameritrade_functions as amc\n",
    "\n",
    "td_ameritrade = amc.AmeritradeRest('maiotradeuser', 'maiotradepw', 'maiotradeclientid')\n",
    "td_ameritrade.authenticate()\n",
    "td_ameritrade.parse_accounts().loc[masked_account_number]"
   ]
  }
 ],
 "metadata": {
  "kernelspec": {
   "display_name": "Python [conda env:ml4t] *",
   "language": "python",
   "name": "conda-env-ml4t-py"
  },
  "language_info": {
   "codemirror_mode": {
    "name": "ipython",
    "version": 3
   },
   "file_extension": ".py",
   "mimetype": "text/x-python",
   "name": "python",
   "nbconvert_exporter": "python",
   "pygments_lexer": "ipython3",
   "version": "3.8.8"
  }
 },
 "nbformat": 4,
 "nbformat_minor": 4
}
