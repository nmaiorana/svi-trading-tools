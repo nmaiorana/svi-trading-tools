{
 "cells": [
  {
   "cell_type": "markdown",
   "metadata": {},
   "source": [
    "# Portfolio Workflow"
   ]
  },
  {
   "cell_type": "markdown",
   "metadata": {},
   "source": [
    "## Use the last week to determine current portfolio mix"
   ]
  },
  {
   "cell_type": "code",
   "execution_count": 1,
   "metadata": {},
   "outputs": [
    {
     "name": "stdout",
     "output_type": "stream",
     "text": [
      "2022-11-12 13:54:51,209|IndHoldingsAdjustement|INFO|Python version: 3.8.8\n",
      "2022-11-12 13:54:51,212|IndHoldingsAdjustement|INFO|Pandas version: 1.2.4\n"
     ]
    }
   ],
   "source": [
    "from platform import python_version\n",
    "import configparser\n",
    "import logging.config\n",
    "import pandas as pd\n",
    "import pickle\n",
    "import matplotlib.pyplot as plt\n",
    "from datetime import datetime\n",
    "import time\n",
    "import math\n",
    "\n",
    "import portfolio_optimizer\n",
    "from portfolio_optimizer import OptimalHoldings\n",
    "import trading_factors_yahoo as alpha_factors\n",
    "import ameritrade_functions as amc\n",
    "import utils as utils\n",
    "\n",
    "logging.config.fileConfig('./config/logging.ini')\n",
    "logger = logging.getLogger('IndHoldingsAdjustement')\n",
    "logger.info(f'Python version: {python_version()}')\n",
    "logger.info(f'Pandas version: {pd.__version__}')\n",
    "\n",
    "config = configparser.ConfigParser()\n",
    "config.read('./config/config.ini')\n",
    "default_config = config['IND']\n",
    "\n",
    "# Which account are we interested in\n",
    "masked_account_number = default_config['masked_account_number']\n",
    "account_portfolios_file_name = 'data/portfolio_data.csv'\n",
    "portfolio_file_name = 'data/portfolio_' + masked_account_number[-4:] + '.csv'\n",
    "price_histories_file_name = '../data/price_histories_yahoo.csv'"
   ]
  },
  {
   "cell_type": "code",
   "execution_count": 2,
   "metadata": {},
   "outputs": [
    {
     "name": "stdout",
     "output_type": "stream",
     "text": [
      "2022-11-12 11:53:48,607|IndHoldingsAdjustement|INFO|PRICE_HISTORIES_FILE|./data/price_histories_yahoo.csv...\n",
      "2022-11-12 11:53:49,895|IndHoldingsAdjustement|INFO|PRICE_HISTORIES|2017-11-06 00:00:00|2022-11-04 00:00:00\n",
      "2022-11-12 11:53:49,924|numexpr.utils|INFO|NumExpr defaulting to 4 threads.\n",
      "2022-11-12 11:53:49,978|IndHoldingsAdjustement|INFO|AI_ALPHA_FACTORS_FILE|./data/alpha_vectors.csv\n",
      "2022-11-12 11:53:49,979|IndHoldingsAdjustement|INFO|BETA_FACTORS_FILE|./data/daily_beta.pickle\n",
      "2022-11-12 11:53:50,204|IndHoldingsAdjustement|INFO|ALPHA_STOCKS|501\n"
     ]
    }
   ],
   "source": [
    "price_histories_file_name = default_config[\"DataDirectory\"] + '/' + default_config[\"PriceHistoriesFileName\"]\n",
    "logger.info(f'PRICE_HISTORIES_FILE|{price_histories_file_name}...')\n",
    "price_histories = pd.read_csv(price_histories_file_name, header=[0, 1], index_col=[0], parse_dates=True, low_memory=False)\n",
    "logger.info(f'PRICE_HISTORIES|{price_histories.index.min()}|{price_histories.index.max()}')\n",
    "returns = alpha_factors.FactorReturns(price_histories).factor_data\n",
    "\n",
    "ai_alpha_factors_file_name = default_config['DataDirectory'] + '/' + default_config['AIAlphaFileName']\n",
    "logger.info(f'AI_ALPHA_FACTORS_FILE|{ai_alpha_factors_file_name}')\n",
    "\n",
    "beta_factors_file_name = default_config[\"DataDirectory\"] + '/' + default_config[\"BetaFactorsFileName\"]\n",
    "logger.info(f'BETA_FACTORS_FILE|{beta_factors_file_name}')\n",
    "\n",
    "alpha_vectors = pd.read_csv(ai_alpha_factors_file_name, parse_dates=['Date']).set_index(['Date']).sort_index()\n",
    "logger.info(f'ALPHA_STOCKS|{len(alpha_vectors.columns)}')"
   ]
  },
  {
   "cell_type": "code",
   "execution_count": 3,
   "metadata": {},
   "outputs": [
    {
     "name": "stdout",
     "output_type": "stream",
     "text": [
      "2022-11-12 11:53:50,225|IndHoldingsAdjustement|INFO|OPTIMIZATION|risk_cap|0.018\n",
      "2022-11-12 11:53:50,226|IndHoldingsAdjustement|INFO|OPTIMIZATION|weights_max|0.3\n",
      "2022-11-12 11:53:50,228|IndHoldingsAdjustement|INFO|OPTIMIZATION|weights_min|0.0\n"
     ]
    }
   ],
   "source": [
    "risk_cap = float(default_config['risk_cap'])\n",
    "weights_max = float(default_config['weights_max'])\n",
    "weights_min = float(default_config['weights_min'])\n",
    "logger.info(f'OPTIMIZATION|risk_cap|{risk_cap}')\n",
    "logger.info(f'OPTIMIZATION|weights_max|{weights_max}')\n",
    "logger.info(f'OPTIMIZATION|weights_min|{weights_min}')"
   ]
  },
  {
   "cell_type": "code",
   "execution_count": 4,
   "metadata": {},
   "outputs": [
    {
     "data": {
      "application/vnd.jupyter.widget-view+json": {
       "model_id": "2bdb5d50865844929d99f7fa84c5357f",
       "version_major": 2,
       "version_minor": 0
      },
      "text/plain": [
       "Tickers:   0%|          | 0/501 [00:00<?, ?Finvis Postings/s]"
      ]
     },
     "metadata": {},
     "output_type": "display_data"
    },
    {
     "data": {
      "application/vnd.jupyter.widget-view+json": {
       "model_id": "e1c1126b75754406b5b1436341168518",
       "version_major": 2,
       "version_minor": 0
      },
      "text/plain": [
       "News Tables:   0%|          | 0/501 [00:00<?, ?News Table Items/s]"
      ]
     },
     "metadata": {},
     "output_type": "display_data"
    }
   ],
   "source": [
    "reduced_stocks = utils.reduce_universe_by_sentiment(alpha_vectors.columns)"
   ]
  },
  {
   "cell_type": "code",
   "execution_count": 5,
   "metadata": {},
   "outputs": [
    {
     "name": "stdout",
     "output_type": "stream",
     "text": [
      "2022-11-12 11:57:24,022|IndHoldingsAdjustement|INFO|SENTIMENT_REDUCTION|0.86|501->430\n"
     ]
    }
   ],
   "source": [
    "# Error check to make sure we didn't reduce by too much\n",
    "\n",
    "pct_red = len(reduced_stocks) / len(alpha_vectors.columns)\n",
    "logger.info(f'SENTIMENT_REDUCTION|{pct_red:0.2f}|{len(alpha_vectors.columns)}->{len(reduced_stocks)}')\n",
    "if pct_red < 0.50:\n",
    "    logger.error(f'SENTIMENT_REDUCTION|OVER_REDUCED|{len(alpha_vectors.columns)}->{len(reduced_stocks)}')\n",
    "    raise SystemExit"
   ]
  },
  {
   "cell_type": "code",
   "execution_count": 6,
   "metadata": {},
   "outputs": [
    {
     "name": "stdout",
     "output_type": "stream",
     "text": [
      "2022-11-12 11:57:24,062|IndHoldingsAdjustement|INFO|FINAL_ALPHA_STOCKS|430\n",
      "2022-11-12 11:57:24,129|IndHoldingsAdjustement|INFO|OPT_DATE|2022-11-04 00:00:00\n"
     ]
    },
    {
     "name": "stderr",
     "output_type": "stream",
     "text": [
      "C:\\Users\\HP-Z440\\anaconda3\\envs\\ml4t\\lib\\site-packages\\cvxpy\\problems\\problem.py:1267: UserWarning: Solution may be inaccurate. Try another solver, adjusting the solver settings, or solve with verbose=True for more information.\n",
      "  warnings.warn(\n"
     ]
    }
   ],
   "source": [
    "final_alhpa_vectors = alpha_vectors[reduced_stocks]\n",
    "logger.info(f'FINAL_ALPHA_STOCKS|{len(final_alhpa_vectors.columns)}')\n",
    "opt_date = final_alhpa_vectors.index[-1]\n",
    "start_of_returns = opt_date - pd.offsets.DateOffset(years=1)\n",
    "final_beta_returns = returns[reduced_stocks].loc[start_of_returns:opt_date]\n",
    "risk_model = alpha_factors.RiskModelPCA(final_beta_returns, 1, 20)\n",
    "logger.info(f'OPT_DATE|{opt_date}')\n",
    "alpha_vector = pd.DataFrame(final_alhpa_vectors.loc[opt_date])\n",
    "optimal_weights = OptimalHoldings(risk_cap=risk_cap,weights_max=weights_max, weights_min=weights_min).find(alpha_vector, risk_model.factor_betas_, risk_model.factor_cov_matrix_, risk_model.idiosyncratic_var_vector_)"
   ]
  },
  {
   "cell_type": "code",
   "execution_count": 7,
   "metadata": {},
   "outputs": [
    {
     "name": "stdout",
     "output_type": "stream",
     "text": [
      "2022-11-12 11:57:39,966|IndHoldingsAdjustement|INFO|AJD_PORT_VARIANCE|0.01800000\n"
     ]
    },
    {
     "data": {
      "image/png": "[encoded data removed]",
      "text/plain": [
       "<Figure size 1440x576 with 1 Axes>"
      ]
     },
     "metadata": {
      "needs_background": "light"
     },
     "output_type": "display_data"
    }
   ],
   "source": [
    "long_weights = optimal_weights[(100 * optimal_weights['optimalWeights']).round() > 5.0]\n",
    "returns[-252:][long_weights.index.to_list()].cumsum().plot(figsize=(20,8))\n",
    "logger.info(f'AJD_PORT_VARIANCE|{risk_model.compute_portfolio_variance(optimal_weights):.8f}')"
   ]
  },
  {
   "cell_type": "code",
   "execution_count": 8,
   "metadata": {},
   "outputs": [
    {
     "name": "stdout",
     "output_type": "stream",
     "text": [
      "2022-11-12 11:57:40,293|IndHoldingsAdjustement|INFO|STOCK|MPWR                |HOLDING|0.300000\n",
      "2022-11-12 11:57:40,295|IndHoldingsAdjustement|INFO|STOCK|O                   |HOLDING|0.081245\n",
      "2022-11-12 11:57:40,296|IndHoldingsAdjustement|INFO|STOCK|UNP                 |HOLDING|0.300000\n",
      "2022-11-12 11:57:40,298|IndHoldingsAdjustement|INFO|STOCK|USB                 |HOLDING|0.300000\n"
     ]
    }
   ],
   "source": [
    "for index, row in long_weights.iterrows():\n",
    "    logger.info(f'STOCK|{index:20}|HOLDING|{row.optimalWeights:2f}')"
   ]
  },
  {
   "cell_type": "code",
   "execution_count": 4,
   "metadata": {},
   "outputs": [
    {
     "ename": "NameError",
     "evalue": "name 'long_weights' is not defined",
     "output_type": "error",
     "traceback": [
      "\u001b[1;31m---------------------------------------------------------------------------\u001b[0m",
      "\u001b[1;31mNameError\u001b[0m                                 Traceback (most recent call last)",
      "Cell \u001b[1;32mIn [4], line 2\u001b[0m\n\u001b[0;32m      1\u001b[0m td_ameritrade \u001b[38;5;241m=\u001b[39m amc\u001b[38;5;241m.\u001b[39mAmeritradeRest(\u001b[38;5;124m'\u001b[39m\u001b[38;5;124mmaiotradeuser\u001b[39m\u001b[38;5;124m'\u001b[39m, \u001b[38;5;124m'\u001b[39m\u001b[38;5;124mmaiotradepw\u001b[39m\u001b[38;5;124m'\u001b[39m, \u001b[38;5;124m'\u001b[39m\u001b[38;5;124mmaiotradeclientid\u001b[39m\u001b[38;5;124m'\u001b[39m)\n\u001b[1;32m----> 2\u001b[0m display(td_ameritrade\u001b[38;5;241m.\u001b[39mget_fundamental(\u001b[38;5;28mlist\u001b[39m(\u001b[43mlong_weights\u001b[49m\u001b[38;5;241m.\u001b[39mindex\u001b[38;5;241m.\u001b[39mto_list())))\n",
      "\u001b[1;31mNameError\u001b[0m: name 'long_weights' is not defined"
     ]
    }
   ],
   "source": [
    "td_ameritrade = amc.AmeritradeRest('maiotradeuser', 'maiotradepw', 'maiotradeclientid')\n",
    "display(td_ameritrade.get_fundamental(list(long_weights.index.to_list())))"
   ]
  },
  {
   "cell_type": "code",
   "execution_count": 10,
   "metadata": {},
   "outputs": [
    {
     "data": {
      "application/vnd.jupyter.widget-view+json": {
       "model_id": "f07295bebf6341969aae89ccaf1d2703",
       "version_major": 2,
       "version_minor": 0
      },
      "text/plain": [
       "Tickers:   0%|          | 0/4 [00:00<?, ?Finvis Postings/s]"
      ]
     },
     "metadata": {},
     "output_type": "display_data"
    },
    {
     "data": {
      "application/vnd.jupyter.widget-view+json": {
       "model_id": "3f90515b681744c0b6023ca12f5ac9a7",
       "version_major": 2,
       "version_minor": 0
      },
      "text/plain": [
       "News Tables:   0%|          | 0/4 [00:00<?, ?News Table Items/s]"
      ]
     },
     "metadata": {},
     "output_type": "display_data"
    },
    {
     "data": {
      "image/png": "[encoded data removed]",
      "text/plain": [
       "<Figure size 1440x576 with 1 Axes>"
      ]
     },
     "metadata": {
      "needs_background": "light"
     },
     "output_type": "display_data"
    }
   ],
   "source": [
    "parsed_and_scored_news = utils.get_finvis_stock_sentiment(long_weights.index.to_list()).sort_values(by='date')\n",
    "# Group by date and ticker columns from scored_news and calculate the mean\n",
    "mean_scores = parsed_and_scored_news.groupby(['ticker','date']).mean()\n",
    "# Unstack the column ticker\n",
    "mean_scores = mean_scores.unstack()\n",
    "# Get the cross-section of compound in the 'columns' axis\n",
    "mean_scores = mean_scores.xs('compound', axis=\"columns\").transpose()\n",
    "# Plot a bar chart with pandas\n",
    "mean_scores[-20:].plot(kind = 'bar')\n",
    "plt.grid()"
   ]
  },
  {
   "cell_type": "markdown",
   "metadata": {
    "tags": []
   },
   "source": [
    "## First lets see which stocks we already own for a specific account\n",
    "\n",
    "I only want to work with Equity investments. This is kind of confusing, but at the account level assets that can be traded are call \"EQUITY\". When you get quotes for each asset, the same asset can be something like \"ETF\".\n",
    "\n",
    "I also use Ameritrade's portfolio planner tool to create an asset mix based off of their reccomendations. I don't want these stocks (or in my case mutual funds and ETFs) to be part of this analysis. So I'll remove them here."
   ]
  },
  {
   "cell_type": "markdown",
   "metadata": {},
   "source": [
    "## Configure Ameritrade Information\n",
    "\n",
    "Ameritrade credentials are stored in environment variables to keep from having unencrypted passwords stored on disk.\n",
    "\n",
    "The module automatically masks the account numbers to protect the actual accounts. An Ameritrade user can have many investment accounts. We will be working with only one for this demonstration."
   ]
  },
  {
   "cell_type": "markdown",
   "metadata": {},
   "source": [
    "## Authentication Tokens\n",
    "\n",
    "To get data from Ameritrade you will need to obtains a short time use token (there is a re-use token, but I have not coded it yet.) You only need to do this if you\n",
    "are going to use an existing Ameritrade account to define an initial set of stocks to analyze.\n",
    "\n",
    "To obtain a token, you will need to have a Chrome driver located somewhere on your system. This will allow the module to use your credentials to obtain an authentication token.\n",
    "\n",
    "For security reasons, I sugges using environment variables to store your credential information. If you store them in property files, or just code them into your notebook, you risk sharing the information with others if you use GitHub or some other SCCS. This also makes it easier to have them availabe from project to project in your development environment\n",
    "\n",
    "<span style=\"color:blue\">Note: *Account numbers are masked for security purposes.*</span>"
   ]
  },
  {
   "cell_type": "code",
   "execution_count": 3,
   "metadata": {},
   "outputs": [
    {
     "name": "stderr",
     "output_type": "stream",
     "text": [
      "\n",
      "\n"
     ]
    },
    {
     "name": "stdout",
     "output_type": "stream",
     "text": [
      "2022-11-12 13:56:06,475|WDM|INFO|\n",
      "\n"
     ]
    },
    {
     "name": "stderr",
     "output_type": "stream",
     "text": [
      "====== WebDriver manager ======\n"
     ]
    },
    {
     "name": "stdout",
     "output_type": "stream",
     "text": [
      "2022-11-12 13:56:06,477|WDM|INFO|====== WebDriver manager ======\n"
     ]
    },
    {
     "name": "stderr",
     "output_type": "stream",
     "text": [
      "Current google-chrome version is 107.0.5304\n"
     ]
    },
    {
     "name": "stdout",
     "output_type": "stream",
     "text": [
      "2022-11-12 13:56:06,517|WDM|INFO|Current google-chrome version is 107.0.5304\n"
     ]
    },
    {
     "name": "stderr",
     "output_type": "stream",
     "text": [
      "Get LATEST chromedriver version for 107.0.5304 google-chrome\n"
     ]
    },
    {
     "name": "stdout",
     "output_type": "stream",
     "text": [
      "2022-11-12 13:56:06,520|WDM|INFO|Get LATEST chromedriver version for 107.0.5304 google-chrome\n"
     ]
    },
    {
     "name": "stderr",
     "output_type": "stream",
     "text": [
      "Driver [C:\\Users\\HP-Z440\\.wdm\\drivers\\chromedriver\\win32\\107.0.5304.62\\chromedriver.exe] found in cache\n"
     ]
    },
    {
     "name": "stdout",
     "output_type": "stream",
     "text": [
      "2022-11-12 13:56:06,585|WDM|INFO|Driver [C:\\Users\\HP-Z440\\.wdm\\drivers\\chromedriver\\win32\\107.0.5304.62\\chromedriver.exe] found in cache\n",
      "2022-11-12 13:56:45,773|IndHoldingsAdjustement|INFO|You have authorization\n",
      "2022-11-12 13:56:45,775|IndHoldingsAdjustement|INFO|TRADE_DATE|2022-11-12 13:56:45.775074\n",
      "2022-11-12 13:56:48,135|numexpr.utils|INFO|NumExpr defaulting to 4 threads.\n",
      "2022-11-12 13:56:48,150|IndHoldingsAdjustement|INFO|Full Equity Portfolio:\n"
     ]
    },
    {
     "data": {
      "text/html": [
       "<div>\n",
       "<style scoped>\n",
       "    .dataframe tbody tr th:only-of-type {\n",
       "        vertical-align: middle;\n",
       "    }\n",
       "\n",
       "    .dataframe tbody tr th {\n",
       "        vertical-align: top;\n",
       "    }\n",
       "\n",
       "    .dataframe thead th {\n",
       "        text-align: right;\n",
       "    }\n",
       "</style>\n",
       "<table border=\"1\" class=\"dataframe\">\n",
       "  <thead>\n",
       "    <tr style=\"text-align: right;\">\n",
       "      <th></th>\n",
       "      <th></th>\n",
       "      <th>shortQuantity</th>\n",
       "      <th>averagePrice</th>\n",
       "      <th>currentDayCost</th>\n",
       "      <th>currentDayProfitLoss</th>\n",
       "      <th>currentDayProfitLossPercentage</th>\n",
       "      <th>longQuantity</th>\n",
       "      <th>settledLongQuantity</th>\n",
       "      <th>settledShortQuantity</th>\n",
       "      <th>marketValue</th>\n",
       "      <th>maintenanceRequirement</th>\n",
       "      <th>previousSessionLongQuantity</th>\n",
       "      <th>assetType</th>\n",
       "      <th>cusip</th>\n",
       "      <th>description</th>\n",
       "      <th>type</th>\n",
       "    </tr>\n",
       "    <tr>\n",
       "      <th>account</th>\n",
       "      <th>symbol</th>\n",
       "      <th></th>\n",
       "      <th></th>\n",
       "      <th></th>\n",
       "      <th></th>\n",
       "      <th></th>\n",
       "      <th></th>\n",
       "      <th></th>\n",
       "      <th></th>\n",
       "      <th></th>\n",
       "      <th></th>\n",
       "      <th></th>\n",
       "      <th></th>\n",
       "      <th></th>\n",
       "      <th></th>\n",
       "      <th></th>\n",
       "    </tr>\n",
       "  </thead>\n",
       "  <tbody>\n",
       "    <tr>\n",
       "      <th rowspan=\"4\" valign=\"top\">#---9216</th>\n",
       "      <th>USB</th>\n",
       "      <td>0.0</td>\n",
       "      <td>43.07706</td>\n",
       "      <td>0.0</td>\n",
       "      <td>0.0</td>\n",
       "      <td>0.0</td>\n",
       "      <td>51.000</td>\n",
       "      <td>51.000</td>\n",
       "      <td>0.0</td>\n",
       "      <td>2290.92</td>\n",
       "      <td>687.28</td>\n",
       "      <td>51.000</td>\n",
       "      <td>EQUITY</td>\n",
       "      <td>902973304</td>\n",
       "      <td>0</td>\n",
       "      <td>0</td>\n",
       "    </tr>\n",
       "    <tr>\n",
       "      <th>UNP</th>\n",
       "      <td>0.0</td>\n",
       "      <td>217.78169</td>\n",
       "      <td>0.0</td>\n",
       "      <td>0.0</td>\n",
       "      <td>0.0</td>\n",
       "      <td>11.085</td>\n",
       "      <td>11.085</td>\n",
       "      <td>0.0</td>\n",
       "      <td>2410.99</td>\n",
       "      <td>723.30</td>\n",
       "      <td>11.085</td>\n",
       "      <td>EQUITY</td>\n",
       "      <td>907818108</td>\n",
       "      <td>0</td>\n",
       "      <td>0</td>\n",
       "    </tr>\n",
       "    <tr>\n",
       "      <th>FGPHF</th>\n",
       "      <td>0.0</td>\n",
       "      <td>0.21397</td>\n",
       "      <td>0.0</td>\n",
       "      <td>0.0</td>\n",
       "      <td>0.0</td>\n",
       "      <td>5000.000</td>\n",
       "      <td>5000.000</td>\n",
       "      <td>0.0</td>\n",
       "      <td>473.70</td>\n",
       "      <td>0.00</td>\n",
       "      <td>5000.000</td>\n",
       "      <td>EQUITY</td>\n",
       "      <td>Q3860H107</td>\n",
       "      <td>0</td>\n",
       "      <td>0</td>\n",
       "    </tr>\n",
       "    <tr>\n",
       "      <th>O</th>\n",
       "      <td>0.0</td>\n",
       "      <td>62.94556</td>\n",
       "      <td>0.0</td>\n",
       "      <td>0.0</td>\n",
       "      <td>0.0</td>\n",
       "      <td>9.000</td>\n",
       "      <td>9.000</td>\n",
       "      <td>0.0</td>\n",
       "      <td>584.82</td>\n",
       "      <td>175.45</td>\n",
       "      <td>9.000</td>\n",
       "      <td>EQUITY</td>\n",
       "      <td>756109104</td>\n",
       "      <td>0</td>\n",
       "      <td>0</td>\n",
       "    </tr>\n",
       "  </tbody>\n",
       "</table>\n",
       "</div>"
      ],
      "text/plain": [
       "                 shortQuantity  averagePrice  currentDayCost  \\\n",
       "account  symbol                                                \n",
       "#---9216 USB               0.0      43.07706             0.0   \n",
       "         UNP               0.0     217.78169             0.0   \n",
       "         FGPHF             0.0       0.21397             0.0   \n",
       "         O                 0.0      62.94556             0.0   \n",
       "\n",
       "                 currentDayProfitLoss  currentDayProfitLossPercentage  \\\n",
       "account  symbol                                                         \n",
       "#---9216 USB                      0.0                             0.0   \n",
       "         UNP                      0.0                             0.0   \n",
       "         FGPHF                    0.0                             0.0   \n",
       "         O                        0.0                             0.0   \n",
       "\n",
       "                 longQuantity  settledLongQuantity  settledShortQuantity  \\\n",
       "account  symbol                                                            \n",
       "#---9216 USB           51.000               51.000                   0.0   \n",
       "         UNP           11.085               11.085                   0.0   \n",
       "         FGPHF       5000.000             5000.000                   0.0   \n",
       "         O              9.000                9.000                   0.0   \n",
       "\n",
       "                 marketValue  maintenanceRequirement  \\\n",
       "account  symbol                                        \n",
       "#---9216 USB         2290.92                  687.28   \n",
       "         UNP         2410.99                  723.30   \n",
       "         FGPHF        473.70                    0.00   \n",
       "         O            584.82                  175.45   \n",
       "\n",
       "                 previousSessionLongQuantity assetType      cusip description  \\\n",
       "account  symbol                                                                 \n",
       "#---9216 USB                          51.000    EQUITY  902973304           0   \n",
       "         UNP                          11.085    EQUITY  907818108           0   \n",
       "         FGPHF                      5000.000    EQUITY  Q3860H107           0   \n",
       "         O                             9.000    EQUITY  756109104           0   \n",
       "\n",
       "                type  \n",
       "account  symbol       \n",
       "#---9216 USB       0  \n",
       "         UNP       0  \n",
       "         FGPHF     0  \n",
       "         O         0  "
      ]
     },
     "metadata": {},
     "output_type": "display_data"
    }
   ],
   "source": [
    "td_ameritrade = amc.AmeritradeRest('maiotradeuser', 'maiotradepw', 'maiotradeclientid')\n",
    "td_ameritrade.authenticate()\n",
    "\n",
    "if len(td_ameritrade.authorization) == 0:\n",
    "    logger.error(f'Error: No authorization data: {td_ameritrade.authorization}')\n",
    "    raise SystemExit\n",
    "else:\n",
    "    logger.info('You have authorization')\n",
    "\n",
    "logger.info(f'TRADE_DATE|{datetime.today()}')\n",
    "\n",
    "# Specific Portfolio Account\n",
    "equity_investments_df = td_ameritrade.get_account_portfolio_data(masked_account_number, investment_type='EQUITY')\n",
    "logger.info('Full Equity Portfolio:')\n",
    "display(equity_investments_df)"
   ]
  },
  {
   "cell_type": "code",
   "execution_count": 12,
   "metadata": {},
   "outputs": [
    {
     "data": {
      "text/plain": [
       "['USB', 'UNP', 'FGPHF', 'O']"
      ]
     },
     "execution_count": 12,
     "metadata": {},
     "output_type": "execute_result"
    }
   ],
   "source": [
    "account_portfolio.index.get_level_values('symbol').tolist()"
   ]
  },
  {
   "cell_type": "code",
   "execution_count": 4,
   "metadata": {},
   "outputs": [
    {
     "data": {
      "text/html": [
       "<div>\n",
       "<style scoped>\n",
       "    .dataframe tbody tr th:only-of-type {\n",
       "        vertical-align: middle;\n",
       "    }\n",
       "\n",
       "    .dataframe tbody tr th {\n",
       "        vertical-align: top;\n",
       "    }\n",
       "\n",
       "    .dataframe thead th {\n",
       "        text-align: right;\n",
       "    }\n",
       "</style>\n",
       "<table border=\"1\" class=\"dataframe\">\n",
       "  <thead>\n",
       "    <tr style=\"text-align: right;\">\n",
       "      <th></th>\n",
       "      <th></th>\n",
       "      <th>marketValue</th>\n",
       "      <th>longQuantity</th>\n",
       "    </tr>\n",
       "    <tr>\n",
       "      <th>account</th>\n",
       "      <th>symbol</th>\n",
       "      <th></th>\n",
       "      <th></th>\n",
       "    </tr>\n",
       "  </thead>\n",
       "  <tbody>\n",
       "    <tr>\n",
       "      <th rowspan=\"6\" valign=\"top\">#---9216</th>\n",
       "      <th>AAPL</th>\n",
       "      <td>0.00</td>\n",
       "      <td>0.000</td>\n",
       "    </tr>\n",
       "    <tr>\n",
       "      <th>FGPHF</th>\n",
       "      <td>473.70</td>\n",
       "      <td>5000.000</td>\n",
       "    </tr>\n",
       "    <tr>\n",
       "      <th>GOOG</th>\n",
       "      <td>0.00</td>\n",
       "      <td>0.000</td>\n",
       "    </tr>\n",
       "    <tr>\n",
       "      <th>O</th>\n",
       "      <td>584.82</td>\n",
       "      <td>9.000</td>\n",
       "    </tr>\n",
       "    <tr>\n",
       "      <th>UNP</th>\n",
       "      <td>2410.99</td>\n",
       "      <td>11.085</td>\n",
       "    </tr>\n",
       "    <tr>\n",
       "      <th>USB</th>\n",
       "      <td>2290.92</td>\n",
       "      <td>51.000</td>\n",
       "    </tr>\n",
       "  </tbody>\n",
       "</table>\n",
       "</div>"
      ],
      "text/plain": [
       "                 marketValue  longQuantity\n",
       "account  symbol                           \n",
       "#---9216 AAPL           0.00         0.000\n",
       "         FGPHF        473.70      5000.000\n",
       "         GOOG           0.00         0.000\n",
       "         O            584.82         9.000\n",
       "         UNP         2410.99        11.085\n",
       "         USB         2290.92        51.000"
      ]
     },
     "execution_count": 4,
     "metadata": {},
     "output_type": "execute_result"
    }
   ],
   "source": [
    "symbols = set(['AAPL', 'GOOG', 'USB', 'UNP'])\n",
    "account_portfolio = td_ameritrade.get_account_portfolio_data(masked_account_number, investment_type='EQUITY')\n",
    "current_holdings = account_portfolio[['marketValue', 'longQuantity']]\n",
    "non_portfolio_symbols = symbols - set(account_portfolio.index.get_level_values('symbol').values)\n",
    "non_portfolio_values = pd.DataFrame\\\n",
    "    .from_dict({(masked_account_number, symbol): [0, 0] for symbol in non_portfolio_symbols}, orient='index')\n",
    "non_portfolio_values.index.name = 'symbol'\n",
    "non_portfolio_values.columns = ['marketValue', 'longQuantity']\n",
    "current_holdings.append(non_portfolio_values).sort_index()"
   ]
  },
  {
   "cell_type": "code",
   "execution_count": 12,
   "metadata": {},
   "outputs": [
    {
     "data": {
      "text/plain": [
       "'Account #---9216 total value:  0    1036.45\\n1    2295.00\\n2    2421.85\\n3     487.50\\n4     585.00\\nName: marketValue, dtype: float64'"
      ]
     },
     "metadata": {},
     "output_type": "display_data"
    },
    {
     "data": {
      "text/plain": [
       "1    2295.00\n",
       "2    2421.85\n",
       "3     487.50\n",
       "4     585.00\n",
       "Name: marketValue, dtype: float64"
      ]
     },
     "metadata": {},
     "output_type": "display_data"
    },
    {
     "ename": "KeyError",
     "evalue": "'marketValue'",
     "output_type": "error",
     "traceback": [
      "\u001b[1;31m---------------------------------------------------------------------------\u001b[0m",
      "\u001b[1;31mKeyError\u001b[0m                                  Traceback (most recent call last)",
      "File \u001b[1;32m~\\anaconda3\\envs\\ml4t\\lib\\site-packages\\pandas\\core\\indexes\\base.py:3080\u001b[0m, in \u001b[0;36mIndex.get_loc\u001b[1;34m(self, key, method, tolerance)\u001b[0m\n\u001b[0;32m   3079\u001b[0m \u001b[38;5;28;01mtry\u001b[39;00m:\n\u001b[1;32m-> 3080\u001b[0m     \u001b[38;5;28;01mreturn\u001b[39;00m \u001b[38;5;28;43mself\u001b[39;49m\u001b[38;5;241;43m.\u001b[39;49m\u001b[43m_engine\u001b[49m\u001b[38;5;241;43m.\u001b[39;49m\u001b[43mget_loc\u001b[49m\u001b[43m(\u001b[49m\u001b[43mcasted_key\u001b[49m\u001b[43m)\u001b[49m\n\u001b[0;32m   3081\u001b[0m \u001b[38;5;28;01mexcept\u001b[39;00m \u001b[38;5;167;01mKeyError\u001b[39;00m \u001b[38;5;28;01mas\u001b[39;00m err:\n",
      "File \u001b[1;32mpandas\\_libs\\index.pyx:70\u001b[0m, in \u001b[0;36mpandas._libs.index.IndexEngine.get_loc\u001b[1;34m()\u001b[0m\n",
      "File \u001b[1;32mpandas\\_libs\\index.pyx:98\u001b[0m, in \u001b[0;36mpandas._libs.index.IndexEngine.get_loc\u001b[1;34m()\u001b[0m\n",
      "File \u001b[1;32mpandas\\_libs\\index_class_helper.pxi:89\u001b[0m, in \u001b[0;36mpandas._libs.index.Int64Engine._check_type\u001b[1;34m()\u001b[0m\n",
      "\u001b[1;31mKeyError\u001b[0m: 'marketValue'",
      "\nThe above exception was the direct cause of the following exception:\n",
      "\u001b[1;31mKeyError\u001b[0m                                  Traceback (most recent call last)",
      "Cell \u001b[1;32mIn [12], line 7\u001b[0m\n\u001b[0;32m      5\u001b[0m port_equi_values \u001b[38;5;241m=\u001b[39m utils\u001b[38;5;241m.\u001b[39mget_market_values(equity_investments_df)\n\u001b[0;32m      6\u001b[0m display(port_equi_values)\n\u001b[1;32m----> 7\u001b[0m total_equity_value \u001b[38;5;241m=\u001b[39m \u001b[43mutils\u001b[49m\u001b[38;5;241;43m.\u001b[39;49m\u001b[43mget_account_value\u001b[49m\u001b[43m(\u001b[49m\u001b[43mport_equi_values\u001b[49m\u001b[43m)\u001b[49m\u001b[38;5;241m.\u001b[39mround(\u001b[38;5;241m2\u001b[39m)\n\u001b[0;32m      8\u001b[0m display(\u001b[38;5;124mf\u001b[39m\u001b[38;5;124m'\u001b[39m\u001b[38;5;124mAccount \u001b[39m\u001b[38;5;132;01m{\u001b[39;00mmasked_account_number\u001b[38;5;132;01m}\u001b[39;00m\u001b[38;5;124m equity value: \u001b[39m\u001b[38;5;132;01m{\u001b[39;00mtotal_equity_value\u001b[38;5;132;01m}\u001b[39;00m\u001b[38;5;124m'\u001b[39m)\n\u001b[0;32m     10\u001b[0m symbols \u001b[38;5;241m=\u001b[39m utils\u001b[38;5;241m.\u001b[39mget_investment_symbols(port_equi_values)\n",
      "File \u001b[1;32mc:\\users\\hp-z440\\anaconda projects\\svi-trading-tools\\tools\\utils.py:22\u001b[0m, in \u001b[0;36mget_account_value\u001b[1;34m(account_portfolio_df)\u001b[0m\n\u001b[0;32m     21\u001b[0m \u001b[38;5;28;01mdef\u001b[39;00m \u001b[38;5;21mget_account_value\u001b[39m(account_portfolio_df:pd\u001b[38;5;241m.\u001b[39mDataFrame):\n\u001b[1;32m---> 22\u001b[0m     \u001b[38;5;28;01mreturn\u001b[39;00m \u001b[43maccount_portfolio_df\u001b[49m\u001b[43m[\u001b[49m\u001b[38;5;124;43m'\u001b[39;49m\u001b[38;5;124;43mmarketValue\u001b[39;49m\u001b[38;5;124;43m'\u001b[39;49m\u001b[43m]\u001b[49m\u001b[38;5;241m.\u001b[39msum()\n",
      "File \u001b[1;32m~\\anaconda3\\envs\\ml4t\\lib\\site-packages\\pandas\\core\\series.py:853\u001b[0m, in \u001b[0;36mSeries.__getitem__\u001b[1;34m(self, key)\u001b[0m\n\u001b[0;32m    850\u001b[0m     \u001b[38;5;28;01mreturn\u001b[39;00m \u001b[38;5;28mself\u001b[39m\u001b[38;5;241m.\u001b[39m_values[key]\n\u001b[0;32m    852\u001b[0m \u001b[38;5;28;01melif\u001b[39;00m key_is_scalar:\n\u001b[1;32m--> 853\u001b[0m     \u001b[38;5;28;01mreturn\u001b[39;00m \u001b[38;5;28;43mself\u001b[39;49m\u001b[38;5;241;43m.\u001b[39;49m\u001b[43m_get_value\u001b[49m\u001b[43m(\u001b[49m\u001b[43mkey\u001b[49m\u001b[43m)\u001b[49m\n\u001b[0;32m    855\u001b[0m \u001b[38;5;28;01mif\u001b[39;00m is_hashable(key):\n\u001b[0;32m    856\u001b[0m     \u001b[38;5;66;03m# Otherwise index.get_value will raise InvalidIndexError\u001b[39;00m\n\u001b[0;32m    857\u001b[0m     \u001b[38;5;28;01mtry\u001b[39;00m:\n\u001b[0;32m    858\u001b[0m         \u001b[38;5;66;03m# For labels that don't resolve as scalars like tuples and frozensets\u001b[39;00m\n",
      "File \u001b[1;32m~\\anaconda3\\envs\\ml4t\\lib\\site-packages\\pandas\\core\\series.py:961\u001b[0m, in \u001b[0;36mSeries._get_value\u001b[1;34m(self, label, takeable)\u001b[0m\n\u001b[0;32m    958\u001b[0m     \u001b[38;5;28;01mreturn\u001b[39;00m \u001b[38;5;28mself\u001b[39m\u001b[38;5;241m.\u001b[39m_values[label]\n\u001b[0;32m    960\u001b[0m \u001b[38;5;66;03m# Similar to Index.get_value, but we do not fall back to positional\u001b[39;00m\n\u001b[1;32m--> 961\u001b[0m loc \u001b[38;5;241m=\u001b[39m \u001b[38;5;28;43mself\u001b[39;49m\u001b[38;5;241;43m.\u001b[39;49m\u001b[43mindex\u001b[49m\u001b[38;5;241;43m.\u001b[39;49m\u001b[43mget_loc\u001b[49m\u001b[43m(\u001b[49m\u001b[43mlabel\u001b[49m\u001b[43m)\u001b[49m\n\u001b[0;32m    962\u001b[0m \u001b[38;5;28;01mreturn\u001b[39;00m \u001b[38;5;28mself\u001b[39m\u001b[38;5;241m.\u001b[39mindex\u001b[38;5;241m.\u001b[39m_get_values_for_loc(\u001b[38;5;28mself\u001b[39m, loc, label)\n",
      "File \u001b[1;32m~\\anaconda3\\envs\\ml4t\\lib\\site-packages\\pandas\\core\\indexes\\base.py:3082\u001b[0m, in \u001b[0;36mIndex.get_loc\u001b[1;34m(self, key, method, tolerance)\u001b[0m\n\u001b[0;32m   3080\u001b[0m         \u001b[38;5;28;01mreturn\u001b[39;00m \u001b[38;5;28mself\u001b[39m\u001b[38;5;241m.\u001b[39m_engine\u001b[38;5;241m.\u001b[39mget_loc(casted_key)\n\u001b[0;32m   3081\u001b[0m     \u001b[38;5;28;01mexcept\u001b[39;00m \u001b[38;5;167;01mKeyError\u001b[39;00m \u001b[38;5;28;01mas\u001b[39;00m err:\n\u001b[1;32m-> 3082\u001b[0m         \u001b[38;5;28;01mraise\u001b[39;00m \u001b[38;5;167;01mKeyError\u001b[39;00m(key) \u001b[38;5;28;01mfrom\u001b[39;00m \u001b[38;5;21;01merr\u001b[39;00m\n\u001b[0;32m   3084\u001b[0m \u001b[38;5;28;01mif\u001b[39;00m tolerance \u001b[38;5;129;01mis\u001b[39;00m \u001b[38;5;129;01mnot\u001b[39;00m \u001b[38;5;28;01mNone\u001b[39;00m:\n\u001b[0;32m   3085\u001b[0m     tolerance \u001b[38;5;241m=\u001b[39m \u001b[38;5;28mself\u001b[39m\u001b[38;5;241m.\u001b[39m_convert_tolerance(tolerance, np\u001b[38;5;241m.\u001b[39masarray(key))\n",
      "\u001b[1;31mKeyError\u001b[0m: 'marketValue'"
     ]
    }
   ],
   "source": [
    "total_portfolio_value = td_ameritrade.get_market_values(masked_account_number).round(2)\n",
    "display(f'Account {masked_account_number} total value:  {total_portfolio_value}')\n",
    "\n",
    "equity_investments_df = utils.get_investments_by_type(account_portfolio_df, investment_type='EQUITY')\n",
    "port_equi_values = utils.get_market_values(equity_investments_df)\n",
    "display(port_equi_values)\n",
    "total_equity_value = utils.get_account_value(port_equi_values).round(2)\n",
    "display(f'Account {masked_account_number} equity value: {total_equity_value}')\n",
    "\n",
    "symbols = utils.get_investment_symbols(port_equi_values)\n",
    "port_weights_equity = utils.get_portfolio_weights(port_equi_values)\n",
    "display(port_weights_equity*100)"
   ]
  },
  {
   "cell_type": "code",
   "execution_count": 21,
   "metadata": {},
   "outputs": [
    {
     "data": {
      "text/html": [
       "<div>\n",
       "<style scoped>\n",
       "    .dataframe tbody tr th:only-of-type {\n",
       "        vertical-align: middle;\n",
       "    }\n",
       "\n",
       "    .dataframe tbody tr th {\n",
       "        vertical-align: top;\n",
       "    }\n",
       "\n",
       "    .dataframe thead th {\n",
       "        text-align: right;\n",
       "    }\n",
       "</style>\n",
       "<table border=\"1\" class=\"dataframe\">\n",
       "  <thead>\n",
       "    <tr style=\"text-align: right;\">\n",
       "      <th></th>\n",
       "      <th>account</th>\n",
       "      <th>shortQuantity</th>\n",
       "      <th>averagePrice</th>\n",
       "      <th>currentDayCost</th>\n",
       "      <th>currentDayProfitLoss</th>\n",
       "      <th>currentDayProfitLossPercentage</th>\n",
       "      <th>longQuantity</th>\n",
       "      <th>settledLongQuantity</th>\n",
       "      <th>settledShortQuantity</th>\n",
       "      <th>marketValue</th>\n",
       "      <th>maintenanceRequirement</th>\n",
       "      <th>previousSessionLongQuantity</th>\n",
       "      <th>assetType</th>\n",
       "      <th>cusip</th>\n",
       "      <th>symbol</th>\n",
       "      <th>description</th>\n",
       "      <th>type</th>\n",
       "    </tr>\n",
       "  </thead>\n",
       "  <tbody>\n",
       "    <tr>\n",
       "      <th>0</th>\n",
       "      <td>#---9216</td>\n",
       "      <td>0.0</td>\n",
       "      <td>85.89317</td>\n",
       "      <td>0.0</td>\n",
       "      <td>0.000000e+00</td>\n",
       "      <td>0.0</td>\n",
       "      <td>15.389</td>\n",
       "      <td>15.389</td>\n",
       "      <td>0.0</td>\n",
       "      <td>1385.63</td>\n",
       "      <td>415.69</td>\n",
       "      <td>15.389</td>\n",
       "      <td>EQUITY</td>\n",
       "      <td>209115104</td>\n",
       "      <td>ED</td>\n",
       "      <td>0</td>\n",
       "      <td>0</td>\n",
       "    </tr>\n",
       "    <tr>\n",
       "      <th>2</th>\n",
       "      <td>#---9216</td>\n",
       "      <td>0.0</td>\n",
       "      <td>493.84067</td>\n",
       "      <td>0.0</td>\n",
       "      <td>-1.000000e-12</td>\n",
       "      <td>0.0</td>\n",
       "      <td>5.046</td>\n",
       "      <td>5.046</td>\n",
       "      <td>0.0</td>\n",
       "      <td>2715.61</td>\n",
       "      <td>814.68</td>\n",
       "      <td>5.046</td>\n",
       "      <td>EQUITY</td>\n",
       "      <td>91324P102</td>\n",
       "      <td>UNH</td>\n",
       "      <td>0</td>\n",
       "      <td>0</td>\n",
       "    </tr>\n",
       "    <tr>\n",
       "      <th>3</th>\n",
       "      <td>#---9216</td>\n",
       "      <td>0.0</td>\n",
       "      <td>55.32628</td>\n",
       "      <td>0.0</td>\n",
       "      <td>0.000000e+00</td>\n",
       "      <td>0.0</td>\n",
       "      <td>20.412</td>\n",
       "      <td>20.412</td>\n",
       "      <td>0.0</td>\n",
       "      <td>818.93</td>\n",
       "      <td>245.68</td>\n",
       "      <td>20.412</td>\n",
       "      <td>EQUITY</td>\n",
       "      <td>174610105</td>\n",
       "      <td>CFG</td>\n",
       "      <td>0</td>\n",
       "      <td>0</td>\n",
       "    </tr>\n",
       "    <tr>\n",
       "      <th>4</th>\n",
       "      <td>#---9216</td>\n",
       "      <td>0.0</td>\n",
       "      <td>244.92035</td>\n",
       "      <td>0.0</td>\n",
       "      <td>0.000000e+00</td>\n",
       "      <td>0.0</td>\n",
       "      <td>5.085</td>\n",
       "      <td>5.085</td>\n",
       "      <td>0.0</td>\n",
       "      <td>1000.22</td>\n",
       "      <td>300.07</td>\n",
       "      <td>5.085</td>\n",
       "      <td>EQUITY</td>\n",
       "      <td>907818108</td>\n",
       "      <td>UNP</td>\n",
       "      <td>0</td>\n",
       "      <td>0</td>\n",
       "    </tr>\n",
       "  </tbody>\n",
       "</table>\n",
       "</div>"
      ],
      "text/plain": [
       "    account  shortQuantity  averagePrice  currentDayCost  \\\n",
       "0  #---9216            0.0      85.89317             0.0   \n",
       "2  #---9216            0.0     493.84067             0.0   \n",
       "3  #---9216            0.0      55.32628             0.0   \n",
       "4  #---9216            0.0     244.92035             0.0   \n",
       "\n",
       "   currentDayProfitLoss  currentDayProfitLossPercentage  longQuantity  \\\n",
       "0          0.000000e+00                             0.0        15.389   \n",
       "2         -1.000000e-12                             0.0         5.046   \n",
       "3          0.000000e+00                             0.0        20.412   \n",
       "4          0.000000e+00                             0.0         5.085   \n",
       "\n",
       "   settledLongQuantity  settledShortQuantity  marketValue  \\\n",
       "0               15.389                   0.0      1385.63   \n",
       "2                5.046                   0.0      2715.61   \n",
       "3               20.412                   0.0       818.93   \n",
       "4                5.085                   0.0      1000.22   \n",
       "\n",
       "   maintenanceRequirement  previousSessionLongQuantity assetType      cusip  \\\n",
       "0                  415.69                       15.389    EQUITY  209115104   \n",
       "2                  814.68                        5.046    EQUITY  91324P102   \n",
       "3                  245.68                       20.412    EQUITY  174610105   \n",
       "4                  300.07                        5.085    EQUITY  907818108   \n",
       "\n",
       "  symbol description type  \n",
       "0     ED           0    0  \n",
       "2    UNH           0    0  \n",
       "3    CFG           0    0  \n",
       "4    UNP           0    0  "
      ]
     },
     "metadata": {},
     "output_type": "display_data"
    }
   ],
   "source": [
    "long_term_stocks = default_config['long_term_stocks'].split()\n",
    "\n",
    "# Filter out non Equity investments\n",
    "current_stocks = amc.AmeritradeRest('maiotradeuser', 'maiotradepw', 'maiotradeclientid').get_quotes(\n",
    "    utils.get_investment_symbols(equity_investments_df)).query('assetType == \"EQUITY\"').index.tolist()\n",
    "stocks_to_sell = equity_investments_df[equity_investments_df['symbol'].isin(current_stocks)]\n",
    "stocks_to_sell = stocks_to_sell[~stocks_to_sell['symbol'].isin(long_term_stocks)]\n",
    "logger.info('Stocks to sell:')\n",
    "display(stocks_to_sell)"
   ]
  },
  {
   "cell_type": "markdown",
   "metadata": {},
   "source": [
    "### Submit and montior sell orders"
   ]
  },
  {
   "cell_type": "code",
   "execution_count": 22,
   "metadata": {},
   "outputs": [
    {
     "name": "stdout",
     "output_type": "stream",
     "text": [
      "Placing SELL order on #---9216 for 15.389 shares of ED...\n",
      "Placed SELL order on #---9216 for 15.389 shares of ED\n",
      "Placing SELL order on #---9216 for 5.046 shares of UNH...\n",
      "Placed SELL order on #---9216 for 5.046 shares of UNH\n",
      "Placing SELL order on #---9216 for 20.412 shares of CFG...\n",
      "Placed SELL order on #---9216 for 20.412 shares of CFG\n",
      "Placing SELL order on #---9216 for 5.085 shares of UNP...\n",
      "Placed SELL order on #---9216 for 5.085 shares of UNP\n"
     ]
    }
   ],
   "source": [
    "td_ameritrade = amc.AmeritradeRest('maiotradeuser', 'maiotradepw', 'maiotradeclientid')\n",
    "td_ameritrade.authenticate()\n",
    "td_ameritrade.parse_portfolios_list()\n",
    "account_number = td_ameritrade.unmask_account(masked_account_number)\n",
    "sell_result = td_ameritrade.place_bulk_sell_orders(account_number, stocks_to_sell)"
   ]
  },
  {
   "cell_type": "code",
   "execution_count": 24,
   "metadata": {},
   "outputs": [],
   "source": [
    "while True:\n",
    "    td_ameritrade = amc.AmeritradeRest('maiotradeuser', 'maiotradepw', 'maiotradeclientid')\n",
    "    td_ameritrade.authenticate()\n",
    "    account_portfolio_df = utils.get_account_portfolio_data(td_ameritrade.parse_portfolios_list(), masked_account_number)\n",
    "    equity_investments_df = utils.get_investments_by_type(account_portfolio_df, investment_type='EQUITY')\n",
    "    stocks_with_sell_orders = equity_investments_df[equity_investments_df['symbol'].isin(stocks_to_sell.symbol.values)]\n",
    "    if len(stocks_with_sell_orders[stocks_with_sell_orders.longQuantity >= 1]) == 0:\n",
    "        break\n",
    "    logger.info(f'\\rStocks to sell|{stocks_with_sell_orders.symbol.values}')\n",
    "    time.sleep(60)\n",
    "    \n",
    "logger.info(f'\\rAll stocks sold|{stocks_to_sell.symbol.values}')\n"
   ]
  },
  {
   "cell_type": "code",
   "execution_count": 25,
   "metadata": {},
   "outputs": [
    {
     "data": {
      "text/plain": [
       "initialBalances_cashBalance           0.000000\n",
       "initialBalances_totalCash             0.000000\n",
       "initialBalances_equity             5965.200000\n",
       "initialBalances_moneyMarketFund      44.810000\n",
       "currentBalances_cashBalance        5839.870000\n",
       "currentBalances_equity             5977.640000\n",
       "currentBalances_moneyMarketFund      44.810000\n",
       "current_return                        0.002083\n",
       "Name: #---9216, dtype: float64"
      ]
     },
     "metadata": {},
     "output_type": "display_data"
    },
    {
     "name": "stdout",
     "output_type": "stream",
     "text": [
      "5839.87\n",
      "44.81\n"
     ]
    }
   ],
   "source": [
    "account_balances = td_ameritrade.parse_accounts().loc[masked_account_number]\n",
    "display(account_balances)\n",
    "print(account_balances.currentBalances_cashBalance)\n",
    "print(account_balances.currentBalances_moneyMarketFund)\n",
    "available_cash = account_balances.currentBalances_cashBalance + account_balances.currentBalances_moneyMarketFund\n",
    "logger.info(f'INVESTMENT_AMT|{available_cash}')"
   ]
  },
  {
   "cell_type": "code",
   "execution_count": 26,
   "metadata": {},
   "outputs": [
    {
     "name": "stdout",
     "output_type": "stream",
     "text": [
      "Available cash  : 5884.68\n",
      "Amount to invest: 5000\n"
     ]
    }
   ],
   "source": [
    "print(f'Available cash  : {available_cash}')\n",
    "investment_base = 1000\n",
    "investment_amount = math.floor(available_cash / investment_base) * investment_base\n",
    "print(f'Amount to invest: {investment_amount}')"
   ]
  },
  {
   "cell_type": "code",
   "execution_count": 27,
   "metadata": {},
   "outputs": [
    {
     "data": {
      "text/html": [
       "<div>\n",
       "<style scoped>\n",
       "    .dataframe tbody tr th:only-of-type {\n",
       "        vertical-align: middle;\n",
       "    }\n",
       "\n",
       "    .dataframe tbody tr th {\n",
       "        vertical-align: top;\n",
       "    }\n",
       "\n",
       "    .dataframe thead th {\n",
       "        text-align: right;\n",
       "    }\n",
       "</style>\n",
       "<table border=\"1\" class=\"dataframe\">\n",
       "  <thead>\n",
       "    <tr style=\"text-align: right;\">\n",
       "      <th></th>\n",
       "      <th>optimalWeights</th>\n",
       "    </tr>\n",
       "  </thead>\n",
       "  <tbody>\n",
       "    <tr>\n",
       "      <th>MPWR</th>\n",
       "      <td>0.30000</td>\n",
       "    </tr>\n",
       "    <tr>\n",
       "      <th>O</th>\n",
       "      <td>0.08093</td>\n",
       "    </tr>\n",
       "    <tr>\n",
       "      <th>UNP</th>\n",
       "      <td>0.30000</td>\n",
       "    </tr>\n",
       "    <tr>\n",
       "      <th>USB</th>\n",
       "      <td>0.30000</td>\n",
       "    </tr>\n",
       "  </tbody>\n",
       "</table>\n",
       "</div>"
      ],
      "text/plain": [
       "      optimalWeights\n",
       "MPWR         0.30000\n",
       "O            0.08093\n",
       "UNP          0.30000\n",
       "USB          0.30000"
      ]
     },
     "execution_count": 27,
     "metadata": {},
     "output_type": "execute_result"
    }
   ],
   "source": [
    "long_weights"
   ]
  },
  {
   "cell_type": "code",
   "execution_count": 28,
   "metadata": {},
   "outputs": [
    {
     "name": "stdout",
     "output_type": "stream",
     "text": [
      "2022-11-07 09:53:24.561898\n",
      "Initial investment amount: 5000\n"
     ]
    },
    {
     "data": {
      "text/html": [
       "<div>\n",
       "<style scoped>\n",
       "    .dataframe tbody tr th:only-of-type {\n",
       "        vertical-align: middle;\n",
       "    }\n",
       "\n",
       "    .dataframe tbody tr th {\n",
       "        vertical-align: top;\n",
       "    }\n",
       "\n",
       "    .dataframe thead th {\n",
       "        text-align: right;\n",
       "    }\n",
       "</style>\n",
       "<table border=\"1\" class=\"dataframe\">\n",
       "  <thead>\n",
       "    <tr style=\"text-align: right;\">\n",
       "      <th></th>\n",
       "      <th>regularMarketLastPrice</th>\n",
       "      <th>optimalWeights</th>\n",
       "      <th>invest_amount</th>\n",
       "      <th>shares</th>\n",
       "    </tr>\n",
       "  </thead>\n",
       "  <tbody>\n",
       "    <tr>\n",
       "      <th>MPWR</th>\n",
       "      <td>354.010</td>\n",
       "      <td>0.30000</td>\n",
       "      <td>1500.0</td>\n",
       "      <td>4</td>\n",
       "    </tr>\n",
       "    <tr>\n",
       "      <th>O</th>\n",
       "      <td>63.265</td>\n",
       "      <td>0.08093</td>\n",
       "      <td>405.0</td>\n",
       "      <td>6</td>\n",
       "    </tr>\n",
       "    <tr>\n",
       "      <th>UNP</th>\n",
       "      <td>197.570</td>\n",
       "      <td>0.30000</td>\n",
       "      <td>1500.0</td>\n",
       "      <td>7</td>\n",
       "    </tr>\n",
       "    <tr>\n",
       "      <th>USB</th>\n",
       "      <td>43.155</td>\n",
       "      <td>0.30000</td>\n",
       "      <td>1500.0</td>\n",
       "      <td>34</td>\n",
       "    </tr>\n",
       "  </tbody>\n",
       "</table>\n",
       "</div>"
      ],
      "text/plain": [
       "      regularMarketLastPrice  optimalWeights  invest_amount  shares\n",
       "MPWR                 354.010         0.30000         1500.0       4\n",
       "O                     63.265         0.08093          405.0       6\n",
       "UNP                  197.570         0.30000         1500.0       7\n",
       "USB                   43.155         0.30000         1500.0      34"
      ]
     },
     "metadata": {},
     "output_type": "display_data"
    },
    {
     "data": {
      "text/html": [
       "<div>\n",
       "<style scoped>\n",
       "    .dataframe tbody tr th:only-of-type {\n",
       "        vertical-align: middle;\n",
       "    }\n",
       "\n",
       "    .dataframe tbody tr th {\n",
       "        vertical-align: top;\n",
       "    }\n",
       "\n",
       "    .dataframe thead th {\n",
       "        text-align: right;\n",
       "    }\n",
       "</style>\n",
       "<table border=\"1\" class=\"dataframe\">\n",
       "  <thead>\n",
       "    <tr style=\"text-align: right;\">\n",
       "      <th></th>\n",
       "      <th>regularMarketLastPrice</th>\n",
       "      <th>optimalWeights</th>\n",
       "      <th>invest_amount</th>\n",
       "      <th>shares</th>\n",
       "      <th>cost</th>\n",
       "    </tr>\n",
       "  </thead>\n",
       "  <tbody>\n",
       "    <tr>\n",
       "      <th>O</th>\n",
       "      <td>63.265</td>\n",
       "      <td>0.118852</td>\n",
       "      <td>594.0</td>\n",
       "      <td>9</td>\n",
       "      <td>569.385</td>\n",
       "    </tr>\n",
       "    <tr>\n",
       "      <th>UNP</th>\n",
       "      <td>197.570</td>\n",
       "      <td>0.440574</td>\n",
       "      <td>2203.0</td>\n",
       "      <td>11</td>\n",
       "      <td>2173.270</td>\n",
       "    </tr>\n",
       "    <tr>\n",
       "      <th>USB</th>\n",
       "      <td>43.155</td>\n",
       "      <td>0.440574</td>\n",
       "      <td>2203.0</td>\n",
       "      <td>51</td>\n",
       "      <td>2200.905</td>\n",
       "    </tr>\n",
       "  </tbody>\n",
       "</table>\n",
       "</div>"
      ],
      "text/plain": [
       "     regularMarketLastPrice  optimalWeights  invest_amount  shares      cost\n",
       "O                    63.265        0.118852          594.0       9   569.385\n",
       "UNP                 197.570        0.440574         2203.0      11  2173.270\n",
       "USB                  43.155        0.440574         2203.0      51  2200.905"
      ]
     },
     "metadata": {},
     "output_type": "display_data"
    },
    {
     "name": "stdout",
     "output_type": "stream",
     "text": [
      "Total cost: 4943.5599999999995\n"
     ]
    }
   ],
   "source": [
    "print(datetime.today())\n",
    "print(f'Initial investment amount: {investment_amount}')\n",
    "nearest_base = 5\n",
    "min_shares = 5\n",
    "long_quotes = amc.AmeritradeRest('maiotradeuser', 'maiotradepw', 'maiotradeclientid').get_quotes(long_weights.index.to_list())\n",
    "long_shares = long_quotes['regularMarketLastPrice'].to_frame()\n",
    "long_shares['optimalWeights'] = long_weights['optimalWeights']\n",
    "long_shares['invest_amount'] = (long_shares['optimalWeights'] * investment_amount).round(0)\n",
    "long_shares['shares'] = (long_shares['invest_amount'] / long_shares['regularMarketLastPrice']).astype(int)\n",
    "display(long_shares)\n",
    "\n",
    "# Remove symbols that are less than min and re-compute\n",
    "\n",
    "final_long_shares = long_shares.query('shares >= @min_shares').copy()\n",
    "final_long_shares['optimalWeights'] = final_long_shares['optimalWeights'] / final_long_shares['optimalWeights'].sum(axis=0)\n",
    "final_long_shares['invest_amount'] = (final_long_shares['optimalWeights'] * investment_amount).round(0)\n",
    "final_long_shares['shares'] = (final_long_shares['invest_amount'] / final_long_shares['regularMarketLastPrice']).astype(int)\n",
    "final_long_shares['cost'] = final_long_shares['shares'] * final_long_shares['regularMarketLastPrice']\n",
    "display(final_long_shares)\n",
    "print(f'Total cost: {final_long_shares.cost.sum()}')\n"
   ]
  },
  {
   "cell_type": "markdown",
   "metadata": {},
   "source": [
    "### Place buy orders"
   ]
  },
  {
   "cell_type": "code",
   "execution_count": 29,
   "metadata": {},
   "outputs": [
    {
     "data": {
      "text/html": [
       "<div>\n",
       "<style scoped>\n",
       "    .dataframe tbody tr th:only-of-type {\n",
       "        vertical-align: middle;\n",
       "    }\n",
       "\n",
       "    .dataframe tbody tr th {\n",
       "        vertical-align: top;\n",
       "    }\n",
       "\n",
       "    .dataframe thead th {\n",
       "        text-align: right;\n",
       "    }\n",
       "</style>\n",
       "<table border=\"1\" class=\"dataframe\">\n",
       "  <thead>\n",
       "    <tr style=\"text-align: right;\">\n",
       "      <th></th>\n",
       "      <th>cusip</th>\n",
       "      <th>symbol</th>\n",
       "      <th>description</th>\n",
       "      <th>exchange</th>\n",
       "      <th>assetType</th>\n",
       "      <th>high52</th>\n",
       "      <th>low52</th>\n",
       "      <th>dividendAmount</th>\n",
       "      <th>dividendYield</th>\n",
       "      <th>dividendDate</th>\n",
       "      <th>...</th>\n",
       "      <th>bookValuePerShare</th>\n",
       "      <th>shortIntToFloat</th>\n",
       "      <th>shortIntDayToCover</th>\n",
       "      <th>divGrowthRate3Year</th>\n",
       "      <th>dividendPayAmount</th>\n",
       "      <th>dividendPayDate</th>\n",
       "      <th>beta</th>\n",
       "      <th>vol1DayAvg</th>\n",
       "      <th>vol10DayAvg</th>\n",
       "      <th>vol3MonthAvg</th>\n",
       "    </tr>\n",
       "  </thead>\n",
       "  <tbody>\n",
       "    <tr>\n",
       "      <th>0</th>\n",
       "      <td>902973304</td>\n",
       "      <td>USB</td>\n",
       "      <td>U.S. Bancorp Common Stock</td>\n",
       "      <td>NYSE</td>\n",
       "      <td>EQUITY</td>\n",
       "      <td>63.57</td>\n",
       "      <td>38.39</td>\n",
       "      <td>1.920</td>\n",
       "      <td>4.48</td>\n",
       "      <td>2022-09-29 00:00:00.000</td>\n",
       "      <td>...</td>\n",
       "      <td>5.83971</td>\n",
       "      <td>0.0</td>\n",
       "      <td>0.0</td>\n",
       "      <td>0.0</td>\n",
       "      <td>0.480</td>\n",
       "      <td>2022-10-17 00:00:00.000</td>\n",
       "      <td>0.97186</td>\n",
       "      <td>10405700.0</td>\n",
       "      <td>10405695.0</td>\n",
       "      <td>188970940.0</td>\n",
       "    </tr>\n",
       "    <tr>\n",
       "      <th>1</th>\n",
       "      <td>907818108</td>\n",
       "      <td>UNP</td>\n",
       "      <td>Union Pacific Corporation Common Stock</td>\n",
       "      <td>NYSE</td>\n",
       "      <td>EQUITY</td>\n",
       "      <td>278.94</td>\n",
       "      <td>183.70</td>\n",
       "      <td>5.200</td>\n",
       "      <td>2.64</td>\n",
       "      <td>2022-08-30 00:00:00.000</td>\n",
       "      <td>...</td>\n",
       "      <td>0.00000</td>\n",
       "      <td>0.0</td>\n",
       "      <td>0.0</td>\n",
       "      <td>0.0</td>\n",
       "      <td>1.300</td>\n",
       "      <td>2022-09-30 00:00:00.000</td>\n",
       "      <td>1.10589</td>\n",
       "      <td>3253740.0</td>\n",
       "      <td>3253737.0</td>\n",
       "      <td>62126430.0</td>\n",
       "    </tr>\n",
       "    <tr>\n",
       "      <th>2</th>\n",
       "      <td>756109104</td>\n",
       "      <td>O</td>\n",
       "      <td>Realty Income Corporation Common Stock</td>\n",
       "      <td>NYSE</td>\n",
       "      <td>EQUITY</td>\n",
       "      <td>75.40</td>\n",
       "      <td>55.50</td>\n",
       "      <td>2.976</td>\n",
       "      <td>4.72</td>\n",
       "      <td>2022-10-31 00:00:00.000</td>\n",
       "      <td>...</td>\n",
       "      <td>10.25254</td>\n",
       "      <td>0.0</td>\n",
       "      <td>0.0</td>\n",
       "      <td>0.0</td>\n",
       "      <td>0.248</td>\n",
       "      <td>2022-11-15 00:00:00.000</td>\n",
       "      <td>0.78089</td>\n",
       "      <td>4191030.0</td>\n",
       "      <td>4191029.0</td>\n",
       "      <td>90296080.0</td>\n",
       "    </tr>\n",
       "  </tbody>\n",
       "</table>\n",
       "<p>3 rows × 50 columns</p>\n",
       "</div>"
      ],
      "text/plain": [
       "       cusip symbol                             description exchange  \\\n",
       "0  902973304    USB               U.S. Bancorp Common Stock     NYSE   \n",
       "1  907818108    UNP  Union Pacific Corporation Common Stock     NYSE   \n",
       "2  756109104      O  Realty Income Corporation Common Stock     NYSE   \n",
       "\n",
       "  assetType  high52   low52  dividendAmount  dividendYield  \\\n",
       "0    EQUITY   63.57   38.39           1.920           4.48   \n",
       "1    EQUITY  278.94  183.70           5.200           2.64   \n",
       "2    EQUITY   75.40   55.50           2.976           4.72   \n",
       "\n",
       "              dividendDate  ...  bookValuePerShare  shortIntToFloat  \\\n",
       "0  2022-09-29 00:00:00.000  ...            5.83971              0.0   \n",
       "1  2022-08-30 00:00:00.000  ...            0.00000              0.0   \n",
       "2  2022-10-31 00:00:00.000  ...           10.25254              0.0   \n",
       "\n",
       "   shortIntDayToCover  divGrowthRate3Year  dividendPayAmount  \\\n",
       "0                 0.0                 0.0              0.480   \n",
       "1                 0.0                 0.0              1.300   \n",
       "2                 0.0                 0.0              0.248   \n",
       "\n",
       "           dividendPayDate     beta  vol1DayAvg  vol10DayAvg  vol3MonthAvg  \n",
       "0  2022-10-17 00:00:00.000  0.97186  10405700.0   10405695.0   188970940.0  \n",
       "1  2022-09-30 00:00:00.000  1.10589   3253740.0    3253737.0    62126430.0  \n",
       "2  2022-11-15 00:00:00.000  0.78089   4191030.0    4191029.0    90296080.0  \n",
       "\n",
       "[3 rows x 50 columns]"
      ]
     },
     "execution_count": 29,
     "metadata": {},
     "output_type": "execute_result"
    }
   ],
   "source": [
    "amc.AmeritradeRest('maiotradeuser', 'maiotradepw', 'maiotradeclientid').get_quotes(long_weights.index.to_list())\n",
    "td_ameritrade.get_fundamental(list(final_long_shares.index))"
   ]
  },
  {
   "cell_type": "code",
   "execution_count": 30,
   "metadata": {},
   "outputs": [
    {
     "name": "stdout",
     "output_type": "stream",
     "text": [
      "2022-11-07 10:03:38.059187\n",
      "Placing BUY order on 755579216 for 9.0 shares of O:EQUITY...\n",
      "Placed BUY order on #---9216 for 9.0 shares of O\n",
      "Placing BUY order on 755579216 for 11.0 shares of UNP:EQUITY...\n",
      "Placed BUY order on #---9216 for 11.0 shares of UNP\n",
      "Placing BUY order on 755579216 for 51.0 shares of USB:EQUITY...\n",
      "Placed BUY order on #---9216 for 51.0 shares of USB\n"
     ]
    }
   ],
   "source": [
    "print(datetime.today())\n",
    "td_ameritrade = amc.AmeritradeRest('maiotradeuser', 'maiotradepw', 'maiotradeclientid')\n",
    "td_ameritrade.authenticate()\n",
    "td_ameritrade.parse_portfolios_list()\n",
    "account_number = td_ameritrade.unmask_account(masked_account_number)\n",
    "\n",
    "for index, row in final_long_shares.iterrows():\n",
    "    fundamental = td_ameritrade.get_fundamental([index])\n",
    "    print(f'Placing BUY order on {account_number} for {row.shares} shares of {index}:{fundamental.loc[0].assetType}...')\n",
    "    result = td_ameritrade.place_order(account_number, index, fundamental.loc[0].assetType, row.shares, 'BUY')"
   ]
  },
  {
   "cell_type": "code",
   "execution_count": 23,
   "metadata": {},
   "outputs": [
    {
     "data": {
      "application/vnd.jupyter.widget-view+json": {
       "model_id": "298e041d5c4f4ded96d0dce0c74d07a3",
       "version_major": 2,
       "version_minor": 0
      },
      "text/plain": [
       "Tickers:   0%|          | 0/5 [00:00<?, ?Price Histories/s]"
      ]
     },
     "metadata": {},
     "output_type": "display_data"
    },
    {
     "data": {
      "text/plain": [
       "<AxesSubplot:xlabel='date'>"
      ]
     },
     "execution_count": 23,
     "metadata": {},
     "output_type": "execute_result"
    },
    {
     "data": {
      "image/png": "[encoded data removed]",
      "text/plain": [
       "<Figure size 1440x576 with 1 Axes>"
      ]
     },
     "metadata": {
      "needs_background": "light"
     },
     "output_type": "display_data"
    }
   ],
   "source": [
    "number_of_years = 5\n",
    "portfolio_price_histories = amc.AmeritradeRest('maiotradeuser', 'maiotradepw', 'maiotradeclientid').get_price_histories(list(long_shares.index), datetime.today().strftime('%Y-%m-%d'), num_periods=number_of_years)\n",
    "portfolio_close = utils.get_close_values(portfolio_price_histories)\n",
    "utils.compute_log_returns(portfolio_close)[-5:].cumsum().plot()"
   ]
  },
  {
   "cell_type": "markdown",
   "metadata": {},
   "source": [
    "## import ameritrade_functions as amc\n",
    "\n",
    "td_ameritrade = amc.AmeritradeRest('maiotradeuser', 'maiotradepw', 'maiotradeclientid')\n",
    "td_ameritrade.authenticate()\n",
    "td_ameritrade.parse_accounts().loc[masked_account_number]"
   ]
  }
 ],
 "metadata": {
  "kernelspec": {
   "display_name": "Python [conda env:ml4t] *",
   "language": "python",
   "name": "conda-env-ml4t-py"
  },
  "language_info": {
   "codemirror_mode": {
    "name": "ipython",
    "version": 3
   },
   "file_extension": ".py",
   "mimetype": "text/x-python",
   "name": "python",
   "nbconvert_exporter": "python",
   "pygments_lexer": "ipython3",
   "version": "3.8.8"
  }
 },
 "nbformat": 4,
 "nbformat_minor": 4
}
