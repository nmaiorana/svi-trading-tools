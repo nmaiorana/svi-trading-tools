{
 "cells": [
  {
   "cell_type": "markdown",
   "metadata": {},
   "source": [
    "# Portfolio Workflow"
   ]
  },
  {
   "cell_type": "code",
   "execution_count": 1,
   "metadata": {},
   "outputs": [
    {
     "name": "stdout",
     "output_type": "stream",
     "text": [
      "2022-05-14 13:04:06,119|numexpr.utils|INFO|NumExpr defaulting to 4 threads.\n",
      "2022-05-14 13:04:09,658|GenerateAlphaAndBetaFactors|INFO|Python version: 3.8.8\n",
      "2022-05-14 13:04:09,658|GenerateAlphaAndBetaFactors|INFO|Pandas version: 1.3.5\n"
     ]
    }
   ],
   "source": [
    "import logging\n",
    "import logging.config\n",
    "\n",
    "logging.config.fileConfig('./config/logging.ini')\n",
    "logger = logging.getLogger('GenerateAlphaAndBetaFactors')\n",
    "\n",
    "import configparser\n",
    "from platform import python_version\n",
    "from pathlib import Path\n",
    "\n",
    "# Set the import path for the project tools directiory\n",
    "import sys\n",
    "# insert at position 1 in the path, as 0 is the path of this file.\n",
    "sys.path.insert(1, 'tools')\n",
    "\n",
    "# Project imports\n",
    "import importlib\n",
    "import trading_factors_yahoo as alpha_factors\n",
    "importlib.reload(alpha_factors)\n",
    "import utils\n",
    "importlib.reload(utils)\n",
    "\n",
    "import time\n",
    "from datetime import datetime\n",
    "import os\n",
    "import pandas as pd\n",
    "import numpy as np\n",
    "import math\n",
    "from tqdm.notebook import tqdm\n",
    "import matplotlib.pyplot as plt\n",
    "import pickle\n",
    "\n",
    "%matplotlib inline\n",
    "plt.style.use('ggplot')\n",
    "plt.rcParams['figure.figsize'] = (20, 8)\n",
    "\n",
    "logger.info(f'Python version: {python_version()}')\n",
    "logger.info(f'Pandas version: {pd.__version__}')"
   ]
  },
  {
   "cell_type": "code",
   "execution_count": 2,
   "metadata": {},
   "outputs": [],
   "source": [
    "config = configparser.ConfigParser()\n",
    "config.read('./config/config.ini')\n",
    "default_config = config[\"DEFAULT\"]"
   ]
  },
  {
   "cell_type": "markdown",
   "metadata": {},
   "source": [
    "# Price History data"
   ]
  },
  {
   "cell_type": "code",
   "execution_count": 3,
   "metadata": {},
   "outputs": [
    {
     "name": "stdout",
     "output_type": "stream",
     "text": [
      "2022-05-14 13:04:09,704|GenerateAlphaAndBetaFactors|INFO|PRICE_HISTORIES_FILE|./data/price_histories_yahoo.csv...\n",
      "2022-05-14 13:04:10,738|GenerateAlphaAndBetaFactors|INFO|PRICE_HISTORIES|2017-05-15 00:00:00|2022-05-13 00:00:00\n",
      "2022-05-14 13:04:10,739|GenerateAlphaAndBetaFactors|INFO|Using 5 years of price history data to generate alpha factors.\n",
      "2022-05-14 13:04:10,756|GenerateAlphaAndBetaFactors|INFO|PRICE_HISTORIES_ALPHA|2017-05-15 00:00:00|2022-05-13 00:00:00\n",
      "2022-05-14 13:04:10,758|GenerateAlphaAndBetaFactors|INFO|STOCK_TICKERS|501\n"
     ]
    }
   ],
   "source": [
    "price_histories_file_name = default_config[\"DataDirectory\"] + '/' + default_config[\"PriceHistoriesFileName\"]\n",
    "logger.info(f'PRICE_HISTORIES_FILE|{price_histories_file_name}...')\n",
    "price_histories = pd.read_csv(price_histories_file_name, header=[0, 1], index_col=[0], parse_dates=True, low_memory=False)\n",
    "logger.info(f'PRICE_HISTORIES|{price_histories.index.min()}|{price_histories.index.max()}')\n",
    "logger.info(f'Using {default_config[\"NumberOfYearsForAlpha\"]} years of price history data to generate alpha factors.')\n",
    "latest_date = price_histories.index.max() \n",
    "earliest_date = latest_date - pd.DateOffset(years=int(default_config[\"NumberOfYearsForAlpha\"]))\n",
    "price_histories = price_histories[(price_histories.index >= earliest_date) & (price_histories.index <= latest_date)]\n",
    "logger.info(f'PRICE_HISTORIES_ALPHA|{price_histories.index.min()}|{price_histories.index.max()}')\n",
    "close = price_histories.Close\n",
    "logger.info(f'STOCK_TICKERS|{len(close.columns)}')\n",
    "alpha_factors_file_name = default_config[\"DataDirectory\"] + '/' + default_config[\"AlphaFactorsFileName\"]\n",
    "beta_factors_file_name = default_config[\"DataDirectory\"] + '/' + default_config[\"BetaFactorsFileName\"]"
   ]
  },
  {
   "cell_type": "markdown",
   "metadata": {},
   "source": [
    "# Stage 2a: Generate Alpha Factors using Stock Price History data\n",
    "\n",
    "- Compute custom apha factors\n",
    "- Save Alpha Factors"
   ]
  },
  {
   "cell_type": "code",
   "execution_count": 4,
   "metadata": {},
   "outputs": [
    {
     "name": "stdout",
     "output_type": "stream",
     "text": [
      "2022-05-14 13:04:10,777|GenerateAlphaAndBetaFactors|INFO|Gathering snp500 stock ticker sector data...\n",
      "2022-05-14 13:04:11,480|GenerateAlphaAndBetaFactors|INFO|Stock sector information gatherd.\n",
      "2022-05-14 13:04:11,496|GenerateAlphaAndBetaFactors|INFO|Generate Momentum alpha factors...\n",
      "2022-05-14 13:04:11,639|GenerateAlphaAndBetaFactors|INFO|Generate Trailing Overnight Returns alpha factors...\n",
      "2022-05-14 13:04:11,982|GenerateAlphaAndBetaFactors|INFO|Mean Reversion alpha factors...\n",
      "2022-05-14 13:04:12,123|GenerateAlphaAndBetaFactors|INFO|Annulized Volatility alpha factors...\n",
      "2022-05-14 13:04:12,319|GenerateAlphaAndBetaFactors|INFO|Combining 4 alphas into one dataframe...\n",
      "2022-05-14 13:05:02,681|GenerateAlphaAndBetaFactors|INFO|ALPHA_FACTORS_FILE|./data/all_factors.csv\n",
      "2022-05-14 13:05:07,285|GenerateAlphaAndBetaFactors|INFO|Alpha factors saved.\n",
      "2022-05-14 13:05:07,285|GenerateAlphaAndBetaFactors|INFO|ALPHA_FACTOR|momentum_252_day\n",
      "2022-05-14 13:05:07,285|GenerateAlphaAndBetaFactors|INFO|ALPHA_FACTOR|trailing_overnight_returns_10_day_smoothed\n",
      "2022-05-14 13:05:07,285|GenerateAlphaAndBetaFactors|INFO|ALPHA_FACTOR|mean_reversion_120_day_logret\n",
      "2022-05-14 13:05:07,293|GenerateAlphaAndBetaFactors|INFO|ALPHA_FACTOR|annualzed_volatility_20_day\n"
     ]
    }
   ],
   "source": [
    "logger.info('Gathering snp500 stock ticker sector data...')\n",
    "snp_500_stocks = utils.get_snp500()\n",
    "sector_helper = alpha_factors.get_sector_helper(snp_500_stocks, 'GICS Sector', close.columns)\n",
    "logger.info(f'Stock sector information gatherd.')\n",
    "alpha_factors_list = []\n",
    "\n",
    "logger.info(f'Generate Momentum alpha factors...')\n",
    "alpha_factors_list.append(alpha_factors.FactorMomentum(price_histories, 252).demean(groupby=sector_helper.values()).rank().zscore().for_al())\n",
    "\n",
    "logger.info(f'Generate Trailing Overnight Returns alpha factors...')\n",
    "alpha_factors_list.append(alpha_factors.TrailingOvernightReturns(price_histories, 10).rank().zscore().smoothed(10).rank().zscore().for_al())\n",
    "\n",
    "logger.info(f'Mean Reversion alpha factors...')\n",
    "alpha_factors_list.append(alpha_factors.FactorMeanReversion(price_histories, 120).demean(groupby=sector_helper.values()).rank().zscore().for_al())\n",
    "\n",
    "logger.info(f'Annulized Volatility alpha factors...')\n",
    "alpha_factors_list.append(alpha_factors.AnnualizedVolatility(price_histories, 20).rank().zscore().for_al())\n",
    "\n",
    "logger.info(f'Combining {len(alpha_factors_list)} alphas into one dataframe...')\n",
    "all_factors = pd.concat(alpha_factors_list, axis=1)\n",
    "all_factors.sort_index(inplace=True)\n",
    "all_factors = all_factors.dropna()\n",
    "\n",
    "if len(all_factors) == 0:\n",
    "    logger.error(f'ALPHA_FACTORS_EMPTY|{len(all_factors)}')\n",
    "    raise RuntimeError(f'Alpha Factors contains no data({len(all_factors)})') from None\n",
    "\n",
    "logger.info(f'ALPHA_FACTORS_FILE|{alpha_factors_file_name}')\n",
    "all_factors.to_csv(alpha_factors_file_name)\n",
    "logger.info('Alpha factors saved.')\n",
    "\n",
    "for alpha_factor in all_factors.columns:\n",
    "    logger.info(f'ALPHA_FACTOR|{alpha_factor}')"
   ]
  },
  {
   "cell_type": "markdown",
   "metadata": {},
   "source": [
    "# Stage 2b: Generate Beta Factors\n",
    "\n",
    "- Use Risk Model\n",
    "- Compute Daily Betas for 1 year"
   ]
  },
  {
   "cell_type": "code",
   "execution_count": 6,
   "metadata": {},
   "outputs": [
    {
     "name": "stdout",
     "output_type": "stream",
     "text": [
      "2022-05-14 13:07:49,548|GenerateAlphaAndBetaFactors|INFO|Generate beta factors...\n",
      "2022-05-14 13:07:49,608|GenerateAlphaAndBetaFactors|INFO|Generating 4 year Betas from 2018-05-13 00:00:00 to 2022-05-13 00:00:00\n"
     ]
    },
    {
     "data": {
      "application/vnd.jupyter.widget-view+json": {
       "model_id": "d4ea12c33bdd485ba4babd51166b5e02",
       "version_major": 2,
       "version_minor": 0
      },
      "text/plain": [
       "Dates:   0%|          | 0/1009 [00:00<?, ? Daily Beta/s]"
      ]
     },
     "metadata": {},
     "output_type": "display_data"
    },
    {
     "name": "stdout",
     "output_type": "stream",
     "text": [
      "2022-05-14 13:08:28,526|GenerateAlphaAndBetaFactors|INFO|BETA_FACTORS_FILE|./data/daily_beta.pickle\n"
     ]
    }
   ],
   "source": [
    "logger.info(f'Generate beta factors...')\n",
    "returns = alpha_factors.FactorReturns(price_histories).factor_data.dropna()\n",
    "end_date = returns.index.max()\n",
    "number_of_beta_years = int(default_config[\"NumberOfYearsPriceHistories\"]) - 1\n",
    "start_date = end_date - pd.offsets.DateOffset(years=number_of_beta_years)\n",
    "logger.info(f'Generating {number_of_beta_years} year Betas from {start_date} to {end_date}')\n",
    "beta_dates = pd.date_range(start_date, end_date, freq='D')\n",
    "daily_betas = {}\n",
    "for beta_date in tqdm(returns[start_date:].index, desc='Dates', unit=' Daily Beta'):\n",
    "    start_of_returns = beta_date - pd.offsets.DateOffset(years=1)\n",
    "    beta_returns = returns.loc[start_of_returns:beta_date]\n",
    "    risk_model = alpha_factors.RiskModelPCA(beta_returns, 1, 20)\n",
    "    daily_betas[beta_date.strftime('%m/%d/%Y')] = risk_model\n",
    "\n",
    "logger.info(f'BETA_FACTORS_FILE|{beta_factors_file_name}')\n",
    "with open(beta_factors_file_name, 'wb') as f:\n",
    "    # Pickle the 'data' dictionary using the highest protocol available.\n",
    "    pickle.dump(daily_betas, f, pickle.HIGHEST_PROTOCOL)"
   ]
  }
 ],
 "metadata": {
  "kernelspec": {
   "display_name": "Python [conda env:ml4t] *",
   "language": "python",
   "name": "conda-env-ml4t-py"
  },
  "language_info": {
   "codemirror_mode": {
    "name": "ipython",
    "version": 3
   },
   "file_extension": ".py",
   "mimetype": "text/x-python",
   "name": "python",
   "nbconvert_exporter": "python",
   "pygments_lexer": "ipython3",
   "version": "3.8.8"
  }
 },
 "nbformat": 4,
 "nbformat_minor": 4
}
