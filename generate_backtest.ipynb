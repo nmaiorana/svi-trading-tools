{
 "cells": [
  {
   "cell_type": "markdown",
   "metadata": {},
   "source": [
    "# Portfolio Workflow"
   ]
  },
  {
   "cell_type": "code",
   "execution_count": 1,
   "metadata": {},
   "outputs": [
    {
     "name": "stdout",
     "output_type": "stream",
     "text": [
      "2022-05-22 18:32:35,516|numexpr.utils|INFO|NumExpr defaulting to 4 threads.\n",
      "Sci-Kit version: 0.24.1\n",
      "Sci-Kit version: 0.24.1\n",
      "2022-05-22 18:32:39,217|GenerateBacktest|INFO|Python version: 3.8.8\n",
      "2022-05-22 18:32:39,218|GenerateBacktest|INFO|Pandas version: 1.3.5\n"
     ]
    }
   ],
   "source": [
    "import logging\n",
    "import logging.config\n",
    "\n",
    "logging.config.fileConfig('./config/logging.ini')\n",
    "logger = logging.getLogger('GenerateBacktest')\n",
    "\n",
    "import configparser\n",
    "from platform import python_version\n",
    "from pathlib import Path\n",
    "\n",
    "# Project imports\n",
    "import importlib\n",
    "import tools.trading_factors_yahoo as alpha_factors\n",
    "importlib.reload(alpha_factors)\n",
    "import tools.utils as utils\n",
    "importlib.reload(utils)\n",
    "import tools.nonoverlapping_estimator as ai_estimator\n",
    "importlib.reload(ai_estimator)\n",
    "import tools.portfolio_optimizer as portfolio_optimizer\n",
    "importlib.reload(portfolio_optimizer)\n",
    "\n",
    "import time\n",
    "from datetime import datetime\n",
    "import os\n",
    "import pandas as pd\n",
    "import numpy as np\n",
    "import math\n",
    "from tqdm.notebook import tqdm\n",
    "import matplotlib.pyplot as plt\n",
    "import pickle\n",
    "\n",
    "%matplotlib inline\n",
    "plt.style.use('ggplot')\n",
    "plt.rcParams['figure.figsize'] = (20, 8)\n",
    "\n",
    "logger.info(f'Python version: {python_version()}')\n",
    "logger.info(f'Pandas version: {pd.__version__}')"
   ]
  },
  {
   "cell_type": "code",
   "execution_count": 6,
   "metadata": {},
   "outputs": [],
   "source": [
    "config = configparser.ConfigParser()\n",
    "config.read('./config/config.ini')\n",
    "default_config = config['BackTest']\n",
    "ai_alpha_config = config['AIAlpha']"
   ]
  },
  {
   "cell_type": "markdown",
   "metadata": {},
   "source": [
    "# Price History data and Alphs Factors"
   ]
  },
  {
   "cell_type": "code",
   "execution_count": 3,
   "metadata": {},
   "outputs": [
    {
     "name": "stdout",
     "output_type": "stream",
     "text": [
      "2022-05-22 18:32:39,260|GenerateBacktest|INFO|PRICE_HISTORIES_FILE|./data/price_histories_yahoo.csv...\n",
      "You have 502 stocks from picing\n",
      "2022-05-22 18:32:40,417|GenerateBacktest|INFO|ALPHA_VECTORS_FILE|./data/pre_backtest_alpha_vectors.csv...\n",
      "2022-05-22 18:32:40,613|GenerateBacktest|INFO|ALPHA_VECTORS_STOCKS|502\n",
      "2022-05-22 18:32:40,613|GenerateBacktest|INFO|BEATA_FACTORS_FILE|./data/daily_beta.pickle...\n",
      "2022-05-22 18:32:42,383|GenerateBacktest|INFO|DAILY_BETAS|1009\n",
      "2022-05-22 18:32:42,383|GenerateBacktest|INFO|OPT|risk_cap|0.1\n",
      "2022-05-22 18:32:42,383|GenerateBacktest|INFO|OPT|weights_max|0.15\n",
      "2022-05-22 18:32:42,383|GenerateBacktest|INFO|OPT|weights_min|0.0\n"
     ]
    }
   ],
   "source": [
    "price_histories_file_name = default_config['DataDirectory'] + '/' + default_config['PriceHistoriesFileName']\n",
    "ai_alpha_factors_file_name = default_config['DataDirectory'] + '/' + default_config['AIAlphaFileName']\n",
    "beta_factors_file_name = default_config[\"DataDirectory\"] + '/' + default_config['BetaFactorsFileName']\n",
    "\n",
    "\n",
    "logger.info(f'PRICE_HISTORIES_FILE|{price_histories_file_name}...')\n",
    "price_histories = pd.read_csv(price_histories_file_name, header=[0, 1], index_col=[0], parse_dates=True, low_memory=False)\n",
    "pricing = price_histories.Close\n",
    "adv = alpha_factors.AverageDollarVolume(price_histories, 5).factor_data\n",
    "print(f'You have {len(pricing.columns)} stocks from picing')\n",
    "\n",
    "logger.info(f'ALPHA_VECTORS_FILE|{ai_alpha_factors_file_name}...')\n",
    "alpha_vectors = pd.read_csv(ai_alpha_factors_file_name, parse_dates=['Date']).set_index(['Date']).sort_index()\n",
    "logger.info(f'ALPHA_VECTORS_STOCKS|{len(alpha_vectors.columns)}')\n",
    "\n",
    "logger.info(f'BEATA_FACTORS_FILE|{beta_factors_file_name}...')\n",
    "with open(beta_factors_file_name, 'rb') as f:\n",
    "    # The protocol version used is detected automatically, so we do not\n",
    "    # have to specify it.\n",
    "    daily_betas = pickle.load(f)\n",
    "logger.info(f'DAILY_BETAS|{len(daily_betas)}')\n",
    "\n",
    "risk_cap = float(default_config['risk_cap'])\n",
    "weights_max = float(default_config['weights_max'])\n",
    "weights_min = float(default_config['weights_min'])\n",
    "\n",
    "logger.info(f'OPT|risk_cap|{risk_cap}')\n",
    "logger.info(f'OPT|weights_max|{weights_max}')\n",
    "logger.info(f'OPT|weights_min|{weights_min}')"
   ]
  },
  {
   "cell_type": "code",
   "execution_count": 4,
   "metadata": {},
   "outputs": [],
   "source": [
    "def get_lambda(average_dollar_volume):\n",
    "    adv = average_dollar_volume.replace(np.nan, 1.0e4)\n",
    "    adv = adv.replace(0.0, 1.0e4)\n",
    "    return 0.1 / adv\n",
    "\n",
    "def get_total_transaction_costs(h0, h_star, tc_lambda):\n",
    "    return np.dot( (h_star - h0) ** 2, tc_lambda)"
   ]
  },
  {
   "cell_type": "markdown",
   "metadata": {},
   "source": [
    "# Back test AI Alpha and Daily Betas to produce optimal weights"
   ]
  },
  {
   "cell_type": "code",
   "execution_count": 7,
   "metadata": {},
   "outputs": [
    {
     "name": "stdout",
     "output_type": "stream",
     "text": [
      "2022-05-22 18:59:16,788|GenerateBacktest|INFO|OPT|2021-05-24 00:00:00|2022-05-13 00:00:00\n"
     ]
    },
    {
     "data": {
      "application/vnd.jupyter.widget-view+json": {
       "model_id": "87d89b713f4e43478f77bef529360bc1",
       "version_major": 2,
       "version_minor": 0
      },
      "text/plain": [
       "Dates:   0%|          | 0/50 [00:00<?, ? Portfolio Optimization/s]"
      ]
     },
     "metadata": {},
     "output_type": "display_data"
    },
    {
     "name": "stderr",
     "output_type": "stream",
     "text": [
      "C:\\Users\\HP-Z440\\anaconda3\\envs\\ml4t\\lib\\site-packages\\cvxpy\\problems\\problem.py:1267: UserWarning: Solution may be inaccurate. Try another solver, adjusting the solver settings, or solve with verbose=True for more information.\n",
      "  warnings.warn(\n"
     ]
    },
    {
     "name": "stdout",
     "output_type": "stream",
     "text": [
      "2022-05-22 19:16:58,187|GenerateBacktest|INFO|OPT_PORT_RETURN|6.35%\n",
      "2022-05-22 19:16:58,187|GenerateBacktest|WARNING|OPT|STOP|6.35\n"
     ]
    },
    {
     "name": "stderr",
     "output_type": "stream",
     "text": [
      "<ipython-input-7-ad2c00bcada4>:30: DeprecationWarning: The 'warn' method is deprecated, use 'warning' instead\n",
      "  logger.warn(f'OPT|STOP|{port_return}')\n"
     ]
    },
    {
     "ename": "RuntimeError",
     "evalue": "Backtest indicates this strategy needs more work! (6.35)",
     "output_type": "error",
     "traceback": [
      "\u001b[1;31m---------------------------------------------------------------------------\u001b[0m",
      "\u001b[1;31mRuntimeError\u001b[0m                              Traceback (most recent call last)",
      "\u001b[1;32m<ipython-input-7-ad2c00bcada4>\u001b[0m in \u001b[0;36m<module>\u001b[1;34m\u001b[0m\n\u001b[0;32m     29\u001b[0m \u001b[1;32melse\u001b[0m\u001b[1;33m:\u001b[0m\u001b[1;33m\u001b[0m\u001b[1;33m\u001b[0m\u001b[0m\n\u001b[0;32m     30\u001b[0m     \u001b[0mlogger\u001b[0m\u001b[1;33m.\u001b[0m\u001b[0mwarn\u001b[0m\u001b[1;33m(\u001b[0m\u001b[1;34mf'OPT|STOP|{port_return}'\u001b[0m\u001b[1;33m)\u001b[0m\u001b[1;33m\u001b[0m\u001b[1;33m\u001b[0m\u001b[0m\n\u001b[1;32m---> 31\u001b[1;33m     \u001b[1;32mraise\u001b[0m \u001b[0mRuntimeError\u001b[0m\u001b[1;33m(\u001b[0m\u001b[1;34mf'Backtest indicates this strategy needs more work! ({port_return})'\u001b[0m\u001b[1;33m)\u001b[0m \u001b[1;32mfrom\u001b[0m \u001b[1;32mNone\u001b[0m\u001b[1;33m\u001b[0m\u001b[1;33m\u001b[0m\u001b[0m\n\u001b[0m\u001b[0;32m     32\u001b[0m \u001b[1;33m\u001b[0m\u001b[0m\n\u001b[0;32m     33\u001b[0m \u001b[0mpd\u001b[0m\u001b[1;33m.\u001b[0m\u001b[0mSeries\u001b[0m\u001b[1;33m(\u001b[0m\u001b[0mopt_date_returns\u001b[0m\u001b[1;33m)\u001b[0m\u001b[1;33m.\u001b[0m\u001b[0mcumsum\u001b[0m\u001b[1;33m(\u001b[0m\u001b[1;33m)\u001b[0m\u001b[1;33m.\u001b[0m\u001b[0mplot\u001b[0m\u001b[1;33m(\u001b[0m\u001b[1;33m)\u001b[0m\u001b[1;33m\u001b[0m\u001b[1;33m\u001b[0m\u001b[0m\n",
      "\u001b[1;31mRuntimeError\u001b[0m: Backtest indicates this strategy needs more work! (6.35)"
     ]
    }
   ],
   "source": [
    "returns = alpha_factors.FactorReturns(price_histories).factor_data\n",
    "dlyreturn_n_days_delay = int(ai_alpha_config['ForwardPredictionDays'])\n",
    "delayed_returns = returns[-252:].shift(-dlyreturn_n_days_delay).dropna()\n",
    "start_date = list(delayed_returns.index)[0]\n",
    "end_date = list(delayed_returns.index)[-1]\n",
    "logger.info(f'OPT|{start_date}|{end_date}')\n",
    "tc_lambda = get_lambda(adv)\n",
    "\n",
    "current_holdings = pd.Series(np.zeros(len(delayed_returns.columns)), index=delayed_returns.columns)\n",
    "\n",
    "min_viable_port_return = float(default_config['min_viable_port_return'])\n",
    "opt_date_returns = {}\n",
    "opt_date_tc = {}\n",
    "for opt_date in tqdm(delayed_returns.index.to_list()[-252::dlyreturn_n_days_delay], desc='Dates', unit=' Portfolio Optimization'):\n",
    "    alpha_vector = pd.DataFrame(alpha_vectors.loc[opt_date])\n",
    "    risk_model = daily_betas[opt_date.strftime('%m/%d/%Y')]\n",
    "    est_return = delayed_returns.loc[opt_date]\n",
    "    optimal_weights = portfolio_optimizer.OptimalHoldings(risk_cap=risk_cap,weights_max=weights_max, weights_min=weights_min).find(alpha_vector, risk_model.factor_betas_, risk_model.factor_cov_matrix_, risk_model.idiosyncratic_var_vector_)\n",
    "    new_holdings = optimal_weights['optimalWeights']\n",
    "    opt_date_returns[opt_date] = (new_holdings * est_return).sum()\n",
    "    # trading costs\n",
    "    opt_date_tc[opt_date] = get_total_transaction_costs(current_holdings, new_holdings, tc_lambda.loc[opt_date])\n",
    "    current_holdings = new_holdings\n",
    "\n",
    "port_return = round(np.sum(list(opt_date_returns.values())) * 100, 2)\n",
    "logger.info(f'OPT_PORT_RETURN|{port_return}%')\n",
    "pd.Series(opt_date_returns).cumsum().plot()\n",
    "if port_return >= min_viable_port_return:\n",
    "    logger.info(f'OPT|PROCEED|{port_return}%')\n",
    "else:\n",
    "    logger.warn(f'OPT|STOP|{port_return}')\n",
    "    raise RuntimeError(f'Backtest indicates this strategy needs more work! ({port_return})') from None\n",
    "    \n"
   ]
  },
  {
   "cell_type": "code",
   "execution_count": 8,
   "metadata": {},
   "outputs": [],
   "source": [
    "tc_ser = pd.Series(opt_date_tc)\n",
    "re_ser = pd.Series(opt_date_returns)\n",
    "net_ret = re_ser + tc_ser"
   ]
  },
  {
   "cell_type": "code",
   "execution_count": 9,
   "metadata": {},
   "outputs": [
    {
     "data": {
      "text/plain": [
       "<AxesSubplot:>"
      ]
     },
     "execution_count": 9,
     "metadata": {},
     "output_type": "execute_result"
    },
    {
     "data": {
      "image/png": "[encoded data removed]",
      "text/plain": [
       "<Figure size 1440x576 with 1 Axes>"
      ]
     },
     "metadata": {},
     "output_type": "display_data"
    }
   ],
   "source": [
    "net_ret.cumsum().plot()"
   ]
  },
  {
   "cell_type": "code",
   "execution_count": 10,
   "metadata": {},
   "outputs": [
    {
     "data": {
      "text/plain": [
       "0.06345416904599478"
      ]
     },
     "execution_count": 10,
     "metadata": {},
     "output_type": "execute_result"
    }
   ],
   "source": [
    "np.sum(net_ret)"
   ]
  },
  {
   "cell_type": "code",
   "execution_count": 11,
   "metadata": {},
   "outputs": [
    {
     "data": {
      "text/plain": [
       "0.06345415988145967"
      ]
     },
     "execution_count": 11,
     "metadata": {},
     "output_type": "execute_result"
    }
   ],
   "source": [
    "np.sum(re_ser)"
   ]
  },
  {
   "cell_type": "markdown",
   "metadata": {},
   "source": [
    "## TODO:\n",
    "\n",
    "- For go forward situations, save all the information to be used to put in buy/sell orders"
   ]
  }
 ],
 "metadata": {
  "kernelspec": {
   "display_name": "Python [conda env:ml4t] *",
   "language": "python",
   "name": "conda-env-ml4t-py"
  },
  "language_info": {
   "codemirror_mode": {
    "name": "ipython",
    "version": 3
   },
   "file_extension": ".py",
   "mimetype": "text/x-python",
   "name": "python",
   "nbconvert_exporter": "python",
   "pygments_lexer": "ipython3",
   "version": "3.8.8"
  }
 },
 "nbformat": 4,
 "nbformat_minor": 4
}
