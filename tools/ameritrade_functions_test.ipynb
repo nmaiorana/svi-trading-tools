{
 "cells": [
  {
   "cell_type": "code",
   "execution_count": 1,
   "id": "6c76925c-834c-4f6d-9236-bbb81992c080",
   "metadata": {},
   "outputs": [],
   "source": [
    "import unittest\n",
    "\n",
    "custom_username_env = 'maiotradeuser'\n",
    "custom_pw_env = 'maiotradepw'\n",
    "custom_clientid_env = 'maiotradeclientid'"
   ]
  },
  {
   "cell_type": "markdown",
   "id": "5c10981e-b1c5-4c2c-86f2-52067ed41565",
   "metadata": {},
   "source": [
    "# Unit Tests"
   ]
  },
  {
   "cell_type": "markdown",
   "id": "722c4b52-2df3-41ca-942b-b6f82bc0b66a",
   "metadata": {},
   "source": [
    "## Test Configuration\n",
    "\n",
    "Configure the Ameritrade client to use the username, password and client id stored in environment variables."
   ]
  },
  {
   "cell_type": "code",
   "execution_count": 2,
   "id": "2a38d3fb-053d-48ea-956c-41ef74c3766d",
   "metadata": {},
   "outputs": [],
   "source": [
    "import importlib\n",
    "import ameritrade_functions as amc\n",
    "importlib.reload(amc)\n",
    "import os\n",
    "\n",
    "os.environ['ameritradeuser'] = 'test_user'\n",
    "os.environ['ameritradepw'] = 'test_pw'\n",
    "os.environ['ameritradeclientid'] = 'client_id'\n",
    "\n",
    "class TestConfiguration(unittest.TestCase):\n",
    "    def test_config_default(self):\n",
    "        class_under_test = amc.AmeritradeRest()\n",
    "        self.assertEqual(class_under_test.username, 'test_user')\n",
    "        self.assertEqual(class_under_test.password, 'test_pw')\n",
    "        self.assertEqual(class_under_test.client_id, 'client_id')  \n",
    "        self.assertEqual(class_under_test.consumer_key, 'client_id'+'@AMER.OAUTHAP')\n",
    "    \n",
    "    def test_config_parms(self):\n",
    "        class_under_test = amc.AmeritradeRest('ameritradeuser', 'ameritradepw', 'ameritradeclientid')\n",
    "        self.assertEqual(class_under_test.username, 'test_user')\n",
    "        self.assertEqual(class_under_test.password, 'test_pw')\n",
    "        self.assertEqual(class_under_test.client_id, 'client_id')\n",
    "        self.assertEqual(class_under_test.consumer_key, 'client_id'+'@AMER.OAUTHAP')\n",
    "        "
   ]
  },
  {
   "cell_type": "markdown",
   "id": "4654ec5b-a54f-4ec4-a705-3be932c9f498",
   "metadata": {},
   "source": [
    "## Account Level Functions"
   ]
  },
  {
   "cell_type": "code",
   "execution_count": 3,
   "id": "8334c806-e501-45c2-bc98-bd24f37863f8",
   "metadata": {},
   "outputs": [],
   "source": [
    "import importlib\n",
    "import ameritrade_functions as amc\n",
    "importlib.reload(amc)\n",
    "import os\n",
    "\n",
    "class TestAccountLevelFunctions(unittest.TestCase):\n",
    "    def test_mask_account(self):\n",
    "        class_under_test = amc.AmeritradeRest(custom_username_env, custom_pw_env, custom_clientid_env)\n",
    "        self.assertEqual(class_under_test.mask_account('123456789'), '#---6789')\n",
    "        class_under_test.account_mask = \"*****\"\n",
    "        self.assertEqual(class_under_test.mask_account('12345678'), '*****5678')\n",
    "        \n",
    "    def test_unmasked_accounts(self):\n",
    "        class_under_test = amc.AmeritradeRest(custom_username_env, custom_pw_env, custom_clientid_env)\n",
    "        masked_account = class_under_test.mask_account('12345678')\n",
    "        self.assertEqual(class_under_test.unmask_account(masked_account), '12345678')        "
   ]
  },
  {
   "cell_type": "code",
   "execution_count": 4,
   "id": "2124d525-9a71-4828-a941-6be6fae1fc41",
   "metadata": {},
   "outputs": [],
   "source": [
    "TestAccountLevelFunctions().test_unmasked_accounts()"
   ]
  },
  {
   "cell_type": "markdown",
   "id": "e2fc6bab-a5ef-4a6e-a582-0d19319ad017",
   "metadata": {},
   "source": [
    "# Integration Tests\n",
    "\n",
    "Requires you to have a developer account with Ameritrade (https://developer.tdameritrade.com).\n",
    "\n",
    "These settings are configured via environment variables."
   ]
  },
  {
   "cell_type": "markdown",
   "id": "e5a65eb7-292b-4139-9d3e-eb8fa983fb68",
   "metadata": {},
   "source": [
    "## Stock Information Functions"
   ]
  },
  {
   "cell_type": "code",
   "execution_count": 5,
   "id": "bb926b52-18e5-42d1-b2c9-fe9e85a35e84",
   "metadata": {},
   "outputs": [],
   "source": [
    "import importlib\n",
    "import ameritrade_functions as amc\n",
    "importlib.reload(amc)\n",
    "\n",
    "class TestStockInformationFunctions(unittest.TestCase):\n",
    "    @classmethod\n",
    "    def setUpClass(cls):\n",
    "        cls.class_under_test = amc.AmeritradeRest(custom_username_env, custom_pw_env, custom_clientid_env)\n",
    "        \n",
    "    def test_get_daily_price_history(self):\n",
    "        price_histories = self.class_under_test.get_daily_price_history('AAPL', '2022-01-03')\n",
    "        self.assertEqual(len(price_histories), 253)\n",
    "        self.assertEqual(price_histories.date.min().strftime('%Y-%m-%d'), '2021-01-04')\n",
    "        self.assertEqual(price_histories.date.max().strftime('%Y-%m-%d'), '2022-01-03')\n",
    "        self.assertEqual(price_histories.ticker.unique()[0], 'AAPL')\n",
    "        \n",
    "    def test_get_price_histories(self):\n",
    "        price_histories = self.class_under_test.get_price_histories(['AAPL', 'GOOG'], '2022-01-03', silent=True)\n",
    "        self.assertEqual(len(price_histories), 506)\n",
    "        self.assertEqual(price_histories.date.min().strftime('%Y-%m-%d'), '2021-01-04')\n",
    "        self.assertEqual(price_histories.date.max().strftime('%Y-%m-%d'), '2022-01-03')\n",
    "        self.assertEqual(len(price_histories.ticker.unique()), 2)\n",
    "        \n",
    "    def test_get_fundamental(self):\n",
    "        fundamentals = self.class_under_test.get_fundamental(['AAPL', 'GOOG'])\n",
    "        self.assertEqual(len(fundamentals), 2)\n",
    "        self.assertEqual(len(fundamentals.symbol.unique()), 2)\n",
    "        self.assertEqual(fundamentals[fundamentals.symbol == 'AAPL'].cusip.values[0], '037833100')\n",
    "        self.assertEqual(fundamentals[fundamentals.symbol == 'GOOG'].cusip.values[0], '02079K107')\n",
    "        \n",
    "    def test_get_quotes(self):\n",
    "        quotes = self.class_under_test.get_quotes(['AAPL', 'GOOG'])\n",
    "        self.assertEqual(len(quotes), 2)\n",
    "        self.assertEqual(len(quotes.symbol.unique()), 2)\n",
    "        self.assertEqual(quotes[quotes.symbol == 'AAPL'].cusip.values[0], '037833100')\n",
    "        self.assertEqual(quotes[quotes.symbol == 'GOOG'].cusip.values[0], '02079K107')\n"
   ]
  },
  {
   "cell_type": "markdown",
   "id": "c63f3d67-e351-49d9-b70e-df852ee60cac",
   "metadata": {},
   "source": [
    "## Test Authenticated Functions"
   ]
  },
  {
   "cell_type": "code",
   "execution_count": 6,
   "id": "38c3bb26-e42a-409f-9412-d0ca76c56eb0",
   "metadata": {},
   "outputs": [],
   "source": [
    "import importlib\n",
    "import ameritrade_functions as amc\n",
    "importlib.reload(amc)\n",
    "\n",
    "class TestAuthenticated(unittest.TestCase):\n",
    "    @classmethod\n",
    "    def setUpClass(cls):\n",
    "        cls.class_under_test = amc.AmeritradeRest(custom_username_env, custom_pw_env, custom_clientid_env)\n",
    "        cls.class_under_test.authenticate()\n",
    "        \n",
    "    def test_authentication(self):\n",
    "        self.assertGreater(len(self.class_under_test.authorization), 0)\n",
    "        \n",
    "    def test_get_access_token(self):\n",
    "        self.assertIsNotNone(self.class_under_test.get_access_token())\n",
    "        \n",
    "        # Unauthenticated\n",
    "        with self.assertRaises(RuntimeError) as cm:\n",
    "            amc.AmeritradeRest(custom_username_env, custom_pw_env, custom_clientid_env).get_access_token()\n",
    "            \n",
    "    def test_get_accounts(self):\n",
    "        self.class_under_test.get_accounts()\n",
    "        self.assertIsNotNone(self.class_under_test.account_data)\n",
    "    def test_parse_accounts(self):\n",
    "        self.assertGreater(len(self.class_under_test.parse_accounts()), 0)\n",
    "        \n",
    "    def test_get_positions(self):\n",
    "        self.assertGreater(len(self.class_under_test.get_positions()), 0)\n",
    "        \n",
    "    def test_parse_portfolios_list(self):\n",
    "        self.assertGreater(len(self.class_under_test.parse_portfolios_list()), 0)"
   ]
  },
  {
   "cell_type": "markdown",
   "id": "b0b40b0f-b266-4c9b-bafc-70e0debfc492",
   "metadata": {},
   "source": [
    "# Test Runner"
   ]
  },
  {
   "cell_type": "code",
   "execution_count": 7,
   "id": "76124296-debb-4d2c-9468-82d10ec1e84a",
   "metadata": {},
   "outputs": [
    {
     "name": "stderr",
     "output_type": "stream",
     "text": [
      "test_mask_account (__main__.TestAccountLevelFunctions) ... ok\n",
      "test_unmasked_accounts (__main__.TestAccountLevelFunctions) ... ok\n",
      "test_authentication (__main__.TestAuthenticated) ... ok\n",
      "test_get_access_token (__main__.TestAuthenticated) ... ok\n",
      "test_get_accounts (__main__.TestAuthenticated) ... C:\\Users\\HP-Z440\\anaconda3\\envs\\ml4t\\lib\\site-packages\\numexpr\\expressions.py:197: ResourceWarning: unclosed <socket.socket fd=2324, family=AddressFamily.AF_INET, type=SocketKind.SOCK_STREAM, proto=0, laddr=('127.0.0.1', 50977), raddr=('127.0.0.1', 50972)>\n",
      "  def function(*args):\n",
      "ResourceWarning: Enable tracemalloc to get the object allocation traceback\n",
      "ok\n",
      "test_get_positions (__main__.TestAuthenticated) ... ok\n",
      "test_parse_accounts (__main__.TestAuthenticated) ... ok\n",
      "test_parse_portfolios_list (__main__.TestAuthenticated) ... ok\n",
      "test_config_default (__main__.TestConfiguration) ... ok\n",
      "test_config_parms (__main__.TestConfiguration) ... ok\n",
      "test_get_daily_price_history (__main__.TestStockInformationFunctions) ... ok\n",
      "test_get_fundamental (__main__.TestStockInformationFunctions) ... ok\n",
      "test_get_price_histories (__main__.TestStockInformationFunctions) ... ok\n",
      "test_get_quotes (__main__.TestStockInformationFunctions) ... ok\n",
      "\n",
      "----------------------------------------------------------------------\n",
      "Ran 14 tests in 12.540s\n",
      "\n",
      "OK\n"
     ]
    },
    {
     "data": {
      "text/plain": [
       "<unittest.main.TestProgram at 0x226602eee20>"
      ]
     },
     "execution_count": 7,
     "metadata": {},
     "output_type": "execute_result"
    }
   ],
   "source": [
    "unittest.main(argv=[''], verbosity=2, exit=False)"
   ]
  }
 ],
 "metadata": {
  "kernelspec": {
   "display_name": "Python [conda env:ml4t] *",
   "language": "python",
   "name": "conda-env-ml4t-py"
  },
  "language_info": {
   "codemirror_mode": {
    "name": "ipython",
    "version": 3
   },
   "file_extension": ".py",
   "mimetype": "text/x-python",
   "name": "python",
   "nbconvert_exporter": "python",
   "pygments_lexer": "ipython3",
   "version": "3.8.8"
  }
 },
 "nbformat": 4,
 "nbformat_minor": 5
}
