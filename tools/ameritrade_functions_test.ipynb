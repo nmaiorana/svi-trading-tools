{
 "cells": [
  {
   "cell_type": "code",
   "execution_count": 1,
   "id": "6c76925c-834c-4f6d-9236-bbb81992c080",
   "metadata": {},
   "outputs": [],
   "source": [
    "import unittest"
   ]
  },
  {
   "cell_type": "markdown",
   "id": "722c4b52-2df3-41ca-942b-b6f82bc0b66a",
   "metadata": {},
   "source": [
    "## Test Configuration\n",
    "\n",
    "Configure the Ameritrade client to use the username, password and client id stored in environment variables."
   ]
  },
  {
   "cell_type": "code",
   "execution_count": 2,
   "id": "d440ebd1-cfe4-46db-8b2a-c0b939341dfc",
   "metadata": {},
   "outputs": [],
   "source": [
    "import importlib\n",
    "import ameritrade_functions as amc\n",
    "importlib.reload(amc)\n",
    "import os\n",
    "\n",
    "os.environ['ameritradeuser'] = 'test_user'\n",
    "os.environ['ameritradepw'] = 'test_pw'\n",
    "os.environ['ameritradeclientid'] = 'client_id'\n",
    "\n",
    "class TestConfiguration(unittest.TestCase):\n",
    "    def test_config_default(self):\n",
    "        class_under_test = amc.AmeritradeRest()\n",
    "        self.assertEqual(class_under_test.username, 'test_user')\n",
    "        self.assertEqual(class_under_test.password, 'test_pw')\n",
    "        self.assertEqual(class_under_test.client_id, 'client_id')  \n",
    "        self.assertEqual(class_under_test.consumer_key, 'client_id'+'@AMER.OAUTHAP')\n",
    "    \n",
    "    def test_config_parms(self):\n",
    "        class_under_test = amc.AmeritradeRest('ameritradeuser', 'ameritradepw', 'ameritradeclientid')\n",
    "        self.assertEqual(class_under_test.username, 'test_user')\n",
    "        self.assertEqual(class_under_test.password, 'test_pw')\n",
    "        self.assertEqual(class_under_test.client_id, 'client_id')\n",
    "        self.assertEqual(class_under_test.consumer_key, 'client_id'+'@AMER.OAUTHAP')\n",
    "        \n",
    "TestConfiguration().test_config_default()\n",
    "TestConfiguration().test_config_parms()"
   ]
  },
  {
   "cell_type": "markdown",
   "id": "c63f3d67-e351-49d9-b70e-df852ee60cac",
   "metadata": {},
   "source": [
    "## Test Authentication\n",
    "\n",
    "This requires you to have a developer account with Ameritrade (https://developer.tdameritrade.com)."
   ]
  },
  {
   "cell_type": "code",
   "execution_count": 24,
   "id": "bf3164bf-8c4c-4e1c-b593-85dd158dbd89",
   "metadata": {},
   "outputs": [],
   "source": [
    "import importlib\n",
    "import ameritrade_functions as amc\n",
    "importlib.reload(amc)\n",
    "import os\n",
    "\n",
    "# For Chromedriver\n",
    "from pathlib import Path\n",
    "\n",
    "class TestAuthentication(unittest.TestCase):\n",
    "    def test_authentication(self):\n",
    "        td_ameritrade = amc.AmeritradeRest('maiotradeuser', 'maiotradepw', 'maiotradeclientid')\n",
    "        td_ameritrade.authenticate()\n",
    "        self.assertGreater(len(td_ameritrade.authorization), 0)\n",
    "\n",
    "TestAuthentication().test_authentication()"
   ]
  }
 ],
 "metadata": {
  "kernelspec": {
   "display_name": "Python [conda env:ml4t] *",
   "language": "python",
   "name": "conda-env-ml4t-py"
  },
  "language_info": {
   "codemirror_mode": {
    "name": "ipython",
    "version": 3
   },
   "file_extension": ".py",
   "mimetype": "text/x-python",
   "name": "python",
   "nbconvert_exporter": "python",
   "pygments_lexer": "ipython3",
   "version": "3.8.8"
  }
 },
 "nbformat": 4,
 "nbformat_minor": 5
}
