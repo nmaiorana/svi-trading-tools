{
 "cells": [
  {
   "cell_type": "code",
   "execution_count": 1,
   "id": "6c76925c-834c-4f6d-9236-bbb81992c080",
   "metadata": {},
   "outputs": [],
   "source": [
    "import unittest\n",
    "\n",
    "custom_username_env = 'maiotradeuser'\n",
    "custom_pw_env = 'maiotradepw'\n",
    "custom_clientid_env = 'maiotradeclientid'"
   ]
  },
  {
   "cell_type": "markdown",
   "id": "5c10981e-b1c5-4c2c-86f2-52067ed41565",
   "metadata": {},
   "source": [
    "# Unit Tests"
   ]
  },
  {
   "cell_type": "markdown",
   "id": "722c4b52-2df3-41ca-942b-b6f82bc0b66a",
   "metadata": {},
   "source": [
    "## Test Configuration\n",
    "\n",
    "Configure the Ameritrade client to use the username, password and client id stored in environment variables."
   ]
  },
  {
   "cell_type": "code",
   "execution_count": 2,
   "id": "2a38d3fb-053d-48ea-956c-41ef74c3766d",
   "metadata": {},
   "outputs": [],
   "source": [
    "import importlib\n",
    "import ameritrade_functions as amc\n",
    "importlib.reload(amc)\n",
    "import os\n",
    "\n",
    "os.environ['ameritradeuser'] = 'test_user'\n",
    "os.environ['ameritradepw'] = 'test_pw'\n",
    "os.environ['ameritradeclientid'] = 'client_id'\n",
    "\n",
    "class TestConfiguration(unittest.TestCase):\n",
    "    def test_config_default(self):\n",
    "        class_under_test = amc.AmeritradeRest()\n",
    "        self.assertEqual(class_under_test.username, 'test_user')\n",
    "        self.assertEqual(class_under_test.password, 'test_pw')\n",
    "        self.assertEqual(class_under_test.client_id, 'client_id')  \n",
    "        self.assertEqual(class_under_test.consumer_key, 'client_id'+'@AMER.OAUTHAP')\n",
    "    \n",
    "    def test_config_parms(self):\n",
    "        class_under_test = amc.AmeritradeRest('ameritradeuser', 'ameritradepw', 'ameritradeclientid')\n",
    "        self.assertEqual(class_under_test.username, 'test_user')\n",
    "        self.assertEqual(class_under_test.password, 'test_pw')\n",
    "        self.assertEqual(class_under_test.client_id, 'client_id')\n",
    "        self.assertEqual(class_under_test.consumer_key, 'client_id'+'@AMER.OAUTHAP')\n",
    "        "
   ]
  },
  {
   "cell_type": "markdown",
   "id": "4654ec5b-a54f-4ec4-a705-3be932c9f498",
   "metadata": {},
   "source": [
    "## Account Level Functions"
   ]
  },
  {
   "cell_type": "code",
   "execution_count": 3,
   "id": "8334c806-e501-45c2-bc98-bd24f37863f8",
   "metadata": {},
   "outputs": [],
   "source": [
    "import importlib\n",
    "import ameritrade_functions as amc\n",
    "importlib.reload(amc)\n",
    "import os\n",
    "\n",
    "class TestAccountLevelFunctions(unittest.TestCase):\n",
    "    def test_mask_account(self):\n",
    "        class_under_test = amc.AmeritradeRest(custom_username_env, custom_pw_env, custom_clientid_env)\n",
    "        self.assertEqual(class_under_test.mask_account('12345678'), '#---5678')\n",
    "        class_under_test.account_mask = \"*****\"\n",
    "        self.assertEqual(class_under_test.mask_account('12345678'), '*****678')\n",
    "        "
   ]
  },
  {
   "cell_type": "markdown",
   "id": "e5a65eb7-292b-4139-9d3e-eb8fa983fb68",
   "metadata": {},
   "source": [
    "## Stock Information Functions"
   ]
  },
  {
   "cell_type": "code",
   "execution_count": 4,
   "id": "bb926b52-18e5-42d1-b2c9-fe9e85a35e84",
   "metadata": {},
   "outputs": [],
   "source": [
    "import importlib\n",
    "import ameritrade_functions as amc\n",
    "importlib.reload(amc)\n",
    "\n",
    "class TestStockInformationFunctions(unittest.TestCase):\n",
    "    @classmethod\n",
    "    def setUpClass(cls):\n",
    "        cls.class_under_test = amc.AmeritradeRest(custom_username_env, custom_pw_env, custom_clientid_env)\n",
    "        \n",
    "    def test_get_daily_price_history(self):\n",
    "        price_histories = self.class_under_test.get_daily_price_history('AAPL', '2022-01-03')\n",
    "        display(price_histories)\n",
    "        self.assertEqual(len(price_histories), 253)\n",
    "        self.assertEqual(price_histories.date.min().strftime('%Y-%m-%d'), '2021-01-04')\n",
    "        self.assertEqual(price_histories.date.max().strftime('%Y-%m-%d'), '2022-01-03')\n",
    "        self.assertEqual(price_histories.ticker.unique()[0], 'AAPL')\n",
    "        \n",
    "    def test_get_price_histories(self):\n",
    "        price_histories = self.class_under_test.get_price_histories(['AAPL', 'GOOG'], '2022-01-03', silent=True)\n",
    "        self.assertEqual(len(price_histories), 506)\n",
    "        self.assertEqual(price_histories.date.min().strftime('%Y-%m-%d'), '2021-01-04')\n",
    "        self.assertEqual(price_histories.date.max().strftime('%Y-%m-%d'), '2022-01-03')\n",
    "        self.assertEqual(len(price_histories.ticker.unique()), 2)\n",
    "        \n"
   ]
  },
  {
   "cell_type": "code",
   "execution_count": 5,
   "id": "de8d0975-d1a9-4360-916d-a930c6969477",
   "metadata": {},
   "outputs": [],
   "source": [
    "cut = TestStockInformationFunctions()\n",
    "cut.setUpClass()\n",
    "cut.test_get_price_histories()"
   ]
  },
  {
   "cell_type": "markdown",
   "id": "e2fc6bab-a5ef-4a6e-a582-0d19319ad017",
   "metadata": {},
   "source": [
    "# Integration Tests\n",
    "\n",
    "Requires you to have a developer account with Ameritrade (https://developer.tdameritrade.com).\n",
    "\n",
    "These settings are configured via environment variables."
   ]
  },
  {
   "cell_type": "markdown",
   "id": "c63f3d67-e351-49d9-b70e-df852ee60cac",
   "metadata": {},
   "source": [
    "## Test Authenticated Functions"
   ]
  },
  {
   "cell_type": "code",
   "execution_count": 11,
   "id": "38c3bb26-e42a-409f-9412-d0ca76c56eb0",
   "metadata": {},
   "outputs": [],
   "source": [
    "import importlib\n",
    "import ameritrade_functions as amc\n",
    "importlib.reload(amc)\n",
    "\n",
    "class TestAuthenticated(unittest.TestCase):\n",
    "    @classmethod\n",
    "    def setUpClass(cls):\n",
    "        cls.class_under_test = amc.AmeritradeRest(custom_username_env, custom_pw_env, custom_clientid_env)\n",
    "        cls.class_under_test.authenticate()\n",
    "        \n",
    "    def test_authentication(self):\n",
    "        self.assertGreater(len(self.class_under_test.authorization), 0)\n",
    "        \n",
    "    def test_get_access_token(self):\n",
    "        self.assertIsNotNone(self.class_under_test.get_access_token())\n",
    "        \n",
    "        \n",
    "        with self.assertRaises(RuntimeError) as cm:\n",
    "            amc.AmeritradeRest(custom_username_env, custom_pw_env, custom_clientid_env).get_access_token()\n",
    "            \n",
    "    def test_get_accounts(self):\n",
    "        self.class_under_test.get_accounts()\n",
    "        self.assertIsNotNone(self.class_under_test.account_data)\n",
    "    def test_parse_accounts(self):\n",
    "        self.assertGreater(len(self.class_under_test.parse_accounts()), 0)\n",
    "        \n",
    "    def test_get_positions(self):\n",
    "        self.assertGreater(len(self.class_under_test.get_positions()), 0)\n",
    "        \n",
    "    def test_parse_portfolios_list(self):\n",
    "        self.assertGreater(len(self.class_under_test.parse_portfolios_list()), 0)"
   ]
  },
  {
   "cell_type": "markdown",
   "id": "b0b40b0f-b266-4c9b-bafc-70e0debfc492",
   "metadata": {},
   "source": [
    "# Test Runner"
   ]
  },
  {
   "cell_type": "code",
   "execution_count": 12,
   "id": "76124296-debb-4d2c-9468-82d10ec1e84a",
   "metadata": {},
   "outputs": [
    {
     "name": "stderr",
     "output_type": "stream",
     "text": [
      "test_mask_account (__main__.TestAccountLevelFunctions) ... ok\n",
      "test_authentication (__main__.TestAuthenticated) ... ok\n",
      "test_get_access_token (__main__.TestAuthenticated) ... ok\n",
      "test_get_accounts (__main__.TestAuthenticated) ... C:\\Users\\HP-Z440\\anaconda3\\envs\\ml4t\\lib\\site-packages\\pandas\\core\\dtypes\\common.py:605: ResourceWarning: unclosed <socket.socket fd=2396, family=AddressFamily.AF_INET, type=SocketKind.SOCK_STREAM, proto=0, laddr=('127.0.0.1', 51134), raddr=('127.0.0.1', 51129)>\n",
      "  def is_excluded_dtype(dtype) -> bool:\n",
      "ResourceWarning: Enable tracemalloc to get the object allocation traceback\n",
      "ok\n",
      "test_get_positions (__main__.TestAuthenticated) ... ok\n",
      "test_parse_accounts (__main__.TestAuthenticated) ... ok\n",
      "test_parse_portfolios_list (__main__.TestAuthenticated) ... ok\n",
      "test_config_default (__main__.TestConfiguration) ... ok\n",
      "test_config_parms (__main__.TestConfiguration) ... ok\n",
      "test_get_daily_price_history (__main__.TestStockInformationFunctions) ... "
     ]
    },
    {
     "data": {
      "text/html": [
       "<div>\n",
       "<style scoped>\n",
       "    .dataframe tbody tr th:only-of-type {\n",
       "        vertical-align: middle;\n",
       "    }\n",
       "\n",
       "    .dataframe tbody tr th {\n",
       "        vertical-align: top;\n",
       "    }\n",
       "\n",
       "    .dataframe thead th {\n",
       "        text-align: right;\n",
       "    }\n",
       "</style>\n",
       "<table border=\"1\" class=\"dataframe\">\n",
       "  <thead>\n",
       "    <tr style=\"text-align: right;\">\n",
       "      <th></th>\n",
       "      <th>open</th>\n",
       "      <th>high</th>\n",
       "      <th>low</th>\n",
       "      <th>close</th>\n",
       "      <th>volume</th>\n",
       "      <th>ticker</th>\n",
       "      <th>date</th>\n",
       "    </tr>\n",
       "  </thead>\n",
       "  <tbody>\n",
       "    <tr>\n",
       "      <th>0</th>\n",
       "      <td>133.520</td>\n",
       "      <td>133.6116</td>\n",
       "      <td>126.760</td>\n",
       "      <td>129.41</td>\n",
       "      <td>143301890</td>\n",
       "      <td>AAPL</td>\n",
       "      <td>2021-01-04</td>\n",
       "    </tr>\n",
       "    <tr>\n",
       "      <th>1</th>\n",
       "      <td>128.890</td>\n",
       "      <td>131.7400</td>\n",
       "      <td>128.430</td>\n",
       "      <td>131.01</td>\n",
       "      <td>97664898</td>\n",
       "      <td>AAPL</td>\n",
       "      <td>2021-01-05</td>\n",
       "    </tr>\n",
       "    <tr>\n",
       "      <th>2</th>\n",
       "      <td>127.720</td>\n",
       "      <td>131.0499</td>\n",
       "      <td>126.382</td>\n",
       "      <td>126.60</td>\n",
       "      <td>155087970</td>\n",
       "      <td>AAPL</td>\n",
       "      <td>2021-01-06</td>\n",
       "    </tr>\n",
       "    <tr>\n",
       "      <th>3</th>\n",
       "      <td>128.360</td>\n",
       "      <td>131.6300</td>\n",
       "      <td>127.860</td>\n",
       "      <td>130.92</td>\n",
       "      <td>109578157</td>\n",
       "      <td>AAPL</td>\n",
       "      <td>2021-01-07</td>\n",
       "    </tr>\n",
       "    <tr>\n",
       "      <th>4</th>\n",
       "      <td>132.430</td>\n",
       "      <td>132.6300</td>\n",
       "      <td>130.230</td>\n",
       "      <td>132.05</td>\n",
       "      <td>105158245</td>\n",
       "      <td>AAPL</td>\n",
       "      <td>2021-01-08</td>\n",
       "    </tr>\n",
       "    <tr>\n",
       "      <th>...</th>\n",
       "      <td>...</td>\n",
       "      <td>...</td>\n",
       "      <td>...</td>\n",
       "      <td>...</td>\n",
       "      <td>...</td>\n",
       "      <td>...</td>\n",
       "      <td>...</td>\n",
       "    </tr>\n",
       "    <tr>\n",
       "      <th>248</th>\n",
       "      <td>180.160</td>\n",
       "      <td>181.3300</td>\n",
       "      <td>178.530</td>\n",
       "      <td>179.29</td>\n",
       "      <td>79144339</td>\n",
       "      <td>AAPL</td>\n",
       "      <td>2021-12-28</td>\n",
       "    </tr>\n",
       "    <tr>\n",
       "      <th>249</th>\n",
       "      <td>179.330</td>\n",
       "      <td>180.6300</td>\n",
       "      <td>178.140</td>\n",
       "      <td>179.38</td>\n",
       "      <td>62348931</td>\n",
       "      <td>AAPL</td>\n",
       "      <td>2021-12-29</td>\n",
       "    </tr>\n",
       "    <tr>\n",
       "      <th>250</th>\n",
       "      <td>179.470</td>\n",
       "      <td>180.5700</td>\n",
       "      <td>178.090</td>\n",
       "      <td>178.20</td>\n",
       "      <td>59773014</td>\n",
       "      <td>AAPL</td>\n",
       "      <td>2021-12-30</td>\n",
       "    </tr>\n",
       "    <tr>\n",
       "      <th>251</th>\n",
       "      <td>178.085</td>\n",
       "      <td>179.2300</td>\n",
       "      <td>177.260</td>\n",
       "      <td>177.57</td>\n",
       "      <td>64062261</td>\n",
       "      <td>AAPL</td>\n",
       "      <td>2021-12-31</td>\n",
       "    </tr>\n",
       "    <tr>\n",
       "      <th>252</th>\n",
       "      <td>177.830</td>\n",
       "      <td>182.8800</td>\n",
       "      <td>177.710</td>\n",
       "      <td>182.01</td>\n",
       "      <td>104701220</td>\n",
       "      <td>AAPL</td>\n",
       "      <td>2022-01-03</td>\n",
       "    </tr>\n",
       "  </tbody>\n",
       "</table>\n",
       "<p>253 rows × 7 columns</p>\n",
       "</div>"
      ],
      "text/plain": [
       "        open      high      low   close     volume ticker       date\n",
       "0    133.520  133.6116  126.760  129.41  143301890   AAPL 2021-01-04\n",
       "1    128.890  131.7400  128.430  131.01   97664898   AAPL 2021-01-05\n",
       "2    127.720  131.0499  126.382  126.60  155087970   AAPL 2021-01-06\n",
       "3    128.360  131.6300  127.860  130.92  109578157   AAPL 2021-01-07\n",
       "4    132.430  132.6300  130.230  132.05  105158245   AAPL 2021-01-08\n",
       "..       ...       ...      ...     ...        ...    ...        ...\n",
       "248  180.160  181.3300  178.530  179.29   79144339   AAPL 2021-12-28\n",
       "249  179.330  180.6300  178.140  179.38   62348931   AAPL 2021-12-29\n",
       "250  179.470  180.5700  178.090  178.20   59773014   AAPL 2021-12-30\n",
       "251  178.085  179.2300  177.260  177.57   64062261   AAPL 2021-12-31\n",
       "252  177.830  182.8800  177.710  182.01  104701220   AAPL 2022-01-03\n",
       "\n",
       "[253 rows x 7 columns]"
      ]
     },
     "metadata": {},
     "output_type": "display_data"
    },
    {
     "name": "stderr",
     "output_type": "stream",
     "text": [
      "ok\n",
      "test_get_price_histories (__main__.TestStockInformationFunctions) ... ok\n",
      "\n",
      "----------------------------------------------------------------------\n",
      "Ran 11 tests in 11.705s\n",
      "\n",
      "OK\n"
     ]
    },
    {
     "data": {
      "text/plain": [
       "<unittest.main.TestProgram at 0x1c048b3bb20>"
      ]
     },
     "execution_count": 12,
     "metadata": {},
     "output_type": "execute_result"
    }
   ],
   "source": [
    "unittest.main(argv=[''], verbosity=2, exit=False)"
   ]
  }
 ],
 "metadata": {
  "kernelspec": {
   "display_name": "Python [conda env:ml4t] *",
   "language": "python",
   "name": "conda-env-ml4t-py"
  },
  "language_info": {
   "codemirror_mode": {
    "name": "ipython",
    "version": 3
   },
   "file_extension": ".py",
   "mimetype": "text/x-python",
   "name": "python",
   "nbconvert_exporter": "python",
   "pygments_lexer": "ipython3",
   "version": "3.8.8"
  }
 },
 "nbformat": 4,
 "nbformat_minor": 5
}
