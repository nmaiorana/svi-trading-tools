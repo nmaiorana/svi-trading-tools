{
 "cells": [
  {
   "cell_type": "code",
   "execution_count": 1,
   "id": "6c76925c-834c-4f6d-9236-bbb81992c080",
   "metadata": {},
   "outputs": [],
   "source": [
    "import unittest"
   ]
  },
  {
   "cell_type": "markdown",
   "id": "722c4b52-2df3-41ca-942b-b6f82bc0b66a",
   "metadata": {},
   "source": [
    "## Test Configuration\n",
    "\n",
    "This is a conveniance function to get the username, password and client id from the OS level environment."
   ]
  },
  {
   "cell_type": "code",
   "execution_count": 8,
   "id": "d440ebd1-cfe4-46db-8b2a-c0b939341dfc",
   "metadata": {},
   "outputs": [],
   "source": [
    "import importlib\n",
    "import ameritrade_functions as amc\n",
    "importlib.reload(amc)\n",
    "import os\n",
    "\n",
    "os.environ['ameritradeuser'] = 'test_user'\n",
    "os.environ['ameritradepw'] = 'test_pw'\n",
    "os.environ['ameritradeclientid'] = 'client_id'\n",
    "\n",
    "class TestConfiguration(unittest.TestCase):\n",
    "    def test_config_default(self):\n",
    "        class_under_test = amc.AmeritradeRest()\n",
    "        self.assertEqual(class_under_test.username, 'test_user')\n",
    "        self.assertEqual(class_under_test.password, 'test_pw')\n",
    "        self.assertEqual(class_under_test.client_id, 'client_id')  \n",
    "        self.assertEqual(class_under_test.consumer_key, 'client_id'+'@AMER.OAUTHAP')\n",
    "    \n",
    "    def test_config_parms(self):\n",
    "        class_under_test = amc.AmeritradeRest('ameritradeuser', 'ameritradepw', 'ameritradeclientid')\n",
    "        self.assertEqual(class_under_test.username, 'test_user')\n",
    "        self.assertEqual(class_under_test.password, 'test_pw')\n",
    "        self.assertEqual(class_under_test.client_id, 'client_id')\n",
    "        self.assertEqual(class_under_test.consumer_key, 'client_id'+'@AMER.OAUTHAP')\n",
    "        \n",
    "TestConfiguration().test_config_default()\n",
    "TestConfiguration().test_config_parms()"
   ]
  },
  {
   "cell_type": "markdown",
   "id": "c63f3d67-e351-49d9-b70e-df852ee60cac",
   "metadata": {},
   "source": [
    "## Test Authorization\n",
    "\n",
    "This requires you to have a developer account with Ameritrade (https://developer.tdameritrade.com)."
   ]
  },
  {
   "cell_type": "code",
   "execution_count": 10,
   "id": "bf3164bf-8c4c-4e1c-b593-85dd158dbd89",
   "metadata": {},
   "outputs": [],
   "source": [
    "import importlib\n",
    "import ameritrade_functions as amc\n",
    "importlib.reload(amc)\n",
    "import os\n",
    "\n",
    "# For Chromedriver\n",
    "from pathlib import Path\n",
    "chrome_executabel_path = str(Path.home()) + r'\\Anaconda Projects\\chromedriver\\chromedriver'\n",
    "\n",
    "class TestAuthorization(unittest.TestCase):\n",
    "    def test_authorization(self):\n",
    "        td_ameritrade = amc.AmeritradeRest('maiotradeuser', 'maiotradepw', 'maiotradeclientid')\n",
    "        td_ameritrade.authenticate()\n",
    "        self.assertGreater(len(td_ameritrade.authorization), 0)\n",
    "\n",
    "TestAuthorization().test_authorization()"
   ]
  },
  {
   "cell_type": "code",
   "execution_count": 175,
   "id": "7cfcbbf8-3a9d-4a46-9173-4542ecee4d85",
   "metadata": {},
   "outputs": [],
   "source": [
    "from selenium import webdriver\n",
    "from selenium.webdriver.chrome.options import Options\n",
    "from selenium.webdriver.common.action_chains import ActionChains\n",
    "import selenium.common.exceptions as selexcept\n",
    "from pathlib import Path\n",
    "import urllib\n",
    "import requests\n",
    "import time\n",
    "\n",
    "browser = None\n",
    "class AmeritradeRestTest: \n",
    "    \n",
    "    def __init__(self, env_user_name='ameritradeuser', env_password='ameritradepw', env_client_id='ameritradeclientid'):\n",
    "        self.user_data_dir = str(Path.home()) + r'\\AppData\\Local\\Google\\Chrome\\User Data\\tduser'\n",
    "        self.callback_url = r'http://localhost'\n",
    "        self.oauth_url = r'https://auth.tdameritrade.com/auth'\n",
    "        self.oath_token_url = r'https://api.tdameritrade.com/v1/oauth2/token'\n",
    "        self.configure_ameritrade(env_user_name, env_password, env_client_id)\n",
    "    \n",
    "    def configure_ameritrade(self, env_user_name='ameritradeuser', env_password='ameritradepw', env_client_id='ameritradeclientid'):\n",
    "        \"\"\"\n",
    "        In order to keep developers from setting usernames and passwords in a file, the credentials will be stored in environment varialbes.\n",
    "        \"\"\"\n",
    "        self.username = os.getenv(env_user_name)\n",
    "        self.password = os.getenv(env_password)\n",
    "        self.client_id = os.getenv(env_client_id)\n",
    "        self.consumer_key = self.client_id + '@AMER.OAUTHAP'\n",
    "    \n",
    "    def authenticate(self):\n",
    "        chrome_options = Options()\n",
    "        chrome_options.add_argument('--user-data-dir='+self.user_data_dir)\n",
    "        browser = webdriver.Chrome(options=chrome_options)\n",
    "        try:\n",
    "            # define the components of the url\n",
    "            method = 'GET'\n",
    "            payload = {\n",
    "                        'response_type':'code',\n",
    "                        'redirect_uri':self.callback_url,\n",
    "                        'client_id':self.consumer_key\n",
    "            }\n",
    "\n",
    "            # build url\n",
    "            built_url = requests.Request(method, self.oauth_url, params=payload).prepare().url\n",
    "\n",
    "            # go to URL\n",
    "            browser.get(built_url)\n",
    "    \n",
    "            #fill out form\n",
    "            browser.find_element_by_id('username0').send_keys(self.username)\n",
    "            browser.find_element_by_id('password1').send_keys(self.password)\n",
    "            \n",
    "            # click Login button\n",
    "            browser.find_element_by_id('accept').click()\n",
    "            \n",
    "            # click allow on authorization screen\n",
    "            browser.find_element_by_id('accept').click()\n",
    "\n",
    "            # give it a second\n",
    "            time.sleep(1)\n",
    "            \n",
    "            # At this point you get an error back since there is no localhost server. But the URL contains the authentication code\n",
    "            new_url = urllib.parse.unquote(browser.current_url)\n",
    "\n",
    "            # grab the URL and parse it for the auth code\n",
    "            code = new_url.split('code=')[1]\n",
    "\n",
    "            # Use the auth code to get an auth token\n",
    "            #define the headers\n",
    "            headers = {'Content-Type':'application/x-www-form-urlencoded'}\n",
    "\n",
    "            # define payload\n",
    "            payload = {\n",
    "                'grant_type':'authorization_code',\n",
    "                'access_type': 'offline',\n",
    "                'code': code,\n",
    "                'client_id': self.client_id,\n",
    "                'redirect_uri': 'http://localhost'\n",
    "            }\n",
    "\n",
    "            # post the data to get a token\n",
    "            authreply = requests.post(self.oath_token_url, headers=headers, data=payload)\n",
    "\n",
    "            # convert json to dict\n",
    "            self.authorization = authreply.json()\n",
    "            return self.authorization\n",
    "        except selexcept.NoSuchElementException as error:\n",
    "            print(f'Error: {error}')\n",
    "        except selexcept.WebDriverException as error:\n",
    "            print(f'Error: {error}')\n",
    "        finally:\n",
    "            browser.close()"
   ]
  },
  {
   "cell_type": "code",
   "execution_count": 142,
   "id": "8a60009e-7ff4-45ba-a9e5-52fec8c5dc39",
   "metadata": {},
   "outputs": [],
   "source": [
    "amct = AmeritradeRestTest('maiotradeuser', 'maiotradepw', 'maiotradeclientid')"
   ]
  },
  {
   "cell_type": "code",
   "execution_count": 140,
   "id": "01452382-5e71-4ce2-8559-f9871a485f26",
   "metadata": {},
   "outputs": [],
   "source": [
    "browser = webdriver.Chrome()"
   ]
  },
  {
   "cell_type": "code",
   "execution_count": 144,
   "id": "fc21bf26-99b7-4e20-987b-8b42c143e3e8",
   "metadata": {},
   "outputs": [
    {
     "name": "stdout",
     "output_type": "stream",
     "text": [
      "{'response_type': 'code', 'redirect_uri': 'http://localhost', 'client_id': 'AQALSFXHGXYP4YSU8OBATCPZEYOSFTAQ@AMER.OAUTHAP'}\n",
      "https://auth.tdameritrade.com/auth?response_type=code&redirect_uri=http%3A%2F%2Flocalhost&client_id=AQALSFXHGXYP4YSU8OBATCPZEYOSFTAQ%40AMER.OAUTHAP\n"
     ]
    }
   ],
   "source": [
    "method = 'GET'\n",
    "payload = {\n",
    "            'response_type':'code',\n",
    "            'redirect_uri':amct.callback_url,\n",
    "            'client_id':amct.consumer_key\n",
    "}\n",
    "\n",
    "print(payload)\n",
    "\n",
    "# build url\n",
    "built_url = requests.Request(method, AmeritradeRestTest().oauth_url, params=payload).prepare().url\n",
    "print(built_url)\n",
    "\n",
    "# go to URL\n",
    "browser.get(built_url)"
   ]
  },
  {
   "cell_type": "code",
   "execution_count": 145,
   "id": "ccff22f9-357a-4301-81ea-02715513a761",
   "metadata": {},
   "outputs": [
    {
     "data": {
      "text/plain": [
       "'https://auth.tdameritrade.com/auth?response_type=code&redirect_uri=http%3A%2F%2Flocalhost&client_id=AQALSFXHGXYP4YSU8OBATCPZEYOSFTAQ%40AMER.OAUTHAP'"
      ]
     },
     "execution_count": 145,
     "metadata": {},
     "output_type": "execute_result"
    }
   ],
   "source": [
    "browser.current_url"
   ]
  },
  {
   "cell_type": "code",
   "execution_count": 174,
   "id": "165aefc0-aeb1-4358-8218-2a2037b2f648",
   "metadata": {},
   "outputs": [
    {
     "data": {
      "text/plain": [
       "{'access_token': 'SpR8EboYFYFu9eFc6JeYvQHR//73Mxu7UC+40bkbntpvys1MpVdJYVYhqS+LAPxvxbIJ1EGy288Kh/IF/seRgVcvNBOujIJ70LjKGjut1hfZTlRMclSNj0gXRtv6WXTFc3YlRCc6XFmdABIiNnGQRKvQUqKgZnDJFFG6xU4aLz3olNWwTb3ULnq7/PvvYGwBUZzQQU9KUJTrnwULXJ/1pU5XelE2ksq/umXgpo99l8THpxszXPM7Mr34XgXw0ooIf1rViLJ77WKDcJxMA1wSohIoKLfkynhyQ+LzUj/PaaV/LvNJ/VdVSNIeF6OcjJpu3Lny2GevCpg+1plL9hRqKL4jotWadol48/yiXOrUBUzYLIWuibHfMDwMYapGXCD78pN6BVT0dy1kEbiID4xPqyieQhYhJmQ9TwYK7AQ3nfHbd80EiTNhE5gI8RFnM10Ay+aoesQTlhTYRQ60NHyUFmx0oFSyTUiVltuYeurYh0Jd2oyFihVuk1g2LBssSxZ00GdCsV5oGTnNjroOowLRkRc6tVItene2S25zDXnkNJuXTeLB0qOuKFt/CpdPbmJ488qT+2whm2MAm2gbLMbXllnFm21f8UNCcMUEcWzAJCynXs3GwzZq/Bc+XqpzgXEt1Hkdq100MQuG4LYrgoVi/JHHvl59oscD1EV1LcSBoG8JdwTSEQHz8+Cf3RgRGcxgdUlo8MeK6Sq9M19j7n+VIQMYPV8vSj+1nsN2y+rJMSnBzudWXh/6pHZiQ1ao5Ls7ErN774tnxu8+YrhLZE7+IooBuS+TKnrRbthp2h7vs1Gkd3rfi5yCAVgnhuUSEc+PyZrePk2AUa0qEVO8yUYJlgjhcUWHs76n87eawXLfaSP2rnmUrlMXQrwILORgzhE36sykD6GtuUqYTgs4WfS/eA7ggcT2gxPZDc4lkJGaU+qsLwJlu86RUige2xfpYx87A6jL3FA+ES81bSXFlxI5Wgk3Zv/Y3DRfeXPdVxli9KHNlwSxcRUEBaXXKKlKRM2B0NYIBA51g+2gVYFl5ARl2udS2uoICNZZk44IP2zvO8UkhpjqNWXKapf9cfrrjE2r866/57IfIDepGyrv3Mh3lCk81a115/QW5juzwv+GeT71YLRBg5MrT8djL3HMhevB1XpnxkGT+ww8TGJAoO4ZjKZUV9oJ2wuXrYt14eWcAhyWc47B2J8Jte/NURp0ZTojFuBhguTyItAFUqnl1SnkdL/Nc7XBVJTfzY3Mm61RVkV1Zckg3xVqRSvFHKq++3M9Sxp8sB5cpFIDlM8RLdCan48N15BlrkVz212FD3x19z9sWBHDJACbC00B75E',\n",
       " 'refresh_token': 'gZn9rfBoJOQjQwGed66gbKbmwvfxMiFjvl3O1GgJVhjh8pf8WMToX4saBt8HNxscv39c1p1be0CB95isUdgIgbrikh3FpeB+g3xyvORDAEdqTg1N0DtdCh/EJALScVHdUrlVlML5KlGhAC+nlV81AC6adcC3pfSLLkRZhEdvFYx7xapTiCZAGZTiohhT1H0ew9ZgK41xRm++mkt/FAX+rDGJUJs8NaJeuFM+kXuuKX5ZU7fU8fd2GCUlacR+lydhsev8HfGhZKBvkbRfPfUoC2mtyCtPSO5/6eQQiNiodpNLULh9CQUbfYryiHMqb34F8aFQ6KrRXWWX3KVWsdSTFw0DGzeMlRBdhfpcR5lS5nmCdusfXv1sjTvl6rwL47ooudllmuHGPIRJ6h6gSqb1ffaVSlsYYio8JQUeRodNqSf/jm87/it2GuF9tGY100MQuG4LYrgoVi/JHHvl3v9OwPj+9AEisS4jf39XAWUxUl4IrV6tbPxcqJMEGvCsP5+IeL1zBnGpDjE2GfhfsIAtm2gJ8BxoAkr29aJLkd6jhCNu8Zy2mpVc2zFHDRSsWUJxOwZyL2wfksu1kJYjeHhbmCJLnNnQoCj4ybnUtoI8dMq9sgA3ttJ1I2rizt07JkscH9sJCa+yiXVC37vTnYhUMA+c3ShoEPseYehQ4OOgcW5tT+Je1j9wVU19vnJBNKhGtxuE3U3jeLtf+4l12kUsWfmxMCsLJo2PtwPBgG5AydAOEw1TYYQ9T+bPDvwDtAbhlNN2ME9PGGRC2bDBHj4h1zCSTZoKEgsJYFZtY5uvTpEe7tUQlFEck1t21hw5qx7EwACpVA74c9pa5u0rWge7D22taNeC7Wsov0ypPGJnOhGXW6iUqtL8RpfYqnXY1zgd4uxPJA9iXBI=212FD3x19z9sWBHDJACbC00B75E',\n",
       " 'scope': 'PlaceTrades AccountAccess MoveMoney',\n",
       " 'expires_in': 1800,\n",
       " 'refresh_token_expires_in': 7776000,\n",
       " 'token_type': 'Bearer'}"
      ]
     },
     "execution_count": 174,
     "metadata": {},
     "output_type": "execute_result"
    }
   ],
   "source": [
    "amct = AmeritradeRestTest('maiotradeuser', 'maiotradepw', 'maiotradeclientid')\n",
    "amct.authenticate()"
   ]
  }
 ],
 "metadata": {
  "kernelspec": {
   "display_name": "Python [conda env:ml4t] *",
   "language": "python",
   "name": "conda-env-ml4t-py"
  },
  "language_info": {
   "codemirror_mode": {
    "name": "ipython",
    "version": 3
   },
   "file_extension": ".py",
   "mimetype": "text/x-python",
   "name": "python",
   "nbconvert_exporter": "python",
   "pygments_lexer": "ipython3",
   "version": "3.8.8"
  }
 },
 "nbformat": 4,
 "nbformat_minor": 5
}
