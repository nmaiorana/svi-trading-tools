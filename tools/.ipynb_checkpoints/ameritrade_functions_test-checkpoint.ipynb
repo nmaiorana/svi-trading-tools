{
 "cells": [
  {
   "cell_type": "code",
   "execution_count": 1,
   "id": "6c76925c-834c-4f6d-9236-bbb81992c080",
   "metadata": {},
   "outputs": [],
   "source": [
    "import unittest\n",
    "\n",
    "custom_username_env = 'maiotradeuser'\n",
    "custom_pw_env = 'maiotradepw'\n",
    "custom_clientid_env = 'maiotradeclientid'"
   ]
  },
  {
   "cell_type": "markdown",
   "id": "5c10981e-b1c5-4c2c-86f2-52067ed41565",
   "metadata": {},
   "source": [
    "# Unit Tests"
   ]
  },
  {
   "cell_type": "markdown",
   "id": "722c4b52-2df3-41ca-942b-b6f82bc0b66a",
   "metadata": {},
   "source": [
    "## Test Configuration\n",
    "\n",
    "Configure the Ameritrade client to use the username, password and client id stored in environment variables."
   ]
  },
  {
   "cell_type": "code",
   "execution_count": 2,
   "id": "2a38d3fb-053d-48ea-956c-41ef74c3766d",
   "metadata": {},
   "outputs": [],
   "source": [
    "import importlib\n",
    "import ameritrade_functions as amc\n",
    "importlib.reload(amc)\n",
    "import os\n",
    "\n",
    "os.environ['ameritradeuser'] = 'test_user'\n",
    "os.environ['ameritradepw'] = 'test_pw'\n",
    "os.environ['ameritradeclientid'] = 'client_id'\n",
    "\n",
    "class TestConfiguration(unittest.TestCase):\n",
    "    def test_config_default(self):\n",
    "        class_under_test = amc.AmeritradeRest()\n",
    "        self.assertEqual(class_under_test.username, 'test_user')\n",
    "        self.assertEqual(class_under_test.password, 'test_pw')\n",
    "        self.assertEqual(class_under_test.client_id, 'client_id')  \n",
    "        self.assertEqual(class_under_test.consumer_key, 'client_id'+'@AMER.OAUTHAP')\n",
    "    \n",
    "    def test_config_parms(self):\n",
    "        class_under_test = amc.AmeritradeRest('ameritradeuser', 'ameritradepw', 'ameritradeclientid')\n",
    "        self.assertEqual(class_under_test.username, 'test_user')\n",
    "        self.assertEqual(class_under_test.password, 'test_pw')\n",
    "        self.assertEqual(class_under_test.client_id, 'client_id')\n",
    "        self.assertEqual(class_under_test.consumer_key, 'client_id'+'@AMER.OAUTHAP')\n",
    "        "
   ]
  },
  {
   "cell_type": "markdown",
   "id": "4654ec5b-a54f-4ec4-a705-3be932c9f498",
   "metadata": {},
   "source": [
    "## Account Level Functions"
   ]
  },
  {
   "cell_type": "code",
   "execution_count": 3,
   "id": "d8587ea1-35c8-405e-ba68-1405b8488594",
   "metadata": {},
   "outputs": [],
   "source": [
    "import importlib\n",
    "import ameritrade_functions as amc\n",
    "importlib.reload(amc)\n",
    "import os\n",
    "\n",
    "class TestAccountLevelFunctions(unittest.TestCase):\n",
    "    def test_mask_account(self):\n",
    "        class_under_test = amc.AmeritradeRest(custom_username_env, custom_pw_env, custom_clientid_env)\n",
    "        self.assertEqual(class_under_test.mask_account('12345678'), '#---5678')\n",
    "        class_under_test.account_mask = \"*****\"\n",
    "        self.assertEqual(class_under_test.mask_account('12345678'), '*****678')\n",
    "        "
   ]
  },
  {
   "cell_type": "markdown",
   "id": "e2fc6bab-a5ef-4a6e-a582-0d19319ad017",
   "metadata": {},
   "source": [
    "# Integration Tests\n",
    "\n",
    "Requires you to have a developer account with Ameritrade (https://developer.tdameritrade.com).\n",
    "\n",
    "These settings are configured via environment variables."
   ]
  },
  {
   "cell_type": "markdown",
   "id": "c63f3d67-e351-49d9-b70e-df852ee60cac",
   "metadata": {},
   "source": [
    "## Test Authentication"
   ]
  },
  {
   "cell_type": "code",
   "execution_count": 4,
   "id": "38c3bb26-e42a-409f-9412-d0ca76c56eb0",
   "metadata": {},
   "outputs": [],
   "source": [
    "import importlib\n",
    "import ameritrade_functions as amc\n",
    "importlib.reload(amc)\n",
    "\n",
    "class TestAuthentication(unittest.TestCase):\n",
    "    def test_authentication(self):\n",
    "        class_under_test = amc.AmeritradeRest(custom_username_env, custom_pw_env, custom_clientid_env)\n",
    "        class_under_test.authenticate()\n",
    "        self.assertGreater(len(class_under_test.authorization), 0)"
   ]
  },
  {
   "cell_type": "markdown",
   "id": "b0b40b0f-b266-4c9b-bafc-70e0debfc492",
   "metadata": {},
   "source": [
    "# Test Runner"
   ]
  },
  {
   "cell_type": "code",
   "execution_count": 5,
   "id": "76124296-debb-4d2c-9468-82d10ec1e84a",
   "metadata": {},
   "outputs": [
    {
     "name": "stderr",
     "output_type": "stream",
     "text": [
      "test_mask_account (__main__.TestAccountLevelFunctions) ... ok\n",
      "test_authentication (__main__.TestAuthentication) ... ok\n",
      "test_config_default (__main__.TestConfiguration) ... ok\n",
      "test_config_parms (__main__.TestConfiguration) ... ok\n",
      "\n",
      "----------------------------------------------------------------------\n",
      "Ran 4 tests in 8.731s\n",
      "\n",
      "OK\n"
     ]
    },
    {
     "data": {
      "text/plain": [
       "<unittest.main.TestProgram at 0x21dfe5e17c0>"
      ]
     },
     "execution_count": 5,
     "metadata": {},
     "output_type": "execute_result"
    }
   ],
   "source": [
    "unittest.main(argv=[''], verbosity=2, exit=False)"
   ]
  }
 ],
 "metadata": {
  "kernelspec": {
   "display_name": "Python [conda env:ml4t] *",
   "language": "python",
   "name": "conda-env-ml4t-py"
  },
  "language_info": {
   "codemirror_mode": {
    "name": "ipython",
    "version": 3
   },
   "file_extension": ".py",
   "mimetype": "text/x-python",
   "name": "python",
   "nbconvert_exporter": "python",
   "pygments_lexer": "ipython3",
   "version": "3.8.8"
  }
 },
 "nbformat": 4,
 "nbformat_minor": 5
}
