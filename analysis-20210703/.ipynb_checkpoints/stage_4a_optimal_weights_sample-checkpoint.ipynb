{
 "cells": [
  {
   "cell_type": "markdown",
   "metadata": {},
   "source": [
    "# Stage 4a: Demonstrate using AI Alpha and Daily Betas to produce optiomal weights"
   ]
  },
  {
   "cell_type": "code",
   "execution_count": 1,
   "metadata": {},
   "outputs": [
    {
     "name": "stdout",
     "output_type": "stream",
     "text": [
      "Python version : 3.8.10\n",
      "Pandas version : 0.25.3\n"
     ]
    }
   ],
   "source": [
    "from platform import python_version\n",
    "import time\n",
    "from datetime import datetime\n",
    "import os\n",
    "import pandas as pd\n",
    "import numpy as np\n",
    "import math\n",
    "from tqdm.notebook import tqdm\n",
    "import matplotlib.pyplot as plt\n",
    "import pickle\n",
    "\n",
    "%matplotlib inline\n",
    "plt.style.use('ggplot')\n",
    "plt.rcParams['figure.figsize'] = (20, 8)\n",
    "\n",
    "# Set the import path for the tools directiory\n",
    "import sys\n",
    "# insert at position 1 in the path, as 0 is the path of this file.\n",
    "sys.path.insert(1, '../tools')\n",
    "import importlib\n",
    "import ameritrade_functions as amc\n",
    "importlib.reload(amc)\n",
    "import utils\n",
    "importlib.reload(utils)\n",
    "import trading_factors as alpha_factors\n",
    "importlib.reload(alpha_factors)\n",
    "\n",
    "print(f'Python version : {python_version()}')\n",
    "print(f'Pandas version : {pd.__version__}')"
   ]
  },
  {
   "cell_type": "markdown",
   "metadata": {},
   "source": [
    "## Configure Ameritrade Information\n",
    "\n",
    "Ameritrade credentials are stored in environment variables to keep from having unencrypted passwords stored on disk.\n",
    "\n",
    "The module automatically masks the account numbers to protect the actual accounts. An Ameritrade user can have many investment accounts. We will be working with only one for this demonstration."
   ]
  },
  {
   "cell_type": "code",
   "execution_count": 2,
   "metadata": {},
   "outputs": [],
   "source": [
    "username = os.getenv('maiotradeuser')\n",
    "password = os.getenv('maiotradepw')\n",
    "client_id = os.getenv('maiotradeclientid')\n",
    "\n",
    "# For Chromedriver\n",
    "from pathlib import Path\n",
    "chrome_executabel_path = str(Path.home()) + r'\\Anaconda Projects\\chromedriver\\chromedriver'\n",
    "\n",
    "# Make sure we have a data directory\n",
    "Path('./data').mkdir(parents=True, exist_ok=True) \n",
    "\n",
    "masked_account_number = '#---5311'\n",
    "account_portfolios_file_name = 'data/portfolio_data.csv'\n",
    "portfolio_file_name = 'data/portfolio_' + masked_account_number[-4:] + '.csv'\n",
    "price_histories_file_name = 'data/price_histories.csv'"
   ]
  },
  {
   "cell_type": "code",
   "execution_count": 3,
   "metadata": {},
   "outputs": [
    {
     "name": "stdout",
     "output_type": "stream",
     "text": [
      "You have authorization\n"
     ]
    }
   ],
   "source": [
    "td_ameritrade = amc.AmeritradeRest(username, password, client_id, chrome_executabel_path)\n",
    "td_ameritrade.authenticate()\n",
    "\n",
    "if len(td_ameritrade.authorization) == 0:\n",
    "    print('Error: No authorization data: {}'.format(td_ameritrade.authorization))\n",
    "else:\n",
    "    print('You have authorization')"
   ]
  },
  {
   "cell_type": "markdown",
   "metadata": {},
   "source": [
    "# Gather Data\n",
    "\n",
    "- Current Holdings\n",
    "- Price Histories\n",
    "- AI Alpha\n",
    "- Daily Beta"
   ]
  },
  {
   "cell_type": "markdown",
   "metadata": {},
   "source": [
    "## First lets see why stocks we already own for a specific account\n",
    "\n",
    "I only want to work with Equity investments. This is kind of confusing, but at the account level assets that can be traded are call \"EQUITY\". When you get quotes for each asset, the same asset can be something like \"ETF\".\n",
    "\n",
    "I also use Ameritrade's portfolio planner tool to create an asset mix based off of their reccomendations. I don't want these stocks (or in my case mutual funds and ETFs) to be part of this analysis. So I'll remove them here."
   ]
  },
  {
   "cell_type": "code",
   "execution_count": 4,
   "metadata": {},
   "outputs": [
    {
     "data": {
      "text/html": [
       "<div>\n",
       "<style scoped>\n",
       "    .dataframe tbody tr th:only-of-type {\n",
       "        vertical-align: middle;\n",
       "    }\n",
       "\n",
       "    .dataframe tbody tr th {\n",
       "        vertical-align: top;\n",
       "    }\n",
       "\n",
       "    .dataframe thead th {\n",
       "        text-align: right;\n",
       "    }\n",
       "</style>\n",
       "<table border=\"1\" class=\"dataframe\">\n",
       "  <thead>\n",
       "    <tr style=\"text-align: right;\">\n",
       "      <th></th>\n",
       "      <th>account</th>\n",
       "      <th>shortQuantity</th>\n",
       "      <th>averagePrice</th>\n",
       "      <th>currentDayProfitLoss</th>\n",
       "      <th>currentDayProfitLossPercentage</th>\n",
       "      <th>longQuantity</th>\n",
       "      <th>settledLongQuantity</th>\n",
       "      <th>settledShortQuantity</th>\n",
       "      <th>marketValue</th>\n",
       "      <th>maintenanceRequirement</th>\n",
       "      <th>currentDayCost</th>\n",
       "      <th>previousSessionLongQuantity</th>\n",
       "      <th>assetType</th>\n",
       "      <th>cusip</th>\n",
       "      <th>symbol</th>\n",
       "      <th>description</th>\n",
       "      <th>type</th>\n",
       "    </tr>\n",
       "  </thead>\n",
       "  <tbody>\n",
       "    <tr>\n",
       "      <th>6</th>\n",
       "      <td>#---9216</td>\n",
       "      <td>0.0</td>\n",
       "      <td>0.21531</td>\n",
       "      <td>-20.4975</td>\n",
       "      <td>-2.37</td>\n",
       "      <td>4500.0</td>\n",
       "      <td>4500.0</td>\n",
       "      <td>0.0</td>\n",
       "      <td>843.5</td>\n",
       "      <td>0.0</td>\n",
       "      <td>0.0</td>\n",
       "      <td>4500.0</td>\n",
       "      <td>EQUITY</td>\n",
       "      <td>Q3860H107</td>\n",
       "      <td>FGPHF</td>\n",
       "      <td>0</td>\n",
       "      <td>0</td>\n",
       "    </tr>\n",
       "  </tbody>\n",
       "</table>\n",
       "</div>"
      ],
      "text/plain": [
       "    account  shortQuantity  averagePrice  currentDayProfitLoss  \\\n",
       "6  #---9216            0.0       0.21531              -20.4975   \n",
       "\n",
       "   currentDayProfitLossPercentage  longQuantity  settledLongQuantity  \\\n",
       "6                           -2.37        4500.0               4500.0   \n",
       "\n",
       "   settledShortQuantity  marketValue  maintenanceRequirement  currentDayCost  \\\n",
       "6                   0.0        843.5                     0.0             0.0   \n",
       "\n",
       "   previousSessionLongQuantity assetType      cusip symbol description type  \n",
       "6                       4500.0    EQUITY  Q3860H107  FGPHF           0    0  "
      ]
     },
     "execution_count": 4,
     "metadata": {},
     "output_type": "execute_result"
    }
   ],
   "source": [
    "# Specific Portfolio Account\n",
    "account_portfolio_df = utils.get_account_portfolio_data(td_ameritrade.parse_portfolios_list(), masked_account_number)\n",
    "equity_investments_df = utils.get_investments_by_type(account_portfolio_df, investment_type='EQUITY')\n",
    "\n",
    "# Filter out non Equity investments\n",
    "current_stocks = amc.AmeritradeRest(username, password, client_id).get_quotes(utils.get_investment_symbols(equity_investments_df)).query('assetType == \"EQUITY\"').index.tolist()\n",
    "current_investments_df = equity_investments_df[equity_investments_df['symbol'].isin(current_stocks)]\n",
    "current_investments_df"
   ]
  },
  {
   "cell_type": "code",
   "execution_count": 6,
   "metadata": {},
   "outputs": [
    {
     "ename": "FileNotFoundError",
     "evalue": "[Errno 2] File b'data/portfolio_9216.csv' does not exist: b'data/portfolio_9216.csv'",
     "output_type": "error",
     "traceback": [
      "\u001b[1;31m---------------------------------------------------------------------------\u001b[0m",
      "\u001b[1;31mFileNotFoundError\u001b[0m                         Traceback (most recent call last)",
      "\u001b[1;32m<ipython-input-6-d09dadabfd03>\u001b[0m in \u001b[0;36m<module>\u001b[1;34m\u001b[0m\n\u001b[1;32m----> 1\u001b[1;33m \u001b[0mholdings\u001b[0m \u001b[1;33m=\u001b[0m \u001b[0mutils\u001b[0m\u001b[1;33m.\u001b[0m\u001b[0mread_port_data\u001b[0m\u001b[1;33m(\u001b[0m\u001b[0mportfolio_file_name\u001b[0m\u001b[1;33m)\u001b[0m\u001b[1;33m.\u001b[0m\u001b[0mset_index\u001b[0m\u001b[1;33m(\u001b[0m\u001b[1;34m'symbol'\u001b[0m\u001b[1;33m)\u001b[0m\u001b[1;33m\u001b[0m\u001b[1;33m\u001b[0m\u001b[0m\n\u001b[0m\u001b[0;32m      2\u001b[0m \u001b[0mprice_histories\u001b[0m \u001b[1;33m=\u001b[0m \u001b[0mutils\u001b[0m\u001b[1;33m.\u001b[0m\u001b[0mread_price_histories\u001b[0m\u001b[1;33m(\u001b[0m\u001b[0mprice_histories_file_name\u001b[0m\u001b[1;33m)\u001b[0m\u001b[1;33m\u001b[0m\u001b[1;33m\u001b[0m\u001b[0m\n\u001b[0;32m      3\u001b[0m \u001b[0mprint\u001b[0m\u001b[1;33m(\u001b[0m\u001b[1;34mf'Date range for price histories: {price_histories.date.min().date()} to {price_histories.date.max().date()}'\u001b[0m\u001b[1;33m)\u001b[0m\u001b[1;33m\u001b[0m\u001b[1;33m\u001b[0m\u001b[0m\n\u001b[0;32m      4\u001b[0m \u001b[0mpricing\u001b[0m \u001b[1;33m=\u001b[0m \u001b[0mutils\u001b[0m\u001b[1;33m.\u001b[0m\u001b[0mget_close_values\u001b[0m\u001b[1;33m(\u001b[0m\u001b[0mprice_histories\u001b[0m\u001b[1;33m)\u001b[0m\u001b[1;33m\u001b[0m\u001b[1;33m\u001b[0m\u001b[0m\n\u001b[0;32m      5\u001b[0m \u001b[0mprint\u001b[0m\u001b[1;33m(\u001b[0m\u001b[1;34mf'You have {len(pricing.columns)} stocks from picing'\u001b[0m\u001b[1;33m)\u001b[0m\u001b[1;33m\u001b[0m\u001b[1;33m\u001b[0m\u001b[0m\n",
      "\u001b[1;32m~\\Anaconda Projects\\svi-trading-tools\\analysis-20210703\\../tools\\utils.py\u001b[0m in \u001b[0;36mread_port_data\u001b[1;34m(file_name)\u001b[0m\n\u001b[0;32m     14\u001b[0m \u001b[1;33m\u001b[0m\u001b[0m\n\u001b[0;32m     15\u001b[0m \u001b[1;32mdef\u001b[0m \u001b[0mread_port_data\u001b[0m\u001b[1;33m(\u001b[0m\u001b[0mfile_name\u001b[0m\u001b[1;33m)\u001b[0m\u001b[1;33m:\u001b[0m\u001b[1;33m\u001b[0m\u001b[1;33m\u001b[0m\u001b[0m\n\u001b[1;32m---> 16\u001b[1;33m     \u001b[1;32mreturn\u001b[0m \u001b[0mpd\u001b[0m\u001b[1;33m.\u001b[0m\u001b[0mread_csv\u001b[0m\u001b[1;33m(\u001b[0m\u001b[0mfile_name\u001b[0m\u001b[1;33m)\u001b[0m\u001b[1;33m\u001b[0m\u001b[1;33m\u001b[0m\u001b[0m\n\u001b[0m\u001b[0;32m     17\u001b[0m \u001b[1;33m\u001b[0m\u001b[0m\n\u001b[0;32m     18\u001b[0m \u001b[1;32mdef\u001b[0m \u001b[0msave_price_histories\u001b[0m\u001b[1;33m(\u001b[0m\u001b[0mdataframe\u001b[0m\u001b[1;33m,\u001b[0m \u001b[0mfile_name\u001b[0m\u001b[1;33m)\u001b[0m\u001b[1;33m:\u001b[0m\u001b[1;33m\u001b[0m\u001b[1;33m\u001b[0m\u001b[0m\n",
      "\u001b[1;32m~\\anaconda3\\envs\\ai_for_trading\\lib\\site-packages\\pandas\\io\\parsers.py\u001b[0m in \u001b[0;36mparser_f\u001b[1;34m(filepath_or_buffer, sep, delimiter, header, names, index_col, usecols, squeeze, prefix, mangle_dupe_cols, dtype, engine, converters, true_values, false_values, skipinitialspace, skiprows, skipfooter, nrows, na_values, keep_default_na, na_filter, verbose, skip_blank_lines, parse_dates, infer_datetime_format, keep_date_col, date_parser, dayfirst, cache_dates, iterator, chunksize, compression, thousands, decimal, lineterminator, quotechar, quoting, doublequote, escapechar, comment, encoding, dialect, error_bad_lines, warn_bad_lines, delim_whitespace, low_memory, memory_map, float_precision)\u001b[0m\n\u001b[0;32m    683\u001b[0m         )\n\u001b[0;32m    684\u001b[0m \u001b[1;33m\u001b[0m\u001b[0m\n\u001b[1;32m--> 685\u001b[1;33m         \u001b[1;32mreturn\u001b[0m \u001b[0m_read\u001b[0m\u001b[1;33m(\u001b[0m\u001b[0mfilepath_or_buffer\u001b[0m\u001b[1;33m,\u001b[0m \u001b[0mkwds\u001b[0m\u001b[1;33m)\u001b[0m\u001b[1;33m\u001b[0m\u001b[1;33m\u001b[0m\u001b[0m\n\u001b[0m\u001b[0;32m    686\u001b[0m \u001b[1;33m\u001b[0m\u001b[0m\n\u001b[0;32m    687\u001b[0m     \u001b[0mparser_f\u001b[0m\u001b[1;33m.\u001b[0m\u001b[0m__name__\u001b[0m \u001b[1;33m=\u001b[0m \u001b[0mname\u001b[0m\u001b[1;33m\u001b[0m\u001b[1;33m\u001b[0m\u001b[0m\n",
      "\u001b[1;32m~\\anaconda3\\envs\\ai_for_trading\\lib\\site-packages\\pandas\\io\\parsers.py\u001b[0m in \u001b[0;36m_read\u001b[1;34m(filepath_or_buffer, kwds)\u001b[0m\n\u001b[0;32m    455\u001b[0m \u001b[1;33m\u001b[0m\u001b[0m\n\u001b[0;32m    456\u001b[0m     \u001b[1;31m# Create the parser.\u001b[0m\u001b[1;33m\u001b[0m\u001b[1;33m\u001b[0m\u001b[1;33m\u001b[0m\u001b[0m\n\u001b[1;32m--> 457\u001b[1;33m     \u001b[0mparser\u001b[0m \u001b[1;33m=\u001b[0m \u001b[0mTextFileReader\u001b[0m\u001b[1;33m(\u001b[0m\u001b[0mfp_or_buf\u001b[0m\u001b[1;33m,\u001b[0m \u001b[1;33m**\u001b[0m\u001b[0mkwds\u001b[0m\u001b[1;33m)\u001b[0m\u001b[1;33m\u001b[0m\u001b[1;33m\u001b[0m\u001b[0m\n\u001b[0m\u001b[0;32m    458\u001b[0m \u001b[1;33m\u001b[0m\u001b[0m\n\u001b[0;32m    459\u001b[0m     \u001b[1;32mif\u001b[0m \u001b[0mchunksize\u001b[0m \u001b[1;32mor\u001b[0m \u001b[0miterator\u001b[0m\u001b[1;33m:\u001b[0m\u001b[1;33m\u001b[0m\u001b[1;33m\u001b[0m\u001b[0m\n",
      "\u001b[1;32m~\\anaconda3\\envs\\ai_for_trading\\lib\\site-packages\\pandas\\io\\parsers.py\u001b[0m in \u001b[0;36m__init__\u001b[1;34m(self, f, engine, **kwds)\u001b[0m\n\u001b[0;32m    893\u001b[0m             \u001b[0mself\u001b[0m\u001b[1;33m.\u001b[0m\u001b[0moptions\u001b[0m\u001b[1;33m[\u001b[0m\u001b[1;34m\"has_index_names\"\u001b[0m\u001b[1;33m]\u001b[0m \u001b[1;33m=\u001b[0m \u001b[0mkwds\u001b[0m\u001b[1;33m[\u001b[0m\u001b[1;34m\"has_index_names\"\u001b[0m\u001b[1;33m]\u001b[0m\u001b[1;33m\u001b[0m\u001b[1;33m\u001b[0m\u001b[0m\n\u001b[0;32m    894\u001b[0m \u001b[1;33m\u001b[0m\u001b[0m\n\u001b[1;32m--> 895\u001b[1;33m         \u001b[0mself\u001b[0m\u001b[1;33m.\u001b[0m\u001b[0m_make_engine\u001b[0m\u001b[1;33m(\u001b[0m\u001b[0mself\u001b[0m\u001b[1;33m.\u001b[0m\u001b[0mengine\u001b[0m\u001b[1;33m)\u001b[0m\u001b[1;33m\u001b[0m\u001b[1;33m\u001b[0m\u001b[0m\n\u001b[0m\u001b[0;32m    896\u001b[0m \u001b[1;33m\u001b[0m\u001b[0m\n\u001b[0;32m    897\u001b[0m     \u001b[1;32mdef\u001b[0m \u001b[0mclose\u001b[0m\u001b[1;33m(\u001b[0m\u001b[0mself\u001b[0m\u001b[1;33m)\u001b[0m\u001b[1;33m:\u001b[0m\u001b[1;33m\u001b[0m\u001b[1;33m\u001b[0m\u001b[0m\n",
      "\u001b[1;32m~\\anaconda3\\envs\\ai_for_trading\\lib\\site-packages\\pandas\\io\\parsers.py\u001b[0m in \u001b[0;36m_make_engine\u001b[1;34m(self, engine)\u001b[0m\n\u001b[0;32m   1133\u001b[0m     \u001b[1;32mdef\u001b[0m \u001b[0m_make_engine\u001b[0m\u001b[1;33m(\u001b[0m\u001b[0mself\u001b[0m\u001b[1;33m,\u001b[0m \u001b[0mengine\u001b[0m\u001b[1;33m=\u001b[0m\u001b[1;34m\"c\"\u001b[0m\u001b[1;33m)\u001b[0m\u001b[1;33m:\u001b[0m\u001b[1;33m\u001b[0m\u001b[1;33m\u001b[0m\u001b[0m\n\u001b[0;32m   1134\u001b[0m         \u001b[1;32mif\u001b[0m \u001b[0mengine\u001b[0m \u001b[1;33m==\u001b[0m \u001b[1;34m\"c\"\u001b[0m\u001b[1;33m:\u001b[0m\u001b[1;33m\u001b[0m\u001b[1;33m\u001b[0m\u001b[0m\n\u001b[1;32m-> 1135\u001b[1;33m             \u001b[0mself\u001b[0m\u001b[1;33m.\u001b[0m\u001b[0m_engine\u001b[0m \u001b[1;33m=\u001b[0m \u001b[0mCParserWrapper\u001b[0m\u001b[1;33m(\u001b[0m\u001b[0mself\u001b[0m\u001b[1;33m.\u001b[0m\u001b[0mf\u001b[0m\u001b[1;33m,\u001b[0m \u001b[1;33m**\u001b[0m\u001b[0mself\u001b[0m\u001b[1;33m.\u001b[0m\u001b[0moptions\u001b[0m\u001b[1;33m)\u001b[0m\u001b[1;33m\u001b[0m\u001b[1;33m\u001b[0m\u001b[0m\n\u001b[0m\u001b[0;32m   1136\u001b[0m         \u001b[1;32melse\u001b[0m\u001b[1;33m:\u001b[0m\u001b[1;33m\u001b[0m\u001b[1;33m\u001b[0m\u001b[0m\n\u001b[0;32m   1137\u001b[0m             \u001b[1;32mif\u001b[0m \u001b[0mengine\u001b[0m \u001b[1;33m==\u001b[0m \u001b[1;34m\"python\"\u001b[0m\u001b[1;33m:\u001b[0m\u001b[1;33m\u001b[0m\u001b[1;33m\u001b[0m\u001b[0m\n",
      "\u001b[1;32m~\\anaconda3\\envs\\ai_for_trading\\lib\\site-packages\\pandas\\io\\parsers.py\u001b[0m in \u001b[0;36m__init__\u001b[1;34m(self, src, **kwds)\u001b[0m\n\u001b[0;32m   1915\u001b[0m         \u001b[0mkwds\u001b[0m\u001b[1;33m[\u001b[0m\u001b[1;34m\"usecols\"\u001b[0m\u001b[1;33m]\u001b[0m \u001b[1;33m=\u001b[0m \u001b[0mself\u001b[0m\u001b[1;33m.\u001b[0m\u001b[0musecols\u001b[0m\u001b[1;33m\u001b[0m\u001b[1;33m\u001b[0m\u001b[0m\n\u001b[0;32m   1916\u001b[0m \u001b[1;33m\u001b[0m\u001b[0m\n\u001b[1;32m-> 1917\u001b[1;33m         \u001b[0mself\u001b[0m\u001b[1;33m.\u001b[0m\u001b[0m_reader\u001b[0m \u001b[1;33m=\u001b[0m \u001b[0mparsers\u001b[0m\u001b[1;33m.\u001b[0m\u001b[0mTextReader\u001b[0m\u001b[1;33m(\u001b[0m\u001b[0msrc\u001b[0m\u001b[1;33m,\u001b[0m \u001b[1;33m**\u001b[0m\u001b[0mkwds\u001b[0m\u001b[1;33m)\u001b[0m\u001b[1;33m\u001b[0m\u001b[1;33m\u001b[0m\u001b[0m\n\u001b[0m\u001b[0;32m   1918\u001b[0m         \u001b[0mself\u001b[0m\u001b[1;33m.\u001b[0m\u001b[0munnamed_cols\u001b[0m \u001b[1;33m=\u001b[0m \u001b[0mself\u001b[0m\u001b[1;33m.\u001b[0m\u001b[0m_reader\u001b[0m\u001b[1;33m.\u001b[0m\u001b[0munnamed_cols\u001b[0m\u001b[1;33m\u001b[0m\u001b[1;33m\u001b[0m\u001b[0m\n\u001b[0;32m   1919\u001b[0m \u001b[1;33m\u001b[0m\u001b[0m\n",
      "\u001b[1;32mpandas/_libs/parsers.pyx\u001b[0m in \u001b[0;36mpandas._libs.parsers.TextReader.__cinit__\u001b[1;34m()\u001b[0m\n",
      "\u001b[1;32mpandas/_libs/parsers.pyx\u001b[0m in \u001b[0;36mpandas._libs.parsers.TextReader._setup_parser_source\u001b[1;34m()\u001b[0m\n",
      "\u001b[1;31mFileNotFoundError\u001b[0m: [Errno 2] File b'data/portfolio_9216.csv' does not exist: b'data/portfolio_9216.csv'"
     ]
    }
   ],
   "source": [
    "holdings = utils.read_port_data(portfolio_file_name).set_index('symbol')\n",
    "price_histories = utils.read_price_histories(price_histories_file_name)\n",
    "print(f'Date range for price histories: {price_histories.date.min().date()} to {price_histories.date.max().date()}')\n",
    "pricing = utils.get_close_values(price_histories)\n",
    "print(f'You have {len(pricing.columns)} stocks from picing')\n",
    "\n",
    "alpha_vectors = pd.read_csv('data/alpha_vectors.csv', parse_dates=['date']).set_index(['date']).sort_index()\n",
    "print(f'You have {len(alpha_vectors.columns)} stocks from alpha')\n",
    "\n",
    "with open('data/daily_beta.pickle', 'rb') as f:\n",
    "    # The protocol version used is detected automatically, so we do not\n",
    "    # have to specify it.\n",
    "    daily_betas = pickle.load(f)\n",
    "print(f'You have {len(daily_betas)} of daily betas')"
   ]
  },
  {
   "cell_type": "code",
   "execution_count": null,
   "metadata": {},
   "outputs": [],
   "source": [
    "alpha_vectors[list(daily_betas.keys())[0]:]"
   ]
  },
  {
   "cell_type": "code",
   "execution_count": null,
   "metadata": {},
   "outputs": [],
   "source": [
    "daily_betas.keys()"
   ]
  },
  {
   "cell_type": "markdown",
   "metadata": {},
   "source": [
    "## Generate Daily Optimal Portfolios using 1 year of alpha and beta\n",
    "\n",
    "This first strategy is to use 2 day returns and optimize the portfolio daily.\n",
    "\n",
    "The second stragety is to use last day of the month returns and to optimize the portfolio monthly (or 20 day returns).\n",
    "\n",
    "Start with the last date, subtract 1 year to get the start and end dates for the betas."
   ]
  },
  {
   "cell_type": "code",
   "execution_count": null,
   "metadata": {},
   "outputs": [],
   "source": [
    "import portfolio_optimizer\n",
    "from portfolio_optimizer import OptimalHoldings\n",
    "importlib.reload(portfolio_optimizer)"
   ]
  },
  {
   "cell_type": "code",
   "execution_count": null,
   "metadata": {},
   "outputs": [],
   "source": [
    "holding_weights = utils.get_portfolio_weights(holdings).squeeze()"
   ]
  },
  {
   "cell_type": "code",
   "execution_count": null,
   "metadata": {},
   "outputs": [],
   "source": [
    "returns = alpha_factors.FactorReturns(price_histories).factor_data"
   ]
  },
  {
   "cell_type": "code",
   "execution_count": null,
   "metadata": {},
   "outputs": [],
   "source": [
    "dlyreturn_n_days_delay = 2\n",
    "delayed_returns = returns[-252:].shift(-dlyreturn_n_days_delay).dropna()\n",
    "delayed_returns.head()"
   ]
  },
  {
   "cell_type": "code",
   "execution_count": null,
   "metadata": {},
   "outputs": [],
   "source": [
    "opt_date = delayed_returns.index[0]\n",
    "risk_model = daily_betas[opt_date.strftime('%m/%d/%Y')]\n",
    "alpha_vector = pd.DataFrame(alpha_vectors.loc[opt_date])\n",
    "est_return = delayed_returns.loc[opt_date]"
   ]
  },
  {
   "cell_type": "code",
   "execution_count": null,
   "metadata": {},
   "outputs": [],
   "source": [
    "optimal_weights = OptimalHoldings(risk_cap=0.05,weights_max=0.10, weights_min=0.0).find(alpha_vector, risk_model.factor_betas_, risk_model.factor_cov_matrix_, risk_model.idiosyncratic_var_vector_)"
   ]
  },
  {
   "cell_type": "code",
   "execution_count": null,
   "metadata": {},
   "outputs": [],
   "source": [
    "long_weights = optimal_weights[(100 * optimal_weights['optimalWeights']).round() > 0]\n",
    "returns[-252:][long_weights.index.to_list()].cumsum().plot()\n",
    "print(f'Old portfolio variance is:  {risk_model.compute_portfolio_variance(holding_weights.values):.8f}')\n",
    "print(f'New portfolio variance is:  {risk_model.compute_portfolio_variance(optimal_weights):.8f}')"
   ]
  },
  {
   "cell_type": "code",
   "execution_count": null,
   "metadata": {},
   "outputs": [],
   "source": [
    "long_weights.index.to_list()"
   ]
  },
  {
   "cell_type": "code",
   "execution_count": null,
   "metadata": {},
   "outputs": [],
   "source": [
    "investment_amount = 100000\n",
    "long_holdings = (long_weights['optimalWeights'] * investment_amount).round(0)\n",
    "long_holdings.plot.bar(legend=None, title='Portfolio % Holdings by Stock')\n",
    "plt.show()\n",
    "new_holdings = long_holdings * (1.0 + est_return[long_holdings.index])\n",
    "new_holdings.plot.bar(legend=None, title='Estimated Returns')\n",
    "plt.show()\n",
    "print(f'Original investment: {long_holdings.sum()}')\n",
    "print(f'New portfolio Value: {new_holdings.sum()}')\n",
    "est_return[long_weights.index.to_list()].plot()"
   ]
  },
  {
   "cell_type": "code",
   "execution_count": null,
   "metadata": {},
   "outputs": [],
   "source": [
    "optimal_weights"
   ]
  },
  {
   "cell_type": "code",
   "execution_count": null,
   "metadata": {},
   "outputs": [],
   "source": [
    "np.zeros(len(delayed_returns.columns))\n",
    "\n",
    "current_holdings = pd.DataFrame(np.zeros(len(delayed_returns.columns)), index=delayed_returns.columns)\n",
    "current_holdings"
   ]
  },
  {
   "cell_type": "code",
   "execution_count": null,
   "metadata": {},
   "outputs": [],
   "source": [
    "start_date = list(delayed_returns.index)[0]\n",
    "end_date = list(delayed_returns.index)[-1]\n",
    "print(f'Generating 1 year Optimal Portfolios from {start_date} to {end_date}')\n",
    "current_holdings = pd.DataFrame(np.zeros(len(delayed_returns.columns)), index=delayed_returns.columns)\n",
    "portfolio_value = 100000\n",
    "portfolio_growth = {}\n",
    "for opt_date in tqdm(delayed_returns.index.to_list(), desc='Dates', unit='Portfolio Optimization'):\n",
    "    alpha_vector = pd.DataFrame(alpha_vectors.loc[opt_date])\n",
    "    risk_model = daily_betas[opt_date.strftime('%m/%d/%Y')]\n",
    "    est_return = delayed_returns.loc[opt_date]\n",
    "    optimal_weights = OptimalHoldings(risk_cap=0.05,weights_max=0.10, weights_min=0.0).find(alpha_vector, risk_model.factor_betas_, risk_model.factor_cov_matrix_, risk_model.idiosyncratic_var_vector_)\n",
    "    long_weights = optimal_weights[(100 * optimal_weights['optimalWeights']).round() > 0]\n",
    "    long_holdings = (long_weights['optimalWeights'] * portfolio_value).round(0)\n",
    "    new_holdings = long_holdings + (long_holdings * est_return[long_holdings.index])\n",
    "    portfolio_value = new_holdings.sum()\n",
    "    portfolio_growth[opt_date] = portfolio_value\n",
    "    current_holdings = new_holdings"
   ]
  },
  {
   "cell_type": "code",
   "execution_count": null,
   "metadata": {},
   "outputs": [],
   "source": [
    "portfolio_growth_df = pd.DataFrame().from_dict(portfolio_growth, orient='index', columns=['portfolio_value'])\n",
    "portfolio_growth_df.plot()"
   ]
  },
  {
   "cell_type": "code",
   "execution_count": null,
   "metadata": {
    "tags": []
   },
   "outputs": [],
   "source": [
    "start_date = list(delayed_returns.index)[0]\n",
    "end_date = list(delayed_returns.index)[-1]\n",
    "print(f'Generating 1 year Optimal Portfolios from {start_date} to {end_date}')\n",
    "current_holdings = pd.DataFrame(np.zeros(len(delayed_returns.columns)), index=delayed_returns.columns)\n",
    "portfolio_value = 100000\n",
    "portfolio_growth = {}\n",
    "for opt_date in tqdm(delayed_returns.index.to_list()[::dlyreturn_n_days_delay], desc='Dates', unit='Portfolio Optimization'):\n",
    "    alpha_vector = pd.DataFrame(alpha_vectors.loc[opt_date])\n",
    "    risk_model = daily_betas[opt_date.strftime('%m/%d/%Y')]\n",
    "    est_return = delayed_returns.loc[opt_date]\n",
    "    optimal_weights = OptimalHoldings(risk_cap=0.05,weights_max=0.10, weights_min=0.0).find(alpha_vector, risk_model.factor_betas_, risk_model.factor_cov_matrix_, risk_model.idiosyncratic_var_vector_)\n",
    "    long_weights = optimal_weights[(100 * optimal_weights['optimalWeights']).round() > 0]\n",
    "    long_holdings = (long_weights['optimalWeights'] * portfolio_value).round(0)\n",
    "    new_holdings = long_holdings + (long_holdings * est_return[long_holdings.index])\n",
    "    portfolio_value = new_holdings.sum()\n",
    "    portfolio_growth[opt_date] = portfolio_value\n",
    "    current_holdings = new_holdings"
   ]
  },
  {
   "cell_type": "code",
   "execution_count": null,
   "metadata": {},
   "outputs": [],
   "source": [
    "portfolio_growth_df = pd.DataFrame().from_dict(portfolio_growth, orient='index', columns=['portfolio_value'])\n",
    "portfolio_growth_df.plot()"
   ]
  },
  {
   "cell_type": "markdown",
   "metadata": {},
   "source": [
    "## 20 Day Strategy\n",
    "\n",
    "Use 20 Day returns and optimize portfolio monthly"
   ]
  },
  {
   "cell_type": "code",
   "execution_count": null,
   "metadata": {},
   "outputs": [],
   "source": [
    "dlyreturn_n_days_delay = 20\n",
    "delayed_returns = returns[-252:].shift(-dlyreturn_n_days_delay).dropna()\n",
    "delayed_returns.head()"
   ]
  },
  {
   "cell_type": "code",
   "execution_count": null,
   "metadata": {
    "tags": []
   },
   "outputs": [],
   "source": [
    "start_date = list(delayed_returns.index)[0]\n",
    "end_date = list(delayed_returns.index)[-1]\n",
    "print(f'Generating 1 year Optimal Portfolios from {start_date} to {end_date}')\n",
    "current_holdings = pd.DataFrame(np.zeros(len(delayed_returns.columns)), index=delayed_returns.columns)\n",
    "portfolio_value = 100000\n",
    "portfolio_growth = {}\n",
    "for opt_date in tqdm(delayed_returns.index.to_list()[::dlyreturn_n_days_delay], desc='Dates', unit='Portfolio Optimization'):\n",
    "    alpha_vector = pd.DataFrame(alpha_vectors.loc[opt_date])\n",
    "    risk_model = daily_betas[opt_date.strftime('%m/%d/%Y')]\n",
    "    est_return = delayed_returns.loc[opt_date]\n",
    "    optimal_weights = OptimalHoldings(risk_cap=0.05,weights_max=0.10, weights_min=0.0).find(alpha_vector, risk_model.factor_betas_, risk_model.factor_cov_matrix_, risk_model.idiosyncratic_var_vector_)\n",
    "    long_weights = optimal_weights[(100 * optimal_weights['optimalWeights']).round() > 0]\n",
    "    long_holdings = (long_weights['optimalWeights'] * portfolio_value).round(0)\n",
    "    new_holdings = long_holdings + (long_holdings * est_return[long_holdings.index])\n",
    "    portfolio_value = new_holdings.sum()\n",
    "    portfolio_growth[opt_date] = portfolio_value\n",
    "    current_holdings = new_holdings"
   ]
  },
  {
   "cell_type": "code",
   "execution_count": null,
   "metadata": {},
   "outputs": [],
   "source": [
    "portfolio_growth_df = pd.DataFrame().from_dict(portfolio_growth, orient='index', columns=['portfolio_value'])\n",
    "portfolio_growth_df.plot()"
   ]
  },
  {
   "cell_type": "code",
   "execution_count": null,
   "metadata": {},
   "outputs": [],
   "source": [
    "long_weights"
   ]
  },
  {
   "cell_type": "markdown",
   "metadata": {},
   "source": [
    "# Alternative optimization option using trading costs"
   ]
  },
  {
   "cell_type": "markdown",
   "metadata": {},
   "source": [
    "## Adjust dates to account for trade execution\n",
    "\n",
    "returns represents the the returns that the optimized portfolio would realize, but only after we've received the data, then chosen the optimal holdings, and allowed a day to trade into the optimal holdings.  In other words, if we use the data from daily_betas and alpha_vectors that is collected at the end of Monday, we'll use portfolio optimization to choose the optimal holdings based on this data, perhaps after hours on Monday.  Then on Tuesday, we'll have a day to execute trades to adjust the portfolio into the optimized positions.  Then on Wednesday, we'll realize the returns using those optimal holdings."
   ]
  },
  {
   "cell_type": "code",
   "execution_count": null,
   "metadata": {},
   "outputs": [],
   "source": [
    "risk_model.factor_returns_"
   ]
  },
  {
   "cell_type": "code",
   "execution_count": null,
   "metadata": {},
   "outputs": [],
   "source": [
    "investment_amount = portfun.get_account_value(stock_universe_values).round(2)\n",
    "print(f'Current investment amount: {investment_amount}')\n",
    "optimal_weights['amount'] = (optimal_weights['optimalWeights'] * investment_amount).round(0)\n",
    "optimal_weights['marketValue'] = stock_universe_values['marketValue']\n",
    "optimal_weights['buy/sell'] = (optimal_weights['marketValue'] - optimal_weights['amount']) * -1\n",
    "optimal_weights['close'] = pricing.iloc[-1]\n",
    "optimal_weights['existingShares'] = stock_universe_values['longQuantity']\n",
    "optimal_weights['deltaShares'] = (optimal_weights['buy/sell'] / optimal_weights['close']).round(0)\n",
    "optimal_weights['deltaMarketValue'] = (optimal_weights['deltaShares'] * optimal_weights['close'])\n",
    "optimal_weights['totalShares'] = (optimal_weights['existingShares'] + optimal_weights['deltaShares'])\n",
    "optimal_weights['totalMarketValue'] = (optimal_weights['totalShares'] * optimal_weights['close'])\n",
    "optimal_weights"
   ]
  },
  {
   "cell_type": "markdown",
   "metadata": {},
   "source": [
    "## Think or Swim Simulator"
   ]
  },
  {
   "cell_type": "code",
   "execution_count": null,
   "metadata": {},
   "outputs": [],
   "source": [
    "optimal_weights[(optimal_weights['totalShares'] > 0) | (optimal_weights['deltaShares'] != 0)].round(2)"
   ]
  },
  {
   "cell_type": "code",
   "execution_count": null,
   "metadata": {},
   "outputs": [],
   "source": [
    "optimal_weights[(optimal_weights['totalShares'] <= 0) & (optimal_weights['deltaShares'] == 0)].round(2)"
   ]
  },
  {
   "cell_type": "code",
   "execution_count": null,
   "metadata": {},
   "outputs": [],
   "source": [
    "optimal_weights[(optimal_weights['totalShares'] > 0) | (optimal_weights['deltaShares'] != 0)][['deltaMarketValue', 'totalMarketValue']].sum().round(2)"
   ]
  }
 ],
 "metadata": {
  "kernelspec": {
   "display_name": "Python 3",
   "language": "python",
   "name": "python3"
  },
  "language_info": {
   "codemirror_mode": {
    "name": "ipython",
    "version": 3
   },
   "file_extension": ".py",
   "mimetype": "text/x-python",
   "name": "python",
   "nbconvert_exporter": "python",
   "pygments_lexer": "ipython3",
   "version": "3.8.10"
  }
 },
 "nbformat": 4,
 "nbformat_minor": 4
}
