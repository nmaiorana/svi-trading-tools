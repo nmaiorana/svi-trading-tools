{
 "cells": [
  {
   "cell_type": "markdown",
   "id": "3398e862-d76e-4fee-b5e8-5928fd8bca3e",
   "metadata": {},
   "source": [
    "# Evaluation\n",
    "\n",
    "Functions to test viability of items such as factors.\n",
    "\n",
    "- Sharpe Values\n",
    "- Monotonicity  from platform import python_version"
   ]
  },
  {
   "cell_type": "code",
   "execution_count": 3,
   "id": "ed1a9520-cb48-4f90-9563-b9c5423e1794",
   "metadata": {},
   "outputs": [
    {
     "name": "stdout",
     "output_type": "stream",
     "text": [
      "Python version: 3.8.10\n",
      "Pandas version: 0.25.3\n"
     ]
    }
   ],
   "source": [
    "from platform import python_version\n",
    "import time\n",
    "from datetime import datetime\n",
    "import os\n",
    "import pandas as pd\n",
    "import numpy as np\n",
    "import math\n",
    "from tqdm.notebook import tqdm\n",
    "import matplotlib.pyplot as plt\n",
    "\n",
    "%matplotlib inline\n",
    "plt.style.use('ggplot')\n",
    "plt.rcParams['figure.figsize'] = (20, 8)\n",
    "\n",
    "# Set the import path for the tools directiory\n",
    "import sys\n",
    "# insert at position 1 in the path, as 0 is the path of this file.\n",
    "sys.path.insert(1, 'tools')\n",
    "import importlib\n",
    "import ameritrade_functions as amc\n",
    "importlib.reload(amc)\n",
    "import utils\n",
    "importlib.reload(utils)\n",
    "\n",
    "print(f'Python version: {python_version()}')\n",
    "print(f'Pandas version: {pd.__version__}')"
   ]
  },
  {
   "cell_type": "code",
   "execution_count": 4,
   "id": "3e6e253f-ab3c-4427-b291-8af947be8947",
   "metadata": {},
   "outputs": [],
   "source": [
    "username = os.getenv('maiotradeuser')\n",
    "password = os.getenv('maiotradepw')\n",
    "client_id = os.getenv('maiotradeclientid')\n",
    "\n",
    "# For Chromedriver\n",
    "from pathlib import Path\n",
    "chrome_executabel_path = str(Path.home()) + r'\\Anaconda Projects\\chromedriver\\chromedriver'\n",
    "\n",
    "# Make sure we have a data directory\n",
    "Path('./data').mkdir(parents=True, exist_ok=True) \n",
    "\n",
    "# Which account are we interested in\n",
    "masked_account_number = '#---9216'\n",
    "account_portfolios_file_name = 'data/portfolio_data.csv'\n",
    "portfolio_file_name = 'data/portfolio_' + masked_account_number[-4:] + '.csv'\n",
    "price_histories_file_name = 'data/price_histories.csv'"
   ]
  },
  {
   "cell_type": "markdown",
   "id": "e1d29d0f-6820-4d13-88d3-2b1f89b1b9b1",
   "metadata": {},
   "source": [
    "## Stock Universe Price Histories\n",
    "\n",
    "Here we setup the universe from the S&P 500."
   ]
  },
  {
   "cell_type": "code",
   "execution_count": 5,
   "id": "1fec7110-995f-42ba-9724-940f67103169",
   "metadata": {
    "tags": []
   },
   "outputs": [],
   "source": [
    "number_of_years = 5\n",
    "\n",
    "snp_500_df = utils.get_snp500()\n",
    "stock_universe = set(snp_500_df.index.to_list())\n",
    "print(f'Number of stocks: {len(stock_universe)}')\n",
    "price_histories = amc.AmeritradeRest(username, password, client_id).get_price_histories(stock_universe, datetime.today().strftime('%Y-%m-%d'), num_periods=number_of_years)\n",
    "utils.save_price_histories(price_histories, price_histories_file_name)"
   ]
  },
  {
   "cell_type": "code",
   "execution_count": 31,
   "id": "fc84d7f0-defe-4c63-8109-cf81ca5fbdf1",
   "metadata": {
    "tags": []
   },
   "outputs": [
    {
     "name": "stdout",
     "output_type": "stream",
     "text": [
      "Date range for price histories: 2016-09-06 to 2021-09-03\n",
      "You have 505 stocks\n",
      "['A', 'AAL', 'AAP', 'AAPL', 'ABBV', 'ABC', 'ABMD', 'ABT', 'ACN', 'ADBE', 'ADI', 'ADM', 'ADP', 'ADSK', 'AEE', 'AEP', 'AES', 'AFL', 'AIG', 'AIZ', 'AJG', 'AKAM', 'ALB', 'ALGN', 'ALK', 'ALL', 'ALLE', 'AMAT', 'AMCR', 'AMD', 'AME', 'AMGN', 'AMP', 'AMT', 'AMZN', 'ANET', 'ANSS', 'ANTM', 'AON', 'AOS', 'APA', 'APD', 'APH', 'APTV', 'ARE', 'ATO', 'ATVI', 'AVB', 'AVGO', 'AVY', 'AWK', 'AXP', 'AZO', 'BA', 'BAC', 'BAX', 'BBWI', 'BBY', 'BDX', 'BEN', 'BF.B', 'BIIB', 'BIO', 'BK', 'BKNG', 'BKR', 'BLK', 'BLL', 'BMY', 'BR', 'BRK.B', 'BSX', 'BWA', 'BXP', 'C', 'CAG', 'CAH', 'CARR', 'CAT', 'CB', 'CBOE', 'CBRE', 'CCI', 'CCL', 'CDNS', 'CDW', 'CE', 'CERN', 'CF', 'CFG', 'CHD', 'CHRW', 'CHTR', 'CI', 'CINF', 'CL', 'CLX', 'CMA', 'CMCSA', 'CME', 'CMG', 'CMI', 'CMS', 'CNC', 'CNP', 'COF', 'COG', 'COO', 'COP', 'COST', 'CPB', 'CPRT', 'CRL', 'CRM', 'CSCO', 'CSX', 'CTAS', 'CTLT', 'CTSH', 'CTVA', 'CTXS', 'CVS', 'CVX', 'CZR', 'D', 'DAL', 'DD', 'DE', 'DFS', 'DG', 'DGX', 'DHI', 'DHR', 'DIS', 'DISCA', 'DISCK', 'DISH', 'DLR', 'DLTR', 'DOV', 'DOW', 'DPZ', 'DRE', 'DRI', 'DTE', 'DUK', 'DVA', 'DVN', 'DXC', 'DXCM', 'EA', 'EBAY', 'ECL', 'ED', 'EFX', 'EIX', 'EL', 'EMN', 'EMR', 'ENPH', 'EOG', 'EQIX', 'EQR', 'ES', 'ESS', 'ETN', 'ETR', 'ETSY', 'EVRG', 'EW', 'EXC', 'EXPD', 'EXPE', 'EXR', 'F', 'FANG', 'FAST', 'FB', 'FBHS', 'FCX', 'FDX', 'FE', 'FFIV', 'FIS', 'FISV', 'FITB', 'FLT', 'FMC', 'FOX', 'FOXA', 'FRC', 'FRT', 'FTNT', 'FTV', 'GD', 'GE', 'GILD', 'GIS', 'GL', 'GLW', 'GM', 'GNRC', 'GOOG', 'GOOGL', 'GPC', 'GPN', 'GPS', 'GRMN', 'GS', 'GWW', 'HAL', 'HAS', 'HBAN', 'HBI', 'HCA', 'HD', 'HES', 'HIG', 'HII', 'HLT', 'HOLX', 'HON', 'HPE', 'HPQ', 'HRL', 'HSIC', 'HST', 'HSY', 'HUM', 'HWM', 'IBM', 'ICE', 'IDXX', 'IEX', 'IFF', 'ILMN', 'INCY', 'INFO', 'INTC', 'INTU', 'IP', 'IPG', 'IPGP', 'IQV', 'IR', 'IRM', 'ISRG', 'IT', 'ITW', 'IVZ', 'J', 'JBHT', 'JCI', 'JKHY', 'JNJ', 'JNPR', 'JPM', 'K', 'KEY', 'KEYS', 'KHC', 'KIM', 'KLAC', 'KMB', 'KMI', 'KMX', 'KO', 'KR', 'KSU', 'L', 'LDOS', 'LEG', 'LEN', 'LH', 'LHX', 'LIN', 'LKQ', 'LLY', 'LMT', 'LNC', 'LNT', 'LOW', 'LRCX', 'LUMN', 'LUV', 'LVS', 'LW', 'LYB', 'LYV', 'MA', 'MAA', 'MAR', 'MAS', 'MCD', 'MCHP', 'MCK', 'MCO', 'MDLZ', 'MDT', 'MET', 'MGM', 'MHK', 'MKC', 'MKTX', 'MLM', 'MMC', 'MMM', 'MNST', 'MO', 'MOS', 'MPC', 'MPWR', 'MRK', 'MRNA', 'MRO', 'MS', 'MSCI', 'MSFT', 'MSI', 'MTB', 'MTD', 'MU', 'NCLH', 'NDAQ', 'NEE', 'NEM', 'NFLX', 'NI', 'NKE', 'NLOK', 'NLSN', 'NOC', 'NOV', 'NOW', 'NRG', 'NSC', 'NTAP', 'NTRS', 'NUE', 'NVDA', 'NVR', 'NWL', 'NWS', 'NWSA', 'NXPI', 'O', 'ODFL', 'OGN', 'OKE', 'OMC', 'ORCL', 'ORLY', 'OTIS', 'OXY', 'PAYC', 'PAYX', 'PBCT', 'PCAR', 'PEAK', 'PEG', 'PENN', 'PEP', 'PFE', 'PFG', 'PG', 'PGR', 'PH', 'PHM', 'PKG', 'PKI', 'PLD', 'PM', 'PNC', 'PNR', 'PNW', 'POOL', 'PPG', 'PPL', 'PRGO', 'PRU', 'PSA', 'PSX', 'PTC', 'PVH', 'PWR', 'PXD', 'PYPL', 'QCOM', 'QRVO', 'RCL', 'RE', 'REG', 'REGN', 'RF', 'RHI', 'RJF', 'RL', 'RMD', 'ROK', 'ROL', 'ROP', 'ROST', 'RSG', 'RTX', 'SBAC', 'SBUX', 'SCHW', 'SEE', 'SHW', 'SIVB', 'SJM', 'SLB', 'SNA', 'SNPS', 'SO', 'SPG', 'SPGI', 'SRE', 'STE', 'STT', 'STX', 'STZ', 'SWK', 'SWKS', 'SYF', 'SYK', 'SYY', 'T', 'TAP', 'TDG', 'TDY', 'TECH', 'TEL', 'TER', 'TFC', 'TFX', 'TGT', 'TJX', 'TMO', 'TMUS', 'TPR', 'TRMB', 'TROW', 'TRV', 'TSCO', 'TSLA', 'TSN', 'TT', 'TTWO', 'TWTR', 'TXN', 'TXT', 'TYL', 'UA', 'UAA', 'UAL', 'UDR', 'UHS', 'ULTA', 'UNH', 'UNM', 'UNP', 'UPS', 'URI', 'USB', 'V', 'VFC', 'VIAC', 'VLO', 'VMC', 'VNO', 'VRSK', 'VRSN', 'VRTX', 'VTR', 'VTRS', 'VZ', 'WAB', 'WAT', 'WBA', 'WDC', 'WEC', 'WELL', 'WFC', 'WHR', 'WLTW', 'WM', 'WMB', 'WMT', 'WRB', 'WRK', 'WST', 'WU', 'WY', 'WYNN', 'XEL', 'XLNX', 'XOM', 'XRAY', 'XYL', 'YUM', 'ZBH', 'ZBRA', 'ZION', 'ZTS']\n"
     ]
    },
    {
     "data": {
      "text/html": [
       "<div>\n",
       "<style scoped>\n",
       "    .dataframe tbody tr th:only-of-type {\n",
       "        vertical-align: middle;\n",
       "    }\n",
       "\n",
       "    .dataframe tbody tr th {\n",
       "        vertical-align: top;\n",
       "    }\n",
       "\n",
       "    .dataframe thead th {\n",
       "        text-align: right;\n",
       "    }\n",
       "</style>\n",
       "<table border=\"1\" class=\"dataframe\">\n",
       "  <thead>\n",
       "    <tr style=\"text-align: right;\">\n",
       "      <th>ticker</th>\n",
       "      <th>A</th>\n",
       "      <th>AAL</th>\n",
       "      <th>AAP</th>\n",
       "      <th>AAPL</th>\n",
       "      <th>ABBV</th>\n",
       "      <th>ABC</th>\n",
       "      <th>ABMD</th>\n",
       "      <th>ABT</th>\n",
       "      <th>ACN</th>\n",
       "      <th>ADBE</th>\n",
       "      <th>...</th>\n",
       "      <th>XEL</th>\n",
       "      <th>XLNX</th>\n",
       "      <th>XOM</th>\n",
       "      <th>XRAY</th>\n",
       "      <th>XYL</th>\n",
       "      <th>YUM</th>\n",
       "      <th>ZBH</th>\n",
       "      <th>ZBRA</th>\n",
       "      <th>ZION</th>\n",
       "      <th>ZTS</th>\n",
       "    </tr>\n",
       "    <tr>\n",
       "      <th>date</th>\n",
       "      <th></th>\n",
       "      <th></th>\n",
       "      <th></th>\n",
       "      <th></th>\n",
       "      <th></th>\n",
       "      <th></th>\n",
       "      <th></th>\n",
       "      <th></th>\n",
       "      <th></th>\n",
       "      <th></th>\n",
       "      <th></th>\n",
       "      <th></th>\n",
       "      <th></th>\n",
       "      <th></th>\n",
       "      <th></th>\n",
       "      <th></th>\n",
       "      <th></th>\n",
       "      <th></th>\n",
       "      <th></th>\n",
       "      <th></th>\n",
       "      <th></th>\n",
       "    </tr>\n",
       "  </thead>\n",
       "  <tbody>\n",
       "    <tr>\n",
       "      <th>2021-08-30 00:00:00+00:00</th>\n",
       "      <td>176.73</td>\n",
       "      <td>19.51</td>\n",
       "      <td>201.14</td>\n",
       "      <td>153.12</td>\n",
       "      <td>120.57</td>\n",
       "      <td>119.52</td>\n",
       "      <td>360.96</td>\n",
       "      <td>125.94</td>\n",
       "      <td>337.00</td>\n",
       "      <td>665.99</td>\n",
       "      <td>...</td>\n",
       "      <td>69.03</td>\n",
       "      <td>155.07</td>\n",
       "      <td>55.16</td>\n",
       "      <td>61.28</td>\n",
       "      <td>136.48</td>\n",
       "      <td>130.69</td>\n",
       "      <td>149.78</td>\n",
       "      <td>584.78</td>\n",
       "      <td>57.20</td>\n",
       "      <td>205.89</td>\n",
       "    </tr>\n",
       "    <tr>\n",
       "      <th>2021-08-31 00:00:00+00:00</th>\n",
       "      <td>175.47</td>\n",
       "      <td>19.94</td>\n",
       "      <td>202.85</td>\n",
       "      <td>151.83</td>\n",
       "      <td>120.78</td>\n",
       "      <td>122.21</td>\n",
       "      <td>363.96</td>\n",
       "      <td>126.37</td>\n",
       "      <td>336.56</td>\n",
       "      <td>663.70</td>\n",
       "      <td>...</td>\n",
       "      <td>68.75</td>\n",
       "      <td>155.59</td>\n",
       "      <td>54.52</td>\n",
       "      <td>61.70</td>\n",
       "      <td>136.31</td>\n",
       "      <td>131.03</td>\n",
       "      <td>150.45</td>\n",
       "      <td>587.17</td>\n",
       "      <td>57.90</td>\n",
       "      <td>204.56</td>\n",
       "    </tr>\n",
       "    <tr>\n",
       "      <th>2021-09-01 00:00:00+00:00</th>\n",
       "      <td>175.45</td>\n",
       "      <td>19.64</td>\n",
       "      <td>201.88</td>\n",
       "      <td>152.51</td>\n",
       "      <td>112.27</td>\n",
       "      <td>122.68</td>\n",
       "      <td>363.27</td>\n",
       "      <td>127.40</td>\n",
       "      <td>337.90</td>\n",
       "      <td>665.89</td>\n",
       "      <td>...</td>\n",
       "      <td>69.75</td>\n",
       "      <td>154.47</td>\n",
       "      <td>53.77</td>\n",
       "      <td>61.43</td>\n",
       "      <td>136.55</td>\n",
       "      <td>131.55</td>\n",
       "      <td>150.87</td>\n",
       "      <td>582.78</td>\n",
       "      <td>57.17</td>\n",
       "      <td>206.44</td>\n",
       "    </tr>\n",
       "    <tr>\n",
       "      <th>2021-09-02 00:00:00+00:00</th>\n",
       "      <td>178.02</td>\n",
       "      <td>19.76</td>\n",
       "      <td>200.81</td>\n",
       "      <td>153.65</td>\n",
       "      <td>112.02</td>\n",
       "      <td>124.98</td>\n",
       "      <td>369.83</td>\n",
       "      <td>128.49</td>\n",
       "      <td>341.00</td>\n",
       "      <td>664.64</td>\n",
       "      <td>...</td>\n",
       "      <td>70.32</td>\n",
       "      <td>154.14</td>\n",
       "      <td>55.08</td>\n",
       "      <td>62.33</td>\n",
       "      <td>138.03</td>\n",
       "      <td>131.27</td>\n",
       "      <td>149.09</td>\n",
       "      <td>588.25</td>\n",
       "      <td>57.15</td>\n",
       "      <td>209.22</td>\n",
       "    </tr>\n",
       "    <tr>\n",
       "      <th>2021-09-03 00:00:00+00:00</th>\n",
       "      <td>179.28</td>\n",
       "      <td>19.37</td>\n",
       "      <td>199.44</td>\n",
       "      <td>154.30</td>\n",
       "      <td>111.62</td>\n",
       "      <td>125.14</td>\n",
       "      <td>372.69</td>\n",
       "      <td>128.94</td>\n",
       "      <td>343.33</td>\n",
       "      <td>666.59</td>\n",
       "      <td>...</td>\n",
       "      <td>69.80</td>\n",
       "      <td>155.96</td>\n",
       "      <td>54.87</td>\n",
       "      <td>62.43</td>\n",
       "      <td>137.25</td>\n",
       "      <td>130.92</td>\n",
       "      <td>146.74</td>\n",
       "      <td>590.60</td>\n",
       "      <td>57.12</td>\n",
       "      <td>209.69</td>\n",
       "    </tr>\n",
       "  </tbody>\n",
       "</table>\n",
       "<p>5 rows × 505 columns</p>\n",
       "</div>"
      ],
      "text/plain": [
       "ticker                          A    AAL     AAP    AAPL    ABBV     ABC  \\\n",
       "date                                                                       \n",
       "2021-08-30 00:00:00+00:00  176.73  19.51  201.14  153.12  120.57  119.52   \n",
       "2021-08-31 00:00:00+00:00  175.47  19.94  202.85  151.83  120.78  122.21   \n",
       "2021-09-01 00:00:00+00:00  175.45  19.64  201.88  152.51  112.27  122.68   \n",
       "2021-09-02 00:00:00+00:00  178.02  19.76  200.81  153.65  112.02  124.98   \n",
       "2021-09-03 00:00:00+00:00  179.28  19.37  199.44  154.30  111.62  125.14   \n",
       "\n",
       "ticker                       ABMD     ABT     ACN    ADBE  ...    XEL    XLNX  \\\n",
       "date                                                       ...                  \n",
       "2021-08-30 00:00:00+00:00  360.96  125.94  337.00  665.99  ...  69.03  155.07   \n",
       "2021-08-31 00:00:00+00:00  363.96  126.37  336.56  663.70  ...  68.75  155.59   \n",
       "2021-09-01 00:00:00+00:00  363.27  127.40  337.90  665.89  ...  69.75  154.47   \n",
       "2021-09-02 00:00:00+00:00  369.83  128.49  341.00  664.64  ...  70.32  154.14   \n",
       "2021-09-03 00:00:00+00:00  372.69  128.94  343.33  666.59  ...  69.80  155.96   \n",
       "\n",
       "ticker                       XOM   XRAY     XYL     YUM     ZBH    ZBRA  \\\n",
       "date                                                                      \n",
       "2021-08-30 00:00:00+00:00  55.16  61.28  136.48  130.69  149.78  584.78   \n",
       "2021-08-31 00:00:00+00:00  54.52  61.70  136.31  131.03  150.45  587.17   \n",
       "2021-09-01 00:00:00+00:00  53.77  61.43  136.55  131.55  150.87  582.78   \n",
       "2021-09-02 00:00:00+00:00  55.08  62.33  138.03  131.27  149.09  588.25   \n",
       "2021-09-03 00:00:00+00:00  54.87  62.43  137.25  130.92  146.74  590.60   \n",
       "\n",
       "ticker                      ZION     ZTS  \n",
       "date                                      \n",
       "2021-08-30 00:00:00+00:00  57.20  205.89  \n",
       "2021-08-31 00:00:00+00:00  57.90  204.56  \n",
       "2021-09-01 00:00:00+00:00  57.17  206.44  \n",
       "2021-09-02 00:00:00+00:00  57.15  209.22  \n",
       "2021-09-03 00:00:00+00:00  57.12  209.69  \n",
       "\n",
       "[5 rows x 505 columns]"
      ]
     },
     "execution_count": 31,
     "metadata": {},
     "output_type": "execute_result"
    }
   ],
   "source": [
    "price_histories = utils.read_price_histories(price_histories_file_name)\n",
    "print(f'Date range for price histories: {price_histories.date.min().date()} to {price_histories.date.max().date()}')\n",
    "pricing = utils.get_close_values(price_histories)\n",
    "print(f'You have {len(pricing.columns)} stocks')\n",
    "print(pricing.columns.to_list())\n",
    "pricing.tail()"
   ]
  },
  {
   "cell_type": "code",
   "execution_count": 18,
   "id": "80dd4206-9162-4b9c-a2b7-f9d637e85f0b",
   "metadata": {
    "collapsed": true,
    "jupyter": {
     "outputs_hidden": true
    },
    "tags": []
   },
   "outputs": [
    {
     "ename": "NotImplementedError",
     "evalue": "data_source='google' is not implemented",
     "output_type": "error",
     "traceback": [
      "\u001b[1;31m---------------------------------------------------------------------------\u001b[0m",
      "\u001b[1;31mNotImplementedError\u001b[0m                       Traceback (most recent call last)",
      "\u001b[1;32m<ipython-input-18-c8c0806bfa28>\u001b[0m in \u001b[0;36m<module>\u001b[1;34m\u001b[0m\n\u001b[0;32m      1\u001b[0m \u001b[1;32mfrom\u001b[0m \u001b[0mdateutil\u001b[0m\u001b[1;33m.\u001b[0m\u001b[0mrelativedelta\u001b[0m \u001b[1;32mimport\u001b[0m \u001b[0mrelativedelta\u001b[0m\u001b[1;33m\u001b[0m\u001b[1;33m\u001b[0m\u001b[0m\n\u001b[0;32m      2\u001b[0m \u001b[1;32mimport\u001b[0m \u001b[0mpandas_datareader\u001b[0m\u001b[1;33m.\u001b[0m\u001b[0mdata\u001b[0m \u001b[1;32mas\u001b[0m \u001b[0mweb\u001b[0m\u001b[1;33m\u001b[0m\u001b[1;33m\u001b[0m\u001b[0m\n\u001b[1;32m----> 3\u001b[1;33m \u001b[0mweb\u001b[0m\u001b[1;33m.\u001b[0m\u001b[0mDataReader\u001b[0m\u001b[1;33m(\u001b[0m\u001b[1;34m'GOOG'\u001b[0m\u001b[1;33m,\u001b[0m \u001b[1;34m'google'\u001b[0m\u001b[1;33m,\u001b[0m \u001b[0mdatetime\u001b[0m\u001b[1;33m.\u001b[0m\u001b[0mtoday\u001b[0m\u001b[1;33m(\u001b[0m\u001b[1;33m)\u001b[0m\u001b[1;33m-\u001b[0m\u001b[0mrelativedelta\u001b[0m\u001b[1;33m(\u001b[0m\u001b[0myears\u001b[0m\u001b[1;33m=\u001b[0m\u001b[1;36m5\u001b[0m\u001b[1;33m)\u001b[0m\u001b[1;33m,\u001b[0m \u001b[0mdatetime\u001b[0m\u001b[1;33m.\u001b[0m\u001b[0mtoday\u001b[0m\u001b[1;33m(\u001b[0m\u001b[1;33m)\u001b[0m\u001b[1;33m)\u001b[0m\u001b[1;33m\u001b[0m\u001b[1;33m\u001b[0m\u001b[0m\n\u001b[0m",
      "\u001b[1;32m~\\anaconda3\\envs\\ai_for_trading\\lib\\site-packages\\pandas\\util\\_decorators.py\u001b[0m in \u001b[0;36mwrapper\u001b[1;34m(*args, **kwargs)\u001b[0m\n\u001b[0;32m    206\u001b[0m                 \u001b[1;32melse\u001b[0m\u001b[1;33m:\u001b[0m\u001b[1;33m\u001b[0m\u001b[1;33m\u001b[0m\u001b[0m\n\u001b[0;32m    207\u001b[0m                     \u001b[0mkwargs\u001b[0m\u001b[1;33m[\u001b[0m\u001b[0mnew_arg_name\u001b[0m\u001b[1;33m]\u001b[0m \u001b[1;33m=\u001b[0m \u001b[0mnew_arg_value\u001b[0m\u001b[1;33m\u001b[0m\u001b[1;33m\u001b[0m\u001b[0m\n\u001b[1;32m--> 208\u001b[1;33m             \u001b[1;32mreturn\u001b[0m \u001b[0mfunc\u001b[0m\u001b[1;33m(\u001b[0m\u001b[1;33m*\u001b[0m\u001b[0margs\u001b[0m\u001b[1;33m,\u001b[0m \u001b[1;33m**\u001b[0m\u001b[0mkwargs\u001b[0m\u001b[1;33m)\u001b[0m\u001b[1;33m\u001b[0m\u001b[1;33m\u001b[0m\u001b[0m\n\u001b[0m\u001b[0;32m    209\u001b[0m \u001b[1;33m\u001b[0m\u001b[0m\n\u001b[0;32m    210\u001b[0m         \u001b[1;32mreturn\u001b[0m \u001b[0mwrapper\u001b[0m\u001b[1;33m\u001b[0m\u001b[1;33m\u001b[0m\u001b[0m\n",
      "\u001b[1;32m~\\anaconda3\\envs\\ai_for_trading\\lib\\site-packages\\pandas_datareader\\data.py\u001b[0m in \u001b[0;36mDataReader\u001b[1;34m(name, data_source, start, end, retry_count, pause, session, api_key)\u001b[0m\n\u001b[0;32m    374\u001b[0m     \u001b[1;32mif\u001b[0m \u001b[0mdata_source\u001b[0m \u001b[1;32mnot\u001b[0m \u001b[1;32min\u001b[0m \u001b[0mexpected_source\u001b[0m\u001b[1;33m:\u001b[0m\u001b[1;33m\u001b[0m\u001b[1;33m\u001b[0m\u001b[0m\n\u001b[0;32m    375\u001b[0m         \u001b[0mmsg\u001b[0m \u001b[1;33m=\u001b[0m \u001b[1;34m\"data_source=%r is not implemented\"\u001b[0m \u001b[1;33m%\u001b[0m \u001b[0mdata_source\u001b[0m\u001b[1;33m\u001b[0m\u001b[1;33m\u001b[0m\u001b[0m\n\u001b[1;32m--> 376\u001b[1;33m         \u001b[1;32mraise\u001b[0m \u001b[0mNotImplementedError\u001b[0m\u001b[1;33m(\u001b[0m\u001b[0mmsg\u001b[0m\u001b[1;33m)\u001b[0m\u001b[1;33m\u001b[0m\u001b[1;33m\u001b[0m\u001b[0m\n\u001b[0m\u001b[0;32m    377\u001b[0m \u001b[1;33m\u001b[0m\u001b[0m\n\u001b[0;32m    378\u001b[0m     \u001b[1;32mif\u001b[0m \u001b[0mdata_source\u001b[0m \u001b[1;33m==\u001b[0m \u001b[1;34m\"yahoo\"\u001b[0m\u001b[1;33m:\u001b[0m\u001b[1;33m\u001b[0m\u001b[1;33m\u001b[0m\u001b[0m\n",
      "\u001b[1;31mNotImplementedError\u001b[0m: data_source='google' is not implemented"
     ]
    }
   ],
   "source": [
    "from dateutil.relativedelta import relativedelta\n",
    "import pandas_datareader.data as web\n",
    "web.DataReader('GOOG', 'google', datetime.today()-relativedelta(years=5), datetime.today())"
   ]
  },
  {
   "cell_type": "code",
   "execution_count": 11,
   "id": "6f6d3cb6-6a95-4806-b235-001ee700bce6",
   "metadata": {
    "collapsed": true,
    "jupyter": {
     "outputs_hidden": true
    },
    "tags": []
   },
   "outputs": [
    {
     "name": "stdout",
     "output_type": "stream",
     "text": [
      "['GOOG', 'AAPL']\n"
     ]
    },
    {
     "name": "stderr",
     "output_type": "stream",
     "text": [
      "C:\\Users\\HP-Z440\\anaconda3\\envs\\ai_for_trading\\lib\\site-packages\\pandas_datareader\\base.py:270: SymbolWarning: Failed to read symbol: 'GOOG', replacing with NaN.\n",
      "  warnings.warn(msg.format(sym), SymbolWarning)\n",
      "C:\\Users\\HP-Z440\\anaconda3\\envs\\ai_for_trading\\lib\\site-packages\\pandas_datareader\\base.py:270: SymbolWarning: Failed to read symbol: 'AAPL', replacing with NaN.\n",
      "  warnings.warn(msg.format(sym), SymbolWarning)\n"
     ]
    },
    {
     "ename": "RemoteDataError",
     "evalue": "No data fetched using 'YahooDailyReader'",
     "output_type": "error",
     "traceback": [
      "\u001b[1;31m---------------------------------------------------------------------------\u001b[0m",
      "\u001b[1;31mRemoteDataError\u001b[0m                           Traceback (most recent call last)",
      "\u001b[1;32m<ipython-input-11-2f725daf7bb1>\u001b[0m in \u001b[0;36m<module>\u001b[1;34m\u001b[0m\n\u001b[0;32m      2\u001b[0m \u001b[0mtest_tickers\u001b[0m \u001b[1;33m=\u001b[0m \u001b[1;33m[\u001b[0m\u001b[1;34m'GOOG'\u001b[0m\u001b[1;33m,\u001b[0m \u001b[1;34m'AAPL'\u001b[0m\u001b[1;33m]\u001b[0m\u001b[1;33m\u001b[0m\u001b[1;33m\u001b[0m\u001b[0m\n\u001b[0;32m      3\u001b[0m \u001b[0mprint\u001b[0m\u001b[1;33m(\u001b[0m\u001b[0mtest_tickers\u001b[0m\u001b[1;33m)\u001b[0m\u001b[1;33m\u001b[0m\u001b[1;33m\u001b[0m\u001b[0m\n\u001b[1;32m----> 4\u001b[1;33m \u001b[0mpan\u001b[0m \u001b[1;33m=\u001b[0m \u001b[0mweb\u001b[0m\u001b[1;33m.\u001b[0m\u001b[0mDataReader\u001b[0m\u001b[1;33m(\u001b[0m\u001b[0mtest_tickers\u001b[0m\u001b[1;33m,\u001b[0m \u001b[1;34m\"yahoo\"\u001b[0m\u001b[1;33m)\u001b[0m\u001b[1;33m\u001b[0m\u001b[1;33m\u001b[0m\u001b[0m\n\u001b[0m",
      "\u001b[1;32m~\\anaconda3\\envs\\ai_for_trading\\lib\\site-packages\\pandas\\util\\_decorators.py\u001b[0m in \u001b[0;36mwrapper\u001b[1;34m(*args, **kwargs)\u001b[0m\n\u001b[0;32m    206\u001b[0m                 \u001b[1;32melse\u001b[0m\u001b[1;33m:\u001b[0m\u001b[1;33m\u001b[0m\u001b[1;33m\u001b[0m\u001b[0m\n\u001b[0;32m    207\u001b[0m                     \u001b[0mkwargs\u001b[0m\u001b[1;33m[\u001b[0m\u001b[0mnew_arg_name\u001b[0m\u001b[1;33m]\u001b[0m \u001b[1;33m=\u001b[0m \u001b[0mnew_arg_value\u001b[0m\u001b[1;33m\u001b[0m\u001b[1;33m\u001b[0m\u001b[0m\n\u001b[1;32m--> 208\u001b[1;33m             \u001b[1;32mreturn\u001b[0m \u001b[0mfunc\u001b[0m\u001b[1;33m(\u001b[0m\u001b[1;33m*\u001b[0m\u001b[0margs\u001b[0m\u001b[1;33m,\u001b[0m \u001b[1;33m**\u001b[0m\u001b[0mkwargs\u001b[0m\u001b[1;33m)\u001b[0m\u001b[1;33m\u001b[0m\u001b[1;33m\u001b[0m\u001b[0m\n\u001b[0m\u001b[0;32m    209\u001b[0m \u001b[1;33m\u001b[0m\u001b[0m\n\u001b[0;32m    210\u001b[0m         \u001b[1;32mreturn\u001b[0m \u001b[0mwrapper\u001b[0m\u001b[1;33m\u001b[0m\u001b[1;33m\u001b[0m\u001b[0m\n",
      "\u001b[1;32m~\\anaconda3\\envs\\ai_for_trading\\lib\\site-packages\\pandas_datareader\\data.py\u001b[0m in \u001b[0;36mDataReader\u001b[1;34m(name, data_source, start, end, retry_count, pause, session, api_key)\u001b[0m\n\u001b[0;32m    377\u001b[0m \u001b[1;33m\u001b[0m\u001b[0m\n\u001b[0;32m    378\u001b[0m     \u001b[1;32mif\u001b[0m \u001b[0mdata_source\u001b[0m \u001b[1;33m==\u001b[0m \u001b[1;34m\"yahoo\"\u001b[0m\u001b[1;33m:\u001b[0m\u001b[1;33m\u001b[0m\u001b[1;33m\u001b[0m\u001b[0m\n\u001b[1;32m--> 379\u001b[1;33m         return YahooDailyReader(\n\u001b[0m\u001b[0;32m    380\u001b[0m             \u001b[0msymbols\u001b[0m\u001b[1;33m=\u001b[0m\u001b[0mname\u001b[0m\u001b[1;33m,\u001b[0m\u001b[1;33m\u001b[0m\u001b[1;33m\u001b[0m\u001b[0m\n\u001b[0;32m    381\u001b[0m             \u001b[0mstart\u001b[0m\u001b[1;33m=\u001b[0m\u001b[0mstart\u001b[0m\u001b[1;33m,\u001b[0m\u001b[1;33m\u001b[0m\u001b[1;33m\u001b[0m\u001b[0m\n",
      "\u001b[1;32m~\\anaconda3\\envs\\ai_for_trading\\lib\\site-packages\\pandas_datareader\\base.py\u001b[0m in \u001b[0;36mread\u001b[1;34m(self)\u001b[0m\n\u001b[0;32m    254\u001b[0m             \u001b[0mdf\u001b[0m \u001b[1;33m=\u001b[0m \u001b[0mself\u001b[0m\u001b[1;33m.\u001b[0m\u001b[0m_dl_mult_symbols\u001b[0m\u001b[1;33m(\u001b[0m\u001b[0mself\u001b[0m\u001b[1;33m.\u001b[0m\u001b[0msymbols\u001b[0m\u001b[1;33m.\u001b[0m\u001b[0mindex\u001b[0m\u001b[1;33m)\u001b[0m\u001b[1;33m\u001b[0m\u001b[1;33m\u001b[0m\u001b[0m\n\u001b[0;32m    255\u001b[0m         \u001b[1;32melse\u001b[0m\u001b[1;33m:\u001b[0m\u001b[1;33m\u001b[0m\u001b[1;33m\u001b[0m\u001b[0m\n\u001b[1;32m--> 256\u001b[1;33m             \u001b[0mdf\u001b[0m \u001b[1;33m=\u001b[0m \u001b[0mself\u001b[0m\u001b[1;33m.\u001b[0m\u001b[0m_dl_mult_symbols\u001b[0m\u001b[1;33m(\u001b[0m\u001b[0mself\u001b[0m\u001b[1;33m.\u001b[0m\u001b[0msymbols\u001b[0m\u001b[1;33m)\u001b[0m\u001b[1;33m\u001b[0m\u001b[1;33m\u001b[0m\u001b[0m\n\u001b[0m\u001b[0;32m    257\u001b[0m         \u001b[1;32mreturn\u001b[0m \u001b[0mdf\u001b[0m\u001b[1;33m\u001b[0m\u001b[1;33m\u001b[0m\u001b[0m\n\u001b[0;32m    258\u001b[0m \u001b[1;33m\u001b[0m\u001b[0m\n",
      "\u001b[1;32m~\\anaconda3\\envs\\ai_for_trading\\lib\\site-packages\\pandas_datareader\\base.py\u001b[0m in \u001b[0;36m_dl_mult_symbols\u001b[1;34m(self, symbols)\u001b[0m\n\u001b[0;32m    273\u001b[0m         \u001b[1;32mif\u001b[0m \u001b[0mlen\u001b[0m\u001b[1;33m(\u001b[0m\u001b[0mpassed\u001b[0m\u001b[1;33m)\u001b[0m \u001b[1;33m==\u001b[0m \u001b[1;36m0\u001b[0m\u001b[1;33m:\u001b[0m\u001b[1;33m\u001b[0m\u001b[1;33m\u001b[0m\u001b[0m\n\u001b[0;32m    274\u001b[0m             \u001b[0mmsg\u001b[0m \u001b[1;33m=\u001b[0m \u001b[1;34m\"No data fetched using {0!r}\"\u001b[0m\u001b[1;33m\u001b[0m\u001b[1;33m\u001b[0m\u001b[0m\n\u001b[1;32m--> 275\u001b[1;33m             \u001b[1;32mraise\u001b[0m \u001b[0mRemoteDataError\u001b[0m\u001b[1;33m(\u001b[0m\u001b[0mmsg\u001b[0m\u001b[1;33m.\u001b[0m\u001b[0mformat\u001b[0m\u001b[1;33m(\u001b[0m\u001b[0mself\u001b[0m\u001b[1;33m.\u001b[0m\u001b[0m__class__\u001b[0m\u001b[1;33m.\u001b[0m\u001b[0m__name__\u001b[0m\u001b[1;33m)\u001b[0m\u001b[1;33m)\u001b[0m\u001b[1;33m\u001b[0m\u001b[1;33m\u001b[0m\u001b[0m\n\u001b[0m\u001b[0;32m    276\u001b[0m         \u001b[1;32mtry\u001b[0m\u001b[1;33m:\u001b[0m\u001b[1;33m\u001b[0m\u001b[1;33m\u001b[0m\u001b[0m\n\u001b[0;32m    277\u001b[0m             \u001b[1;32mif\u001b[0m \u001b[0mlen\u001b[0m\u001b[1;33m(\u001b[0m\u001b[0mstocks\u001b[0m\u001b[1;33m)\u001b[0m \u001b[1;33m>\u001b[0m \u001b[1;36m0\u001b[0m \u001b[1;32mand\u001b[0m \u001b[0mlen\u001b[0m\u001b[1;33m(\u001b[0m\u001b[0mfailed\u001b[0m\u001b[1;33m)\u001b[0m \u001b[1;33m>\u001b[0m \u001b[1;36m0\u001b[0m \u001b[1;32mand\u001b[0m \u001b[0mlen\u001b[0m\u001b[1;33m(\u001b[0m\u001b[0mpassed\u001b[0m\u001b[1;33m)\u001b[0m \u001b[1;33m>\u001b[0m \u001b[1;36m0\u001b[0m\u001b[1;33m:\u001b[0m\u001b[1;33m\u001b[0m\u001b[1;33m\u001b[0m\u001b[0m\n",
      "\u001b[1;31mRemoteDataError\u001b[0m: No data fetched using 'YahooDailyReader'"
     ]
    }
   ],
   "source": [
    "test_tickers = ['GOOG', 'AAPL']\n",
    "print(test_tickers)\n",
    "pan = web.DataReader(test_tickers, \"yahoo\")"
   ]
  },
  {
   "cell_type": "markdown",
   "id": "5335a591-6440-4bc6-9f59-58a70ad7c0d4",
   "metadata": {},
   "source": [
    "## Create an alpha factor to evaluate"
   ]
  },
  {
   "cell_type": "code",
   "execution_count": 29,
   "id": "87cda87a-c7d7-434e-b0d6-4c4f76022906",
   "metadata": {},
   "outputs": [],
   "source": [
    "import trading_factors as alpha_factors\n",
    "importlib.reload(alpha_factors)\n",
    "\n",
    "alpha =  pd.DataFrame(alpha_factors.OvernightSentiment(price_histories, 5).demean().rank().zscore().smoothed(10).rank().zscore().for_al())"
   ]
  },
  {
   "cell_type": "code",
   "execution_count": 30,
   "id": "72684e8e-b919-4893-b17f-36fc31451a25",
   "metadata": {},
   "outputs": [
    {
     "data": {
      "text/html": [
       "<div>\n",
       "<style scoped>\n",
       "    .dataframe tbody tr th:only-of-type {\n",
       "        vertical-align: middle;\n",
       "    }\n",
       "\n",
       "    .dataframe tbody tr th {\n",
       "        vertical-align: top;\n",
       "    }\n",
       "\n",
       "    .dataframe thead th {\n",
       "        text-align: right;\n",
       "    }\n",
       "</style>\n",
       "<table border=\"1\" class=\"dataframe\">\n",
       "  <thead>\n",
       "    <tr style=\"text-align: right;\">\n",
       "      <th></th>\n",
       "      <th></th>\n",
       "      <th>overnight_sentiment_5_day_smoothed</th>\n",
       "    </tr>\n",
       "    <tr>\n",
       "      <th>date</th>\n",
       "      <th>ticker</th>\n",
       "      <th></th>\n",
       "    </tr>\n",
       "  </thead>\n",
       "  <tbody>\n",
       "    <tr>\n",
       "      <th rowspan=\"5\" valign=\"top\">2016-09-19 00:00:00+00:00</th>\n",
       "      <th>A</th>\n",
       "      <td>0.658524</td>\n",
       "    </tr>\n",
       "    <tr>\n",
       "      <th>AAL</th>\n",
       "      <td>-1.008364</td>\n",
       "    </tr>\n",
       "    <tr>\n",
       "      <th>AAP</th>\n",
       "      <td>-0.267525</td>\n",
       "    </tr>\n",
       "    <tr>\n",
       "      <th>AAPL</th>\n",
       "      <td>1.227872</td>\n",
       "    </tr>\n",
       "    <tr>\n",
       "      <th>ABBV</th>\n",
       "      <td>-1.289609</td>\n",
       "    </tr>\n",
       "    <tr>\n",
       "      <th>...</th>\n",
       "      <th>...</th>\n",
       "      <td>...</td>\n",
       "    </tr>\n",
       "    <tr>\n",
       "      <th rowspan=\"5\" valign=\"top\">2021-09-03 00:00:00+00:00</th>\n",
       "      <th>YUM</th>\n",
       "      <td>-1.221012</td>\n",
       "    </tr>\n",
       "    <tr>\n",
       "      <th>ZBH</th>\n",
       "      <td>-0.027438</td>\n",
       "    </tr>\n",
       "    <tr>\n",
       "      <th>ZBRA</th>\n",
       "      <td>1.296468</td>\n",
       "    </tr>\n",
       "    <tr>\n",
       "      <th>ZION</th>\n",
       "      <td>-0.260666</td>\n",
       "    </tr>\n",
       "    <tr>\n",
       "      <th>ZTS</th>\n",
       "      <td>-0.843733</td>\n",
       "    </tr>\n",
       "  </tbody>\n",
       "</table>\n",
       "<p>631250 rows × 1 columns</p>\n",
       "</div>"
      ],
      "text/plain": [
       "                                  overnight_sentiment_5_day_smoothed\n",
       "date                      ticker                                    \n",
       "2016-09-19 00:00:00+00:00 A                                 0.658524\n",
       "                          AAL                              -1.008364\n",
       "                          AAP                              -0.267525\n",
       "                          AAPL                              1.227872\n",
       "                          ABBV                             -1.289609\n",
       "...                                                              ...\n",
       "2021-09-03 00:00:00+00:00 YUM                              -1.221012\n",
       "                          ZBH                              -0.027438\n",
       "                          ZBRA                              1.296468\n",
       "                          ZION                             -0.260666\n",
       "                          ZTS                              -0.843733\n",
       "\n",
       "[631250 rows x 1 columns]"
      ]
     },
     "execution_count": 30,
     "metadata": {},
     "output_type": "execute_result"
    }
   ],
   "source": [
    "alpha"
   ]
  },
  {
   "cell_type": "code",
   "execution_count": 32,
   "id": "1d480797-9fd1-4e2c-ab51-84e8c9989955",
   "metadata": {},
   "outputs": [
    {
     "name": "stdout",
     "output_type": "stream",
     "text": [
      "Dropped 0.1% entries from factor data: 0.1% in forward returns computation and 0.0% in binning phase (set max_loss=0 to see potentially suppressed Exceptions).\n",
      "max_loss is 35.0%, not exceeded: OK!\n"
     ]
    },
    {
     "name": "stderr",
     "output_type": "stream",
     "text": [
      "C:\\Users\\HP-Z440\\anaconda3\\envs\\ai_for_trading\\lib\\site-packages\\pandas\\plotting\\_matplotlib\\tools.py:307: MatplotlibDeprecationWarning: \n",
      "The rowNum attribute was deprecated in Matplotlib 3.2 and will be removed two minor releases later. Use ax.get_subplotspec().rowspan.start instead.\n",
      "  layout[ax.rowNum, ax.colNum] = ax.get_visible()\n",
      "C:\\Users\\HP-Z440\\anaconda3\\envs\\ai_for_trading\\lib\\site-packages\\pandas\\plotting\\_matplotlib\\tools.py:307: MatplotlibDeprecationWarning: \n",
      "The colNum attribute was deprecated in Matplotlib 3.2 and will be removed two minor releases later. Use ax.get_subplotspec().colspan.start instead.\n",
      "  layout[ax.rowNum, ax.colNum] = ax.get_visible()\n",
      "C:\\Users\\HP-Z440\\anaconda3\\envs\\ai_for_trading\\lib\\site-packages\\pandas\\plotting\\_matplotlib\\tools.py:313: MatplotlibDeprecationWarning: \n",
      "The rowNum attribute was deprecated in Matplotlib 3.2 and will be removed two minor releases later. Use ax.get_subplotspec().rowspan.start instead.\n",
      "  if not layout[ax.rowNum + 1, ax.colNum]:\n",
      "C:\\Users\\HP-Z440\\anaconda3\\envs\\ai_for_trading\\lib\\site-packages\\pandas\\plotting\\_matplotlib\\tools.py:313: MatplotlibDeprecationWarning: \n",
      "The colNum attribute was deprecated in Matplotlib 3.2 and will be removed two minor releases later. Use ax.get_subplotspec().colspan.start instead.\n",
      "  if not layout[ax.rowNum + 1, ax.colNum]:\n"
     ]
    },
    {
     "data": {
      "image/png": "[encoded data removed]",
      "text/plain": [
       "<Figure size 1008x1008 with 8 Axes>"
      ]
     },
     "metadata": {},
     "output_type": "display_data"
    }
   ],
   "source": [
    "clean_factor_data, unixt_factor_data = alpha_factors.prepare_alpha_lense_factor_data(alpha, pricing)\n",
    "alpha_factors.plot_basis_points_per_day_quantile(unixt_factor_data)"
   ]
  },
  {
   "cell_type": "code",
   "execution_count": 35,
   "id": "2d7407e6-4741-42d9-be67-abc8df2e778d",
   "metadata": {},
   "outputs": [],
   "source": [
    "factor_returns = alpha_factors.get_factor_returns(clean_factor_data)"
   ]
  },
  {
   "cell_type": "code",
   "execution_count": 36,
   "id": "d49b2ef7-9499-4549-aab8-ad8757dea252",
   "metadata": {},
   "outputs": [],
   "source": [
    "factors_sharpe_ratio = alpha_factors.sharpe_ratio(factor_returns)"
   ]
  },
  {
   "cell_type": "code",
   "execution_count": 38,
   "id": "562a4d7e-7c21-4b1e-8018-622680612e8a",
   "metadata": {},
   "outputs": [
    {
     "name": "stdout",
     "output_type": "stream",
     "text": [
      "                                    Sharpe Ratio\n",
      "overnight_sentiment_5_day_smoothed          1.96\n"
     ]
    }
   ],
   "source": [
    "print(factors_sharpe_ratio.round(2))"
   ]
  },
  {
   "cell_type": "code",
   "execution_count": 39,
   "id": "15873faa-f76c-4ade-a4a0-267cbef57293",
   "metadata": {},
   "outputs": [
    {
     "name": "stderr",
     "output_type": "stream",
     "text": [
      "C:\\Users\\HP-Z440\\anaconda3\\envs\\ai_for_trading\\lib\\site-packages\\pandas\\core\\arrays\\datetimes.py:1266: UserWarning: Converting to PeriodArray/Index representation will drop timezone information.\n",
      "  warnings.warn(\n"
     ]
    },
    {
     "data": {
      "image/png": "[encoded data removed]",
      "text/plain": [
       "<Figure size 1440x576 with 1 Axes>"
      ]
     },
     "metadata": {},
     "output_type": "display_data"
    }
   ],
   "source": [
    "alpha_factors.plot_factor_returns(factor_returns)"
   ]
  }
 ],
 "metadata": {
  "kernelspec": {
   "display_name": "Python 3",
   "language": "python",
   "name": "python3"
  },
  "language_info": {
   "codemirror_mode": {
    "name": "ipython",
    "version": 3
   },
   "file_extension": ".py",
   "mimetype": "text/x-python",
   "name": "python",
   "nbconvert_exporter": "python",
   "pygments_lexer": "ipython3",
   "version": "3.8.10"
  }
 },
 "nbformat": 4,
 "nbformat_minor": 5
}
