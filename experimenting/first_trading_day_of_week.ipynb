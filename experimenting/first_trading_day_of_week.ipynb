{
 "cells": [
  {
   "cell_type": "code",
   "execution_count": 60,
   "id": "a813cce8-90c4-4048-a729-5a106275eeb6",
   "metadata": {},
   "outputs": [],
   "source": [
    "from pathlib import Path\n",
    "import alpha_factors_helper as afh\n",
    "import pandas as pd\n",
    "import numpy as np"
   ]
  },
  {
   "cell_type": "code",
   "execution_count": 10,
   "id": "426030de-883f-499c-a933-3e170d902f19",
   "metadata": {},
   "outputs": [],
   "source": [
    "alpha_factors = afh.load_alpha_factors(Path('~/Anaconda Projects/svi-trading-tools/data/weekly_low_risk_max15_final/ai_alpha_factor.parquet'))"
   ]
  },
  {
   "cell_type": "code",
   "execution_count": 61,
   "id": "2fd94a40-610f-4fd8-b27a-78fdc5847980",
   "metadata": {},
   "outputs": [],
   "source": [
    "trading_dates = np.unique(alpha_factors.index.get_level_values(0))"
   ]
  },
  {
   "cell_type": "code",
   "execution_count": 62,
   "id": "c0dcf73b-72bd-4d0c-b7b2-b807ad0d0d8a",
   "metadata": {},
   "outputs": [
    {
     "data": {
      "text/plain": [
       "array(['2018-08-06T00:00:00.000000000', '2018-08-07T00:00:00.000000000',\n",
       "       '2018-08-08T00:00:00.000000000', ...,\n",
       "       '2023-02-09T00:00:00.000000000', '2023-02-10T00:00:00.000000000',\n",
       "       '2023-02-13T00:00:00.000000000'], dtype='datetime64[ns]')"
      ]
     },
     "execution_count": 62,
     "metadata": {},
     "output_type": "execute_result"
    }
   ],
   "source": [
    "trading_dates"
   ]
  },
  {
   "cell_type": "code",
   "execution_count": 64,
   "id": "a029da35-d651-4bda-8ecb-7116c1ce1c52",
   "metadata": {},
   "outputs": [],
   "source": [
    "trading_dates_df = pd.DataFrame(trading_dates[-30:], columns=['trading_dates'])"
   ]
  },
  {
   "cell_type": "code",
   "execution_count": 65,
   "id": "359b677a-8325-4532-b20c-8442355b3db3",
   "metadata": {},
   "outputs": [
    {
     "data": {
      "text/html": [
       "<div>\n",
       "<style scoped>\n",
       "    .dataframe tbody tr th:only-of-type {\n",
       "        vertical-align: middle;\n",
       "    }\n",
       "\n",
       "    .dataframe tbody tr th {\n",
       "        vertical-align: top;\n",
       "    }\n",
       "\n",
       "    .dataframe thead th {\n",
       "        text-align: right;\n",
       "    }\n",
       "</style>\n",
       "<table border=\"1\" class=\"dataframe\">\n",
       "  <thead>\n",
       "    <tr style=\"text-align: right;\">\n",
       "      <th></th>\n",
       "      <th>trading_dates</th>\n",
       "    </tr>\n",
       "  </thead>\n",
       "  <tbody>\n",
       "    <tr>\n",
       "      <th>0</th>\n",
       "      <td>2022-12-30</td>\n",
       "    </tr>\n",
       "    <tr>\n",
       "      <th>1</th>\n",
       "      <td>2023-01-03</td>\n",
       "    </tr>\n",
       "    <tr>\n",
       "      <th>2</th>\n",
       "      <td>2023-01-04</td>\n",
       "    </tr>\n",
       "    <tr>\n",
       "      <th>3</th>\n",
       "      <td>2023-01-05</td>\n",
       "    </tr>\n",
       "    <tr>\n",
       "      <th>4</th>\n",
       "      <td>2023-01-06</td>\n",
       "    </tr>\n",
       "    <tr>\n",
       "      <th>5</th>\n",
       "      <td>2023-01-09</td>\n",
       "    </tr>\n",
       "    <tr>\n",
       "      <th>6</th>\n",
       "      <td>2023-01-10</td>\n",
       "    </tr>\n",
       "    <tr>\n",
       "      <th>7</th>\n",
       "      <td>2023-01-11</td>\n",
       "    </tr>\n",
       "    <tr>\n",
       "      <th>8</th>\n",
       "      <td>2023-01-12</td>\n",
       "    </tr>\n",
       "    <tr>\n",
       "      <th>9</th>\n",
       "      <td>2023-01-13</td>\n",
       "    </tr>\n",
       "    <tr>\n",
       "      <th>10</th>\n",
       "      <td>2023-01-17</td>\n",
       "    </tr>\n",
       "    <tr>\n",
       "      <th>11</th>\n",
       "      <td>2023-01-18</td>\n",
       "    </tr>\n",
       "    <tr>\n",
       "      <th>12</th>\n",
       "      <td>2023-01-19</td>\n",
       "    </tr>\n",
       "    <tr>\n",
       "      <th>13</th>\n",
       "      <td>2023-01-20</td>\n",
       "    </tr>\n",
       "    <tr>\n",
       "      <th>14</th>\n",
       "      <td>2023-01-23</td>\n",
       "    </tr>\n",
       "    <tr>\n",
       "      <th>15</th>\n",
       "      <td>2023-01-24</td>\n",
       "    </tr>\n",
       "    <tr>\n",
       "      <th>16</th>\n",
       "      <td>2023-01-25</td>\n",
       "    </tr>\n",
       "    <tr>\n",
       "      <th>17</th>\n",
       "      <td>2023-01-26</td>\n",
       "    </tr>\n",
       "    <tr>\n",
       "      <th>18</th>\n",
       "      <td>2023-01-27</td>\n",
       "    </tr>\n",
       "    <tr>\n",
       "      <th>19</th>\n",
       "      <td>2023-01-30</td>\n",
       "    </tr>\n",
       "    <tr>\n",
       "      <th>20</th>\n",
       "      <td>2023-01-31</td>\n",
       "    </tr>\n",
       "    <tr>\n",
       "      <th>21</th>\n",
       "      <td>2023-02-01</td>\n",
       "    </tr>\n",
       "    <tr>\n",
       "      <th>22</th>\n",
       "      <td>2023-02-02</td>\n",
       "    </tr>\n",
       "    <tr>\n",
       "      <th>23</th>\n",
       "      <td>2023-02-03</td>\n",
       "    </tr>\n",
       "    <tr>\n",
       "      <th>24</th>\n",
       "      <td>2023-02-06</td>\n",
       "    </tr>\n",
       "    <tr>\n",
       "      <th>25</th>\n",
       "      <td>2023-02-07</td>\n",
       "    </tr>\n",
       "    <tr>\n",
       "      <th>26</th>\n",
       "      <td>2023-02-08</td>\n",
       "    </tr>\n",
       "    <tr>\n",
       "      <th>27</th>\n",
       "      <td>2023-02-09</td>\n",
       "    </tr>\n",
       "    <tr>\n",
       "      <th>28</th>\n",
       "      <td>2023-02-10</td>\n",
       "    </tr>\n",
       "    <tr>\n",
       "      <th>29</th>\n",
       "      <td>2023-02-13</td>\n",
       "    </tr>\n",
       "  </tbody>\n",
       "</table>\n",
       "</div>"
      ],
      "text/plain": [
       "   trading_dates\n",
       "0     2022-12-30\n",
       "1     2023-01-03\n",
       "2     2023-01-04\n",
       "3     2023-01-05\n",
       "4     2023-01-06\n",
       "5     2023-01-09\n",
       "6     2023-01-10\n",
       "7     2023-01-11\n",
       "8     2023-01-12\n",
       "9     2023-01-13\n",
       "10    2023-01-17\n",
       "11    2023-01-18\n",
       "12    2023-01-19\n",
       "13    2023-01-20\n",
       "14    2023-01-23\n",
       "15    2023-01-24\n",
       "16    2023-01-25\n",
       "17    2023-01-26\n",
       "18    2023-01-27\n",
       "19    2023-01-30\n",
       "20    2023-01-31\n",
       "21    2023-02-01\n",
       "22    2023-02-02\n",
       "23    2023-02-03\n",
       "24    2023-02-06\n",
       "25    2023-02-07\n",
       "26    2023-02-08\n",
       "27    2023-02-09\n",
       "28    2023-02-10\n",
       "29    2023-02-13"
      ]
     },
     "execution_count": 65,
     "metadata": {},
     "output_type": "execute_result"
    }
   ],
   "source": [
    "trading_dates_df"
   ]
  },
  {
   "cell_type": "code",
   "execution_count": 56,
   "id": "6e295717-7187-40ae-8a8d-f03766ff18ec",
   "metadata": {},
   "outputs": [
    {
     "data": {
      "text/html": [
       "<div>\n",
       "<style scoped>\n",
       "    .dataframe tbody tr th:only-of-type {\n",
       "        vertical-align: middle;\n",
       "    }\n",
       "\n",
       "    .dataframe tbody tr th {\n",
       "        vertical-align: top;\n",
       "    }\n",
       "\n",
       "    .dataframe thead th {\n",
       "        text-align: right;\n",
       "    }\n",
       "</style>\n",
       "<table border=\"1\" class=\"dataframe\">\n",
       "  <thead>\n",
       "    <tr style=\"text-align: right;\">\n",
       "      <th></th>\n",
       "    </tr>\n",
       "    <tr>\n",
       "      <th>trading_dates</th>\n",
       "    </tr>\n",
       "  </thead>\n",
       "  <tbody>\n",
       "    <tr>\n",
       "      <th>2018-08-12</th>\n",
       "    </tr>\n",
       "    <tr>\n",
       "      <th>2018-08-19</th>\n",
       "    </tr>\n",
       "    <tr>\n",
       "      <th>2018-08-26</th>\n",
       "    </tr>\n",
       "    <tr>\n",
       "      <th>2018-09-02</th>\n",
       "    </tr>\n",
       "    <tr>\n",
       "      <th>2018-09-09</th>\n",
       "    </tr>\n",
       "    <tr>\n",
       "      <th>...</th>\n",
       "    </tr>\n",
       "    <tr>\n",
       "      <th>2023-01-22</th>\n",
       "    </tr>\n",
       "    <tr>\n",
       "      <th>2023-01-29</th>\n",
       "    </tr>\n",
       "    <tr>\n",
       "      <th>2023-02-05</th>\n",
       "    </tr>\n",
       "    <tr>\n",
       "      <th>2023-02-12</th>\n",
       "    </tr>\n",
       "    <tr>\n",
       "      <th>2023-02-19</th>\n",
       "    </tr>\n",
       "  </tbody>\n",
       "</table>\n",
       "<p>237 rows × 0 columns</p>\n",
       "</div>"
      ],
      "text/plain": [
       "Empty DataFrame\n",
       "Columns: []\n",
       "Index: [2018-08-12 00:00:00, 2018-08-19 00:00:00, 2018-08-26 00:00:00, 2018-09-02 00:00:00, 2018-09-09 00:00:00, 2018-09-16 00:00:00, 2018-09-23 00:00:00, 2018-09-30 00:00:00, 2018-10-07 00:00:00, 2018-10-14 00:00:00, 2018-10-21 00:00:00, 2018-10-28 00:00:00, 2018-11-04 00:00:00, 2018-11-11 00:00:00, 2018-11-18 00:00:00, 2018-11-25 00:00:00, 2018-12-02 00:00:00, 2018-12-09 00:00:00, 2018-12-16 00:00:00, 2018-12-23 00:00:00, 2018-12-30 00:00:00, 2019-01-06 00:00:00, 2019-01-13 00:00:00, 2019-01-20 00:00:00, 2019-01-27 00:00:00, 2019-02-03 00:00:00, 2019-02-10 00:00:00, 2019-02-17 00:00:00, 2019-02-24 00:00:00, 2019-03-03 00:00:00, 2019-03-10 00:00:00, 2019-03-17 00:00:00, 2019-03-24 00:00:00, 2019-03-31 00:00:00, 2019-04-07 00:00:00, 2019-04-14 00:00:00, 2019-04-21 00:00:00, 2019-04-28 00:00:00, 2019-05-05 00:00:00, 2019-05-12 00:00:00, 2019-05-19 00:00:00, 2019-05-26 00:00:00, 2019-06-02 00:00:00, 2019-06-09 00:00:00, 2019-06-16 00:00:00, 2019-06-23 00:00:00, 2019-06-30 00:00:00, 2019-07-07 00:00:00, 2019-07-14 00:00:00, 2019-07-21 00:00:00, 2019-07-28 00:00:00, 2019-08-04 00:00:00, 2019-08-11 00:00:00, 2019-08-18 00:00:00, 2019-08-25 00:00:00, 2019-09-01 00:00:00, 2019-09-08 00:00:00, 2019-09-15 00:00:00, 2019-09-22 00:00:00, 2019-09-29 00:00:00, 2019-10-06 00:00:00, 2019-10-13 00:00:00, 2019-10-20 00:00:00, 2019-10-27 00:00:00, 2019-11-03 00:00:00, 2019-11-10 00:00:00, 2019-11-17 00:00:00, 2019-11-24 00:00:00, 2019-12-01 00:00:00, 2019-12-08 00:00:00, 2019-12-15 00:00:00, 2019-12-22 00:00:00, 2019-12-29 00:00:00, 2020-01-05 00:00:00, 2020-01-12 00:00:00, 2020-01-19 00:00:00, 2020-01-26 00:00:00, 2020-02-02 00:00:00, 2020-02-09 00:00:00, 2020-02-16 00:00:00, 2020-02-23 00:00:00, 2020-03-01 00:00:00, 2020-03-08 00:00:00, 2020-03-15 00:00:00, 2020-03-22 00:00:00, 2020-03-29 00:00:00, 2020-04-05 00:00:00, 2020-04-12 00:00:00, 2020-04-19 00:00:00, 2020-04-26 00:00:00, 2020-05-03 00:00:00, 2020-05-10 00:00:00, 2020-05-17 00:00:00, 2020-05-24 00:00:00, 2020-05-31 00:00:00, 2020-06-07 00:00:00, 2020-06-14 00:00:00, 2020-06-21 00:00:00, 2020-06-28 00:00:00, 2020-07-05 00:00:00, ...]\n",
       "\n",
       "[237 rows x 0 columns]"
      ]
     },
     "execution_count": 56,
     "metadata": {},
     "output_type": "execute_result"
    }
   ],
   "source": [
    "trading_dates_df.groupby([pd.Grouper(key='trading_dates', freq='W')]).count()"
   ]
  },
  {
   "cell_type": "code",
   "execution_count": 92,
   "id": "c2f9882a-e38d-40b0-9eb0-26407f7de179",
   "metadata": {},
   "outputs": [],
   "source": [
    "buy_dates = trading_dates_df.groupby([pd.Grouper(key='trading_dates', freq='W')])['trading_dates'].min()"
   ]
  },
  {
   "cell_type": "code",
   "execution_count": 93,
   "id": "e49be505-ccc7-4421-95cd-59a68a93c63e",
   "metadata": {},
   "outputs": [
    {
     "data": {
      "text/plain": [
       "trading_dates\n",
       "2023-01-01   2022-12-30\n",
       "2023-01-08   2023-01-03\n",
       "2023-01-15   2023-01-09\n",
       "2023-01-22   2023-01-17\n",
       "2023-01-29   2023-01-23\n",
       "2023-02-05   2023-01-30\n",
       "2023-02-12   2023-02-06\n",
       "2023-02-19   2023-02-13\n",
       "Freq: W-SUN, Name: trading_dates, dtype: datetime64[ns]"
      ]
     },
     "execution_count": 93,
     "metadata": {},
     "output_type": "execute_result"
    }
   ],
   "source": [
    "buy_dates"
   ]
  },
  {
   "cell_type": "code",
   "execution_count": 90,
   "id": "ffb7ee19-aeae-4876-9bec-211cbad934a1",
   "metadata": {},
   "outputs": [],
   "source": [
    "sell_dates = buy_dates[1:]"
   ]
  },
  {
   "cell_type": "code",
   "execution_count": 91,
   "id": "d7142d8b-078a-4d38-b527-b0677f20be13",
   "metadata": {},
   "outputs": [
    {
     "data": {
      "text/plain": [
       "array(['2023-01-03T00:00:00.000000000', '2023-01-09T00:00:00.000000000',\n",
       "       '2023-01-17T00:00:00.000000000', '2023-01-23T00:00:00.000000000',\n",
       "       '2023-01-30T00:00:00.000000000', '2023-02-06T00:00:00.000000000',\n",
       "       '2023-02-13T00:00:00.000000000'], dtype='datetime64[ns]')"
      ]
     },
     "execution_count": 91,
     "metadata": {},
     "output_type": "execute_result"
    }
   ],
   "source": [
    "sell_dates"
   ]
  }
 ],
 "metadata": {
  "kernelspec": {
   "display_name": "Python 3 (ipykernel)",
   "language": "python",
   "name": "python3"
  },
  "language_info": {
   "codemirror_mode": {
    "name": "ipython",
    "version": 3
   },
   "file_extension": ".py",
   "mimetype": "text/x-python",
   "name": "python",
   "nbconvert_exporter": "python",
   "pygments_lexer": "ipython3",
   "version": "3.8.15"
  }
 },
 "nbformat": 4,
 "nbformat_minor": 5
}
