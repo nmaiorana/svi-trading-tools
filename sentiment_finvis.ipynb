{
 "cells": [
  {
   "cell_type": "markdown",
   "metadata": {},
   "source": [
    "# The Requests Library\n",
    "\n",
    "Now that we know how to use BeautifulSoup to get data from HTML files, let's see how we can scrape data from a real website. Unfortunately, Beautifulsoup can't access websites directly. Therefore, in order to access websites, we will use Python's `requests` library. The `requests` library allows us to send web requests and get a website's HTML data. Once the `requests` library gets us the HTML data, we can use Beautifulsoup, just as we did before, to extract the data we want. So let's see an example.\n",
    "\n",
    "In the code below we will use the `requests` library and BeautifulSoup to get Tesla's `production and sales by quarter` data from a `html table` the following Wikipedia [webpage](https://en.wikipedia.org/wiki/Tesla,_Inc.). This table corresponds to Tesla's production and sales figures since Q1 2013. We will start by importing the `requests` library by using:\n",
    "\n",
    "```python\n",
    "import requests\n",
    "```\n",
    "\n",
    "We will then use the `requests.get(website)` function to get the source code from our `wikipage`. The `requests.get()` function returns a `Response` object that we will save in the variable `r`. We can get the HTML data we need from this object by using the `.text` method, as shown below. Finally, we'll convert and display the extracted html table into Pandas dataframe."
   ]
  },
  {
   "cell_type": "code",
   "execution_count": 1,
   "metadata": {},
   "outputs": [],
   "source": [
    "# Import libraries\n",
    "from urllib.request import urlopen, Request\n",
    "from bs4 import BeautifulSoup\n",
    "import os\n",
    "import pandas as pd\n",
    "import matplotlib.pyplot as plt\n",
    "%matplotlib inline\n",
    "# NLTK VADER for sentiment analysis\n",
    "import nltk\n",
    "from nltk.sentiment.vader import SentimentIntensityAnalyzer\n",
    "\n",
    "finwiz_url = 'https://finviz.com/quote.ashx?t='"
   ]
  },
  {
   "cell_type": "code",
   "execution_count": 2,
   "metadata": {},
   "outputs": [
    {
     "name": "stderr",
     "output_type": "stream",
     "text": [
      "[nltk_data] Downloading package vader_lexicon to\n",
      "[nltk_data]     C:\\Users\\HP-Z440\\AppData\\Roaming\\nltk_data...\n",
      "[nltk_data]   Package vader_lexicon is already up-to-date!\n"
     ]
    },
    {
     "data": {
      "text/plain": [
       "True"
      ]
     },
     "execution_count": 2,
     "metadata": {},
     "output_type": "execute_result"
    }
   ],
   "source": [
    "nltk.download('vader_lexicon')"
   ]
  },
  {
   "cell_type": "code",
   "execution_count": 3,
   "metadata": {},
   "outputs": [],
   "source": [
    "news_tables = {}\n",
    "tickers = ['WKHS']\n",
    "\n",
    "for ticker in tickers:\n",
    "    url = finwiz_url + ticker\n",
    "    req = Request(url=url,headers={'user-agent': 'my-app/0.0.1'}) \n",
    "    try:\n",
    "        response = urlopen(req)    \n",
    "    except:\n",
    "        continue\n",
    "    # Read the contents of the file into 'html'\n",
    "    html = BeautifulSoup(response)\n",
    "    # Find 'news-table' in the Soup and load it into 'news_table'\n",
    "    news_table = html.find(id='news-table')\n",
    "    # Add the table to our dictionary\n",
    "    news_tables[ticker] = news_table"
   ]
  },
  {
   "cell_type": "code",
   "execution_count": 4,
   "metadata": {},
   "outputs": [
    {
     "name": "stdout",
     "output_type": "stream",
     "text": [
      "Why Workhorse Stock could Continue to Stall\n",
      "Jul-13-21 03:51AM  \n",
      "Ongoing Postal Service Battle Is Problematic for Workhorse Group\n",
      "Jul-09-21 02:50PM  \n",
      "Why Workhorse Group Dropped Again Wednesday\n",
      "Jul-07-21 06:36PM  \n",
      "Avoid Workhorse -- This Electric Vehicle Company Is a Better Investment\n",
      "Jul-06-21 09:42AM  \n"
     ]
    }
   ],
   "source": [
    "# Read one single day of headlines for 'AMZN' \n",
    "amzn = news_tables['WKHS']\n",
    "# Get all the table rows tagged in HTML with <tr> into 'amzn_tr'\n",
    "amzn_tr = amzn.findAll('tr')\n",
    "\n",
    "for i, table_row in enumerate(amzn_tr):\n",
    "    # Read the text of the element 'a' into 'link_text'\n",
    "    a_text = table_row.a.text\n",
    "    # Read the text of the element 'td' into 'data_text'\n",
    "    td_text = table_row.td.text\n",
    "    # Print the contents of 'link_text' and 'data_text' \n",
    "    print(a_text)\n",
    "    print(td_text)\n",
    "    # Exit after printing 4 rows of data\n",
    "    if i == 3:\n",
    "        break"
   ]
  },
  {
   "cell_type": "code",
   "execution_count": 5,
   "metadata": {},
   "outputs": [
    {
     "data": {
      "text/plain": [
       "[['WKHS',\n",
       "  'Jul-13-21',\n",
       "  '03:51AM',\n",
       "  'Why Workhorse Stock could Continue to Stall'],\n",
       " ['WKHS',\n",
       "  'Jul-09-21',\n",
       "  '02:50PM',\n",
       "  'Ongoing Postal Service Battle Is Problematic for Workhorse Group'],\n",
       " ['WKHS',\n",
       "  'Jul-07-21',\n",
       "  '06:36PM',\n",
       "  'Why Workhorse Group Dropped Again Wednesday'],\n",
       " ['WKHS',\n",
       "  'Jul-06-21',\n",
       "  '09:42AM',\n",
       "  'Avoid Workhorse -- This Electric Vehicle Company Is a Better Investment'],\n",
       " ['WKHS',\n",
       "  'Jul-05-21',\n",
       "  '04:30PM',\n",
       "  '10 Best Renewable Energy Stocks to Buy According to Hedge Funds']]"
      ]
     },
     "execution_count": 5,
     "metadata": {},
     "output_type": "execute_result"
    }
   ],
   "source": [
    "parsed_news = []\n",
    "\n",
    "# Iterate through the news\n",
    "for file_name, news_table in news_tables.items():\n",
    "    # Iterate through all tr tags in 'news_table'\n",
    "    for x in news_table.findAll('tr'):\n",
    "        # read the text from each tr tag into text\n",
    "        # get text from a only\n",
    "        text = x.a.get_text() \n",
    "        # splite text in the td tag into a list \n",
    "        date_scrape = x.td.text.split()\n",
    "        # if the length of 'date_scrape' is 1, load 'time' as the only element\n",
    "\n",
    "        if len(date_scrape) == 1:\n",
    "            time = date_scrape[0]\n",
    "            \n",
    "        # else load 'date' as the 1st element and 'time' as the second    \n",
    "        else:\n",
    "            date = date_scrape[0]\n",
    "            time = date_scrape[1]\n",
    "        # Extract the ticker from the file name, get the string up to the 1st '_'  \n",
    "        ticker = file_name.split('_')[0]\n",
    "        \n",
    "        # Append ticker, date, time and headline as a list to the 'parsed_news' list\n",
    "        parsed_news.append([ticker, date, time, text])\n",
    "        \n",
    "parsed_news[:5]"
   ]
  },
  {
   "cell_type": "code",
   "execution_count": 6,
   "metadata": {},
   "outputs": [
    {
     "data": {
      "text/html": [
       "<div>\n",
       "<style scoped>\n",
       "    .dataframe tbody tr th:only-of-type {\n",
       "        vertical-align: middle;\n",
       "    }\n",
       "\n",
       "    .dataframe tbody tr th {\n",
       "        vertical-align: top;\n",
       "    }\n",
       "\n",
       "    .dataframe thead th {\n",
       "        text-align: right;\n",
       "    }\n",
       "</style>\n",
       "<table border=\"1\" class=\"dataframe\">\n",
       "  <thead>\n",
       "    <tr style=\"text-align: right;\">\n",
       "      <th></th>\n",
       "      <th>ticker</th>\n",
       "      <th>date</th>\n",
       "      <th>time</th>\n",
       "      <th>headline</th>\n",
       "      <th>neg</th>\n",
       "      <th>neu</th>\n",
       "      <th>pos</th>\n",
       "      <th>compound</th>\n",
       "    </tr>\n",
       "  </thead>\n",
       "  <tbody>\n",
       "    <tr>\n",
       "      <th>0</th>\n",
       "      <td>WKHS</td>\n",
       "      <td>2021-07-13</td>\n",
       "      <td>03:51AM</td>\n",
       "      <td>Why Workhorse Stock could Continue to Stall</td>\n",
       "      <td>0.231</td>\n",
       "      <td>0.769</td>\n",
       "      <td>0.000</td>\n",
       "      <td>-0.2023</td>\n",
       "    </tr>\n",
       "    <tr>\n",
       "      <th>1</th>\n",
       "      <td>WKHS</td>\n",
       "      <td>2021-07-09</td>\n",
       "      <td>02:50PM</td>\n",
       "      <td>Ongoing Postal Service Battle Is Problematic f...</td>\n",
       "      <td>0.440</td>\n",
       "      <td>0.560</td>\n",
       "      <td>0.000</td>\n",
       "      <td>-0.6705</td>\n",
       "    </tr>\n",
       "    <tr>\n",
       "      <th>2</th>\n",
       "      <td>WKHS</td>\n",
       "      <td>2021-07-07</td>\n",
       "      <td>06:36PM</td>\n",
       "      <td>Why Workhorse Group Dropped Again Wednesday</td>\n",
       "      <td>0.000</td>\n",
       "      <td>1.000</td>\n",
       "      <td>0.000</td>\n",
       "      <td>0.0000</td>\n",
       "    </tr>\n",
       "    <tr>\n",
       "      <th>3</th>\n",
       "      <td>WKHS</td>\n",
       "      <td>2021-07-06</td>\n",
       "      <td>09:42AM</td>\n",
       "      <td>Avoid Workhorse -- This Electric Vehicle Compa...</td>\n",
       "      <td>0.168</td>\n",
       "      <td>0.611</td>\n",
       "      <td>0.221</td>\n",
       "      <td>0.1779</td>\n",
       "    </tr>\n",
       "    <tr>\n",
       "      <th>4</th>\n",
       "      <td>WKHS</td>\n",
       "      <td>2021-07-05</td>\n",
       "      <td>04:30PM</td>\n",
       "      <td>10 Best Renewable Energy Stocks to Buy Accordi...</td>\n",
       "      <td>0.000</td>\n",
       "      <td>0.588</td>\n",
       "      <td>0.412</td>\n",
       "      <td>0.7430</td>\n",
       "    </tr>\n",
       "  </tbody>\n",
       "</table>\n",
       "</div>"
      ],
      "text/plain": [
       "  ticker        date     time  \\\n",
       "0   WKHS  2021-07-13  03:51AM   \n",
       "1   WKHS  2021-07-09  02:50PM   \n",
       "2   WKHS  2021-07-07  06:36PM   \n",
       "3   WKHS  2021-07-06  09:42AM   \n",
       "4   WKHS  2021-07-05  04:30PM   \n",
       "\n",
       "                                            headline    neg    neu    pos  \\\n",
       "0        Why Workhorse Stock could Continue to Stall  0.231  0.769  0.000   \n",
       "1  Ongoing Postal Service Battle Is Problematic f...  0.440  0.560  0.000   \n",
       "2        Why Workhorse Group Dropped Again Wednesday  0.000  1.000  0.000   \n",
       "3  Avoid Workhorse -- This Electric Vehicle Compa...  0.168  0.611  0.221   \n",
       "4  10 Best Renewable Energy Stocks to Buy Accordi...  0.000  0.588  0.412   \n",
       "\n",
       "   compound  \n",
       "0   -0.2023  \n",
       "1   -0.6705  \n",
       "2    0.0000  \n",
       "3    0.1779  \n",
       "4    0.7430  "
      ]
     },
     "execution_count": 6,
     "metadata": {},
     "output_type": "execute_result"
    }
   ],
   "source": [
    "# Instantiate the sentiment intensity analyzer\n",
    "vader = SentimentIntensityAnalyzer()\n",
    "\n",
    "# Set column names\n",
    "columns = ['ticker', 'date', 'time', 'headline']\n",
    "\n",
    "# Convert the parsed_news list into a DataFrame called 'parsed_and_scored_news'\n",
    "parsed_and_scored_news = pd.DataFrame(parsed_news, columns=columns)\n",
    "\n",
    "# Iterate through the headlines and get the polarity scores using vader\n",
    "scores = parsed_and_scored_news['headline'].apply(vader.polarity_scores).tolist()\n",
    "\n",
    "# Convert the 'scores' list of dicts into a DataFrame\n",
    "scores_df = pd.DataFrame(scores)\n",
    "\n",
    "# Join the DataFrames of the news and the list of dicts\n",
    "parsed_and_scored_news = parsed_and_scored_news.join(scores_df, rsuffix='_right')\n",
    "\n",
    "# Convert the date column from string to datetime\n",
    "parsed_and_scored_news['date'] = pd.to_datetime(parsed_and_scored_news.date).dt.date\n",
    "\n",
    "parsed_and_scored_news.head()"
   ]
  },
  {
   "cell_type": "code",
   "execution_count": 7,
   "metadata": {},
   "outputs": [
    {
     "data": {
      "image/png": "[encoded data removed]",
      "text/plain": [
       "<Figure size 1440x720 with 1 Axes>"
      ]
     },
     "metadata": {
      "needs_background": "light"
     },
     "output_type": "display_data"
    }
   ],
   "source": [
    "plt.rcParams['figure.figsize'] = [20, 10]\n",
    "\n",
    "# Group by date and ticker columns from scored_news and calculate the mean\n",
    "mean_scores = parsed_and_scored_news.groupby(['ticker','date']).mean()\n",
    "\n",
    "# Unstack the column ticker\n",
    "mean_scores = mean_scores.unstack()\n",
    "\n",
    "# Get the cross-section of compound in the 'columns' axis\n",
    "mean_scores = mean_scores.xs('compound', axis=\"columns\").transpose()\n",
    "\n",
    "# Plot a bar chart with pandas\n",
    "mean_scores.plot(kind = 'bar')\n",
    "plt.grid()"
   ]
  }
 ],
 "metadata": {
  "kernelspec": {
   "display_name": "Python 3",
   "language": "python",
   "name": "python3"
  },
  "language_info": {
   "codemirror_mode": {
    "name": "ipython",
    "version": 3
   },
   "file_extension": ".py",
   "mimetype": "text/x-python",
   "name": "python",
   "nbconvert_exporter": "python",
   "pygments_lexer": "ipython3",
   "version": "3.8.10"
  },
  "toc": {
   "base_numbering": 1,
   "nav_menu": {
    "height": "147px",
    "width": "322px"
   },
   "number_sections": true,
   "sideBar": true,
   "skip_h1_title": false,
   "title_cell": "Table of Contents",
   "title_sidebar": "Contents",
   "toc_cell": false,
   "toc_position": {},
   "toc_section_display": true,
   "toc_window_display": false
  }
 },
 "nbformat": 4,
 "nbformat_minor": 4
}
