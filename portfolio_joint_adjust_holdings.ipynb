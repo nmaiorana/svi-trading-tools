{
 "cells": [
  {
   "cell_type": "markdown",
   "metadata": {},
   "source": [
    "# Portfolio Workflow"
   ]
  },
  {
   "cell_type": "markdown",
   "metadata": {},
   "source": [
    "## Use the last week to determine current portfolio mix"
   ]
  },
  {
   "cell_type": "code",
   "execution_count": 1,
   "metadata": {},
   "outputs": [
    {
     "name": "stdout",
     "output_type": "stream",
     "text": [
      "2022-11-06 15:15:14,279|JointHoldingsAdjustement|INFO|Python version: 3.8.8\n",
      "2022-11-06 15:15:14,279|JointHoldingsAdjustement|INFO|Pandas version: 1.3.5\n"
     ]
    }
   ],
   "source": [
    "from platform import python_version\n",
    "import configparser\n",
    "import logging.config\n",
    "import pandas as pd\n",
    "import pickle\n",
    "import matplotlib.pyplot as plt\n",
    "from datetime import datetime\n",
    "import time\n",
    "import math\n",
    "\n",
    "import portfolio_optimizer\n",
    "from portfolio_optimizer import OptimalHoldings\n",
    "import trading_factors_yahoo as alpha_factors\n",
    "import utils as utils\n",
    "\n",
    "logging.config.fileConfig('./config/logging.ini')\n",
    "logger = logging.getLogger('JointHoldingsAdjustement')\n",
    "logger.info(f'Python version: {python_version()}')\n",
    "logger.info(f'Pandas version: {pd.__version__}')\n",
    "\n",
    "config = configparser.ConfigParser()\n",
    "config.read('./config/config.ini')\n",
    "default_config = config['JOINT']\n",
    "\n",
    "# Which account are we interested in\n",
    "masked_account_number = default_config['masked_account_number']\n",
    "account_portfolios_file_name = 'data/portfolio_data.csv'\n",
    "portfolio_file_name = 'data/portfolio_' + masked_account_number[-4:] + '.csv'\n",
    "price_histories_file_name = '../data/price_histories_yahoo.csv'"
   ]
  },
  {
   "cell_type": "code",
   "execution_count": 2,
   "metadata": {},
   "outputs": [
    {
     "name": "stdout",
     "output_type": "stream",
     "text": [
      "2022-11-06 15:15:14,310|JointHoldingsAdjustement|INFO|PRICE_HISTORIES_FILE|./data/price_histories_yahoo.csv...\n",
      "2022-11-06 15:15:15,442|JointHoldingsAdjustement|INFO|PRICE_HISTORIES|2017-11-06 00:00:00|2022-11-04 00:00:00\n",
      "2022-11-06 15:15:15,486|JointHoldingsAdjustement|INFO|AI_ALPHA_FACTORS_FILE|./data/alpha_vectors.csv\n",
      "2022-11-06 15:15:15,488|JointHoldingsAdjustement|INFO|BETA_FACTORS_FILE|./data/daily_beta.pickle\n",
      "2022-11-06 15:15:15,694|JointHoldingsAdjustement|INFO|ALPHA_STOCKS|501\n"
     ]
    }
   ],
   "source": [
    "price_histories_file_name = default_config[\"DataDirectory\"] + '/' + default_config[\"PriceHistoriesFileName\"]\n",
    "logger.info(f'PRICE_HISTORIES_FILE|{price_histories_file_name}...')\n",
    "price_histories = pd.read_csv(price_histories_file_name, header=[0, 1], index_col=[0], parse_dates=True, low_memory=False)\n",
    "logger.info(f'PRICE_HISTORIES|{price_histories.index.min()}|{price_histories.index.max()}')\n",
    "returns = alpha_factors.FactorReturns(price_histories).factor_data\n",
    "\n",
    "ai_alpha_factors_file_name = default_config['DataDirectory'] + '/' + default_config['AIAlphaFileName']\n",
    "logger.info(f'AI_ALPHA_FACTORS_FILE|{ai_alpha_factors_file_name}')\n",
    "\n",
    "beta_factors_file_name = default_config[\"DataDirectory\"] + '/' + default_config[\"BetaFactorsFileName\"]\n",
    "logger.info(f'BETA_FACTORS_FILE|{beta_factors_file_name}')\n",
    "\n",
    "alpha_vectors = pd.read_csv(ai_alpha_factors_file_name, parse_dates=['Date']).set_index(['Date']).sort_index()\n",
    "logger.info(f'ALPHA_STOCKS|{len(alpha_vectors.columns)}')"
   ]
  },
  {
   "cell_type": "code",
   "execution_count": 3,
   "metadata": {},
   "outputs": [
    {
     "name": "stdout",
     "output_type": "stream",
     "text": [
      "2022-11-06 15:15:15,722|JointHoldingsAdjustement|INFO|OPTIMIZATION|risk_cap|0.015\n",
      "2022-11-06 15:15:15,724|JointHoldingsAdjustement|INFO|OPTIMIZATION|weights_max|0.2\n",
      "2022-11-06 15:15:15,727|JointHoldingsAdjustement|INFO|OPTIMIZATION|weights_min|0.0\n"
     ]
    }
   ],
   "source": [
    "risk_cap = float(default_config['risk_cap'])\n",
    "weights_max = float(default_config['weights_max'])\n",
    "weights_min = float(default_config['weights_min'])\n",
    "logger.info(f'OPTIMIZATION|risk_cap|{risk_cap}')\n",
    "logger.info(f'OPTIMIZATION|weights_max|{weights_max}')\n",
    "logger.info(f'OPTIMIZATION|weights_min|{weights_min}')"
   ]
  },
  {
   "cell_type": "code",
   "execution_count": 4,
   "metadata": {},
   "outputs": [
    {
     "data": {
      "application/vnd.jupyter.widget-view+json": {
       "model_id": "8744dc30b7704b78b5d49d356829d42d",
       "version_major": 2,
       "version_minor": 0
      },
      "text/plain": [
       "Tickers:   0%|          | 0/501 [00:00<?, ?Finvis Postings/s]"
      ]
     },
     "metadata": {},
     "output_type": "display_data"
    },
    {
     "data": {
      "application/vnd.jupyter.widget-view+json": {
       "model_id": "aabef602a344494bbd5e51f42bac229e",
       "version_major": 2,
       "version_minor": 0
      },
      "text/plain": [
       "News Tables:   0%|          | 0/430 [00:00<?, ?News Table Items/s]"
      ]
     },
     "metadata": {},
     "output_type": "display_data"
    }
   ],
   "source": [
    "reduced_stocks = utils.reduce_universe_by_sentiment(alpha_vectors.columns)"
   ]
  },
  {
   "cell_type": "code",
   "execution_count": 5,
   "metadata": {},
   "outputs": [
    {
     "name": "stdout",
     "output_type": "stream",
     "text": [
      "2022-11-06 15:18:37,750|JointHoldingsAdjustement|INFO|SENTIMENT_REDUCTION|0.74|501->371\n"
     ]
    }
   ],
   "source": [
    "# Error check to make sure we didn't reduce by too much\n",
    "\n",
    "pct_red = len(reduced_stocks) / len(alpha_vectors.columns)\n",
    "logger.info(f'SENTIMENT_REDUCTION|{pct_red:0.2f}|{len(alpha_vectors.columns)}->{len(reduced_stocks)}')\n",
    "if pct_red < 0.50:\n",
    "    logger.error(f'SENTIMENT_REDUCTION|OVER_REDUCED|{len(alpha_vectors.columns)}->{len(reduced_stocks)}')\n",
    "    raise SystemExit"
   ]
  },
  {
   "cell_type": "code",
   "execution_count": 6,
   "metadata": {},
   "outputs": [
    {
     "name": "stdout",
     "output_type": "stream",
     "text": [
      "2022-11-06 15:18:37,777|JointHoldingsAdjustement|INFO|FINAL_ALPHA_STOCKS|371\n",
      "2022-11-06 15:18:37,830|JointHoldingsAdjustement|INFO|OPT_DATE|2022-11-04 00:00:00\n"
     ]
    },
    {
     "name": "stderr",
     "output_type": "stream",
     "text": [
      "C:\\Users\\HP-Z440\\anaconda3\\envs\\ml4t\\lib\\site-packages\\cvxpy\\problems\\problem.py:1267: UserWarning: Solution may be inaccurate. Try another solver, adjusting the solver settings, or solve with verbose=True for more information.\n",
      "  warnings.warn(\n"
     ]
    }
   ],
   "source": [
    "final_alhpa_vectors = alpha_vectors[reduced_stocks]\n",
    "logger.info(f'FINAL_ALPHA_STOCKS|{len(final_alhpa_vectors.columns)}')\n",
    "opt_date = final_alhpa_vectors.index[-1]\n",
    "start_of_returns = opt_date - pd.offsets.DateOffset(years=1)\n",
    "final_beta_returns = returns[reduced_stocks].loc[start_of_returns:opt_date]\n",
    "risk_model = alpha_factors.RiskModelPCA(final_beta_returns, 1, 20)\n",
    "logger.info(f'OPT_DATE|{opt_date}')\n",
    "alpha_vector = pd.DataFrame(final_alhpa_vectors.loc[opt_date])\n",
    "optimal_weights = OptimalHoldings(risk_cap=risk_cap,weights_max=weights_max, weights_min=weights_min).find(alpha_vector, risk_model.factor_betas_, risk_model.factor_cov_matrix_, risk_model.idiosyncratic_var_vector_)"
   ]
  },
  {
   "cell_type": "code",
   "execution_count": 7,
   "metadata": {},
   "outputs": [
    {
     "name": "stdout",
     "output_type": "stream",
     "text": [
      "2022-11-06 15:18:58,333|JointHoldingsAdjustement|INFO|AJD_PORT_VARIANCE|0.01500000\n"
     ]
    },
    {
     "data": {
      "image/png": "[encoded data removed]",
      "text/plain": [
       "<Figure size 1440x576 with 1 Axes>"
      ]
     },
     "metadata": {
      "needs_background": "light"
     },
     "output_type": "display_data"
    }
   ],
   "source": [
    "long_weights = optimal_weights[(100 * optimal_weights['optimalWeights']).round() > 5.0]\n",
    "returns[-252:][long_weights.index.to_list()].cumsum().plot(figsize=(20,8))\n",
    "logger.info(f'AJD_PORT_VARIANCE|{risk_model.compute_portfolio_variance(optimal_weights):.8f}')"
   ]
  },
  {
   "cell_type": "code",
   "execution_count": 8,
   "metadata": {},
   "outputs": [
    {
     "name": "stdout",
     "output_type": "stream",
     "text": [
      "2022-11-06 15:18:58,618|JointHoldingsAdjustement|INFO|STOCK|EA                  |HOLDING|0.200000\n",
      "2022-11-06 15:18:58,626|JointHoldingsAdjustement|INFO|STOCK|IVZ                 |HOLDING|0.200000\n",
      "2022-11-06 15:18:58,627|JointHoldingsAdjustement|INFO|STOCK|K                   |HOLDING|0.108865\n",
      "2022-11-06 15:18:58,628|JointHoldingsAdjustement|INFO|STOCK|MPWR                |HOLDING|0.157157\n",
      "2022-11-06 15:18:58,629|JointHoldingsAdjustement|INFO|STOCK|O                   |HOLDING|0.200000\n",
      "2022-11-06 15:18:58,630|JointHoldingsAdjustement|INFO|STOCK|SBAC                |HOLDING|0.133971\n"
     ]
    }
   ],
   "source": [
    "for index, row in long_weights.iterrows():\n",
    "    logger.info(f'STOCK|{index:20}|HOLDING|{row.optimalWeights:2f}')"
   ]
  },
  {
   "cell_type": "code",
   "execution_count": 9,
   "metadata": {},
   "outputs": [
    {
     "name": "stderr",
     "output_type": "stream",
     "text": [
      "\n",
      "\n"
     ]
    },
    {
     "name": "stdout",
     "output_type": "stream",
     "text": [
      "2022-11-06 15:18:58,703|WDM|INFO|\n",
      "\n"
     ]
    },
    {
     "name": "stderr",
     "output_type": "stream",
     "text": [
      "====== WebDriver manager ======\n"
     ]
    },
    {
     "name": "stdout",
     "output_type": "stream",
     "text": [
      "2022-11-06 15:18:58,703|WDM|INFO|====== WebDriver manager ======\n"
     ]
    },
    {
     "name": "stderr",
     "output_type": "stream",
     "text": [
      "Current google-chrome version is 107.0.5304\n"
     ]
    },
    {
     "name": "stdout",
     "output_type": "stream",
     "text": [
      "2022-11-06 15:18:58,734|WDM|INFO|Current google-chrome version is 107.0.5304\n"
     ]
    },
    {
     "name": "stderr",
     "output_type": "stream",
     "text": [
      "Get LATEST chromedriver version for 107.0.5304 google-chrome\n"
     ]
    },
    {
     "name": "stdout",
     "output_type": "stream",
     "text": [
      "2022-11-06 15:18:58,734|WDM|INFO|Get LATEST chromedriver version for 107.0.5304 google-chrome\n"
     ]
    },
    {
     "name": "stderr",
     "output_type": "stream",
     "text": [
      "Driver [C:\\Users\\HP-Z440\\.wdm\\drivers\\chromedriver\\win32\\107.0.5304.62\\chromedriver.exe] found in cache\n"
     ]
    },
    {
     "name": "stdout",
     "output_type": "stream",
     "text": [
      "2022-11-06 15:18:58,828|WDM|INFO|Driver [C:\\Users\\HP-Z440\\.wdm\\drivers\\chromedriver\\win32\\107.0.5304.62\\chromedriver.exe] found in cache\n"
     ]
    },
    {
     "data": {
      "text/html": [
       "<div>\n",
       "<style scoped>\n",
       "    .dataframe tbody tr th:only-of-type {\n",
       "        vertical-align: middle;\n",
       "    }\n",
       "\n",
       "    .dataframe tbody tr th {\n",
       "        vertical-align: top;\n",
       "    }\n",
       "\n",
       "    .dataframe thead th {\n",
       "        text-align: right;\n",
       "    }\n",
       "</style>\n",
       "<table border=\"1\" class=\"dataframe\">\n",
       "  <thead>\n",
       "    <tr style=\"text-align: right;\">\n",
       "      <th></th>\n",
       "      <th>cusip</th>\n",
       "      <th>symbol</th>\n",
       "      <th>description</th>\n",
       "      <th>exchange</th>\n",
       "      <th>assetType</th>\n",
       "      <th>high52</th>\n",
       "      <th>low52</th>\n",
       "      <th>dividendAmount</th>\n",
       "      <th>dividendYield</th>\n",
       "      <th>dividendDate</th>\n",
       "      <th>...</th>\n",
       "      <th>bookValuePerShare</th>\n",
       "      <th>shortIntToFloat</th>\n",
       "      <th>shortIntDayToCover</th>\n",
       "      <th>divGrowthRate3Year</th>\n",
       "      <th>dividendPayAmount</th>\n",
       "      <th>dividendPayDate</th>\n",
       "      <th>beta</th>\n",
       "      <th>vol1DayAvg</th>\n",
       "      <th>vol10DayAvg</th>\n",
       "      <th>vol3MonthAvg</th>\n",
       "    </tr>\n",
       "  </thead>\n",
       "  <tbody>\n",
       "    <tr>\n",
       "      <th>0</th>\n",
       "      <td>78410G104</td>\n",
       "      <td>SBAC</td>\n",
       "      <td>SBA Communications Corporation - Class A Commo...</td>\n",
       "      <td>NASDAQ</td>\n",
       "      <td>EQUITY</td>\n",
       "      <td>391.150</td>\n",
       "      <td>236.20</td>\n",
       "      <td>2.840</td>\n",
       "      <td>1.04</td>\n",
       "      <td>2022-11-16 00:00:00.000</td>\n",
       "      <td>...</td>\n",
       "      <td>0.00000</td>\n",
       "      <td>0.0</td>\n",
       "      <td>0.0</td>\n",
       "      <td>0.0</td>\n",
       "      <td>0.7100</td>\n",
       "      <td>2022-12-15 00:00:00.000</td>\n",
       "      <td>0.44681</td>\n",
       "      <td>891700.0</td>\n",
       "      <td>891696.0</td>\n",
       "      <td>14141300.0</td>\n",
       "    </tr>\n",
       "    <tr>\n",
       "      <th>1</th>\n",
       "      <td>609839105</td>\n",
       "      <td>MPWR</td>\n",
       "      <td>Monolithic Power Systems, Inc. - Common Stock</td>\n",
       "      <td>NASDAQ</td>\n",
       "      <td>EQUITY</td>\n",
       "      <td>580.000</td>\n",
       "      <td>301.69</td>\n",
       "      <td>3.000</td>\n",
       "      <td>0.85</td>\n",
       "      <td>2022-09-29 00:00:00.000</td>\n",
       "      <td>...</td>\n",
       "      <td>20.53904</td>\n",
       "      <td>0.0</td>\n",
       "      <td>0.0</td>\n",
       "      <td>0.0</td>\n",
       "      <td>0.7500</td>\n",
       "      <td>2022-10-14 00:00:00.000</td>\n",
       "      <td>1.09091</td>\n",
       "      <td>1050250.0</td>\n",
       "      <td>1050254.0</td>\n",
       "      <td>15710340.0</td>\n",
       "    </tr>\n",
       "    <tr>\n",
       "      <th>2</th>\n",
       "      <td>487836108</td>\n",
       "      <td>K</td>\n",
       "      <td>Kellogg Company Common Stock</td>\n",
       "      <td>NYSE</td>\n",
       "      <td>EQUITY</td>\n",
       "      <td>77.170</td>\n",
       "      <td>59.54</td>\n",
       "      <td>2.360</td>\n",
       "      <td>3.38</td>\n",
       "      <td>2022-11-30 00:00:00.000</td>\n",
       "      <td>...</td>\n",
       "      <td>14.90359</td>\n",
       "      <td>0.0</td>\n",
       "      <td>0.0</td>\n",
       "      <td>0.0</td>\n",
       "      <td>0.5900</td>\n",
       "      <td>2022-12-15 00:00:00.000</td>\n",
       "      <td>0.47586</td>\n",
       "      <td>3061990.0</td>\n",
       "      <td>3061994.0</td>\n",
       "      <td>46821460.0</td>\n",
       "    </tr>\n",
       "    <tr>\n",
       "      <th>3</th>\n",
       "      <td>285512109</td>\n",
       "      <td>EA</td>\n",
       "      <td>Electronic Arts Inc. - Common Stock</td>\n",
       "      <td>NASDAQ</td>\n",
       "      <td>EQUITY</td>\n",
       "      <td>146.720</td>\n",
       "      <td>109.24</td>\n",
       "      <td>0.760</td>\n",
       "      <td>0.59</td>\n",
       "      <td>2022-11-29 00:00:00.000</td>\n",
       "      <td>...</td>\n",
       "      <td>15.61689</td>\n",
       "      <td>0.0</td>\n",
       "      <td>0.0</td>\n",
       "      <td>0.0</td>\n",
       "      <td>0.1900</td>\n",
       "      <td>2022-12-21 00:00:00.000</td>\n",
       "      <td>0.86052</td>\n",
       "      <td>2377660.0</td>\n",
       "      <td>2377664.0</td>\n",
       "      <td>42033850.0</td>\n",
       "    </tr>\n",
       "    <tr>\n",
       "      <th>4</th>\n",
       "      <td>G491BT108</td>\n",
       "      <td>IVZ</td>\n",
       "      <td>Invesco Ltd Common Stock</td>\n",
       "      <td>NYSE</td>\n",
       "      <td>EQUITY</td>\n",
       "      <td>26.589</td>\n",
       "      <td>13.20</td>\n",
       "      <td>0.750</td>\n",
       "      <td>4.77</td>\n",
       "      <td>2022-11-09 00:00:00.000</td>\n",
       "      <td>...</td>\n",
       "      <td>12.57709</td>\n",
       "      <td>0.0</td>\n",
       "      <td>0.0</td>\n",
       "      <td>0.0</td>\n",
       "      <td>0.1875</td>\n",
       "      <td>2022-12-02 00:00:00.000</td>\n",
       "      <td>1.29678</td>\n",
       "      <td>6116250.0</td>\n",
       "      <td>6116254.0</td>\n",
       "      <td>106874110.0</td>\n",
       "    </tr>\n",
       "    <tr>\n",
       "      <th>5</th>\n",
       "      <td>756109104</td>\n",
       "      <td>O</td>\n",
       "      <td>Realty Income Corporation Common Stock</td>\n",
       "      <td>NYSE</td>\n",
       "      <td>EQUITY</td>\n",
       "      <td>75.400</td>\n",
       "      <td>55.50</td>\n",
       "      <td>2.976</td>\n",
       "      <td>4.72</td>\n",
       "      <td>2022-10-31 00:00:00.000</td>\n",
       "      <td>...</td>\n",
       "      <td>10.25254</td>\n",
       "      <td>0.0</td>\n",
       "      <td>0.0</td>\n",
       "      <td>0.0</td>\n",
       "      <td>0.2480</td>\n",
       "      <td>2022-11-15 00:00:00.000</td>\n",
       "      <td>0.78089</td>\n",
       "      <td>4191030.0</td>\n",
       "      <td>4191029.0</td>\n",
       "      <td>90296080.0</td>\n",
       "    </tr>\n",
       "  </tbody>\n",
       "</table>\n",
       "<p>6 rows × 50 columns</p>\n",
       "</div>"
      ],
      "text/plain": [
       "       cusip symbol                                        description  \\\n",
       "0  78410G104   SBAC  SBA Communications Corporation - Class A Commo...   \n",
       "1  609839105   MPWR      Monolithic Power Systems, Inc. - Common Stock   \n",
       "2  487836108      K                       Kellogg Company Common Stock   \n",
       "3  285512109     EA                Electronic Arts Inc. - Common Stock   \n",
       "4  G491BT108    IVZ                           Invesco Ltd Common Stock   \n",
       "5  756109104      O             Realty Income Corporation Common Stock   \n",
       "\n",
       "  exchange assetType   high52   low52  dividendAmount  dividendYield  \\\n",
       "0   NASDAQ    EQUITY  391.150  236.20           2.840           1.04   \n",
       "1   NASDAQ    EQUITY  580.000  301.69           3.000           0.85   \n",
       "2     NYSE    EQUITY   77.170   59.54           2.360           3.38   \n",
       "3   NASDAQ    EQUITY  146.720  109.24           0.760           0.59   \n",
       "4     NYSE    EQUITY   26.589   13.20           0.750           4.77   \n",
       "5     NYSE    EQUITY   75.400   55.50           2.976           4.72   \n",
       "\n",
       "              dividendDate  ...  bookValuePerShare  shortIntToFloat  \\\n",
       "0  2022-11-16 00:00:00.000  ...            0.00000              0.0   \n",
       "1  2022-09-29 00:00:00.000  ...           20.53904              0.0   \n",
       "2  2022-11-30 00:00:00.000  ...           14.90359              0.0   \n",
       "3  2022-11-29 00:00:00.000  ...           15.61689              0.0   \n",
       "4  2022-11-09 00:00:00.000  ...           12.57709              0.0   \n",
       "5  2022-10-31 00:00:00.000  ...           10.25254              0.0   \n",
       "\n",
       "   shortIntDayToCover  divGrowthRate3Year  dividendPayAmount  \\\n",
       "0                 0.0                 0.0             0.7100   \n",
       "1                 0.0                 0.0             0.7500   \n",
       "2                 0.0                 0.0             0.5900   \n",
       "3                 0.0                 0.0             0.1900   \n",
       "4                 0.0                 0.0             0.1875   \n",
       "5                 0.0                 0.0             0.2480   \n",
       "\n",
       "           dividendPayDate     beta  vol1DayAvg  vol10DayAvg  vol3MonthAvg  \n",
       "0  2022-12-15 00:00:00.000  0.44681    891700.0     891696.0    14141300.0  \n",
       "1  2022-10-14 00:00:00.000  1.09091   1050250.0    1050254.0    15710340.0  \n",
       "2  2022-12-15 00:00:00.000  0.47586   3061990.0    3061994.0    46821460.0  \n",
       "3  2022-12-21 00:00:00.000  0.86052   2377660.0    2377664.0    42033850.0  \n",
       "4  2022-12-02 00:00:00.000  1.29678   6116250.0    6116254.0   106874110.0  \n",
       "5  2022-11-15 00:00:00.000  0.78089   4191030.0    4191029.0    90296080.0  \n",
       "\n",
       "[6 rows x 50 columns]"
      ]
     },
     "metadata": {},
     "output_type": "display_data"
    }
   ],
   "source": [
    "import ameritrade_functions as amc\n",
    "import utils\n",
    "\n",
    "td_ameritrade = amc.AmeritradeRest('maiotradeuser', 'maiotradepw', 'maiotradeclientid')\n",
    "td_ameritrade.authenticate()\n",
    "display(td_ameritrade.get_fundamental(list(long_weights.index.to_list())))"
   ]
  },
  {
   "cell_type": "code",
   "execution_count": 10,
   "metadata": {},
   "outputs": [
    {
     "data": {
      "application/vnd.jupyter.widget-view+json": {
       "model_id": "a947839dfb244b81bc8ae0416993dee6",
       "version_major": 2,
       "version_minor": 0
      },
      "text/plain": [
       "Tickers:   0%|          | 0/6 [00:00<?, ?Finvis Postings/s]"
      ]
     },
     "metadata": {},
     "output_type": "display_data"
    },
    {
     "data": {
      "application/vnd.jupyter.widget-view+json": {
       "model_id": "e597a492403d4ad8b62e2225326993bd",
       "version_major": 2,
       "version_minor": 0
      },
      "text/plain": [
       "News Tables:   0%|          | 0/5 [00:00<?, ?News Table Items/s]"
      ]
     },
     "metadata": {},
     "output_type": "display_data"
    },
    {
     "data": {
      "image/png": "[encoded data removed]",
      "text/plain": [
       "<Figure size 1440x576 with 1 Axes>"
      ]
     },
     "metadata": {
      "needs_background": "light"
     },
     "output_type": "display_data"
    }
   ],
   "source": [
    "parsed_and_scored_news = utils.get_finvis_stock_sentiment(long_weights.index.to_list()).sort_values(by='date')\n",
    "# Group by date and ticker columns from scored_news and calculate the mean\n",
    "mean_scores = parsed_and_scored_news.groupby(['ticker','date']).mean()\n",
    "# Unstack the column ticker\n",
    "mean_scores = mean_scores.unstack()\n",
    "# Get the cross-section of compound in the 'columns' axis\n",
    "mean_scores = mean_scores.xs('compound', axis=\"columns\").transpose()\n",
    "# Plot a bar chart with pandas\n",
    "mean_scores[-20:].plot(kind = 'bar')\n",
    "plt.grid()"
   ]
  },
  {
   "cell_type": "markdown",
   "metadata": {
    "tags": []
   },
   "source": [
    "## First lets see which stocks we already own for a specific account\n",
    "\n",
    "I only want to work with Equity investments. This is kind of confusing, but at the account level assets that can be traded are call \"EQUITY\". When you get quotes for each asset, the same asset can be something like \"ETF\".\n",
    "\n",
    "I also use Ameritrade's portfolio planner tool to create an asset mix based off of their reccomendations. I don't want these stocks (or in my case mutual funds and ETFs) to be part of this analysis. So I'll remove them here."
   ]
  },
  {
   "cell_type": "markdown",
   "metadata": {},
   "source": [
    "## Configure Ameritrade Information\n",
    "\n",
    "Ameritrade credentials are stored in environment variables to keep from having unencrypted passwords stored on disk.\n",
    "\n",
    "The module automatically masks the account numbers to protect the actual accounts. An Ameritrade user can have many investment accounts. We will be working with only one for this demonstration."
   ]
  },
  {
   "cell_type": "markdown",
   "metadata": {},
   "source": [
    "## Authentication Tokens\n",
    "\n",
    "To get data from Ameritrade you will need to obtains a short time use token (there is a re-use token, but I have not coded it yet.) You only need to do this if you\n",
    "are going to use an existing Ameritrade account to define an initial set of stocks to analyze.\n",
    "\n",
    "To obtain a token, you will need to have a Chrome driver located somewhere on your system. This will allow the module to use your credentials to obtain an authentication token.\n",
    "\n",
    "For security reasons, I sugges using environment variables to store your credential information. If you store them in property files, or just code them into your notebook, you risk sharing the information with others if you use GitHub or some other SCCS. This also makes it easier to have them availabe from project to project in your development environment\n",
    "\n",
    "<span style=\"color:blue\">Note: *Account numbers are masked for security purposes.*</span>"
   ]
  },
  {
   "cell_type": "code",
   "execution_count": 11,
   "metadata": {},
   "outputs": [
    {
     "name": "stderr",
     "output_type": "stream",
     "text": [
      "\n",
      "\n"
     ]
    },
    {
     "name": "stdout",
     "output_type": "stream",
     "text": [
      "2022-11-06 15:19:42,216|WDM|INFO|\n",
      "\n"
     ]
    },
    {
     "name": "stderr",
     "output_type": "stream",
     "text": [
      "====== WebDriver manager ======\n"
     ]
    },
    {
     "name": "stdout",
     "output_type": "stream",
     "text": [
      "2022-11-06 15:19:42,218|WDM|INFO|====== WebDriver manager ======\n"
     ]
    },
    {
     "name": "stderr",
     "output_type": "stream",
     "text": [
      "Current google-chrome version is 107.0.5304\n"
     ]
    },
    {
     "name": "stdout",
     "output_type": "stream",
     "text": [
      "2022-11-06 15:19:42,243|WDM|INFO|Current google-chrome version is 107.0.5304\n"
     ]
    },
    {
     "name": "stderr",
     "output_type": "stream",
     "text": [
      "Get LATEST chromedriver version for 107.0.5304 google-chrome\n"
     ]
    },
    {
     "name": "stdout",
     "output_type": "stream",
     "text": [
      "2022-11-06 15:19:42,244|WDM|INFO|Get LATEST chromedriver version for 107.0.5304 google-chrome\n"
     ]
    },
    {
     "name": "stderr",
     "output_type": "stream",
     "text": [
      "Driver [C:\\Users\\HP-Z440\\.wdm\\drivers\\chromedriver\\win32\\107.0.5304.62\\chromedriver.exe] found in cache\n"
     ]
    },
    {
     "name": "stdout",
     "output_type": "stream",
     "text": [
      "2022-11-06 15:19:42,335|WDM|INFO|Driver [C:\\Users\\HP-Z440\\.wdm\\drivers\\chromedriver\\win32\\107.0.5304.62\\chromedriver.exe] found in cache\n",
      "2022-11-06 15:20:21,297|JointHoldingsAdjustement|INFO|You have authorization\n",
      "2022-11-06 15:20:21,299|JointHoldingsAdjustement|INFO|TRADE_DATE|2022-11-06 15:20:21.299093\n",
      "2022-11-06 15:20:23,604|JointHoldingsAdjustement|INFO|Full Equity Portfolio:\n"
     ]
    },
    {
     "data": {
      "text/html": [
       "<div>\n",
       "<style scoped>\n",
       "    .dataframe tbody tr th:only-of-type {\n",
       "        vertical-align: middle;\n",
       "    }\n",
       "\n",
       "    .dataframe tbody tr th {\n",
       "        vertical-align: top;\n",
       "    }\n",
       "\n",
       "    .dataframe thead th {\n",
       "        text-align: right;\n",
       "    }\n",
       "</style>\n",
       "<table border=\"1\" class=\"dataframe\">\n",
       "  <thead>\n",
       "    <tr style=\"text-align: right;\">\n",
       "      <th></th>\n",
       "      <th>account</th>\n",
       "      <th>shortQuantity</th>\n",
       "      <th>averagePrice</th>\n",
       "      <th>currentDayCost</th>\n",
       "      <th>currentDayProfitLoss</th>\n",
       "      <th>currentDayProfitLossPercentage</th>\n",
       "      <th>longQuantity</th>\n",
       "      <th>settledLongQuantity</th>\n",
       "      <th>settledShortQuantity</th>\n",
       "      <th>marketValue</th>\n",
       "      <th>maintenanceRequirement</th>\n",
       "      <th>previousSessionLongQuantity</th>\n",
       "      <th>assetType</th>\n",
       "      <th>cusip</th>\n",
       "      <th>symbol</th>\n",
       "      <th>description</th>\n",
       "      <th>type</th>\n",
       "    </tr>\n",
       "  </thead>\n",
       "  <tbody>\n",
       "    <tr>\n",
       "      <th>6</th>\n",
       "      <td>#---2021</td>\n",
       "      <td>0.0</td>\n",
       "      <td>45.44513</td>\n",
       "      <td>0.0</td>\n",
       "      <td>0.0</td>\n",
       "      <td>0.0</td>\n",
       "      <td>39.0</td>\n",
       "      <td>39.0</td>\n",
       "      <td>0.0</td>\n",
       "      <td>1910.61</td>\n",
       "      <td>764.24</td>\n",
       "      <td>39.0</td>\n",
       "      <td>EQUITY</td>\n",
       "      <td>03743Q108</td>\n",
       "      <td>APA</td>\n",
       "      <td>0</td>\n",
       "      <td>0</td>\n",
       "    </tr>\n",
       "    <tr>\n",
       "      <th>7</th>\n",
       "      <td>#---2021</td>\n",
       "      <td>0.0</td>\n",
       "      <td>46.63579</td>\n",
       "      <td>0.0</td>\n",
       "      <td>0.0</td>\n",
       "      <td>0.0</td>\n",
       "      <td>38.0</td>\n",
       "      <td>38.0</td>\n",
       "      <td>0.0</td>\n",
       "      <td>1794.36</td>\n",
       "      <td>538.31</td>\n",
       "      <td>38.0</td>\n",
       "      <td>EQUITY</td>\n",
       "      <td>717081103</td>\n",
       "      <td>PFE</td>\n",
       "      <td>0</td>\n",
       "      <td>0</td>\n",
       "    </tr>\n",
       "    <tr>\n",
       "      <th>8</th>\n",
       "      <td>#---2021</td>\n",
       "      <td>0.0</td>\n",
       "      <td>62.13179</td>\n",
       "      <td>0.0</td>\n",
       "      <td>0.0</td>\n",
       "      <td>0.0</td>\n",
       "      <td>28.0</td>\n",
       "      <td>28.0</td>\n",
       "      <td>0.0</td>\n",
       "      <td>1473.64</td>\n",
       "      <td>442.09</td>\n",
       "      <td>28.0</td>\n",
       "      <td>EQUITY</td>\n",
       "      <td>192446102</td>\n",
       "      <td>CTSH</td>\n",
       "      <td>0</td>\n",
       "      <td>0</td>\n",
       "    </tr>\n",
       "    <tr>\n",
       "      <th>9</th>\n",
       "      <td>#---2021</td>\n",
       "      <td>0.0</td>\n",
       "      <td>10.49180</td>\n",
       "      <td>0.0</td>\n",
       "      <td>0.0</td>\n",
       "      <td>0.0</td>\n",
       "      <td>300.0</td>\n",
       "      <td>300.0</td>\n",
       "      <td>0.0</td>\n",
       "      <td>822.00</td>\n",
       "      <td>600.00</td>\n",
       "      <td>300.0</td>\n",
       "      <td>EQUITY</td>\n",
       "      <td>98138J206</td>\n",
       "      <td>WKHS</td>\n",
       "      <td>0</td>\n",
       "      <td>0</td>\n",
       "    </tr>\n",
       "    <tr>\n",
       "      <th>10</th>\n",
       "      <td>#---2021</td>\n",
       "      <td>0.0</td>\n",
       "      <td>76.22000</td>\n",
       "      <td>0.0</td>\n",
       "      <td>0.0</td>\n",
       "      <td>0.0</td>\n",
       "      <td>23.0</td>\n",
       "      <td>23.0</td>\n",
       "      <td>0.0</td>\n",
       "      <td>1775.14</td>\n",
       "      <td>532.54</td>\n",
       "      <td>23.0</td>\n",
       "      <td>EQUITY</td>\n",
       "      <td>30040W108</td>\n",
       "      <td>ES</td>\n",
       "      <td>0</td>\n",
       "      <td>0</td>\n",
       "    </tr>\n",
       "    <tr>\n",
       "      <th>11</th>\n",
       "      <td>#---2021</td>\n",
       "      <td>0.0</td>\n",
       "      <td>0.04980</td>\n",
       "      <td>0.0</td>\n",
       "      <td>0.0</td>\n",
       "      <td>0.0</td>\n",
       "      <td>250.0</td>\n",
       "      <td>250.0</td>\n",
       "      <td>0.0</td>\n",
       "      <td>1.51</td>\n",
       "      <td>0.00</td>\n",
       "      <td>250.0</td>\n",
       "      <td>EQUITY</td>\n",
       "      <td>Q3394D101</td>\n",
       "      <td>EEENF</td>\n",
       "      <td>0</td>\n",
       "      <td>0</td>\n",
       "    </tr>\n",
       "    <tr>\n",
       "      <th>12</th>\n",
       "      <td>#---2021</td>\n",
       "      <td>0.0</td>\n",
       "      <td>48.31000</td>\n",
       "      <td>0.0</td>\n",
       "      <td>0.0</td>\n",
       "      <td>0.0</td>\n",
       "      <td>37.0</td>\n",
       "      <td>37.0</td>\n",
       "      <td>0.0</td>\n",
       "      <td>1831.13</td>\n",
       "      <td>549.34</td>\n",
       "      <td>37.0</td>\n",
       "      <td>EQUITY</td>\n",
       "      <td>311900104</td>\n",
       "      <td>FAST</td>\n",
       "      <td>0</td>\n",
       "      <td>0</td>\n",
       "    </tr>\n",
       "    <tr>\n",
       "      <th>13</th>\n",
       "      <td>#---2021</td>\n",
       "      <td>0.0</td>\n",
       "      <td>0.10927</td>\n",
       "      <td>0.0</td>\n",
       "      <td>0.0</td>\n",
       "      <td>0.0</td>\n",
       "      <td>25000.0</td>\n",
       "      <td>25000.0</td>\n",
       "      <td>0.0</td>\n",
       "      <td>2176.00</td>\n",
       "      <td>0.00</td>\n",
       "      <td>25000.0</td>\n",
       "      <td>EQUITY</td>\n",
       "      <td>Q3860H107</td>\n",
       "      <td>FGPHF</td>\n",
       "      <td>0</td>\n",
       "      <td>0</td>\n",
       "    </tr>\n",
       "  </tbody>\n",
       "</table>\n",
       "</div>"
      ],
      "text/plain": [
       "     account  shortQuantity  averagePrice  currentDayCost  \\\n",
       "6   #---2021            0.0      45.44513             0.0   \n",
       "7   #---2021            0.0      46.63579             0.0   \n",
       "8   #---2021            0.0      62.13179             0.0   \n",
       "9   #---2021            0.0      10.49180             0.0   \n",
       "10  #---2021            0.0      76.22000             0.0   \n",
       "11  #---2021            0.0       0.04980             0.0   \n",
       "12  #---2021            0.0      48.31000             0.0   \n",
       "13  #---2021            0.0       0.10927             0.0   \n",
       "\n",
       "    currentDayProfitLoss  currentDayProfitLossPercentage  longQuantity  \\\n",
       "6                    0.0                             0.0          39.0   \n",
       "7                    0.0                             0.0          38.0   \n",
       "8                    0.0                             0.0          28.0   \n",
       "9                    0.0                             0.0         300.0   \n",
       "10                   0.0                             0.0          23.0   \n",
       "11                   0.0                             0.0         250.0   \n",
       "12                   0.0                             0.0          37.0   \n",
       "13                   0.0                             0.0       25000.0   \n",
       "\n",
       "    settledLongQuantity  settledShortQuantity  marketValue  \\\n",
       "6                  39.0                   0.0      1910.61   \n",
       "7                  38.0                   0.0      1794.36   \n",
       "8                  28.0                   0.0      1473.64   \n",
       "9                 300.0                   0.0       822.00   \n",
       "10                 23.0                   0.0      1775.14   \n",
       "11                250.0                   0.0         1.51   \n",
       "12                 37.0                   0.0      1831.13   \n",
       "13              25000.0                   0.0      2176.00   \n",
       "\n",
       "    maintenanceRequirement  previousSessionLongQuantity assetType      cusip  \\\n",
       "6                   764.24                         39.0    EQUITY  03743Q108   \n",
       "7                   538.31                         38.0    EQUITY  717081103   \n",
       "8                   442.09                         28.0    EQUITY  192446102   \n",
       "9                   600.00                        300.0    EQUITY  98138J206   \n",
       "10                  532.54                         23.0    EQUITY  30040W108   \n",
       "11                    0.00                        250.0    EQUITY  Q3394D101   \n",
       "12                  549.34                         37.0    EQUITY  311900104   \n",
       "13                    0.00                      25000.0    EQUITY  Q3860H107   \n",
       "\n",
       "   symbol description type  \n",
       "6     APA           0    0  \n",
       "7     PFE           0    0  \n",
       "8    CTSH           0    0  \n",
       "9    WKHS           0    0  \n",
       "10     ES           0    0  \n",
       "11  EEENF           0    0  \n",
       "12   FAST           0    0  \n",
       "13  FGPHF           0    0  "
      ]
     },
     "metadata": {},
     "output_type": "display_data"
    }
   ],
   "source": [
    "td_ameritrade = amc.AmeritradeRest('maiotradeuser', 'maiotradepw', 'maiotradeclientid')\n",
    "td_ameritrade.authenticate()\n",
    "\n",
    "if len(td_ameritrade.authorization) == 0:\n",
    "    logger.error('Error: No authorization data: {}'.format(td_ameritrade.authorization))\n",
    "    raise SystemExit\n",
    "else:\n",
    "    logger.info('You have authorization')\n",
    "\n",
    "logger.info(f'TRADE_DATE|{datetime.today()}')\n",
    "\n",
    "# Specific Portfolio Account\n",
    "account_portfolio_df = utils.get_account_portfolio_data(td_ameritrade.parse_portfolios_list(), masked_account_number)\n",
    "equity_investments_df = utils.get_investments_by_type(account_portfolio_df, investment_type='EQUITY')\n",
    "logger.info('Full Equity Portfolio:')\n",
    "display(equity_investments_df)"
   ]
  },
  {
   "cell_type": "code",
   "execution_count": 12,
   "metadata": {},
   "outputs": [
    {
     "name": "stdout",
     "output_type": "stream",
     "text": [
      "2022-11-06 15:20:23,903|JointHoldingsAdjustement|INFO|Stocks to sell:\n"
     ]
    },
    {
     "data": {
      "text/html": [
       "<div>\n",
       "<style scoped>\n",
       "    .dataframe tbody tr th:only-of-type {\n",
       "        vertical-align: middle;\n",
       "    }\n",
       "\n",
       "    .dataframe tbody tr th {\n",
       "        vertical-align: top;\n",
       "    }\n",
       "\n",
       "    .dataframe thead th {\n",
       "        text-align: right;\n",
       "    }\n",
       "</style>\n",
       "<table border=\"1\" class=\"dataframe\">\n",
       "  <thead>\n",
       "    <tr style=\"text-align: right;\">\n",
       "      <th></th>\n",
       "      <th>account</th>\n",
       "      <th>shortQuantity</th>\n",
       "      <th>averagePrice</th>\n",
       "      <th>currentDayCost</th>\n",
       "      <th>currentDayProfitLoss</th>\n",
       "      <th>currentDayProfitLossPercentage</th>\n",
       "      <th>longQuantity</th>\n",
       "      <th>settledLongQuantity</th>\n",
       "      <th>settledShortQuantity</th>\n",
       "      <th>marketValue</th>\n",
       "      <th>maintenanceRequirement</th>\n",
       "      <th>previousSessionLongQuantity</th>\n",
       "      <th>assetType</th>\n",
       "      <th>cusip</th>\n",
       "      <th>symbol</th>\n",
       "      <th>description</th>\n",
       "      <th>type</th>\n",
       "    </tr>\n",
       "  </thead>\n",
       "  <tbody>\n",
       "    <tr>\n",
       "      <th>6</th>\n",
       "      <td>#---2021</td>\n",
       "      <td>0.0</td>\n",
       "      <td>45.44513</td>\n",
       "      <td>0.0</td>\n",
       "      <td>0.0</td>\n",
       "      <td>0.0</td>\n",
       "      <td>39.0</td>\n",
       "      <td>39.0</td>\n",
       "      <td>0.0</td>\n",
       "      <td>1910.61</td>\n",
       "      <td>764.24</td>\n",
       "      <td>39.0</td>\n",
       "      <td>EQUITY</td>\n",
       "      <td>03743Q108</td>\n",
       "      <td>APA</td>\n",
       "      <td>0</td>\n",
       "      <td>0</td>\n",
       "    </tr>\n",
       "    <tr>\n",
       "      <th>7</th>\n",
       "      <td>#---2021</td>\n",
       "      <td>0.0</td>\n",
       "      <td>46.63579</td>\n",
       "      <td>0.0</td>\n",
       "      <td>0.0</td>\n",
       "      <td>0.0</td>\n",
       "      <td>38.0</td>\n",
       "      <td>38.0</td>\n",
       "      <td>0.0</td>\n",
       "      <td>1794.36</td>\n",
       "      <td>538.31</td>\n",
       "      <td>38.0</td>\n",
       "      <td>EQUITY</td>\n",
       "      <td>717081103</td>\n",
       "      <td>PFE</td>\n",
       "      <td>0</td>\n",
       "      <td>0</td>\n",
       "    </tr>\n",
       "    <tr>\n",
       "      <th>8</th>\n",
       "      <td>#---2021</td>\n",
       "      <td>0.0</td>\n",
       "      <td>62.13179</td>\n",
       "      <td>0.0</td>\n",
       "      <td>0.0</td>\n",
       "      <td>0.0</td>\n",
       "      <td>28.0</td>\n",
       "      <td>28.0</td>\n",
       "      <td>0.0</td>\n",
       "      <td>1473.64</td>\n",
       "      <td>442.09</td>\n",
       "      <td>28.0</td>\n",
       "      <td>EQUITY</td>\n",
       "      <td>192446102</td>\n",
       "      <td>CTSH</td>\n",
       "      <td>0</td>\n",
       "      <td>0</td>\n",
       "    </tr>\n",
       "    <tr>\n",
       "      <th>10</th>\n",
       "      <td>#---2021</td>\n",
       "      <td>0.0</td>\n",
       "      <td>76.22000</td>\n",
       "      <td>0.0</td>\n",
       "      <td>0.0</td>\n",
       "      <td>0.0</td>\n",
       "      <td>23.0</td>\n",
       "      <td>23.0</td>\n",
       "      <td>0.0</td>\n",
       "      <td>1775.14</td>\n",
       "      <td>532.54</td>\n",
       "      <td>23.0</td>\n",
       "      <td>EQUITY</td>\n",
       "      <td>30040W108</td>\n",
       "      <td>ES</td>\n",
       "      <td>0</td>\n",
       "      <td>0</td>\n",
       "    </tr>\n",
       "    <tr>\n",
       "      <th>12</th>\n",
       "      <td>#---2021</td>\n",
       "      <td>0.0</td>\n",
       "      <td>48.31000</td>\n",
       "      <td>0.0</td>\n",
       "      <td>0.0</td>\n",
       "      <td>0.0</td>\n",
       "      <td>37.0</td>\n",
       "      <td>37.0</td>\n",
       "      <td>0.0</td>\n",
       "      <td>1831.13</td>\n",
       "      <td>549.34</td>\n",
       "      <td>37.0</td>\n",
       "      <td>EQUITY</td>\n",
       "      <td>311900104</td>\n",
       "      <td>FAST</td>\n",
       "      <td>0</td>\n",
       "      <td>0</td>\n",
       "    </tr>\n",
       "  </tbody>\n",
       "</table>\n",
       "</div>"
      ],
      "text/plain": [
       "     account  shortQuantity  averagePrice  currentDayCost  \\\n",
       "6   #---2021            0.0      45.44513             0.0   \n",
       "7   #---2021            0.0      46.63579             0.0   \n",
       "8   #---2021            0.0      62.13179             0.0   \n",
       "10  #---2021            0.0      76.22000             0.0   \n",
       "12  #---2021            0.0      48.31000             0.0   \n",
       "\n",
       "    currentDayProfitLoss  currentDayProfitLossPercentage  longQuantity  \\\n",
       "6                    0.0                             0.0          39.0   \n",
       "7                    0.0                             0.0          38.0   \n",
       "8                    0.0                             0.0          28.0   \n",
       "10                   0.0                             0.0          23.0   \n",
       "12                   0.0                             0.0          37.0   \n",
       "\n",
       "    settledLongQuantity  settledShortQuantity  marketValue  \\\n",
       "6                  39.0                   0.0      1910.61   \n",
       "7                  38.0                   0.0      1794.36   \n",
       "8                  28.0                   0.0      1473.64   \n",
       "10                 23.0                   0.0      1775.14   \n",
       "12                 37.0                   0.0      1831.13   \n",
       "\n",
       "    maintenanceRequirement  previousSessionLongQuantity assetType      cusip  \\\n",
       "6                   764.24                         39.0    EQUITY  03743Q108   \n",
       "7                   538.31                         38.0    EQUITY  717081103   \n",
       "8                   442.09                         28.0    EQUITY  192446102   \n",
       "10                  532.54                         23.0    EQUITY  30040W108   \n",
       "12                  549.34                         37.0    EQUITY  311900104   \n",
       "\n",
       "   symbol description type  \n",
       "6     APA           0    0  \n",
       "7     PFE           0    0  \n",
       "8    CTSH           0    0  \n",
       "10     ES           0    0  \n",
       "12   FAST           0    0  "
      ]
     },
     "metadata": {},
     "output_type": "display_data"
    }
   ],
   "source": [
    "long_term_stocks = default_config['long_term_stocks'].split()\n",
    "\n",
    "# Filter out non Equity investments\n",
    "current_stocks = amc.AmeritradeRest('maiotradeuser', 'maiotradepw', 'maiotradeclientid').get_quotes(\n",
    "    utils.get_investment_symbols(equity_investments_df)).query('assetType == \"EQUITY\"').index.tolist()\n",
    "stocks_to_sell = equity_investments_df[equity_investments_df['symbol'].isin(current_stocks)]\n",
    "stocks_to_sell = stocks_to_sell[~stocks_to_sell['symbol'].isin(long_term_stocks)]\n",
    "logger.info('Stocks to sell:')\n",
    "display(stocks_to_sell)"
   ]
  },
  {
   "cell_type": "markdown",
   "metadata": {},
   "source": [
    "### Submit and montior sell orders"
   ]
  },
  {
   "cell_type": "code",
   "execution_count": 14,
   "metadata": {},
   "outputs": [
    {
     "name": "stderr",
     "output_type": "stream",
     "text": [
      "\n",
      "\n"
     ]
    },
    {
     "name": "stdout",
     "output_type": "stream",
     "text": [
      "2022-11-06 15:24:00,086|WDM|INFO|\n",
      "\n"
     ]
    },
    {
     "name": "stderr",
     "output_type": "stream",
     "text": [
      "====== WebDriver manager ======\n"
     ]
    },
    {
     "name": "stdout",
     "output_type": "stream",
     "text": [
      "2022-11-06 15:24:00,088|WDM|INFO|====== WebDriver manager ======\n"
     ]
    },
    {
     "name": "stderr",
     "output_type": "stream",
     "text": [
      "Current google-chrome version is 107.0.5304\n"
     ]
    },
    {
     "name": "stdout",
     "output_type": "stream",
     "text": [
      "2022-11-06 15:24:00,141|WDM|INFO|Current google-chrome version is 107.0.5304\n"
     ]
    },
    {
     "name": "stderr",
     "output_type": "stream",
     "text": [
      "Get LATEST chromedriver version for 107.0.5304 google-chrome\n"
     ]
    },
    {
     "name": "stdout",
     "output_type": "stream",
     "text": [
      "2022-11-06 15:24:00,143|WDM|INFO|Get LATEST chromedriver version for 107.0.5304 google-chrome\n"
     ]
    },
    {
     "name": "stderr",
     "output_type": "stream",
     "text": [
      "Driver [C:\\Users\\HP-Z440\\.wdm\\drivers\\chromedriver\\win32\\107.0.5304.62\\chromedriver.exe] found in cache\n"
     ]
    },
    {
     "name": "stdout",
     "output_type": "stream",
     "text": [
      "2022-11-06 15:24:00,239|WDM|INFO|Driver [C:\\Users\\HP-Z440\\.wdm\\drivers\\chromedriver\\win32\\107.0.5304.62\\chromedriver.exe] found in cache\n",
      "Placing SELL order on #---2021 for 39.0 shares of APA...\n",
      "Placed SELL order on #---2021 for 39.0 shares of APA\n",
      "Placing SELL order on #---2021 for 38.0 shares of PFE...\n",
      "Placed SELL order on #---2021 for 38.0 shares of PFE\n",
      "Placing SELL order on #---2021 for 28.0 shares of CTSH...\n",
      "Placed SELL order on #---2021 for 28.0 shares of CTSH\n",
      "Placing SELL order on #---2021 for 23.0 shares of ES...\n",
      "Placed SELL order on #---2021 for 23.0 shares of ES\n",
      "Placing SELL order on #---2021 for 37.0 shares of FAST...\n",
      "Placed SELL order on #---2021 for 37.0 shares of FAST\n"
     ]
    }
   ],
   "source": [
    "td_ameritrade = amc.AmeritradeRest('maiotradeuser', 'maiotradepw', 'maiotradeclientid')\n",
    "td_ameritrade.authenticate()\n",
    "td_ameritrade.parse_portfolios_list()\n",
    "account_number = td_ameritrade.unmask_account(masked_account_number)\n",
    "sell_result = td_ameritrade.place_bulk_sell_orders(account_number, stocks_to_sell)"
   ]
  },
  {
   "cell_type": "code",
   "execution_count": 15,
   "metadata": {},
   "outputs": [
    {
     "name": "stderr",
     "output_type": "stream",
     "text": [
      "\n",
      "\n"
     ]
    },
    {
     "name": "stdout",
     "output_type": "stream",
     "text": [
      "2022-11-07 10:12:45,776|WDM|INFO|\n",
      "\n"
     ]
    },
    {
     "name": "stderr",
     "output_type": "stream",
     "text": [
      "====== WebDriver manager ======\n"
     ]
    },
    {
     "name": "stdout",
     "output_type": "stream",
     "text": [
      "2022-11-07 10:12:45,779|WDM|INFO|====== WebDriver manager ======\n"
     ]
    },
    {
     "name": "stderr",
     "output_type": "stream",
     "text": [
      "Current google-chrome version is 107.0.5304\n"
     ]
    },
    {
     "name": "stdout",
     "output_type": "stream",
     "text": [
      "2022-11-07 10:12:45,824|WDM|INFO|Current google-chrome version is 107.0.5304\n"
     ]
    },
    {
     "name": "stderr",
     "output_type": "stream",
     "text": [
      "Get LATEST chromedriver version for 107.0.5304 google-chrome\n"
     ]
    },
    {
     "name": "stdout",
     "output_type": "stream",
     "text": [
      "2022-11-07 10:12:45,829|WDM|INFO|Get LATEST chromedriver version for 107.0.5304 google-chrome\n"
     ]
    },
    {
     "name": "stderr",
     "output_type": "stream",
     "text": [
      "Driver [C:\\Users\\HP-Z440\\.wdm\\drivers\\chromedriver\\win32\\107.0.5304.62\\chromedriver.exe] found in cache\n"
     ]
    },
    {
     "name": "stdout",
     "output_type": "stream",
     "text": [
      "2022-11-07 10:12:45,929|WDM|INFO|Driver [C:\\Users\\HP-Z440\\.wdm\\drivers\\chromedriver\\win32\\107.0.5304.62\\chromedriver.exe] found in cache\n",
      "All stocks sold|['APA' 'PFE' 'CTSH' 'ES' 'FAST']|INFO|\n"
     ]
    }
   ],
   "source": [
    "while True:\n",
    "    td_ameritrade = amc.AmeritradeRest('maiotradeuser', 'maiotradepw', 'maiotradeclientid')\n",
    "    td_ameritrade.authenticate()\n",
    "    account_portfolio_df = utils.get_account_portfolio_data(td_ameritrade.parse_portfolios_list(), masked_account_number)\n",
    "    equity_investments_df = utils.get_investments_by_type(account_portfolio_df, investment_type='EQUITY')\n",
    "    stocks_with_sell_orders = equity_investments_df[equity_investments_df['symbol'].isin(stocks_to_sell.symbol.values)]\n",
    "    if len(stocks_with_sell_orders[stocks_with_sell_orders.longQuantity >= 1]) == 0:\n",
    "        break\n",
    "    logger.info(f'\\rStocks to sell|{stocks_with_sell_orders.symbol.values}')\n",
    "    time.sleep(60)\n",
    "    \n",
    "logger.info(f'\\rAll stocks sold|{stocks_to_sell.symbol.values}')\n"
   ]
  },
  {
   "cell_type": "code",
   "execution_count": 16,
   "metadata": {},
   "outputs": [
    {
     "data": {
      "text/plain": [
       "initialBalances_cashBalance            0.000000\n",
       "initialBalances_totalCash              0.000000\n",
       "initialBalances_equity             10641.740000\n",
       "initialBalances_moneyMarketFund     1034.860000\n",
       "currentBalances_cashBalance         8811.880000\n",
       "currentBalances_equity             10638.740000\n",
       "currentBalances_moneyMarketFund     1034.860000\n",
       "current_return                        -0.000282\n",
       "Name: #---2021, dtype: float64"
      ]
     },
     "metadata": {},
     "output_type": "display_data"
    },
    {
     "name": "stdout",
     "output_type": "stream",
     "text": [
      "8811.88\n",
      "1034.86\n",
      "2022-11-07 10:13:46,763|JointHoldingsAdjustement|INFO|INVESTMENT_AMT|9846.74\n"
     ]
    }
   ],
   "source": [
    "account_balances = td_ameritrade.parse_accounts().loc[masked_account_number]\n",
    "display(account_balances)\n",
    "print(account_balances.currentBalances_cashBalance)\n",
    "print(account_balances.currentBalances_moneyMarketFund)\n",
    "available_cash = account_balances.currentBalances_cashBalance + account_balances.currentBalances_moneyMarketFund\n",
    "logger.info(f'INVESTMENT_AMT|{available_cash}')"
   ]
  },
  {
   "cell_type": "code",
   "execution_count": 17,
   "metadata": {},
   "outputs": [
    {
     "name": "stdout",
     "output_type": "stream",
     "text": [
      "Available cash  : 9846.74\n",
      "Amount to invest: 9000\n"
     ]
    }
   ],
   "source": [
    "print(f'Available cash  : {available_cash}')\n",
    "investment_base = 1000\n",
    "investment_amount = math.floor(available_cash / investment_base) * investment_base\n",
    "print(f'Amount to invest: {investment_amount}')"
   ]
  },
  {
   "cell_type": "code",
   "execution_count": 18,
   "metadata": {},
   "outputs": [
    {
     "data": {
      "text/html": [
       "<div>\n",
       "<style scoped>\n",
       "    .dataframe tbody tr th:only-of-type {\n",
       "        vertical-align: middle;\n",
       "    }\n",
       "\n",
       "    .dataframe tbody tr th {\n",
       "        vertical-align: top;\n",
       "    }\n",
       "\n",
       "    .dataframe thead th {\n",
       "        text-align: right;\n",
       "    }\n",
       "</style>\n",
       "<table border=\"1\" class=\"dataframe\">\n",
       "  <thead>\n",
       "    <tr style=\"text-align: right;\">\n",
       "      <th></th>\n",
       "      <th>optimalWeights</th>\n",
       "    </tr>\n",
       "  </thead>\n",
       "  <tbody>\n",
       "    <tr>\n",
       "      <th>APA</th>\n",
       "      <td>0.2</td>\n",
       "    </tr>\n",
       "    <tr>\n",
       "      <th>CTSH</th>\n",
       "      <td>0.2</td>\n",
       "    </tr>\n",
       "    <tr>\n",
       "      <th>ES</th>\n",
       "      <td>0.2</td>\n",
       "    </tr>\n",
       "    <tr>\n",
       "      <th>FAST</th>\n",
       "      <td>0.2</td>\n",
       "    </tr>\n",
       "    <tr>\n",
       "      <th>PFE</th>\n",
       "      <td>0.2</td>\n",
       "    </tr>\n",
       "  </tbody>\n",
       "</table>\n",
       "</div>"
      ],
      "text/plain": [
       "      optimalWeights\n",
       "APA              0.2\n",
       "CTSH             0.2\n",
       "ES               0.2\n",
       "FAST             0.2\n",
       "PFE              0.2"
      ]
     },
     "execution_count": 18,
     "metadata": {},
     "output_type": "execute_result"
    }
   ],
   "source": [
    "long_weights"
   ]
  },
  {
   "cell_type": "code",
   "execution_count": 18,
   "metadata": {},
   "outputs": [
    {
     "name": "stdout",
     "output_type": "stream",
     "text": [
      "2022-11-07 10:13:56.154691\n",
      "Initial investment amount: 9000\n"
     ]
    },
    {
     "data": {
      "text/html": [
       "<div>\n",
       "<style scoped>\n",
       "    .dataframe tbody tr th:only-of-type {\n",
       "        vertical-align: middle;\n",
       "    }\n",
       "\n",
       "    .dataframe tbody tr th {\n",
       "        vertical-align: top;\n",
       "    }\n",
       "\n",
       "    .dataframe thead th {\n",
       "        text-align: right;\n",
       "    }\n",
       "</style>\n",
       "<table border=\"1\" class=\"dataframe\">\n",
       "  <thead>\n",
       "    <tr style=\"text-align: right;\">\n",
       "      <th></th>\n",
       "      <th>regularMarketLastPrice</th>\n",
       "      <th>optimalWeights</th>\n",
       "      <th>invest_amount</th>\n",
       "      <th>shares</th>\n",
       "    </tr>\n",
       "  </thead>\n",
       "  <tbody>\n",
       "    <tr>\n",
       "      <th>EA</th>\n",
       "      <td>130.765</td>\n",
       "      <td>0.200000</td>\n",
       "      <td>1800.0</td>\n",
       "      <td>13</td>\n",
       "    </tr>\n",
       "    <tr>\n",
       "      <th>IVZ</th>\n",
       "      <td>15.820</td>\n",
       "      <td>0.200000</td>\n",
       "      <td>1800.0</td>\n",
       "      <td>113</td>\n",
       "    </tr>\n",
       "    <tr>\n",
       "      <th>K</th>\n",
       "      <td>70.620</td>\n",
       "      <td>0.108865</td>\n",
       "      <td>980.0</td>\n",
       "      <td>13</td>\n",
       "    </tr>\n",
       "    <tr>\n",
       "      <th>MPWR</th>\n",
       "      <td>346.750</td>\n",
       "      <td>0.157157</td>\n",
       "      <td>1414.0</td>\n",
       "      <td>4</td>\n",
       "    </tr>\n",
       "    <tr>\n",
       "      <th>O</th>\n",
       "      <td>63.120</td>\n",
       "      <td>0.200000</td>\n",
       "      <td>1800.0</td>\n",
       "      <td>28</td>\n",
       "    </tr>\n",
       "    <tr>\n",
       "      <th>SBAC</th>\n",
       "      <td>275.785</td>\n",
       "      <td>0.133971</td>\n",
       "      <td>1206.0</td>\n",
       "      <td>4</td>\n",
       "    </tr>\n",
       "  </tbody>\n",
       "</table>\n",
       "</div>"
      ],
      "text/plain": [
       "      regularMarketLastPrice  optimalWeights  invest_amount  shares\n",
       "EA                   130.765        0.200000         1800.0      13\n",
       "IVZ                   15.820        0.200000         1800.0     113\n",
       "K                     70.620        0.108865          980.0      13\n",
       "MPWR                 346.750        0.157157         1414.0       4\n",
       "O                     63.120        0.200000         1800.0      28\n",
       "SBAC                 275.785        0.133971         1206.0       4"
      ]
     },
     "metadata": {},
     "output_type": "display_data"
    },
    {
     "data": {
      "text/html": [
       "<div>\n",
       "<style scoped>\n",
       "    .dataframe tbody tr th:only-of-type {\n",
       "        vertical-align: middle;\n",
       "    }\n",
       "\n",
       "    .dataframe tbody tr th {\n",
       "        vertical-align: top;\n",
       "    }\n",
       "\n",
       "    .dataframe thead th {\n",
       "        text-align: right;\n",
       "    }\n",
       "</style>\n",
       "<table border=\"1\" class=\"dataframe\">\n",
       "  <thead>\n",
       "    <tr style=\"text-align: right;\">\n",
       "      <th></th>\n",
       "      <th>regularMarketLastPrice</th>\n",
       "      <th>optimalWeights</th>\n",
       "      <th>invest_amount</th>\n",
       "      <th>shares</th>\n",
       "      <th>cost</th>\n",
       "    </tr>\n",
       "  </thead>\n",
       "  <tbody>\n",
       "    <tr>\n",
       "      <th>EA</th>\n",
       "      <td>130.765</td>\n",
       "      <td>0.282141</td>\n",
       "      <td>2539.0</td>\n",
       "      <td>19</td>\n",
       "      <td>2484.535</td>\n",
       "    </tr>\n",
       "    <tr>\n",
       "      <th>IVZ</th>\n",
       "      <td>15.820</td>\n",
       "      <td>0.282141</td>\n",
       "      <td>2539.0</td>\n",
       "      <td>160</td>\n",
       "      <td>2531.200</td>\n",
       "    </tr>\n",
       "    <tr>\n",
       "      <th>K</th>\n",
       "      <td>70.620</td>\n",
       "      <td>0.153576</td>\n",
       "      <td>1382.0</td>\n",
       "      <td>19</td>\n",
       "      <td>1341.780</td>\n",
       "    </tr>\n",
       "    <tr>\n",
       "      <th>O</th>\n",
       "      <td>63.120</td>\n",
       "      <td>0.282141</td>\n",
       "      <td>2539.0</td>\n",
       "      <td>40</td>\n",
       "      <td>2524.800</td>\n",
       "    </tr>\n",
       "  </tbody>\n",
       "</table>\n",
       "</div>"
      ],
      "text/plain": [
       "     regularMarketLastPrice  optimalWeights  invest_amount  shares      cost\n",
       "EA                  130.765        0.282141         2539.0      19  2484.535\n",
       "IVZ                  15.820        0.282141         2539.0     160  2531.200\n",
       "K                    70.620        0.153576         1382.0      19  1341.780\n",
       "O                    63.120        0.282141         2539.0      40  2524.800"
      ]
     },
     "metadata": {},
     "output_type": "display_data"
    },
    {
     "name": "stdout",
     "output_type": "stream",
     "text": [
      "Total cost: 8882.314999999999\n"
     ]
    }
   ],
   "source": [
    "print(datetime.today())\n",
    "print(f'Initial investment amount: {investment_amount}')\n",
    "nearest_base = 5\n",
    "min_shares = 5\n",
    "long_quotes = amc.AmeritradeRest('maiotradeuser', 'maiotradepw', 'maiotradeclientid').get_quotes(long_weights.index.to_list())\n",
    "long_shares = long_quotes['regularMarketLastPrice'].to_frame()\n",
    "long_shares['optimalWeights'] = long_weights['optimalWeights']\n",
    "long_shares['invest_amount'] = (long_shares['optimalWeights'] * investment_amount).round(0)\n",
    "long_shares['shares'] = (long_shares['invest_amount'] / long_shares['regularMarketLastPrice']).astype(int)\n",
    "display(long_shares)\n",
    "\n",
    "# Remove symbols that are less than min and re-compute\n",
    "\n",
    "final_long_shares = long_shares.query('shares >= @min_shares').copy()\n",
    "final_long_shares['optimalWeights'] = final_long_shares['optimalWeights'] / final_long_shares['optimalWeights'].sum(axis=0)\n",
    "final_long_shares['invest_amount'] = (final_long_shares['optimalWeights'] * investment_amount).round(0)\n",
    "final_long_shares['shares'] = (final_long_shares['invest_amount'] / final_long_shares['regularMarketLastPrice']).astype(int)\n",
    "final_long_shares['cost'] = final_long_shares['shares'] * final_long_shares['regularMarketLastPrice']\n",
    "display(final_long_shares)\n",
    "print(f'Total cost: {final_long_shares.cost.sum()}')\n"
   ]
  },
  {
   "cell_type": "markdown",
   "metadata": {},
   "source": [
    "### Place buy orders"
   ]
  },
  {
   "cell_type": "code",
   "execution_count": 19,
   "metadata": {},
   "outputs": [
    {
     "data": {
      "text/html": [
       "<div>\n",
       "<style scoped>\n",
       "    .dataframe tbody tr th:only-of-type {\n",
       "        vertical-align: middle;\n",
       "    }\n",
       "\n",
       "    .dataframe tbody tr th {\n",
       "        vertical-align: top;\n",
       "    }\n",
       "\n",
       "    .dataframe thead th {\n",
       "        text-align: right;\n",
       "    }\n",
       "</style>\n",
       "<table border=\"1\" class=\"dataframe\">\n",
       "  <thead>\n",
       "    <tr style=\"text-align: right;\">\n",
       "      <th></th>\n",
       "      <th>cusip</th>\n",
       "      <th>symbol</th>\n",
       "      <th>description</th>\n",
       "      <th>exchange</th>\n",
       "      <th>assetType</th>\n",
       "      <th>high52</th>\n",
       "      <th>low52</th>\n",
       "      <th>dividendAmount</th>\n",
       "      <th>dividendYield</th>\n",
       "      <th>dividendDate</th>\n",
       "      <th>...</th>\n",
       "      <th>bookValuePerShare</th>\n",
       "      <th>shortIntToFloat</th>\n",
       "      <th>shortIntDayToCover</th>\n",
       "      <th>divGrowthRate3Year</th>\n",
       "      <th>dividendPayAmount</th>\n",
       "      <th>dividendPayDate</th>\n",
       "      <th>beta</th>\n",
       "      <th>vol1DayAvg</th>\n",
       "      <th>vol10DayAvg</th>\n",
       "      <th>vol3MonthAvg</th>\n",
       "    </tr>\n",
       "  </thead>\n",
       "  <tbody>\n",
       "    <tr>\n",
       "      <th>0</th>\n",
       "      <td>487836108</td>\n",
       "      <td>K</td>\n",
       "      <td>Kellogg Company Common Stock</td>\n",
       "      <td>NYSE</td>\n",
       "      <td>EQUITY</td>\n",
       "      <td>77.170</td>\n",
       "      <td>59.54</td>\n",
       "      <td>2.360</td>\n",
       "      <td>3.38</td>\n",
       "      <td>2022-11-30 00:00:00.000</td>\n",
       "      <td>...</td>\n",
       "      <td>14.90359</td>\n",
       "      <td>0.0</td>\n",
       "      <td>0.0</td>\n",
       "      <td>0.0</td>\n",
       "      <td>0.5900</td>\n",
       "      <td>2022-12-15 00:00:00.000</td>\n",
       "      <td>0.47586</td>\n",
       "      <td>3061990.0</td>\n",
       "      <td>3061994.0</td>\n",
       "      <td>46821460.0</td>\n",
       "    </tr>\n",
       "    <tr>\n",
       "      <th>1</th>\n",
       "      <td>285512109</td>\n",
       "      <td>EA</td>\n",
       "      <td>Electronic Arts Inc. - Common Stock</td>\n",
       "      <td>NASDAQ</td>\n",
       "      <td>EQUITY</td>\n",
       "      <td>146.720</td>\n",
       "      <td>109.24</td>\n",
       "      <td>0.760</td>\n",
       "      <td>0.59</td>\n",
       "      <td>2022-11-29 00:00:00.000</td>\n",
       "      <td>...</td>\n",
       "      <td>15.61689</td>\n",
       "      <td>0.0</td>\n",
       "      <td>0.0</td>\n",
       "      <td>0.0</td>\n",
       "      <td>0.1900</td>\n",
       "      <td>2022-12-21 00:00:00.000</td>\n",
       "      <td>0.86052</td>\n",
       "      <td>2377660.0</td>\n",
       "      <td>2377664.0</td>\n",
       "      <td>42033850.0</td>\n",
       "    </tr>\n",
       "    <tr>\n",
       "      <th>2</th>\n",
       "      <td>G491BT108</td>\n",
       "      <td>IVZ</td>\n",
       "      <td>Invesco Ltd Common Stock</td>\n",
       "      <td>NYSE</td>\n",
       "      <td>EQUITY</td>\n",
       "      <td>26.589</td>\n",
       "      <td>13.20</td>\n",
       "      <td>0.750</td>\n",
       "      <td>4.77</td>\n",
       "      <td>2022-11-09 00:00:00.000</td>\n",
       "      <td>...</td>\n",
       "      <td>12.57709</td>\n",
       "      <td>0.0</td>\n",
       "      <td>0.0</td>\n",
       "      <td>0.0</td>\n",
       "      <td>0.1875</td>\n",
       "      <td>2022-12-02 00:00:00.000</td>\n",
       "      <td>1.29678</td>\n",
       "      <td>6116250.0</td>\n",
       "      <td>6116254.0</td>\n",
       "      <td>106874110.0</td>\n",
       "    </tr>\n",
       "    <tr>\n",
       "      <th>3</th>\n",
       "      <td>756109104</td>\n",
       "      <td>O</td>\n",
       "      <td>Realty Income Corporation Common Stock</td>\n",
       "      <td>NYSE</td>\n",
       "      <td>EQUITY</td>\n",
       "      <td>75.400</td>\n",
       "      <td>55.50</td>\n",
       "      <td>2.976</td>\n",
       "      <td>4.72</td>\n",
       "      <td>2022-10-31 00:00:00.000</td>\n",
       "      <td>...</td>\n",
       "      <td>10.25254</td>\n",
       "      <td>0.0</td>\n",
       "      <td>0.0</td>\n",
       "      <td>0.0</td>\n",
       "      <td>0.2480</td>\n",
       "      <td>2022-11-15 00:00:00.000</td>\n",
       "      <td>0.78089</td>\n",
       "      <td>4191030.0</td>\n",
       "      <td>4191029.0</td>\n",
       "      <td>90296080.0</td>\n",
       "    </tr>\n",
       "  </tbody>\n",
       "</table>\n",
       "<p>4 rows × 50 columns</p>\n",
       "</div>"
      ],
      "text/plain": [
       "       cusip symbol                             description exchange  \\\n",
       "0  487836108      K            Kellogg Company Common Stock     NYSE   \n",
       "1  285512109     EA     Electronic Arts Inc. - Common Stock   NASDAQ   \n",
       "2  G491BT108    IVZ                Invesco Ltd Common Stock     NYSE   \n",
       "3  756109104      O  Realty Income Corporation Common Stock     NYSE   \n",
       "\n",
       "  assetType   high52   low52  dividendAmount  dividendYield  \\\n",
       "0    EQUITY   77.170   59.54           2.360           3.38   \n",
       "1    EQUITY  146.720  109.24           0.760           0.59   \n",
       "2    EQUITY   26.589   13.20           0.750           4.77   \n",
       "3    EQUITY   75.400   55.50           2.976           4.72   \n",
       "\n",
       "              dividendDate  ...  bookValuePerShare  shortIntToFloat  \\\n",
       "0  2022-11-30 00:00:00.000  ...           14.90359              0.0   \n",
       "1  2022-11-29 00:00:00.000  ...           15.61689              0.0   \n",
       "2  2022-11-09 00:00:00.000  ...           12.57709              0.0   \n",
       "3  2022-10-31 00:00:00.000  ...           10.25254              0.0   \n",
       "\n",
       "   shortIntDayToCover  divGrowthRate3Year  dividendPayAmount  \\\n",
       "0                 0.0                 0.0             0.5900   \n",
       "1                 0.0                 0.0             0.1900   \n",
       "2                 0.0                 0.0             0.1875   \n",
       "3                 0.0                 0.0             0.2480   \n",
       "\n",
       "           dividendPayDate     beta  vol1DayAvg  vol10DayAvg  vol3MonthAvg  \n",
       "0  2022-12-15 00:00:00.000  0.47586   3061990.0    3061994.0    46821460.0  \n",
       "1  2022-12-21 00:00:00.000  0.86052   2377660.0    2377664.0    42033850.0  \n",
       "2  2022-12-02 00:00:00.000  1.29678   6116250.0    6116254.0   106874110.0  \n",
       "3  2022-11-15 00:00:00.000  0.78089   4191030.0    4191029.0    90296080.0  \n",
       "\n",
       "[4 rows x 50 columns]"
      ]
     },
     "execution_count": 19,
     "metadata": {},
     "output_type": "execute_result"
    }
   ],
   "source": [
    "amc.AmeritradeRest('maiotradeuser', 'maiotradepw', 'maiotradeclientid').get_quotes(long_weights.index.to_list())\n",
    "td_ameritrade.get_fundamental(list(final_long_shares.index))"
   ]
  },
  {
   "cell_type": "code",
   "execution_count": 20,
   "metadata": {},
   "outputs": [
    {
     "name": "stderr",
     "output_type": "stream",
     "text": [
      "\n",
      "\n"
     ]
    },
    {
     "name": "stdout",
     "output_type": "stream",
     "text": [
      "2022-11-07 10:14:11.488034\n",
      "2022-11-07 10:14:11,489|WDM|INFO|\n",
      "\n"
     ]
    },
    {
     "name": "stderr",
     "output_type": "stream",
     "text": [
      "====== WebDriver manager ======\n"
     ]
    },
    {
     "name": "stdout",
     "output_type": "stream",
     "text": [
      "2022-11-07 10:14:11,491|WDM|INFO|====== WebDriver manager ======\n"
     ]
    },
    {
     "name": "stderr",
     "output_type": "stream",
     "text": [
      "Current google-chrome version is 107.0.5304\n"
     ]
    },
    {
     "name": "stdout",
     "output_type": "stream",
     "text": [
      "2022-11-07 10:14:11,533|WDM|INFO|Current google-chrome version is 107.0.5304\n"
     ]
    },
    {
     "name": "stderr",
     "output_type": "stream",
     "text": [
      "Get LATEST chromedriver version for 107.0.5304 google-chrome\n"
     ]
    },
    {
     "name": "stdout",
     "output_type": "stream",
     "text": [
      "2022-11-07 10:14:11,535|WDM|INFO|Get LATEST chromedriver version for 107.0.5304 google-chrome\n"
     ]
    },
    {
     "name": "stderr",
     "output_type": "stream",
     "text": [
      "Driver [C:\\Users\\HP-Z440\\.wdm\\drivers\\chromedriver\\win32\\107.0.5304.62\\chromedriver.exe] found in cache\n"
     ]
    },
    {
     "name": "stdout",
     "output_type": "stream",
     "text": [
      "2022-11-07 10:14:11,622|WDM|INFO|Driver [C:\\Users\\HP-Z440\\.wdm\\drivers\\chromedriver\\win32\\107.0.5304.62\\chromedriver.exe] found in cache\n",
      "Placing BUY order on 768492021 for 19.0 shares of EA:EQUITY...\n",
      "Placed BUY order on #---2021 for 19.0 shares of EA\n",
      "Placing BUY order on 768492021 for 160.0 shares of IVZ:EQUITY...\n",
      "Placed BUY order on #---2021 for 160.0 shares of IVZ\n",
      "Placing BUY order on 768492021 for 19.0 shares of K:EQUITY...\n",
      "Placed BUY order on #---2021 for 19.0 shares of K\n",
      "Placing BUY order on 768492021 for 40.0 shares of O:EQUITY...\n",
      "Placed BUY order on #---2021 for 40.0 shares of O\n"
     ]
    }
   ],
   "source": [
    "print(datetime.today())\n",
    "td_ameritrade = amc.AmeritradeRest('maiotradeuser', 'maiotradepw', 'maiotradeclientid')\n",
    "td_ameritrade.authenticate()\n",
    "td_ameritrade.parse_portfolios_list()\n",
    "account_number = td_ameritrade.unmask_account(masked_account_number)\n",
    "\n",
    "for index, row in final_long_shares.iterrows():\n",
    "    fundamental = td_ameritrade.get_fundamental([index])\n",
    "    print(f'Placing BUY order on {account_number} for {row.shares} shares of {index}:{fundamental.loc[0].assetType}...')\n",
    "    result = td_ameritrade.place_order(account_number, index, fundamental.loc[0].assetType, row.shares, 'BUY')"
   ]
  },
  {
   "cell_type": "code",
   "execution_count": 23,
   "metadata": {},
   "outputs": [
    {
     "data": {
      "application/vnd.jupyter.widget-view+json": {
       "model_id": "298e041d5c4f4ded96d0dce0c74d07a3",
       "version_major": 2,
       "version_minor": 0
      },
      "text/plain": [
       "Tickers:   0%|          | 0/5 [00:00<?, ?Price Histories/s]"
      ]
     },
     "metadata": {},
     "output_type": "display_data"
    },
    {
     "data": {
      "text/plain": [
       "<AxesSubplot:xlabel='date'>"
      ]
     },
     "execution_count": 23,
     "metadata": {},
     "output_type": "execute_result"
    },
    {
     "data": {
      "image/png": "[encoded data removed]",
      "text/plain": [
       "<Figure size 1440x576 with 1 Axes>"
      ]
     },
     "metadata": {
      "needs_background": "light"
     },
     "output_type": "display_data"
    }
   ],
   "source": [
    "number_of_years = 5\n",
    "portfolio_price_histories = amc.AmeritradeRest('maiotradeuser', 'maiotradepw', 'maiotradeclientid').get_price_histories(list(long_shares.index), datetime.today().strftime('%Y-%m-%d'), num_periods=number_of_years)\n",
    "portfolio_close = utils.get_close_values(portfolio_price_histories)\n",
    "utils.compute_log_returns(portfolio_close)[-5:].cumsum().plot()"
   ]
  },
  {
   "cell_type": "markdown",
   "metadata": {},
   "source": [
    "## import ameritrade_functions as amc\n",
    "\n",
    "td_ameritrade = amc.AmeritradeRest('maiotradeuser', 'maiotradepw', 'maiotradeclientid')\n",
    "td_ameritrade.authenticate()\n",
    "td_ameritrade.parse_accounts().loc[masked_account_number]"
   ]
  }
 ],
 "metadata": {
  "kernelspec": {
   "display_name": "Python [conda env:ml4t] *",
   "language": "python",
   "name": "conda-env-ml4t-py"
  },
  "language_info": {
   "codemirror_mode": {
    "name": "ipython",
    "version": 3
   },
   "file_extension": ".py",
   "mimetype": "text/x-python",
   "name": "python",
   "nbconvert_exporter": "python",
   "pygments_lexer": "ipython3",
   "version": "3.8.8"
  }
 },
 "nbformat": 4,
 "nbformat_minor": 4
}
