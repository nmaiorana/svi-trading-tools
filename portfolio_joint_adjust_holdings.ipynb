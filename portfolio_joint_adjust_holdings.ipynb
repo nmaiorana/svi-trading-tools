{
 "cells": [
  {
   "cell_type": "markdown",
   "metadata": {},
   "source": [
    "# Portfolio Workflow"
   ]
  },
  {
   "cell_type": "markdown",
   "metadata": {},
   "source": [
    "## Use the last week to determine current portfolio mix"
   ]
  },
  {
   "cell_type": "code",
   "execution_count": 10,
   "metadata": {},
   "outputs": [],
   "source": [
    "from platform import python_version\n",
    "import configparser\n",
    "import logging.config\n",
    "import pandas as pd\n",
    "import pickle\n",
    "import matplotlib.pyplot as plt\n",
    "from datetime import datetime\n",
    "import time\n",
    "import math\n",
    "\n",
    "import portfolio_optimizer\n",
    "from portfolio_optimizer import OptimalHoldings\n",
    "import trading_factors_yahoo as alpha_factors\n",
    "import ameritrade_functions as amc\n",
    "import utils as utils\n",
    "\n",
    "logging.config.fileConfig('./config/logging.ini')\n",
    "logger = logging.getLogger('JointHoldingsAdjustement')\n",
    "logger.info(f'Python version: {python_version()}')\n",
    "logger.info(f'Pandas version: {pd.__version__}')\n",
    "\n",
    "config = configparser.ConfigParser()\n",
    "config.read('./config/config.ini')\n",
    "default_config = config['JOINT']\n",
    "\n",
    "# Which account are we interested in\n",
    "masked_account_number = default_config['masked_account_number']\n",
    "account_portfolios_file_name = 'data/portfolio_data.csv'\n",
    "portfolio_file_name = 'data/portfolio_' + masked_account_number[-4:] + '.csv'\n",
    "price_histories_file_name = '../data/price_histories_yahoo.csv'"
   ]
  },
  {
   "cell_type": "code",
   "execution_count": 2,
   "metadata": {},
   "outputs": [
    {
     "name": "stdout",
     "output_type": "stream",
     "text": [
      "2022-11-27 16:40:57,717|JointHoldingsAdjustement|INFO|PRICE_HISTORIES_FILE|./data/price_histories_yahoo.csv...\n",
      "2022-11-27 16:40:58,855|JointHoldingsAdjustement|INFO|PRICE_HISTORIES|2017-11-27 00:00:00|2022-11-25 00:00:00\n",
      "2022-11-27 16:40:58,890|JointHoldingsAdjustement|INFO|AI_ALPHA_FACTORS_FILE|./data/alpha_vectors.csv\n",
      "2022-11-27 16:40:58,891|JointHoldingsAdjustement|INFO|BETA_FACTORS_FILE|./data/daily_beta.pickle\n",
      "2022-11-27 16:40:59,107|JointHoldingsAdjustement|INFO|ALPHA_STOCKS|501\n"
     ]
    }
   ],
   "source": [
    "price_histories_file_name = default_config[\"DataDirectory\"] + '/' + default_config[\"PriceHistoriesFileName\"]\n",
    "logger.info(f'PRICE_HISTORIES_FILE|{price_histories_file_name}...')\n",
    "price_histories = pd.read_csv(price_histories_file_name, header=[0, 1], index_col=[0], parse_dates=True, low_memory=False)\n",
    "logger.info(f'PRICE_HISTORIES|{price_histories.index.min()}|{price_histories.index.max()}')\n",
    "returns = alpha_factors.FactorReturns(price_histories).factor_data\n",
    "\n",
    "ai_alpha_factors_file_name = default_config['DataDirectory'] + '/' + default_config['AIAlphaFileName']\n",
    "logger.info(f'AI_ALPHA_FACTORS_FILE|{ai_alpha_factors_file_name}')\n",
    "\n",
    "beta_factors_file_name = default_config[\"DataDirectory\"] + '/' + default_config[\"BetaFactorsFileName\"]\n",
    "logger.info(f'BETA_FACTORS_FILE|{beta_factors_file_name}')\n",
    "\n",
    "alpha_vectors = pd.read_csv(ai_alpha_factors_file_name, parse_dates=['Date']).set_index(['Date']).sort_index()\n",
    "logger.info(f'ALPHA_STOCKS|{len(alpha_vectors.columns)}')"
   ]
  },
  {
   "cell_type": "code",
   "execution_count": 3,
   "metadata": {},
   "outputs": [
    {
     "name": "stdout",
     "output_type": "stream",
     "text": [
      "2022-11-27 16:40:59,116|JointHoldingsAdjustement|INFO|OPTIMIZATION|risk_cap|0.015\n",
      "2022-11-27 16:40:59,117|JointHoldingsAdjustement|INFO|OPTIMIZATION|weights_max|0.2\n",
      "2022-11-27 16:40:59,117|JointHoldingsAdjustement|INFO|OPTIMIZATION|weights_min|0.0\n"
     ]
    }
   ],
   "source": [
    "risk_cap = float(default_config['risk_cap'])\n",
    "weights_max = float(default_config['weights_max'])\n",
    "weights_min = float(default_config['weights_min'])\n",
    "logger.info(f'OPTIMIZATION|risk_cap|{risk_cap}')\n",
    "logger.info(f'OPTIMIZATION|weights_max|{weights_max}')\n",
    "logger.info(f'OPTIMIZATION|weights_min|{weights_min}')"
   ]
  },
  {
   "cell_type": "code",
   "execution_count": 4,
   "metadata": {},
   "outputs": [
    {
     "data": {
      "application/vnd.jupyter.widget-view+json": {
       "model_id": "09c29e29874244c98781eb0a35001947",
       "version_major": 2,
       "version_minor": 0
      },
      "text/plain": [
       "Tickers:   0%|          | 0/501 [00:00<?, ?Finvis Postings/s]"
      ]
     },
     "metadata": {},
     "output_type": "display_data"
    },
    {
     "data": {
      "application/vnd.jupyter.widget-view+json": {
       "model_id": "87087399f4ac47c29e37861954827f65",
       "version_major": 2,
       "version_minor": 0
      },
      "text/plain": [
       "News Tables:   0%|          | 0/501 [00:00<?, ?News Table Items/s]"
      ]
     },
     "metadata": {},
     "output_type": "display_data"
    },
    {
     "name": "stderr",
     "output_type": "stream",
     "text": [
      "c:\\users\\hp-z440\\anaconda projects\\svi-trading-tools\\tools\\utils.py:338: FutureWarning: The default value of numeric_only in DataFrameGroupBy.mean is deprecated. In a future version, numeric_only will default to False. Either specify numeric_only or select only columns which should be valid for the function.\n",
      "  mean_scores = parsed_and_scored_news.groupby(['ticker', 'date']).mean().fillna(0)\n"
     ]
    }
   ],
   "source": [
    "reduced_stocks = utils.reduce_universe_by_sentiment(alpha_vectors.columns)"
   ]
  },
  {
   "cell_type": "code",
   "execution_count": 5,
   "metadata": {},
   "outputs": [
    {
     "name": "stdout",
     "output_type": "stream",
     "text": [
      "2022-11-27 16:44:32,587|JointHoldingsAdjustement|INFO|SENTIMENT_REDUCTION|0.85|501->425\n"
     ]
    }
   ],
   "source": [
    "# Error check to make sure we didn't reduce by too much\n",
    "\n",
    "pct_red = len(reduced_stocks) / len(alpha_vectors.columns)\n",
    "logger.info(f'SENTIMENT_REDUCTION|{pct_red:0.2f}|{len(alpha_vectors.columns)}->{len(reduced_stocks)}')\n",
    "if pct_red < 0.50:\n",
    "    logger.error(f'SENTIMENT_REDUCTION|OVER_REDUCED|{len(alpha_vectors.columns)}->{len(reduced_stocks)}')\n",
    "    raise SystemExit"
   ]
  },
  {
   "cell_type": "code",
   "execution_count": 6,
   "metadata": {},
   "outputs": [
    {
     "name": "stdout",
     "output_type": "stream",
     "text": [
      "2022-11-27 16:44:32,605|JointHoldingsAdjustement|INFO|FINAL_ALPHA_STOCKS|425\n",
      "2022-11-27 16:44:32,690|JointHoldingsAdjustement|INFO|OPT_DATE|2022-11-25 00:00:00\n"
     ]
    },
    {
     "name": "stderr",
     "output_type": "stream",
     "text": [
      "C:\\Users\\HP-Z440\\anaconda3\\envs\\svi_tt_p308\\lib\\site-packages\\cvxpy\\problems\\problem.py:1337: UserWarning: Solution may be inaccurate. Try another solver, adjusting the solver settings, or solve with verbose=True for more information.\n",
      "  warnings.warn(\n"
     ]
    }
   ],
   "source": [
    "final_alhpa_vectors = alpha_vectors[reduced_stocks]\n",
    "logger.info(f'FINAL_ALPHA_STOCKS|{len(final_alhpa_vectors.columns)}')\n",
    "opt_date = final_alhpa_vectors.index[-1]\n",
    "start_of_returns = opt_date - pd.offsets.DateOffset(years=1)\n",
    "final_beta_returns = returns[reduced_stocks].loc[start_of_returns:opt_date]\n",
    "risk_model = alpha_factors.RiskModelPCA(final_beta_returns, 1, 20)\n",
    "logger.info(f'OPT_DATE|{opt_date}')\n",
    "alpha_vector = pd.DataFrame(final_alhpa_vectors.loc[opt_date])\n",
    "optimal_weights = OptimalHoldings(risk_cap=risk_cap,weights_max=weights_max, weights_min=weights_min).find(alpha_vector, risk_model.factor_betas_, risk_model.factor_cov_matrix_, risk_model.idiosyncratic_var_vector_)"
   ]
  },
  {
   "cell_type": "code",
   "execution_count": 7,
   "metadata": {},
   "outputs": [
    {
     "name": "stdout",
     "output_type": "stream",
     "text": [
      "2022-11-27 16:44:46,630|JointHoldingsAdjustement|INFO|AJD_PORT_VARIANCE|0.01500000\n"
     ]
    },
    {
     "data": {
      "image/png": "[encoded data removed]",
      "text/plain": [
       "<Figure size 2000x800 with 1 Axes>"
      ]
     },
     "metadata": {},
     "output_type": "display_data"
    }
   ],
   "source": [
    "long_weights = optimal_weights[(100 * optimal_weights['optimalWeights']).round() > 5.0]\n",
    "returns[-252:][long_weights.index.to_list()].cumsum().plot(figsize=(20,8))\n",
    "logger.info(f'AJD_PORT_VARIANCE|{risk_model.compute_portfolio_variance(optimal_weights):.8f}')"
   ]
  },
  {
   "cell_type": "code",
   "execution_count": 8,
   "metadata": {},
   "outputs": [
    {
     "name": "stdout",
     "output_type": "stream",
     "text": [
      "2022-11-27 16:44:47,025|JointHoldingsAdjustement|INFO|STOCK|GRMN                |HOLDING|0.200000\n",
      "2022-11-27 16:44:47,026|JointHoldingsAdjustement|INFO|STOCK|LDOS                |HOLDING|0.055528\n",
      "2022-11-27 16:44:47,027|JointHoldingsAdjustement|INFO|STOCK|OKE                 |HOLDING|0.200000\n",
      "2022-11-27 16:44:47,028|JointHoldingsAdjustement|INFO|STOCK|STZ                 |HOLDING|0.200000\n",
      "2022-11-27 16:44:47,029|JointHoldingsAdjustement|INFO|STOCK|UAL                 |HOLDING|0.144472\n",
      "2022-11-27 16:44:47,030|JointHoldingsAdjustement|INFO|STOCK|WTW                 |HOLDING|0.200000\n"
     ]
    }
   ],
   "source": [
    "for index, row in long_weights.iterrows():\n",
    "    logger.info(f'STOCK|{index:20}|HOLDING|{row.optimalWeights:2f}')"
   ]
  },
  {
   "cell_type": "code",
   "execution_count": 11,
   "metadata": {},
   "outputs": [
    {
     "data": {
      "text/html": [
       "<div>\n",
       "<style scoped>\n",
       "    .dataframe tbody tr th:only-of-type {\n",
       "        vertical-align: middle;\n",
       "    }\n",
       "\n",
       "    .dataframe tbody tr th {\n",
       "        vertical-align: top;\n",
       "    }\n",
       "\n",
       "    .dataframe thead th {\n",
       "        text-align: right;\n",
       "    }\n",
       "</style>\n",
       "<table border=\"1\" class=\"dataframe\">\n",
       "  <thead>\n",
       "    <tr style=\"text-align: right;\">\n",
       "      <th></th>\n",
       "      <th>cusip</th>\n",
       "      <th>symbol</th>\n",
       "      <th>description</th>\n",
       "      <th>exchange</th>\n",
       "      <th>assetType</th>\n",
       "      <th>high52</th>\n",
       "      <th>low52</th>\n",
       "      <th>dividendAmount</th>\n",
       "      <th>dividendYield</th>\n",
       "      <th>dividendDate</th>\n",
       "      <th>...</th>\n",
       "      <th>bookValuePerShare</th>\n",
       "      <th>shortIntToFloat</th>\n",
       "      <th>shortIntDayToCover</th>\n",
       "      <th>divGrowthRate3Year</th>\n",
       "      <th>dividendPayAmount</th>\n",
       "      <th>dividendPayDate</th>\n",
       "      <th>beta</th>\n",
       "      <th>vol1DayAvg</th>\n",
       "      <th>vol10DayAvg</th>\n",
       "      <th>vol3MonthAvg</th>\n",
       "    </tr>\n",
       "  </thead>\n",
       "  <tbody>\n",
       "    <tr>\n",
       "      <th>0</th>\n",
       "      <td>910047109</td>\n",
       "      <td>UAL</td>\n",
       "      <td>United Airlines Holdings, Inc. - Common Stock</td>\n",
       "      <td>NASDAQ</td>\n",
       "      <td>EQUITY</td>\n",
       "      <td>53.115</td>\n",
       "      <td>30.5400</td>\n",
       "      <td>0.00</td>\n",
       "      <td>0.00</td>\n",
       "      <td></td>\n",
       "      <td>...</td>\n",
       "      <td>0.00000</td>\n",
       "      <td>0.0</td>\n",
       "      <td>0.0</td>\n",
       "      <td>0.0</td>\n",
       "      <td>0.000</td>\n",
       "      <td></td>\n",
       "      <td>1.33715</td>\n",
       "      <td>4824850.0</td>\n",
       "      <td>4824845.0</td>\n",
       "      <td>194452980.0</td>\n",
       "    </tr>\n",
       "    <tr>\n",
       "      <th>1</th>\n",
       "      <td>682680103</td>\n",
       "      <td>OKE</td>\n",
       "      <td>ONEOK, Inc. Common Stock</td>\n",
       "      <td>NYSE</td>\n",
       "      <td>EQUITY</td>\n",
       "      <td>75.070</td>\n",
       "      <td>50.5000</td>\n",
       "      <td>3.74</td>\n",
       "      <td>5.72</td>\n",
       "      <td>2022-10-31 00:00:00.000</td>\n",
       "      <td>...</td>\n",
       "      <td>71.99105</td>\n",
       "      <td>0.0</td>\n",
       "      <td>0.0</td>\n",
       "      <td>0.0</td>\n",
       "      <td>0.935</td>\n",
       "      <td>2022-11-14 00:00:00.000</td>\n",
       "      <td>1.67064</td>\n",
       "      <td>2288660.0</td>\n",
       "      <td>2288660.0</td>\n",
       "      <td>54093180.0</td>\n",
       "    </tr>\n",
       "    <tr>\n",
       "      <th>2</th>\n",
       "      <td>21036P108</td>\n",
       "      <td>STZ</td>\n",
       "      <td>Constellation Brands, Inc. Common Stock</td>\n",
       "      <td>NYSE</td>\n",
       "      <td>EQUITY</td>\n",
       "      <td>261.525</td>\n",
       "      <td>207.5916</td>\n",
       "      <td>3.20</td>\n",
       "      <td>1.24</td>\n",
       "      <td>2022-11-03 00:00:00.000</td>\n",
       "      <td>...</td>\n",
       "      <td>12.04015</td>\n",
       "      <td>0.0</td>\n",
       "      <td>0.0</td>\n",
       "      <td>0.0</td>\n",
       "      <td>0.800</td>\n",
       "      <td>2022-11-18 00:00:00.000</td>\n",
       "      <td>0.98790</td>\n",
       "      <td>1012630.0</td>\n",
       "      <td>1012633.0</td>\n",
       "      <td>20957580.0</td>\n",
       "    </tr>\n",
       "    <tr>\n",
       "      <th>3</th>\n",
       "      <td>G96629103</td>\n",
       "      <td>WTW</td>\n",
       "      <td>Willis Towers Watson Public Limited Company - ...</td>\n",
       "      <td>NASDAQ</td>\n",
       "      <td>EQUITY</td>\n",
       "      <td>244.730</td>\n",
       "      <td>187.8900</td>\n",
       "      <td>3.28</td>\n",
       "      <td>1.34</td>\n",
       "      <td>2022-09-29 00:00:00.000</td>\n",
       "      <td>...</td>\n",
       "      <td>8.02709</td>\n",
       "      <td>0.0</td>\n",
       "      <td>0.0</td>\n",
       "      <td>0.0</td>\n",
       "      <td>0.820</td>\n",
       "      <td>2022-10-17 00:00:00.000</td>\n",
       "      <td>0.77005</td>\n",
       "      <td>647810.0</td>\n",
       "      <td>647809.0</td>\n",
       "      <td>12928810.0</td>\n",
       "    </tr>\n",
       "    <tr>\n",
       "      <th>4</th>\n",
       "      <td>H2906T109</td>\n",
       "      <td>GRMN</td>\n",
       "      <td>Garmin Ltd. Common Stock (Switzerland)</td>\n",
       "      <td>NYSE</td>\n",
       "      <td>EQUITY</td>\n",
       "      <td>140.930</td>\n",
       "      <td>76.3700</td>\n",
       "      <td>2.92</td>\n",
       "      <td>3.21</td>\n",
       "      <td>2022-12-14 00:00:00.000</td>\n",
       "      <td>...</td>\n",
       "      <td>11.85881</td>\n",
       "      <td>0.0</td>\n",
       "      <td>0.0</td>\n",
       "      <td>0.0</td>\n",
       "      <td>0.730</td>\n",
       "      <td>2022-12-30 00:00:00.000</td>\n",
       "      <td>0.97519</td>\n",
       "      <td>756220.0</td>\n",
       "      <td>756221.0</td>\n",
       "      <td>21442890.0</td>\n",
       "    </tr>\n",
       "    <tr>\n",
       "      <th>5</th>\n",
       "      <td>525327102</td>\n",
       "      <td>LDOS</td>\n",
       "      <td>Leidos Holdings, Inc. Common Stock</td>\n",
       "      <td>NYSE</td>\n",
       "      <td>EQUITY</td>\n",
       "      <td>111.120</td>\n",
       "      <td>81.0700</td>\n",
       "      <td>1.44</td>\n",
       "      <td>1.32</td>\n",
       "      <td>2022-12-14 00:00:00.000</td>\n",
       "      <td>...</td>\n",
       "      <td>7.95850</td>\n",
       "      <td>0.0</td>\n",
       "      <td>0.0</td>\n",
       "      <td>0.0</td>\n",
       "      <td>0.360</td>\n",
       "      <td>2022-12-30 00:00:00.000</td>\n",
       "      <td>0.80734</td>\n",
       "      <td>1003070.0</td>\n",
       "      <td>1003067.0</td>\n",
       "      <td>16234220.0</td>\n",
       "    </tr>\n",
       "  </tbody>\n",
       "</table>\n",
       "<p>6 rows × 50 columns</p>\n",
       "</div>"
      ],
      "text/plain": [
       "       cusip symbol                                        description  \\\n",
       "0  910047109    UAL      United Airlines Holdings, Inc. - Common Stock   \n",
       "1  682680103    OKE                           ONEOK, Inc. Common Stock   \n",
       "2  21036P108    STZ            Constellation Brands, Inc. Common Stock   \n",
       "3  G96629103    WTW  Willis Towers Watson Public Limited Company - ...   \n",
       "4  H2906T109   GRMN             Garmin Ltd. Common Stock (Switzerland)   \n",
       "5  525327102   LDOS                 Leidos Holdings, Inc. Common Stock   \n",
       "\n",
       "  exchange assetType   high52     low52  dividendAmount  dividendYield  \\\n",
       "0   NASDAQ    EQUITY   53.115   30.5400            0.00           0.00   \n",
       "1     NYSE    EQUITY   75.070   50.5000            3.74           5.72   \n",
       "2     NYSE    EQUITY  261.525  207.5916            3.20           1.24   \n",
       "3   NASDAQ    EQUITY  244.730  187.8900            3.28           1.34   \n",
       "4     NYSE    EQUITY  140.930   76.3700            2.92           3.21   \n",
       "5     NYSE    EQUITY  111.120   81.0700            1.44           1.32   \n",
       "\n",
       "              dividendDate  ...  bookValuePerShare  shortIntToFloat  \\\n",
       "0                           ...            0.00000              0.0   \n",
       "1  2022-10-31 00:00:00.000  ...           71.99105              0.0   \n",
       "2  2022-11-03 00:00:00.000  ...           12.04015              0.0   \n",
       "3  2022-09-29 00:00:00.000  ...            8.02709              0.0   \n",
       "4  2022-12-14 00:00:00.000  ...           11.85881              0.0   \n",
       "5  2022-12-14 00:00:00.000  ...            7.95850              0.0   \n",
       "\n",
       "   shortIntDayToCover  divGrowthRate3Year  dividendPayAmount  \\\n",
       "0                 0.0                 0.0              0.000   \n",
       "1                 0.0                 0.0              0.935   \n",
       "2                 0.0                 0.0              0.800   \n",
       "3                 0.0                 0.0              0.820   \n",
       "4                 0.0                 0.0              0.730   \n",
       "5                 0.0                 0.0              0.360   \n",
       "\n",
       "           dividendPayDate     beta  vol1DayAvg  vol10DayAvg  vol3MonthAvg  \n",
       "0                           1.33715   4824850.0    4824845.0   194452980.0  \n",
       "1  2022-11-14 00:00:00.000  1.67064   2288660.0    2288660.0    54093180.0  \n",
       "2  2022-11-18 00:00:00.000  0.98790   1012630.0    1012633.0    20957580.0  \n",
       "3  2022-10-17 00:00:00.000  0.77005    647810.0     647809.0    12928810.0  \n",
       "4  2022-12-30 00:00:00.000  0.97519    756220.0     756221.0    21442890.0  \n",
       "5  2022-12-30 00:00:00.000  0.80734   1003070.0    1003067.0    16234220.0  \n",
       "\n",
       "[6 rows x 50 columns]"
      ]
     },
     "metadata": {},
     "output_type": "display_data"
    }
   ],
   "source": [
    "td_ameritrade = amc.AmeritradeRest()\n",
    "td_ameritrade.authenticate()\n",
    "display(td_ameritrade.get_fundamental(list(long_weights.index.to_list())))"
   ]
  },
  {
   "cell_type": "code",
   "execution_count": 12,
   "metadata": {},
   "outputs": [
    {
     "data": {
      "application/vnd.jupyter.widget-view+json": {
       "model_id": "fe96cf741de644368348c37f08b14406",
       "version_major": 2,
       "version_minor": 0
      },
      "text/plain": [
       "Tickers:   0%|          | 0/6 [00:00<?, ?Finvis Postings/s]"
      ]
     },
     "metadata": {},
     "output_type": "display_data"
    },
    {
     "data": {
      "application/vnd.jupyter.widget-view+json": {
       "model_id": "db15865bf4524d83ba7675de3094e701",
       "version_major": 2,
       "version_minor": 0
      },
      "text/plain": [
       "News Tables:   0%|          | 0/6 [00:00<?, ?News Table Items/s]"
      ]
     },
     "metadata": {},
     "output_type": "display_data"
    },
    {
     "name": "stderr",
     "output_type": "stream",
     "text": [
      "C:\\Users\\HP-Z440\\AppData\\Local\\Temp\\ipykernel_16272\\1254735451.py:3: FutureWarning: The default value of numeric_only in DataFrameGroupBy.mean is deprecated. In a future version, numeric_only will default to False. Either specify numeric_only or select only columns which should be valid for the function.\n",
      "  mean_scores = parsed_and_scored_news.groupby(['ticker','date']).mean()\n"
     ]
    },
    {
     "data": {
      "image/png": "[encoded data removed]",
      "text/plain": [
       "<Figure size 2000x800 with 1 Axes>"
      ]
     },
     "metadata": {},
     "output_type": "display_data"
    }
   ],
   "source": [
    "parsed_and_scored_news = utils.get_finvis_stock_sentiment(long_weights.index.to_list()).sort_values(by='date')\n",
    "# Group by date and ticker columns from scored_news and calculate the mean\n",
    "mean_scores = parsed_and_scored_news.groupby(['ticker','date']).mean()\n",
    "# Unstack the column ticker\n",
    "mean_scores = mean_scores.unstack()\n",
    "# Get the cross-section of compound in the 'columns' axis\n",
    "mean_scores = mean_scores.xs('compound', axis=\"columns\").transpose()\n",
    "# Plot a bar chart with pandas\n",
    "mean_scores[-20:].plot(kind = 'bar')\n",
    "plt.grid()"
   ]
  },
  {
   "cell_type": "markdown",
   "metadata": {
    "tags": []
   },
   "source": [
    "## First lets see which stocks we already own for a specific account\n",
    "\n",
    "I only want to work with Equity investments. This is kind of confusing, but at the account level assets that can be traded are call \"EQUITY\". When you get quotes for each asset, the same asset can be something like \"ETF\".\n",
    "\n",
    "I also use Ameritrade's portfolio planner tool to create an asset mix based off of their reccomendations. I don't want these stocks (or in my case mutual funds and ETFs) to be part of this analysis. So I'll remove them here."
   ]
  },
  {
   "cell_type": "markdown",
   "metadata": {},
   "source": [
    "## Configure Ameritrade Information\n",
    "\n",
    "Ameritrade credentials are stored in environment variables to keep from having unencrypted passwords stored on disk.\n",
    "\n",
    "The module automatically masks the account numbers to protect the actual accounts. An Ameritrade user can have many investment accounts. We will be working with only one for this demonstration."
   ]
  },
  {
   "cell_type": "markdown",
   "metadata": {},
   "source": [
    "## Authentication Tokens\n",
    "\n",
    "To get data from Ameritrade you will need to obtains a short time use token (there is a re-use token, but I have not coded it yet.) You only need to do this if you\n",
    "are going to use an existing Ameritrade account to define an initial set of stocks to analyze.\n",
    "\n",
    "To obtain a token, you will need to have a Chrome driver located somewhere on your system. This will allow the module to use your credentials to obtain an authentication token.\n",
    "\n",
    "For security reasons, I sugges using environment variables to store your credential information. If you store them in property files, or just code them into your notebook, you risk sharing the information with others if you use GitHub or some other SCCS. This also makes it easier to have them availabe from project to project in your development environment\n",
    "\n",
    "<span style=\"color:blue\">Note: *Account numbers are masked for security purposes.*</span>"
   ]
  },
  {
   "cell_type": "code",
   "execution_count": 13,
   "metadata": {},
   "outputs": [],
   "source": [
    "if len(td_ameritrade.authorization) == 0:\n",
    "    logger.error('Error: No authorization data: {}'.format(td_ameritrade.authorization))\n",
    "    raise SystemExit\n",
    "else:\n",
    "    logger.info('You have authorization')"
   ]
  },
  {
   "cell_type": "code",
   "execution_count": 14,
   "metadata": {},
   "outputs": [
    {
     "data": {
      "text/plain": [
       "90.0"
      ]
     },
     "execution_count": 14,
     "metadata": {},
     "output_type": "execute_result"
    }
   ],
   "source": [
    "td_ameritrade.authorization['refresh_token_expires_in'] / 60 / 60 / 24"
   ]
  },
  {
   "cell_type": "code",
   "execution_count": 15,
   "metadata": {},
   "outputs": [
    {
     "data": {
      "text/html": [
       "<div>\n",
       "<style scoped>\n",
       "    .dataframe tbody tr th:only-of-type {\n",
       "        vertical-align: middle;\n",
       "    }\n",
       "\n",
       "    .dataframe tbody tr th {\n",
       "        vertical-align: top;\n",
       "    }\n",
       "\n",
       "    .dataframe thead th {\n",
       "        text-align: right;\n",
       "    }\n",
       "</style>\n",
       "<table border=\"1\" class=\"dataframe\">\n",
       "  <thead>\n",
       "    <tr style=\"text-align: right;\">\n",
       "      <th></th>\n",
       "      <th></th>\n",
       "      <th>shortQuantity</th>\n",
       "      <th>averagePrice</th>\n",
       "      <th>currentDayCost</th>\n",
       "      <th>currentDayProfitLoss</th>\n",
       "      <th>currentDayProfitLossPercentage</th>\n",
       "      <th>longQuantity</th>\n",
       "      <th>settledLongQuantity</th>\n",
       "      <th>settledShortQuantity</th>\n",
       "      <th>marketValue</th>\n",
       "      <th>maintenanceRequirement</th>\n",
       "      <th>previousSessionLongQuantity</th>\n",
       "      <th>assetType</th>\n",
       "      <th>cusip</th>\n",
       "      <th>description</th>\n",
       "      <th>type</th>\n",
       "    </tr>\n",
       "    <tr>\n",
       "      <th>account</th>\n",
       "      <th>symbol</th>\n",
       "      <th></th>\n",
       "      <th></th>\n",
       "      <th></th>\n",
       "      <th></th>\n",
       "      <th></th>\n",
       "      <th></th>\n",
       "      <th></th>\n",
       "      <th></th>\n",
       "      <th></th>\n",
       "      <th></th>\n",
       "      <th></th>\n",
       "      <th></th>\n",
       "      <th></th>\n",
       "      <th></th>\n",
       "      <th></th>\n",
       "    </tr>\n",
       "  </thead>\n",
       "  <tbody>\n",
       "    <tr>\n",
       "      <th rowspan=\"7\" valign=\"top\">#---2021</th>\n",
       "      <th>ETR</th>\n",
       "      <td>0.0</td>\n",
       "      <td>112.25500</td>\n",
       "      <td>0.0</td>\n",
       "      <td>0.0</td>\n",
       "      <td>0.0</td>\n",
       "      <td>22.0</td>\n",
       "      <td>22.0</td>\n",
       "      <td>0.0</td>\n",
       "      <td>2502.50</td>\n",
       "      <td>750.75</td>\n",
       "      <td>22.0</td>\n",
       "      <td>EQUITY</td>\n",
       "      <td>29364G103</td>\n",
       "      <td>0</td>\n",
       "      <td>0</td>\n",
       "    </tr>\n",
       "    <tr>\n",
       "      <th>HSY</th>\n",
       "      <td>0.0</td>\n",
       "      <td>225.48000</td>\n",
       "      <td>0.0</td>\n",
       "      <td>0.0</td>\n",
       "      <td>0.0</td>\n",
       "      <td>11.0</td>\n",
       "      <td>11.0</td>\n",
       "      <td>0.0</td>\n",
       "      <td>2571.36</td>\n",
       "      <td>771.41</td>\n",
       "      <td>11.0</td>\n",
       "      <td>EQUITY</td>\n",
       "      <td>427866108</td>\n",
       "      <td>0</td>\n",
       "      <td>0</td>\n",
       "    </tr>\n",
       "    <tr>\n",
       "      <th>VTR</th>\n",
       "      <td>0.0</td>\n",
       "      <td>43.67893</td>\n",
       "      <td>0.0</td>\n",
       "      <td>0.0</td>\n",
       "      <td>0.0</td>\n",
       "      <td>56.0</td>\n",
       "      <td>56.0</td>\n",
       "      <td>0.0</td>\n",
       "      <td>2547.44</td>\n",
       "      <td>764.23</td>\n",
       "      <td>56.0</td>\n",
       "      <td>EQUITY</td>\n",
       "      <td>92276F100</td>\n",
       "      <td>0</td>\n",
       "      <td>0</td>\n",
       "    </tr>\n",
       "    <tr>\n",
       "      <th>WKHS</th>\n",
       "      <td>0.0</td>\n",
       "      <td>10.49180</td>\n",
       "      <td>0.0</td>\n",
       "      <td>0.0</td>\n",
       "      <td>0.0</td>\n",
       "      <td>300.0</td>\n",
       "      <td>300.0</td>\n",
       "      <td>0.0</td>\n",
       "      <td>648.00</td>\n",
       "      <td>600.00</td>\n",
       "      <td>300.0</td>\n",
       "      <td>EQUITY</td>\n",
       "      <td>98138J206</td>\n",
       "      <td>0</td>\n",
       "      <td>0</td>\n",
       "    </tr>\n",
       "    <tr>\n",
       "      <th>EEENF</th>\n",
       "      <td>0.0</td>\n",
       "      <td>0.04980</td>\n",
       "      <td>0.0</td>\n",
       "      <td>0.0</td>\n",
       "      <td>0.0</td>\n",
       "      <td>250.0</td>\n",
       "      <td>250.0</td>\n",
       "      <td>0.0</td>\n",
       "      <td>1.58</td>\n",
       "      <td>0.00</td>\n",
       "      <td>250.0</td>\n",
       "      <td>EQUITY</td>\n",
       "      <td>Q3394D101</td>\n",
       "      <td>0</td>\n",
       "      <td>0</td>\n",
       "    </tr>\n",
       "    <tr>\n",
       "      <th>FGPHF</th>\n",
       "      <td>0.0</td>\n",
       "      <td>0.10927</td>\n",
       "      <td>0.0</td>\n",
       "      <td>0.0</td>\n",
       "      <td>0.0</td>\n",
       "      <td>25000.0</td>\n",
       "      <td>25000.0</td>\n",
       "      <td>0.0</td>\n",
       "      <td>2145.00</td>\n",
       "      <td>0.00</td>\n",
       "      <td>25000.0</td>\n",
       "      <td>EQUITY</td>\n",
       "      <td>Q3860H107</td>\n",
       "      <td>0</td>\n",
       "      <td>0</td>\n",
       "    </tr>\n",
       "    <tr>\n",
       "      <th>WAB</th>\n",
       "      <td>0.0</td>\n",
       "      <td>98.91520</td>\n",
       "      <td>0.0</td>\n",
       "      <td>0.0</td>\n",
       "      <td>0.0</td>\n",
       "      <td>25.0</td>\n",
       "      <td>25.0</td>\n",
       "      <td>0.0</td>\n",
       "      <td>2522.00</td>\n",
       "      <td>756.60</td>\n",
       "      <td>25.0</td>\n",
       "      <td>EQUITY</td>\n",
       "      <td>929740108</td>\n",
       "      <td>0</td>\n",
       "      <td>0</td>\n",
       "    </tr>\n",
       "  </tbody>\n",
       "</table>\n",
       "</div>"
      ],
      "text/plain": [
       "                 shortQuantity  averagePrice  currentDayCost  \\\n",
       "account  symbol                                                \n",
       "#---2021 ETR               0.0     112.25500             0.0   \n",
       "         HSY               0.0     225.48000             0.0   \n",
       "         VTR               0.0      43.67893             0.0   \n",
       "         WKHS              0.0      10.49180             0.0   \n",
       "         EEENF             0.0       0.04980             0.0   \n",
       "         FGPHF             0.0       0.10927             0.0   \n",
       "         WAB               0.0      98.91520             0.0   \n",
       "\n",
       "                 currentDayProfitLoss  currentDayProfitLossPercentage  \\\n",
       "account  symbol                                                         \n",
       "#---2021 ETR                      0.0                             0.0   \n",
       "         HSY                      0.0                             0.0   \n",
       "         VTR                      0.0                             0.0   \n",
       "         WKHS                     0.0                             0.0   \n",
       "         EEENF                    0.0                             0.0   \n",
       "         FGPHF                    0.0                             0.0   \n",
       "         WAB                      0.0                             0.0   \n",
       "\n",
       "                 longQuantity  settledLongQuantity  settledShortQuantity  \\\n",
       "account  symbol                                                            \n",
       "#---2021 ETR             22.0                 22.0                   0.0   \n",
       "         HSY             11.0                 11.0                   0.0   \n",
       "         VTR             56.0                 56.0                   0.0   \n",
       "         WKHS           300.0                300.0                   0.0   \n",
       "         EEENF          250.0                250.0                   0.0   \n",
       "         FGPHF        25000.0              25000.0                   0.0   \n",
       "         WAB             25.0                 25.0                   0.0   \n",
       "\n",
       "                 marketValue  maintenanceRequirement  \\\n",
       "account  symbol                                        \n",
       "#---2021 ETR         2502.50                  750.75   \n",
       "         HSY         2571.36                  771.41   \n",
       "         VTR         2547.44                  764.23   \n",
       "         WKHS         648.00                  600.00   \n",
       "         EEENF          1.58                    0.00   \n",
       "         FGPHF       2145.00                    0.00   \n",
       "         WAB         2522.00                  756.60   \n",
       "\n",
       "                 previousSessionLongQuantity assetType      cusip description  \\\n",
       "account  symbol                                                                 \n",
       "#---2021 ETR                            22.0    EQUITY  29364G103           0   \n",
       "         HSY                            11.0    EQUITY  427866108           0   \n",
       "         VTR                            56.0    EQUITY  92276F100           0   \n",
       "         WKHS                          300.0    EQUITY  98138J206           0   \n",
       "         EEENF                         250.0    EQUITY  Q3394D101           0   \n",
       "         FGPHF                       25000.0    EQUITY  Q3860H107           0   \n",
       "         WAB                            25.0    EQUITY  929740108           0   \n",
       "\n",
       "                type  \n",
       "account  symbol       \n",
       "#---2021 ETR       0  \n",
       "         HSY       0  \n",
       "         VTR       0  \n",
       "         WKHS      0  \n",
       "         EEENF     0  \n",
       "         FGPHF     0  \n",
       "         WAB       0  "
      ]
     },
     "metadata": {},
     "output_type": "display_data"
    }
   ],
   "source": [
    "logger.info(f'TRADE_DATE|{datetime.today()}')\n",
    "\n",
    "# Specific Portfolio Account\n",
    "equity_investments_df = td_ameritrade.get_account_portfolio_data(masked_account_number, investment_type='EQUITY')\n",
    "logger.info('Full Equity Portfolio:')\n",
    "display(equity_investments_df)"
   ]
  },
  {
   "cell_type": "code",
   "execution_count": 16,
   "metadata": {},
   "outputs": [
    {
     "data": {
      "text/html": [
       "<div>\n",
       "<style scoped>\n",
       "    .dataframe tbody tr th:only-of-type {\n",
       "        vertical-align: middle;\n",
       "    }\n",
       "\n",
       "    .dataframe tbody tr th {\n",
       "        vertical-align: top;\n",
       "    }\n",
       "\n",
       "    .dataframe thead th {\n",
       "        text-align: right;\n",
       "    }\n",
       "</style>\n",
       "<table border=\"1\" class=\"dataframe\">\n",
       "  <thead>\n",
       "    <tr style=\"text-align: right;\">\n",
       "      <th></th>\n",
       "      <th></th>\n",
       "      <th>shortQuantity</th>\n",
       "      <th>averagePrice</th>\n",
       "      <th>currentDayCost</th>\n",
       "      <th>currentDayProfitLoss</th>\n",
       "      <th>currentDayProfitLossPercentage</th>\n",
       "      <th>longQuantity</th>\n",
       "      <th>settledLongQuantity</th>\n",
       "      <th>settledShortQuantity</th>\n",
       "      <th>marketValue</th>\n",
       "      <th>maintenanceRequirement</th>\n",
       "      <th>previousSessionLongQuantity</th>\n",
       "      <th>assetType</th>\n",
       "      <th>cusip</th>\n",
       "      <th>description</th>\n",
       "      <th>type</th>\n",
       "    </tr>\n",
       "    <tr>\n",
       "      <th>account</th>\n",
       "      <th>symbol</th>\n",
       "      <th></th>\n",
       "      <th></th>\n",
       "      <th></th>\n",
       "      <th></th>\n",
       "      <th></th>\n",
       "      <th></th>\n",
       "      <th></th>\n",
       "      <th></th>\n",
       "      <th></th>\n",
       "      <th></th>\n",
       "      <th></th>\n",
       "      <th></th>\n",
       "      <th></th>\n",
       "      <th></th>\n",
       "      <th></th>\n",
       "    </tr>\n",
       "  </thead>\n",
       "  <tbody>\n",
       "    <tr>\n",
       "      <th rowspan=\"4\" valign=\"top\">#---2021</th>\n",
       "      <th>ETR</th>\n",
       "      <td>0.0</td>\n",
       "      <td>112.25500</td>\n",
       "      <td>0.0</td>\n",
       "      <td>0.0</td>\n",
       "      <td>0.0</td>\n",
       "      <td>22.0</td>\n",
       "      <td>22.0</td>\n",
       "      <td>0.0</td>\n",
       "      <td>2502.50</td>\n",
       "      <td>750.75</td>\n",
       "      <td>22.0</td>\n",
       "      <td>EQUITY</td>\n",
       "      <td>29364G103</td>\n",
       "      <td>0</td>\n",
       "      <td>0</td>\n",
       "    </tr>\n",
       "    <tr>\n",
       "      <th>HSY</th>\n",
       "      <td>0.0</td>\n",
       "      <td>225.48000</td>\n",
       "      <td>0.0</td>\n",
       "      <td>0.0</td>\n",
       "      <td>0.0</td>\n",
       "      <td>11.0</td>\n",
       "      <td>11.0</td>\n",
       "      <td>0.0</td>\n",
       "      <td>2571.36</td>\n",
       "      <td>771.41</td>\n",
       "      <td>11.0</td>\n",
       "      <td>EQUITY</td>\n",
       "      <td>427866108</td>\n",
       "      <td>0</td>\n",
       "      <td>0</td>\n",
       "    </tr>\n",
       "    <tr>\n",
       "      <th>VTR</th>\n",
       "      <td>0.0</td>\n",
       "      <td>43.67893</td>\n",
       "      <td>0.0</td>\n",
       "      <td>0.0</td>\n",
       "      <td>0.0</td>\n",
       "      <td>56.0</td>\n",
       "      <td>56.0</td>\n",
       "      <td>0.0</td>\n",
       "      <td>2547.44</td>\n",
       "      <td>764.23</td>\n",
       "      <td>56.0</td>\n",
       "      <td>EQUITY</td>\n",
       "      <td>92276F100</td>\n",
       "      <td>0</td>\n",
       "      <td>0</td>\n",
       "    </tr>\n",
       "    <tr>\n",
       "      <th>WAB</th>\n",
       "      <td>0.0</td>\n",
       "      <td>98.91520</td>\n",
       "      <td>0.0</td>\n",
       "      <td>0.0</td>\n",
       "      <td>0.0</td>\n",
       "      <td>25.0</td>\n",
       "      <td>25.0</td>\n",
       "      <td>0.0</td>\n",
       "      <td>2522.00</td>\n",
       "      <td>756.60</td>\n",
       "      <td>25.0</td>\n",
       "      <td>EQUITY</td>\n",
       "      <td>929740108</td>\n",
       "      <td>0</td>\n",
       "      <td>0</td>\n",
       "    </tr>\n",
       "  </tbody>\n",
       "</table>\n",
       "</div>"
      ],
      "text/plain": [
       "                 shortQuantity  averagePrice  currentDayCost  \\\n",
       "account  symbol                                                \n",
       "#---2021 ETR               0.0     112.25500             0.0   \n",
       "         HSY               0.0     225.48000             0.0   \n",
       "         VTR               0.0      43.67893             0.0   \n",
       "         WAB               0.0      98.91520             0.0   \n",
       "\n",
       "                 currentDayProfitLoss  currentDayProfitLossPercentage  \\\n",
       "account  symbol                                                         \n",
       "#---2021 ETR                      0.0                             0.0   \n",
       "         HSY                      0.0                             0.0   \n",
       "         VTR                      0.0                             0.0   \n",
       "         WAB                      0.0                             0.0   \n",
       "\n",
       "                 longQuantity  settledLongQuantity  settledShortQuantity  \\\n",
       "account  symbol                                                            \n",
       "#---2021 ETR             22.0                 22.0                   0.0   \n",
       "         HSY             11.0                 11.0                   0.0   \n",
       "         VTR             56.0                 56.0                   0.0   \n",
       "         WAB             25.0                 25.0                   0.0   \n",
       "\n",
       "                 marketValue  maintenanceRequirement  \\\n",
       "account  symbol                                        \n",
       "#---2021 ETR         2502.50                  750.75   \n",
       "         HSY         2571.36                  771.41   \n",
       "         VTR         2547.44                  764.23   \n",
       "         WAB         2522.00                  756.60   \n",
       "\n",
       "                 previousSessionLongQuantity assetType      cusip description  \\\n",
       "account  symbol                                                                 \n",
       "#---2021 ETR                            22.0    EQUITY  29364G103           0   \n",
       "         HSY                            11.0    EQUITY  427866108           0   \n",
       "         VTR                            56.0    EQUITY  92276F100           0   \n",
       "         WAB                            25.0    EQUITY  929740108           0   \n",
       "\n",
       "                type  \n",
       "account  symbol       \n",
       "#---2021 ETR       0  \n",
       "         HSY       0  \n",
       "         VTR       0  \n",
       "         WAB       0  "
      ]
     },
     "metadata": {},
     "output_type": "display_data"
    }
   ],
   "source": [
    "long_term_stocks = default_config['long_term_stocks'].split()\n",
    "equity_stock_symbols = td_ameritrade.get_investment_symbols(masked_account_number, 'EQUITY')\n",
    "\n",
    "# Filter out non Equity investments\n",
    "current_stocks = td_ameritrade.get_quotes(equity_stock_symbols).query('assetType == \"EQUITY\"').index.tolist()\n",
    "stocks_to_sell = equity_investments_df[equity_investments_df.index.get_level_values('symbol').isin(current_stocks)]\n",
    "stocks_to_sell = stocks_to_sell[~stocks_to_sell.index.get_level_values('symbol').isin(long_term_stocks)]\n",
    "logger.info(f'Stocks to sell:')\n",
    "display(stocks_to_sell)"
   ]
  },
  {
   "cell_type": "code",
   "execution_count": 18,
   "metadata": {},
   "outputs": [
    {
     "data": {
      "text/html": [
       "<div>\n",
       "<style scoped>\n",
       "    .dataframe tbody tr th:only-of-type {\n",
       "        vertical-align: middle;\n",
       "    }\n",
       "\n",
       "    .dataframe tbody tr th {\n",
       "        vertical-align: top;\n",
       "    }\n",
       "\n",
       "    .dataframe thead th {\n",
       "        text-align: right;\n",
       "    }\n",
       "</style>\n",
       "<table border=\"1\" class=\"dataframe\">\n",
       "  <thead>\n",
       "    <tr style=\"text-align: right;\">\n",
       "      <th></th>\n",
       "      <th></th>\n",
       "      <th>shortQuantity</th>\n",
       "      <th>averagePrice</th>\n",
       "      <th>currentDayCost</th>\n",
       "      <th>currentDayProfitLoss</th>\n",
       "      <th>currentDayProfitLossPercentage</th>\n",
       "      <th>longQuantity</th>\n",
       "      <th>settledLongQuantity</th>\n",
       "      <th>settledShortQuantity</th>\n",
       "      <th>marketValue</th>\n",
       "      <th>maintenanceRequirement</th>\n",
       "      <th>previousSessionLongQuantity</th>\n",
       "      <th>assetType</th>\n",
       "      <th>cusip</th>\n",
       "      <th>description</th>\n",
       "      <th>type</th>\n",
       "    </tr>\n",
       "    <tr>\n",
       "      <th>account</th>\n",
       "      <th>symbol</th>\n",
       "      <th></th>\n",
       "      <th></th>\n",
       "      <th></th>\n",
       "      <th></th>\n",
       "      <th></th>\n",
       "      <th></th>\n",
       "      <th></th>\n",
       "      <th></th>\n",
       "      <th></th>\n",
       "      <th></th>\n",
       "      <th></th>\n",
       "      <th></th>\n",
       "      <th></th>\n",
       "      <th></th>\n",
       "      <th></th>\n",
       "    </tr>\n",
       "  </thead>\n",
       "  <tbody>\n",
       "    <tr>\n",
       "      <th>#---2021</th>\n",
       "      <th>MMDA1</th>\n",
       "      <td>0.0</td>\n",
       "      <td>0.99903</td>\n",
       "      <td>0.0</td>\n",
       "      <td>0.0</td>\n",
       "      <td>0.0</td>\n",
       "      <td>702.37</td>\n",
       "      <td>702.37</td>\n",
       "      <td>0.0</td>\n",
       "      <td>702.37</td>\n",
       "      <td>0.0</td>\n",
       "      <td>702.37</td>\n",
       "      <td>CASH_EQUIVALENT</td>\n",
       "      <td>9ZZZFD104</td>\n",
       "      <td>FDIC INSURED DEPOSIT ACCOUNT  CORE  NOT COVERE...</td>\n",
       "      <td>MONEY_MARKET_FUND</td>\n",
       "    </tr>\n",
       "  </tbody>\n",
       "</table>\n",
       "</div>"
      ],
      "text/plain": [
       "                 shortQuantity  averagePrice  currentDayCost  \\\n",
       "account  symbol                                                \n",
       "#---2021 MMDA1             0.0       0.99903             0.0   \n",
       "\n",
       "                 currentDayProfitLoss  currentDayProfitLossPercentage  \\\n",
       "account  symbol                                                         \n",
       "#---2021 MMDA1                    0.0                             0.0   \n",
       "\n",
       "                 longQuantity  settledLongQuantity  settledShortQuantity  \\\n",
       "account  symbol                                                            \n",
       "#---2021 MMDA1         702.37               702.37                   0.0   \n",
       "\n",
       "                 marketValue  maintenanceRequirement  \\\n",
       "account  symbol                                        \n",
       "#---2021 MMDA1        702.37                     0.0   \n",
       "\n",
       "                 previousSessionLongQuantity        assetType      cusip  \\\n",
       "account  symbol                                                            \n",
       "#---2021 MMDA1                        702.37  CASH_EQUIVALENT  9ZZZFD104   \n",
       "\n",
       "                                                       description  \\\n",
       "account  symbol                                                      \n",
       "#---2021 MMDA1   FDIC INSURED DEPOSIT ACCOUNT  CORE  NOT COVERE...   \n",
       "\n",
       "                              type  \n",
       "account  symbol                     \n",
       "#---2021 MMDA1   MONEY_MARKET_FUND  "
      ]
     },
     "execution_count": 18,
     "metadata": {},
     "output_type": "execute_result"
    }
   ],
   "source": [
    "cash_equivelants_df = td_ameritrade.get_account_portfolio_data(masked_account_number, 'CASH_EQUIVALENT')\n",
    "cash_equivelants_df"
   ]
  },
  {
   "cell_type": "code",
   "execution_count": 19,
   "metadata": {},
   "outputs": [
    {
     "data": {
      "text/plain": [
       "10845.670000000002"
      ]
     },
     "execution_count": 19,
     "metadata": {},
     "output_type": "execute_result"
    }
   ],
   "source": [
    "amount_for_trading = cash_equivelants_df.marketValue.sum() + stocks_to_sell.marketValue.sum()\n",
    "amount_for_trading"
   ]
  },
  {
   "cell_type": "markdown",
   "metadata": {},
   "source": [
    "### Submit and montior sell orders"
   ]
  },
  {
   "cell_type": "code",
   "execution_count": 20,
   "metadata": {},
   "outputs": [
    {
     "name": "stdout",
     "output_type": "stream",
     "text": [
      "Placing SELL order on #---2021 for 22.0 shares of ETR...\n",
      "Placed SELL order on #---2021 for 22.0 shares of ETR\n",
      "Placing SELL order on #---2021 for 11.0 shares of HSY...\n",
      "Placed SELL order on #---2021 for 11.0 shares of HSY\n",
      "Placing SELL order on #---2021 for 56.0 shares of VTR...\n",
      "Placed SELL order on #---2021 for 56.0 shares of VTR\n",
      "Placing SELL order on #---2021 for 25.0 shares of WAB...\n",
      "Placed SELL order on #---2021 for 25.0 shares of WAB\n"
     ]
    }
   ],
   "source": [
    "td_ameritrade.parse_portfolios_list()\n",
    "account_number = td_ameritrade.unmask_account(masked_account_number)\n",
    "sell_result = td_ameritrade.place_bulk_sell_orders(account_number, stocks_to_sell)"
   ]
  },
  {
   "cell_type": "code",
   "execution_count": 17,
   "metadata": {},
   "outputs": [
    {
     "name": "stderr",
     "output_type": "stream",
     "text": [
      "\n",
      "\n"
     ]
    },
    {
     "name": "stdout",
     "output_type": "stream",
     "text": [
      "2022-11-20 22:14:02,930|WDM|INFO|\n",
      "\n"
     ]
    },
    {
     "name": "stderr",
     "output_type": "stream",
     "text": [
      "====== WebDriver manager ======\n"
     ]
    },
    {
     "name": "stdout",
     "output_type": "stream",
     "text": [
      "2022-11-20 22:14:02,935|WDM|INFO|====== WebDriver manager ======\n"
     ]
    },
    {
     "name": "stderr",
     "output_type": "stream",
     "text": [
      "Current google-chrome version is 107.0.5304\n"
     ]
    },
    {
     "name": "stdout",
     "output_type": "stream",
     "text": [
      "2022-11-20 22:14:02,979|WDM|INFO|Current google-chrome version is 107.0.5304\n"
     ]
    },
    {
     "name": "stderr",
     "output_type": "stream",
     "text": [
      "Get LATEST chromedriver version for 107.0.5304 google-chrome\n"
     ]
    },
    {
     "name": "stdout",
     "output_type": "stream",
     "text": [
      "2022-11-20 22:14:02,983|WDM|INFO|Get LATEST chromedriver version for 107.0.5304 google-chrome\n"
     ]
    },
    {
     "name": "stderr",
     "output_type": "stream",
     "text": [
      "Driver [C:\\Users\\HP-Z440\\.wdm\\drivers\\chromedriver\\win32\\107.0.5304.62\\chromedriver.exe] found in cache\n"
     ]
    },
    {
     "name": "stdout",
     "output_type": "stream",
     "text": [
      "2022-11-20 22:14:03,051|WDM|INFO|Driver [C:\\Users\\HP-Z440\\.wdm\\drivers\\chromedriver\\win32\\107.0.5304.62\\chromedriver.exe] found in cache\n"
     ]
    },
    {
     "ename": "KeyboardInterrupt",
     "evalue": "",
     "output_type": "error",
     "traceback": [
      "\u001b[1;31m---------------------------------------------------------------------------\u001b[0m",
      "\u001b[1;31mKeyboardInterrupt\u001b[0m                         Traceback (most recent call last)",
      "Cell \u001b[1;32mIn [17], line 3\u001b[0m\n\u001b[0;32m      1\u001b[0m \u001b[38;5;28;01mwhile\u001b[39;00m \u001b[38;5;28;01mTrue\u001b[39;00m:\n\u001b[0;32m      2\u001b[0m     td_ameritrade \u001b[38;5;241m=\u001b[39m amc\u001b[38;5;241m.\u001b[39mAmeritradeRest(\u001b[38;5;124m'\u001b[39m\u001b[38;5;124mmaiotradeuser\u001b[39m\u001b[38;5;124m'\u001b[39m, \u001b[38;5;124m'\u001b[39m\u001b[38;5;124mmaiotradepw\u001b[39m\u001b[38;5;124m'\u001b[39m, \u001b[38;5;124m'\u001b[39m\u001b[38;5;124mmaiotradeclientid\u001b[39m\u001b[38;5;124m'\u001b[39m)\n\u001b[1;32m----> 3\u001b[0m     \u001b[43mtd_ameritrade\u001b[49m\u001b[38;5;241;43m.\u001b[39;49m\u001b[43mauthenticate\u001b[49m\u001b[43m(\u001b[49m\u001b[43m)\u001b[49m\n\u001b[0;32m      4\u001b[0m     account_portfolio_df \u001b[38;5;241m=\u001b[39m utils\u001b[38;5;241m.\u001b[39mget_account_portfolio_data(td_ameritrade\u001b[38;5;241m.\u001b[39mparse_portfolios_list(), masked_account_number)\n\u001b[0;32m      5\u001b[0m     equity_investments_df \u001b[38;5;241m=\u001b[39m utils\u001b[38;5;241m.\u001b[39mget_investments_by_type(account_portfolio_df, investment_type\u001b[38;5;241m=\u001b[39m\u001b[38;5;124m'\u001b[39m\u001b[38;5;124mEQUITY\u001b[39m\u001b[38;5;124m'\u001b[39m)\n",
      "File \u001b[1;32mc:\\users\\hp-z440\\anaconda projects\\svi-trading-tools\\tools\\ameritrade_functions.py:150\u001b[0m, in \u001b[0;36mAmeritradeRest.authenticate\u001b[1;34m(self)\u001b[0m\n\u001b[0;32m    147\u001b[0m driver\u001b[38;5;241m.\u001b[39mfind_element_by_id(\u001b[38;5;124m'\u001b[39m\u001b[38;5;124maccept\u001b[39m\u001b[38;5;124m'\u001b[39m)\u001b[38;5;241m.\u001b[39mclick()\n\u001b[0;32m    149\u001b[0m \u001b[38;5;66;03m# give it a second\u001b[39;00m\n\u001b[1;32m--> 150\u001b[0m \u001b[43mtime\u001b[49m\u001b[38;5;241;43m.\u001b[39;49m\u001b[43msleep\u001b[49m\u001b[43m(\u001b[49m\u001b[38;5;241;43m1\u001b[39;49m\u001b[43m)\u001b[49m\n\u001b[0;32m    152\u001b[0m \u001b[38;5;66;03m# At this point you get an error back since there is no localhost server. But the URL contains the\u001b[39;00m\n\u001b[0;32m    153\u001b[0m \u001b[38;5;66;03m# authentication code\u001b[39;00m\n\u001b[0;32m    154\u001b[0m new_url \u001b[38;5;241m=\u001b[39m urllib\u001b[38;5;241m.\u001b[39mparse\u001b[38;5;241m.\u001b[39munquote(driver\u001b[38;5;241m.\u001b[39mcurrent_url)\n",
      "\u001b[1;31mKeyboardInterrupt\u001b[0m: "
     ]
    }
   ],
   "source": [
    "while True:\n",
    "    td_ameritrade = amc.AmeritradeRest('maiotradeuser', 'maiotradepw', 'maiotradeclientid')\n",
    "    td_ameritrade.authenticate()\n",
    "    account_portfolio_df = utils.get_account_portfolio_data(td_ameritrade.parse_portfolios_list(), masked_account_number)\n",
    "    equity_investments_df = utils.get_investments_by_type(account_portfolio_df, investment_type='EQUITY')\n",
    "    stocks_with_sell_orders = equity_investments_df[equity_investments_df['symbol'].isin(stocks_to_sell.symbol.values)]\n",
    "    if len(stocks_with_sell_orders[stocks_with_sell_orders.longQuantity >= 1]) == 0:\n",
    "        break\n",
    "    logger.info(f'\\rStocks to sell|{stocks_with_sell_orders.symbol.values}')\n",
    "    time.sleep(60)\n",
    "    \n",
    "logger.info(f'\\rAll stocks sold|{stocks_to_sell.symbol.values}')\n"
   ]
  },
  {
   "cell_type": "code",
   "execution_count": 18,
   "metadata": {},
   "outputs": [
    {
     "name": "stderr",
     "output_type": "stream",
     "text": [
      "\n",
      "\n"
     ]
    },
    {
     "name": "stdout",
     "output_type": "stream",
     "text": [
      "2022-11-21 09:44:12,928|WDM|INFO|\n",
      "\n"
     ]
    },
    {
     "name": "stderr",
     "output_type": "stream",
     "text": [
      "====== WebDriver manager ======\n"
     ]
    },
    {
     "name": "stdout",
     "output_type": "stream",
     "text": [
      "2022-11-21 09:44:12,934|WDM|INFO|====== WebDriver manager ======\n"
     ]
    },
    {
     "name": "stderr",
     "output_type": "stream",
     "text": [
      "Current google-chrome version is 107.0.5304\n"
     ]
    },
    {
     "name": "stdout",
     "output_type": "stream",
     "text": [
      "2022-11-21 09:44:12,995|WDM|INFO|Current google-chrome version is 107.0.5304\n"
     ]
    },
    {
     "name": "stderr",
     "output_type": "stream",
     "text": [
      "Get LATEST chromedriver version for 107.0.5304 google-chrome\n"
     ]
    },
    {
     "name": "stdout",
     "output_type": "stream",
     "text": [
      "2022-11-21 09:44:12,997|WDM|INFO|Get LATEST chromedriver version for 107.0.5304 google-chrome\n"
     ]
    },
    {
     "name": "stderr",
     "output_type": "stream",
     "text": [
      "Trying to download new driver from https://chromedriver.storage.googleapis.com/107.0.5304.62/chromedriver_win32.zip\n"
     ]
    },
    {
     "name": "stdout",
     "output_type": "stream",
     "text": [
      "2022-11-21 09:44:13,125|WDM|INFO|Trying to download new driver from https://chromedriver.storage.googleapis.com/107.0.5304.62/chromedriver_win32.zip\n"
     ]
    },
    {
     "name": "stderr",
     "output_type": "stream",
     "text": [
      "Driver has been saved in cache [C:\\Users\\HP-Z440\\.wdm\\drivers\\chromedriver\\win32\\107.0.5304.62]\n"
     ]
    },
    {
     "name": "stdout",
     "output_type": "stream",
     "text": [
      "2022-11-21 09:44:13,538|WDM|INFO|Driver has been saved in cache [C:\\Users\\HP-Z440\\.wdm\\drivers\\chromedriver\\win32\\107.0.5304.62]\n"
     ]
    },
    {
     "data": {
      "text/plain": [
       "initialBalances_cashBalance            0.000000\n",
       "initialBalances_totalCash              0.000000\n",
       "initialBalances_equity             11314.090000\n",
       "initialBalances_moneyMarketFund      811.990000\n",
       "currentBalances_cashBalance         9759.320000\n",
       "currentBalances_equity             11288.310000\n",
       "currentBalances_moneyMarketFund      811.990000\n",
       "current_return                        -0.002281\n",
       "Name: #---2021, dtype: float64"
      ]
     },
     "metadata": {},
     "output_type": "display_data"
    },
    {
     "name": "stdout",
     "output_type": "stream",
     "text": [
      "9759.32\n",
      "811.99\n",
      "2022-11-21 09:44:53,823|JointHoldingsAdjustement|INFO|INVESTMENT_AMT|10571.31\n"
     ]
    }
   ],
   "source": [
    "td_ameritrade = amc.AmeritradeRest()\n",
    "td_ameritrade.authenticate()\n",
    "account_balances = td_ameritrade.parse_accounts().loc[masked_account_number]\n",
    "display(account_balances)\n",
    "print(account_balances.currentBalances_cashBalance)\n",
    "print(account_balances.currentBalances_moneyMarketFund)\n",
    "available_cash = account_balances.currentBalances_cashBalance + account_balances.currentBalances_moneyMarketFund\n",
    "logger.info(f'INVESTMENT_AMT|{available_cash}')"
   ]
  },
  {
   "cell_type": "code",
   "execution_count": 19,
   "metadata": {},
   "outputs": [
    {
     "name": "stdout",
     "output_type": "stream",
     "text": [
      "Available cash  : 10571.31\n",
      "Amount to invest: 10000\n"
     ]
    }
   ],
   "source": [
    "print(f'Available cash  : {available_cash}')\n",
    "investment_base = 1000\n",
    "investment_amount = math.floor(available_cash / investment_base) * investment_base\n",
    "print(f'Amount to invest: {investment_amount}')"
   ]
  },
  {
   "cell_type": "code",
   "execution_count": 20,
   "metadata": {},
   "outputs": [
    {
     "data": {
      "text/html": [
       "<div>\n",
       "<style scoped>\n",
       "    .dataframe tbody tr th:only-of-type {\n",
       "        vertical-align: middle;\n",
       "    }\n",
       "\n",
       "    .dataframe tbody tr th {\n",
       "        vertical-align: top;\n",
       "    }\n",
       "\n",
       "    .dataframe thead th {\n",
       "        text-align: right;\n",
       "    }\n",
       "</style>\n",
       "<table border=\"1\" class=\"dataframe\">\n",
       "  <thead>\n",
       "    <tr style=\"text-align: right;\">\n",
       "      <th></th>\n",
       "      <th>optimalWeights</th>\n",
       "    </tr>\n",
       "  </thead>\n",
       "  <tbody>\n",
       "    <tr>\n",
       "      <th>ETR</th>\n",
       "      <td>0.2</td>\n",
       "    </tr>\n",
       "    <tr>\n",
       "      <th>GWW</th>\n",
       "      <td>0.2</td>\n",
       "    </tr>\n",
       "    <tr>\n",
       "      <th>HSY</th>\n",
       "      <td>0.2</td>\n",
       "    </tr>\n",
       "    <tr>\n",
       "      <th>VTR</th>\n",
       "      <td>0.2</td>\n",
       "    </tr>\n",
       "    <tr>\n",
       "      <th>WAB</th>\n",
       "      <td>0.2</td>\n",
       "    </tr>\n",
       "  </tbody>\n",
       "</table>\n",
       "</div>"
      ],
      "text/plain": [
       "     optimalWeights\n",
       "ETR             0.2\n",
       "GWW             0.2\n",
       "HSY             0.2\n",
       "VTR             0.2\n",
       "WAB             0.2"
      ]
     },
     "execution_count": 20,
     "metadata": {},
     "output_type": "execute_result"
    }
   ],
   "source": [
    "long_weights"
   ]
  },
  {
   "cell_type": "code",
   "execution_count": 21,
   "metadata": {},
   "outputs": [
    {
     "name": "stdout",
     "output_type": "stream",
     "text": [
      "2022-11-21 09:45:18.654350\n",
      "Initial investment amount: 10000\n"
     ]
    },
    {
     "data": {
      "text/html": [
       "<div>\n",
       "<style scoped>\n",
       "    .dataframe tbody tr th:only-of-type {\n",
       "        vertical-align: middle;\n",
       "    }\n",
       "\n",
       "    .dataframe tbody tr th {\n",
       "        vertical-align: top;\n",
       "    }\n",
       "\n",
       "    .dataframe thead th {\n",
       "        text-align: right;\n",
       "    }\n",
       "</style>\n",
       "<table border=\"1\" class=\"dataframe\">\n",
       "  <thead>\n",
       "    <tr style=\"text-align: right;\">\n",
       "      <th></th>\n",
       "      <th>regularMarketLastPrice</th>\n",
       "      <th>optimalWeights</th>\n",
       "      <th>invest_amount</th>\n",
       "      <th>shares</th>\n",
       "    </tr>\n",
       "  </thead>\n",
       "  <tbody>\n",
       "    <tr>\n",
       "      <th>ETR</th>\n",
       "      <td>111.92</td>\n",
       "      <td>0.2</td>\n",
       "      <td>2000.0</td>\n",
       "      <td>17</td>\n",
       "    </tr>\n",
       "    <tr>\n",
       "      <th>GWW</th>\n",
       "      <td>597.03</td>\n",
       "      <td>0.2</td>\n",
       "      <td>2000.0</td>\n",
       "      <td>3</td>\n",
       "    </tr>\n",
       "    <tr>\n",
       "      <th>HSY</th>\n",
       "      <td>225.21</td>\n",
       "      <td>0.2</td>\n",
       "      <td>2000.0</td>\n",
       "      <td>8</td>\n",
       "    </tr>\n",
       "    <tr>\n",
       "      <th>VTR</th>\n",
       "      <td>44.07</td>\n",
       "      <td>0.2</td>\n",
       "      <td>2000.0</td>\n",
       "      <td>45</td>\n",
       "    </tr>\n",
       "    <tr>\n",
       "      <th>WAB</th>\n",
       "      <td>99.16</td>\n",
       "      <td>0.2</td>\n",
       "      <td>2000.0</td>\n",
       "      <td>20</td>\n",
       "    </tr>\n",
       "  </tbody>\n",
       "</table>\n",
       "</div>"
      ],
      "text/plain": [
       "     regularMarketLastPrice  optimalWeights  invest_amount  shares\n",
       "ETR                  111.92             0.2         2000.0      17\n",
       "GWW                  597.03             0.2         2000.0       3\n",
       "HSY                  225.21             0.2         2000.0       8\n",
       "VTR                   44.07             0.2         2000.0      45\n",
       "WAB                   99.16             0.2         2000.0      20"
      ]
     },
     "metadata": {},
     "output_type": "display_data"
    },
    {
     "data": {
      "text/html": [
       "<div>\n",
       "<style scoped>\n",
       "    .dataframe tbody tr th:only-of-type {\n",
       "        vertical-align: middle;\n",
       "    }\n",
       "\n",
       "    .dataframe tbody tr th {\n",
       "        vertical-align: top;\n",
       "    }\n",
       "\n",
       "    .dataframe thead th {\n",
       "        text-align: right;\n",
       "    }\n",
       "</style>\n",
       "<table border=\"1\" class=\"dataframe\">\n",
       "  <thead>\n",
       "    <tr style=\"text-align: right;\">\n",
       "      <th></th>\n",
       "      <th>regularMarketLastPrice</th>\n",
       "      <th>optimalWeights</th>\n",
       "      <th>invest_amount</th>\n",
       "      <th>shares</th>\n",
       "      <th>cost</th>\n",
       "    </tr>\n",
       "  </thead>\n",
       "  <tbody>\n",
       "    <tr>\n",
       "      <th>ETR</th>\n",
       "      <td>111.92</td>\n",
       "      <td>0.25</td>\n",
       "      <td>2500.0</td>\n",
       "      <td>22</td>\n",
       "      <td>2462.24</td>\n",
       "    </tr>\n",
       "    <tr>\n",
       "      <th>HSY</th>\n",
       "      <td>225.21</td>\n",
       "      <td>0.25</td>\n",
       "      <td>2500.0</td>\n",
       "      <td>11</td>\n",
       "      <td>2477.31</td>\n",
       "    </tr>\n",
       "    <tr>\n",
       "      <th>VTR</th>\n",
       "      <td>44.07</td>\n",
       "      <td>0.25</td>\n",
       "      <td>2500.0</td>\n",
       "      <td>56</td>\n",
       "      <td>2467.92</td>\n",
       "    </tr>\n",
       "    <tr>\n",
       "      <th>WAB</th>\n",
       "      <td>99.16</td>\n",
       "      <td>0.25</td>\n",
       "      <td>2500.0</td>\n",
       "      <td>25</td>\n",
       "      <td>2479.00</td>\n",
       "    </tr>\n",
       "  </tbody>\n",
       "</table>\n",
       "</div>"
      ],
      "text/plain": [
       "     regularMarketLastPrice  optimalWeights  invest_amount  shares     cost\n",
       "ETR                  111.92            0.25         2500.0      22  2462.24\n",
       "HSY                  225.21            0.25         2500.0      11  2477.31\n",
       "VTR                   44.07            0.25         2500.0      56  2467.92\n",
       "WAB                   99.16            0.25         2500.0      25  2479.00"
      ]
     },
     "metadata": {},
     "output_type": "display_data"
    },
    {
     "name": "stdout",
     "output_type": "stream",
     "text": [
      "Total cost: 9886.470000000001\n"
     ]
    }
   ],
   "source": [
    "print(datetime.today())\n",
    "print(f'Initial investment amount: {investment_amount}')\n",
    "nearest_base = 5\n",
    "min_shares = 5\n",
    "long_quotes = amc.AmeritradeRest('maiotradeuser', 'maiotradepw', 'maiotradeclientid').get_quotes(long_weights.index.to_list())\n",
    "long_shares = long_quotes['regularMarketLastPrice'].to_frame()\n",
    "long_shares['optimalWeights'] = long_weights['optimalWeights']\n",
    "long_shares['invest_amount'] = (long_shares['optimalWeights'] * investment_amount).round(0)\n",
    "long_shares['shares'] = (long_shares['invest_amount'] / long_shares['regularMarketLastPrice']).astype(int)\n",
    "display(long_shares)\n",
    "\n",
    "# Remove symbols that are less than min and re-compute\n",
    "\n",
    "final_long_shares = long_shares.query('shares >= @min_shares').copy()\n",
    "final_long_shares['optimalWeights'] = final_long_shares['optimalWeights'] / final_long_shares['optimalWeights'].sum(axis=0)\n",
    "final_long_shares['invest_amount'] = (final_long_shares['optimalWeights'] * investment_amount).round(0)\n",
    "final_long_shares['shares'] = (final_long_shares['invest_amount'] / final_long_shares['regularMarketLastPrice']).astype(int)\n",
    "final_long_shares['cost'] = final_long_shares['shares'] * final_long_shares['regularMarketLastPrice']\n",
    "display(final_long_shares)\n",
    "print(f'Total cost: {final_long_shares.cost.sum()}')\n"
   ]
  },
  {
   "cell_type": "markdown",
   "metadata": {},
   "source": [
    "### Place buy orders"
   ]
  },
  {
   "cell_type": "code",
   "execution_count": 22,
   "metadata": {},
   "outputs": [
    {
     "data": {
      "text/html": [
       "<div>\n",
       "<style scoped>\n",
       "    .dataframe tbody tr th:only-of-type {\n",
       "        vertical-align: middle;\n",
       "    }\n",
       "\n",
       "    .dataframe tbody tr th {\n",
       "        vertical-align: top;\n",
       "    }\n",
       "\n",
       "    .dataframe thead th {\n",
       "        text-align: right;\n",
       "    }\n",
       "</style>\n",
       "<table border=\"1\" class=\"dataframe\">\n",
       "  <thead>\n",
       "    <tr style=\"text-align: right;\">\n",
       "      <th></th>\n",
       "      <th>cusip</th>\n",
       "      <th>symbol</th>\n",
       "      <th>description</th>\n",
       "      <th>exchange</th>\n",
       "      <th>assetType</th>\n",
       "      <th>high52</th>\n",
       "      <th>low52</th>\n",
       "      <th>dividendAmount</th>\n",
       "      <th>dividendYield</th>\n",
       "      <th>dividendDate</th>\n",
       "      <th>...</th>\n",
       "      <th>bookValuePerShare</th>\n",
       "      <th>shortIntToFloat</th>\n",
       "      <th>shortIntDayToCover</th>\n",
       "      <th>divGrowthRate3Year</th>\n",
       "      <th>dividendPayAmount</th>\n",
       "      <th>dividendPayDate</th>\n",
       "      <th>beta</th>\n",
       "      <th>vol1DayAvg</th>\n",
       "      <th>vol10DayAvg</th>\n",
       "      <th>vol3MonthAvg</th>\n",
       "    </tr>\n",
       "  </thead>\n",
       "  <tbody>\n",
       "    <tr>\n",
       "      <th>0</th>\n",
       "      <td>29364G103</td>\n",
       "      <td>ETR</td>\n",
       "      <td>Entergy Corporation Common Stock</td>\n",
       "      <td>NYSE</td>\n",
       "      <td>EQUITY</td>\n",
       "      <td>126.815</td>\n",
       "      <td>94.94</td>\n",
       "      <td>4.280</td>\n",
       "      <td>3.82</td>\n",
       "      <td>2022-11-10 00:00:00.000</td>\n",
       "      <td>...</td>\n",
       "      <td>4.93359</td>\n",
       "      <td>0.0</td>\n",
       "      <td>0.0</td>\n",
       "      <td>0.0</td>\n",
       "      <td>1.070</td>\n",
       "      <td>2022-12-01 00:00:00.000</td>\n",
       "      <td>0.62159</td>\n",
       "      <td>1121350.0</td>\n",
       "      <td>1121349.0</td>\n",
       "      <td>24871780.0</td>\n",
       "    </tr>\n",
       "    <tr>\n",
       "      <th>1</th>\n",
       "      <td>92276F100</td>\n",
       "      <td>VTR</td>\n",
       "      <td>Ventas, Inc. Common Stock</td>\n",
       "      <td>NYSE</td>\n",
       "      <td>EQUITY</td>\n",
       "      <td>64.020</td>\n",
       "      <td>35.33</td>\n",
       "      <td>1.800</td>\n",
       "      <td>4.08</td>\n",
       "      <td>2022-09-30 00:00:00.000</td>\n",
       "      <td>...</td>\n",
       "      <td>0.00000</td>\n",
       "      <td>0.0</td>\n",
       "      <td>0.0</td>\n",
       "      <td>0.0</td>\n",
       "      <td>0.450</td>\n",
       "      <td>2022-10-14 00:00:00.000</td>\n",
       "      <td>1.16199</td>\n",
       "      <td>2548040.0</td>\n",
       "      <td>2548037.0</td>\n",
       "      <td>46970510.0</td>\n",
       "    </tr>\n",
       "    <tr>\n",
       "      <th>2</th>\n",
       "      <td>929740108</td>\n",
       "      <td>WAB</td>\n",
       "      <td>Westinghouse Air Brake Technologies Corporatio...</td>\n",
       "      <td>NYSE</td>\n",
       "      <td>EQUITY</td>\n",
       "      <td>102.110</td>\n",
       "      <td>78.26</td>\n",
       "      <td>0.600</td>\n",
       "      <td>0.61</td>\n",
       "      <td>2022-11-10 00:00:00.000</td>\n",
       "      <td>...</td>\n",
       "      <td>18.88636</td>\n",
       "      <td>0.0</td>\n",
       "      <td>0.0</td>\n",
       "      <td>0.0</td>\n",
       "      <td>0.150</td>\n",
       "      <td>2022-11-28 00:00:00.000</td>\n",
       "      <td>1.49413</td>\n",
       "      <td>1043350.0</td>\n",
       "      <td>1043345.0</td>\n",
       "      <td>18500300.0</td>\n",
       "    </tr>\n",
       "    <tr>\n",
       "      <th>3</th>\n",
       "      <td>427866108</td>\n",
       "      <td>HSY</td>\n",
       "      <td>The Hershey Company Common Stock</td>\n",
       "      <td>NYSE</td>\n",
       "      <td>EQUITY</td>\n",
       "      <td>241.450</td>\n",
       "      <td>175.08</td>\n",
       "      <td>4.144</td>\n",
       "      <td>1.84</td>\n",
       "      <td>2022-11-17 00:00:00.000</td>\n",
       "      <td>...</td>\n",
       "      <td>29.29452</td>\n",
       "      <td>0.0</td>\n",
       "      <td>0.0</td>\n",
       "      <td>0.0</td>\n",
       "      <td>1.036</td>\n",
       "      <td>2022-12-15 00:00:00.000</td>\n",
       "      <td>0.35304</td>\n",
       "      <td>1312470.0</td>\n",
       "      <td>1312471.0</td>\n",
       "      <td>20067850.0</td>\n",
       "    </tr>\n",
       "  </tbody>\n",
       "</table>\n",
       "<p>4 rows × 50 columns</p>\n",
       "</div>"
      ],
      "text/plain": [
       "       cusip symbol                                        description  \\\n",
       "0  29364G103    ETR                   Entergy Corporation Common Stock   \n",
       "1  92276F100    VTR                          Ventas, Inc. Common Stock   \n",
       "2  929740108    WAB  Westinghouse Air Brake Technologies Corporatio...   \n",
       "3  427866108    HSY                   The Hershey Company Common Stock   \n",
       "\n",
       "  exchange assetType   high52   low52  dividendAmount  dividendYield  \\\n",
       "0     NYSE    EQUITY  126.815   94.94           4.280           3.82   \n",
       "1     NYSE    EQUITY   64.020   35.33           1.800           4.08   \n",
       "2     NYSE    EQUITY  102.110   78.26           0.600           0.61   \n",
       "3     NYSE    EQUITY  241.450  175.08           4.144           1.84   \n",
       "\n",
       "              dividendDate  ...  bookValuePerShare  shortIntToFloat  \\\n",
       "0  2022-11-10 00:00:00.000  ...            4.93359              0.0   \n",
       "1  2022-09-30 00:00:00.000  ...            0.00000              0.0   \n",
       "2  2022-11-10 00:00:00.000  ...           18.88636              0.0   \n",
       "3  2022-11-17 00:00:00.000  ...           29.29452              0.0   \n",
       "\n",
       "   shortIntDayToCover  divGrowthRate3Year  dividendPayAmount  \\\n",
       "0                 0.0                 0.0              1.070   \n",
       "1                 0.0                 0.0              0.450   \n",
       "2                 0.0                 0.0              0.150   \n",
       "3                 0.0                 0.0              1.036   \n",
       "\n",
       "           dividendPayDate     beta  vol1DayAvg  vol10DayAvg  vol3MonthAvg  \n",
       "0  2022-12-01 00:00:00.000  0.62159   1121350.0    1121349.0    24871780.0  \n",
       "1  2022-10-14 00:00:00.000  1.16199   2548040.0    2548037.0    46970510.0  \n",
       "2  2022-11-28 00:00:00.000  1.49413   1043350.0    1043345.0    18500300.0  \n",
       "3  2022-12-15 00:00:00.000  0.35304   1312470.0    1312471.0    20067850.0  \n",
       "\n",
       "[4 rows x 50 columns]"
      ]
     },
     "execution_count": 22,
     "metadata": {},
     "output_type": "execute_result"
    }
   ],
   "source": [
    "td_ameritrade.get_fundamental(list(final_long_shares.index))"
   ]
  },
  {
   "cell_type": "code",
   "execution_count": 23,
   "metadata": {},
   "outputs": [
    {
     "name": "stderr",
     "output_type": "stream",
     "text": [
      "\n",
      "\n"
     ]
    },
    {
     "name": "stdout",
     "output_type": "stream",
     "text": [
      "2022-11-21 09:45:36.173788\n",
      "2022-11-21 09:45:36,173|WDM|INFO|\n",
      "\n"
     ]
    },
    {
     "name": "stderr",
     "output_type": "stream",
     "text": [
      "====== WebDriver manager ======\n"
     ]
    },
    {
     "name": "stdout",
     "output_type": "stream",
     "text": [
      "2022-11-21 09:45:36,175|WDM|INFO|====== WebDriver manager ======\n"
     ]
    },
    {
     "name": "stderr",
     "output_type": "stream",
     "text": [
      "Current google-chrome version is 107.0.5304\n"
     ]
    },
    {
     "name": "stdout",
     "output_type": "stream",
     "text": [
      "2022-11-21 09:45:36,341|WDM|INFO|Current google-chrome version is 107.0.5304\n"
     ]
    },
    {
     "name": "stderr",
     "output_type": "stream",
     "text": [
      "Get LATEST chromedriver version for 107.0.5304 google-chrome\n"
     ]
    },
    {
     "name": "stdout",
     "output_type": "stream",
     "text": [
      "2022-11-21 09:45:36,343|WDM|INFO|Get LATEST chromedriver version for 107.0.5304 google-chrome\n"
     ]
    },
    {
     "name": "stderr",
     "output_type": "stream",
     "text": [
      "Driver [C:\\Users\\HP-Z440\\.wdm\\drivers\\chromedriver\\win32\\107.0.5304.62\\chromedriver.exe] found in cache\n"
     ]
    },
    {
     "name": "stdout",
     "output_type": "stream",
     "text": [
      "2022-11-21 09:45:36,411|WDM|INFO|Driver [C:\\Users\\HP-Z440\\.wdm\\drivers\\chromedriver\\win32\\107.0.5304.62\\chromedriver.exe] found in cache\n",
      "Placing BUY order on 768492021 for 22.0 shares of ETR:EQUITY...\n",
      "Placed BUY order on #---2021 for 22.0 shares of ETR\n",
      "Placing BUY order on 768492021 for 11.0 shares of HSY:EQUITY...\n",
      "Placed BUY order on #---2021 for 11.0 shares of HSY\n",
      "Placing BUY order on 768492021 for 56.0 shares of VTR:EQUITY...\n",
      "Placed BUY order on #---2021 for 56.0 shares of VTR\n",
      "Placing BUY order on 768492021 for 25.0 shares of WAB:EQUITY...\n",
      "Placed BUY order on #---2021 for 25.0 shares of WAB\n"
     ]
    }
   ],
   "source": [
    "print(datetime.today())\n",
    "td_ameritrade = amc.AmeritradeRest('maiotradeuser', 'maiotradepw', 'maiotradeclientid')\n",
    "td_ameritrade.authenticate()\n",
    "td_ameritrade.parse_portfolios_list()\n",
    "account_number = td_ameritrade.unmask_account(masked_account_number)\n",
    "\n",
    "for index, row in final_long_shares.iterrows():\n",
    "    fundamental = td_ameritrade.get_fundamental([index])\n",
    "    print(f'Placing BUY order on {account_number} for {row.shares} shares of {index}:{fundamental.loc[0].assetType}...')\n",
    "    result = td_ameritrade.place_order(account_number, index, fundamental.loc[0].assetType, row.shares, 'BUY')"
   ]
  },
  {
   "cell_type": "code",
   "execution_count": null,
   "metadata": {},
   "outputs": [],
   "source": [
    "number_of_years = 5\n",
    "portfolio_price_histories = amc.AmeritradeRest('maiotradeuser', 'maiotradepw', 'maiotradeclientid').get_price_histories(list(long_shares.index), datetime.today().strftime('%Y-%m-%d'), num_periods=number_of_years)\n",
    "portfolio_close = utils.get_close_values(portfolio_price_histories)\n",
    "utils.compute_log_returns(portfolio_close)[-5:].cumsum().plot()"
   ]
  },
  {
   "cell_type": "markdown",
   "metadata": {},
   "source": [
    "## import ameritrade_functions as amc\n",
    "\n",
    "td_ameritrade = amc.AmeritradeRest('maiotradeuser', 'maiotradepw', 'maiotradeclientid')\n",
    "td_ameritrade.authenticate()\n",
    "td_ameritrade.parse_accounts().loc[masked_account_number]"
   ]
  }
 ],
 "metadata": {
  "kernelspec": {
   "display_name": "Python 3 (ipykernel)",
   "language": "python",
   "name": "python3"
  },
  "language_info": {
   "codemirror_mode": {
    "name": "ipython",
    "version": 3
   },
   "file_extension": ".py",
   "mimetype": "text/x-python",
   "name": "python",
   "nbconvert_exporter": "python",
   "pygments_lexer": "ipython3",
   "version": "3.8.15"
  }
 },
 "nbformat": 4,
 "nbformat_minor": 4
}
