{
 "cells": [
  {
   "cell_type": "markdown",
   "id": "5bc47e88-648a-4010-b260-daaef41babba",
   "metadata": {},
   "source": [
    "# Portfolio Workflow"
   ]
  },
  {
   "cell_type": "code",
   "execution_count": 1,
   "id": "a7d6e012-c4ed-4e32-8593-955a76931749",
   "metadata": {},
   "outputs": [
    {
     "name": "stdout",
     "output_type": "stream",
     "text": [
      "Sci-Kit version: 0.24.1\n",
      "Sci-Kit version: 0.24.1\n",
      "Python version: 3.8.8\n",
      "Pandas version: 1.2.4\n",
      "Pandas Data Reader version: 0.10.0\n"
     ]
    }
   ],
   "source": [
    "from platform import python_version\n",
    "import time\n",
    "from datetime import datetime, timedelta\n",
    "import os\n",
    "import pandas as pd\n",
    "import pandas_datareader as pdr\n",
    "\n",
    "import numpy as np\n",
    "import math\n",
    "from tqdm.notebook import tqdm\n",
    "import matplotlib.pyplot as plt\n",
    "import pickle\n",
    "\n",
    "%matplotlib inline\n",
    "plt.style.use('ggplot')\n",
    "plt.rcParams['figure.figsize'] = (20, 8)\n",
    "\n",
    "# Set the import path for the tools directiory\n",
    "import sys\n",
    "# insert at position 1 in the path, as 0 is the path of this file.\n",
    "sys.path.insert(1, 'tools')\n",
    "import importlib\n",
    "import ameritrade_functions as amc\n",
    "importlib.reload(amc)\n",
    "import trading_factors as alpha_factors\n",
    "importlib.reload(alpha_factors)\n",
    "import utils\n",
    "importlib.reload(utils)\n",
    "import nonoverlapping_estimator as ai_estimator\n",
    "importlib.reload(ai_estimator)\n",
    "\n",
    "print(f'Python version: {python_version()}')\n",
    "print(f'Pandas version: {pd.__version__}')\n",
    "print(f'Pandas Data Reader version: {pdr.__version__}')"
   ]
  },
  {
   "cell_type": "code",
   "execution_count": 2,
   "id": "f7cee06b-92af-4717-9e3b-da0701517f47",
   "metadata": {},
   "outputs": [],
   "source": [
    "from pathlib import Path\n",
    "\n",
    "# Make sure we have a data directory\n",
    "Path('./data').mkdir(parents=True, exist_ok=True) \n",
    "\n",
    "# Which account are we interested in\n",
    "masked_account_number = '#---9216'\n",
    "account_portfolios_file_name = 'data/portfolio_data.csv'\n",
    "portfolio_file_name = 'data/portfolio_' + masked_account_number[-4:] + '.csv'\n",
    "price_histories_file_name = 'data/price_histories_yahoo.csv'"
   ]
  },
  {
   "cell_type": "markdown",
   "id": "566e045f-a433-4350-9080-854958589c55",
   "metadata": {},
   "source": [
    "# Stage 1: Generate Stock Universe\n",
    "\n",
    "- Gather stocks from specific criteria (SP500 top 50...)\n",
    "- Use stock sentiment to select stocks\n",
    "- Gather price histories"
   ]
  },
  {
   "cell_type": "markdown",
   "id": "f8ede29b-daef-465d-9ee0-33deb1a2f14c",
   "metadata": {},
   "source": [
    "## Stock Universe\n",
    "\n",
    "Here we setup the univers. This needs some work. The long term goal is to use a pipeline process to help select stock that are in the top 500 or something similare.\n",
    "\n",
    "For now we will use stocks from the portfolio, but stocks of interest (high news items), a list of well known stocks (this also has been augmented with some stocks that made Ameritrade's top 10 movers for a couple of days. This Ameritrade funciton has not been coded yet, but should be add down the line to automate pulling these tickers."
   ]
  },
  {
   "cell_type": "markdown",
   "id": "7f13f28f-424a-4b7f-8345-555dbe17fb9b",
   "metadata": {},
   "source": [
    "# Price History data\n",
    "\n",
    "One you have a set of investments you want to work with, you will need to pull some historical data for them.\n",
    "\n",
    "We will obtain 5 years of price histories. In the end this will provide us with 2 years of factor data since some of the factors are based on 1 year returns."
   ]
  },
  {
   "cell_type": "code",
   "execution_count": 3,
   "id": "4bb26bc7-9fbd-448b-9587-21ebd2084f6c",
   "metadata": {},
   "outputs": [
    {
     "name": "stdout",
     "output_type": "stream",
     "text": [
      "Number of stocks in universe: 505\n"
     ]
    },
    {
     "data": {
      "application/vnd.jupyter.widget-view+json": {
       "model_id": "4a1752c2a380479d8e67d725a7c70eff",
       "version_major": 2,
       "version_minor": 0
      },
      "text/plain": [
       "Tickers:   0%|          | 0/505 [00:00<?, ?Finvis Postings/s]"
      ]
     },
     "metadata": {},
     "output_type": "display_data"
    },
    {
     "data": {
      "application/vnd.jupyter.widget-view+json": {
       "model_id": "630aa6c0f0254184b2342139043fdfe1",
       "version_major": 2,
       "version_minor": 0
      },
      "text/plain": [
       "News Tables:   0%|          | 0/503 [00:00<?, ?News Table Items/s]"
      ]
     },
     "metadata": {},
     "output_type": "display_data"
    },
    {
     "name": "stdout",
     "output_type": "stream",
     "text": [
      "Mean Sentiment: 2.4550697034383915 with a standared deviation of: 1.7458293025553768 providing a cutoff of: 0.7092404008830147\n",
      "New number of stocks in universe: 430\n"
     ]
    }
   ],
   "source": [
    "snp_500_stocks = utils.get_snp500()\n",
    "stock_universe = utils.reduce_universe_by_sentiment(set(snp_500_stocks.index.to_list()))"
   ]
  },
  {
   "cell_type": "code",
   "execution_count": null,
   "id": "abbcd39c-c46c-4a9b-9599-4222597b2502",
   "metadata": {
    "tags": []
   },
   "outputs": [],
   "source": [
    "from dateutil.relativedelta import relativedelta\n",
    "number_of_years = 5\n",
    "start = datetime.today() - relativedelta(years = number_of_years)\n",
    "yahoo = pdr.yahoo.daily.YahooDailyReader(symbols=stock_universe, start=start, adjust_price=True, interval='d', get_actions=False, adjust_dividends=True)\n",
    "price_histories = yahoo.read()\n",
    "yahoo.close()\n",
    "price_histories.to_csv(price_histories_file_name, index=True)"
   ]
  },
  {
   "cell_type": "code",
   "execution_count": null,
   "id": "c044e2c8-704b-4ca1-9032-156f9ccf40d1",
   "metadata": {},
   "outputs": [],
   "source": [
    "price_histories"
   ]
  },
  {
   "cell_type": "code",
   "execution_count": null,
   "id": "f42126df-6f44-4a20-b7f0-b6101fb7b9cc",
   "metadata": {},
   "outputs": [],
   "source": [
    "test_read = pd.read_csv(price_histories_file_name, header=[0, 1], index_col=[0], low_memory=False)"
   ]
  },
  {
   "cell_type": "code",
   "execution_count": null,
   "id": "0e095b9a-2191-4399-9dba-6fb69884b55e",
   "metadata": {},
   "outputs": [],
   "source": [
    "test_read"
   ]
  }
 ],
 "metadata": {
  "kernelspec": {
   "display_name": "Python 3",
   "language": "python",
   "name": "python3"
  },
  "language_info": {
   "codemirror_mode": {
    "name": "ipython",
    "version": 3
   },
   "file_extension": ".py",
   "mimetype": "text/x-python",
   "name": "python",
   "nbconvert_exporter": "python",
   "pygments_lexer": "ipython3",
   "version": "3.8.8"
  }
 },
 "nbformat": 4,
 "nbformat_minor": 5
}
