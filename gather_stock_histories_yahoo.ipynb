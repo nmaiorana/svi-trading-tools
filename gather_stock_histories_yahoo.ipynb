{
 "cells": [
  {
   "cell_type": "markdown",
   "id": "5bc47e88-648a-4010-b260-daaef41babba",
   "metadata": {},
   "source": [
    "# Portfolio Workflow"
   ]
  },
  {
   "cell_type": "code",
   "execution_count": 1,
   "id": "f5ab15ac-242d-4e6f-ba2f-989575cdef81",
   "metadata": {},
   "outputs": [
    {
     "name": "stdout",
     "output_type": "stream",
     "text": [
      "2022-05-01 13:32:03,972|numexpr.utils|INFO|NumExpr defaulting to 4 threads.\n",
      "2022-05-01 13:32:04,978|GatherPriceHistories|INFO|Python version: 3.8.8\n",
      "2022-05-01 13:32:04,978|GatherPriceHistories|INFO|Pandas version: 1.3.5\n",
      "2022-05-01 13:32:04,978|GatherPriceHistories|INFO|Pandas Data Reader version: 0.10.0\n"
     ]
    }
   ],
   "source": [
    "import logging\n",
    "import logging.config\n",
    "\n",
    "logging.config.fileConfig('./config/logging.ini')\n",
    "logger = logging.getLogger('GatherPriceHistories')\n",
    "\n",
    "import configparser\n",
    "from platform import python_version\n",
    "from pathlib import Path\n",
    "\n",
    "# Set the import path for the project tools directiory\n",
    "import sys\n",
    "# insert at position 1 in the path, as 0 is the path of this file.\n",
    "sys.path.insert(1, 'tools')\n",
    "\n",
    "# Project imports\n",
    "import importlib\n",
    "import utils\n",
    "importlib.reload(utils)\n",
    "\n",
    "from datetime import date\n",
    "from dateutil.relativedelta import relativedelta\n",
    "import pandas as pd\n",
    "import pandas_datareader as pdr\n",
    "\n",
    "from tqdm.notebook import tqdm\n",
    "\n",
    "logger.info(f'Python version: {python_version()}')\n",
    "logger.info(f'Pandas version: {pd.__version__}')\n",
    "logger.info(f'Pandas Data Reader version: {pdr.__version__}')"
   ]
  },
  {
   "cell_type": "code",
   "execution_count": 2,
   "id": "7f9d3a19-316e-48df-88ba-e31ab896a9bf",
   "metadata": {},
   "outputs": [],
   "source": [
    "config = configparser.ConfigParser()\n",
    "config.read('./config/config.ini')\n",
    "default_config = config[\"DEFAULT\"]"
   ]
  },
  {
   "cell_type": "markdown",
   "id": "566e045f-a433-4350-9080-854958589c55",
   "metadata": {},
   "source": [
    "# Stage 1: Generate Stock Universe\n",
    "\n",
    "- Gather stocks from specific criteria (SP500 top 50...)\n",
    "- Use stock sentiment to select stocks\n",
    "- Gather price histories"
   ]
  },
  {
   "cell_type": "markdown",
   "id": "f8ede29b-daef-465d-9ee0-33deb1a2f14c",
   "metadata": {},
   "source": [
    "## Stock Universe\n",
    "\n",
    "Here we setup the univers. This needs some work. The long term goal is to use a pipeline process to help select stock that are in the top 500 or something similare.\n",
    "\n",
    "For now we will use stocks from the portfolio, but stocks of interest (high news items), a list of well known stocks (this also has been augmented with some stocks that made Ameritrade's top 10 movers for a couple of days. This Ameritrade funciton has not been coded yet, but should be add down the line to automate pulling these tickers."
   ]
  },
  {
   "cell_type": "markdown",
   "id": "7f13f28f-424a-4b7f-8345-555dbe17fb9b",
   "metadata": {},
   "source": [
    "# Price History data\n",
    "\n",
    "One you have a set of investments you want to work with, you will need to pull some historical data for them.\n",
    "\n",
    "We will obtain 5 years of price histories. In the end this will provide us with 2 years of factor data since some of the factors are based on 1 year returns."
   ]
  },
  {
   "cell_type": "code",
   "execution_count": 3,
   "id": "335f1e27-273a-4ec9-bb8f-e85854e9329c",
   "metadata": {},
   "outputs": [
    {
     "name": "stdout",
     "output_type": "stream",
     "text": [
      "2022-05-01 13:32:05,007|GatherPriceHistories|INFO|Storing 5 years of price histories in: ./data/price_histories_yahoo.csv\n",
      "2022-05-01 13:32:05,007|GatherPriceHistories|INFO|Gathering S&P 500 stock tickers...\n",
      "2022-05-01 13:32:05,728|GatherPriceHistories|INFO|Gathered 504 S&P 500 stock tickers.\n",
      "2022-05-01 13:32:05,728|GatherPriceHistories|INFO|Reading price histories from 2017-05-01 to 2022-04-30 using Yahoo Daily Reader...\n"
     ]
    },
    {
     "name": "stderr",
     "output_type": "stream",
     "text": [
      "C:\\Users\\HP-Z440\\anaconda3\\envs\\ml4t\\lib\\site-packages\\pandas_datareader\\base.py:272: SymbolWarning: Failed to read symbol: 'BRK.B', replacing with NaN.\n",
      "  warnings.warn(msg.format(sym), SymbolWarning)\n",
      "C:\\Users\\HP-Z440\\anaconda3\\envs\\ml4t\\lib\\site-packages\\pandas_datareader\\base.py:272: SymbolWarning: Failed to read symbol: 'BF.B', replacing with NaN.\n",
      "  warnings.warn(msg.format(sym), SymbolWarning)\n"
     ]
    },
    {
     "name": "stdout",
     "output_type": "stream",
     "text": [
      "2022-05-01 13:49:11,845|GatherPriceHistories|INFO|PRICE_HISTORIES|Back filling from first price for each symbol...\n",
      "2022-05-01 13:49:11,885|GatherPriceHistories|INFO|PRICE_HISTORIES|Forward filling from last price for each symbol...\n",
      "2022-05-01 13:49:11,898|GatherPriceHistories|INFO|PRICE_HISTORIES|Dropping any symbol with NA...\n",
      "2022-05-01 13:49:11,939|GatherPriceHistories|WARNING|PRICE_HISTORIES|DROPPED|BRK.B\n",
      "2022-05-01 13:49:11,939|GatherPriceHistories|WARNING|PRICE_HISTORIES|DROPPED|BF.B\n",
      "2022-05-01 13:49:11,940|GatherPriceHistories|INFO|Read 1260 price histories.\n",
      "2022-05-01 13:49:11,941|GatherPriceHistories|INFO|PRICE_HISTORIES_FILE|./data/price_histories_yahoo.csv\n",
      "2022-05-01 13:49:18,292|GatherPriceHistories|INFO|Price histories saved.\n",
      "2022-05-01 13:49:18,292|GatherPriceHistories|INFO|PRICE_HISTORIES|2017-05-01 00:00:00|2022-04-29 00:00:00\n"
     ]
    }
   ],
   "source": [
    "# Make sure we have a data directory\n",
    "Path(default_config[\"DataDirectory\"]).mkdir(parents=True, exist_ok=True) \n",
    "price_histories_file_name = default_config[\"DataDirectory\"] + '/' + default_config[\"PriceHistoriesFileName\"]\n",
    "logger.info(f'Storing {default_config[\"NumberOfYearsPriceHistories\"]} years of price histories in: {price_histories_file_name}')\n",
    "\n",
    "logger.info('Gathering S&P 500 stock tickers...')\n",
    "snp500_stocks = utils.get_snp500()\n",
    "stock_universe = snp500_stocks.index.to_list()\n",
    "logger.info(f'Gathered {len(stock_universe)} S&P 500 stock tickers.')\n",
    "\n",
    "#logger.info('Reducing S&P 500 stock tickers based on finvis sentiment...')\n",
    "#stock_universe = utils.reduce_universe_by_sentiment(set(stock_universe))\n",
    "#logger.info(f'Reduced to {len(stock_universe)} S&P 500 stock tickers.')\n",
    "\n",
    "start = date.today() - relativedelta(years = int(default_config[\"NumberOfYearsPriceHistories\"]))\n",
    "end = date.today() - relativedelta(days = 1)\n",
    "logger.info(f'Reading price histories from {start} to {end} using Yahoo Daily Reader...')\n",
    "yahoo = pdr.yahoo.daily.YahooDailyReader(symbols=stock_universe, start=start, end=end, adjust_price=True, interval='d', get_actions=False, adjust_dividends=True)\n",
    "price_histories = yahoo.read()\n",
    "yahoo.close()\n",
    "logger.info(f'PRICE_HISTORIES|Back filling from first price for each symbol...')\n",
    "price_histories.bfill(inplace=True)\n",
    "logger.info(f'PRICE_HISTORIES|Forward filling from last price for each symbol...')\n",
    "price_histories.ffill(inplace=True)\n",
    "logger.info(f'PRICE_HISTORIES|Dropping any symbol with NA...')\n",
    "price_histories.dropna(axis=1, inplace=True)\n",
    "for dropped_symbol in (set(stock_universe) - set(price_histories.columns.get_level_values(1))):\n",
    "    logger.warning(f'PRICE_HISTORIES|DROPPED|{dropped_symbol}')\n",
    "logger.info(f'Read {len(price_histories)} price histories.')\n",
    "logger.info(f'PRICE_HISTORIES_FILE|{price_histories_file_name}')\n",
    "price_histories.to_csv(price_histories_file_name, index=True)\n",
    "logger.info('Price histories saved.')\n",
    "logger.info(f'PRICE_HISTORIES|{price_histories.index.min()}|{price_histories.index.max()}')"
   ]
  }
 ],
 "metadata": {
  "kernelspec": {
   "display_name": "Python [conda env:ml4t] *",
   "language": "python",
   "name": "conda-env-ml4t-py"
  },
  "language_info": {
   "codemirror_mode": {
    "name": "ipython",
    "version": 3
   },
   "file_extension": ".py",
   "mimetype": "text/x-python",
   "name": "python",
   "nbconvert_exporter": "python",
   "pygments_lexer": "ipython3",
   "version": "3.8.8"
  }
 },
 "nbformat": 4,
 "nbformat_minor": 5
}
